{
 "cells": [
  {
   "cell_type": "markdown",
   "metadata": {},
   "source": [
    "# **Import libraries**"
   ]
  },
  {
   "cell_type": "code",
   "execution_count": 226,
   "metadata": {},
   "outputs": [],
   "source": [
    "# Standard Library Imports\n",
    "import os\n",
    "from ast import literal_eval\n",
    "\n",
    "# Data Manipulation and Processing Libraries\n",
    "import pandas as pd\n",
    "import numpy as np\n",
    "\n",
    "# Visualization Libraries\n",
    "import matplotlib.pyplot as plt\n",
    "import seaborn as sns\n",
    "import plotly.graph_objects as go\n",
    "\n",
    "# Text Processing Libraries\n",
    "from nltk.stem.snowball import SnowballStemmer\n",
    "from sklearn.feature_extraction.text import TfidfVectorizer, CountVectorizer\n",
    "\n",
    "# Machine Learning and Statistical Libraries\n",
    "from sklearn.preprocessing import StandardScaler, LabelEncoder, MinMaxScaler\n",
    "from sklearn.impute import SimpleImputer\n",
    "from sklearn.metrics import mean_squared_error, pairwise\n",
    "from sklearn.metrics.pairwise import linear_kernel, cosine_similarity, sigmoid_kernel, \n",
    "from sklearn.neighbors import NearestNeighbors\n",
    "from scipy.sparse import csr_matrix\n",
    "from scipy.sparse.linalg import svds\n",
    "from surprise import Reader, Dataset, SVD\n",
    "from surprise.model_selection import cross_validate, KFold\n",
    "\n",
    "import tensorflow as tf\n",
    "import keras\n",
    "\n",
    "import warnings\n",
    "warnings.filterwarnings('ignore')"
   ]
  },
  {
   "cell_type": "markdown",
   "metadata": {},
   "source": [
    "# **Read dataset**"
   ]
  },
  {
   "cell_type": "code",
   "execution_count": 2,
   "metadata": {},
   "outputs": [],
   "source": [
    "df=pd.read_csv(r'The Movies Dataset/movies_metadata.csv', low_memory=False)\n",
    "\n",
    "df['popularity'] = pd.to_numeric(df['popularity'], errors='coerce')  # Converts to numeric, replacing invalid entries with NaN\n",
    "\n",
    "df['overview'] = df['overview'].fillna('')\n",
    "df['tagline'] = df['tagline'].fillna('')\n",
    "df['status'] = df['status'].fillna('Released')\n",
    "df['runtime'] = df['runtime'].fillna(90)\n",
    "df = df[df['adult'] != 'True']\n",
    "\n",
    "df['year'] = pd.to_datetime(df['release_date'], errors='coerce').apply(lambda x: str(x).split('-')[0] if x != np.nan else np.nan)\n",
    "df['year'] = pd.to_numeric(df['year'], errors='coerce')  # Converts to numeric, replacing invalid entries with NaN\n",
    "df['year'] = df['year'].fillna(2014)\n",
    "df['year'] = df['year'].astype('int')\n",
    "\n",
    "\n",
    "df.drop(columns=['belongs_to_collection', 'homepage', 'poster_path', 'spoken_languages', 'adult', 'video', 'release_date', 'status', 'original_title'], inplace=True)\n",
    "df.dropna(inplace=True)\n",
    "df.drop_duplicates(inplace=True)\n",
    "df.drop_duplicates(subset=['id', 'title'], inplace=True)\n",
    "\n",
    "df['id'] = df['id'].astype('int')\n",
    "df['budget'] = df['budget'].astype('float')\n",
    "df['runtime'] = df['runtime'].astype('int')\n"
   ]
  },
  {
   "cell_type": "code",
   "execution_count": 3,
   "metadata": {},
   "outputs": [
    {
     "data": {
      "text/plain": [
       "0    [{'id': 16, 'name': 'Animation'}, {'id': 35, '...\n",
       "1    [{'id': 12, 'name': 'Adventure'}, {'id': 14, '...\n",
       "2    [{'id': 10749, 'name': 'Romance'}, {'id': 35, ...\n",
       "Name: genres, dtype: object"
      ]
     },
     "execution_count": 3,
     "metadata": {},
     "output_type": "execute_result"
    }
   ],
   "source": [
    "df['genres'].head(3)"
   ]
  },
  {
   "cell_type": "code",
   "execution_count": 4,
   "metadata": {},
   "outputs": [
    {
     "data": {
      "text/plain": [
       "0     [Animation, Comedy, Family]\n",
       "1    [Adventure, Fantasy, Family]\n",
       "2               [Romance, Comedy]\n",
       "Name: genres, dtype: object"
      ]
     },
     "execution_count": 4,
     "metadata": {},
     "output_type": "execute_result"
    }
   ],
   "source": [
    "df['genres'] = df['genres'].fillna('[]').apply(literal_eval).apply(lambda x: [i['name'] for i in x] if isinstance(x, list) else [])\n",
    "\n",
    "df['genres'].head(3)"
   ]
  },
  {
   "cell_type": "markdown",
   "metadata": {},
   "source": [
    "## dataframe information"
   ]
  },
  {
   "cell_type": "code",
   "execution_count": 5,
   "metadata": {},
   "outputs": [
    {
     "name": "stdout",
     "output_type": "stream",
     "text": [
      "Shape of the dataframe: (45393, 16)\n",
      "\n",
      "\n",
      "columns: Index(['budget', 'genres', 'id', 'imdb_id', 'original_language', 'overview',\n",
      "       'popularity', 'production_companies', 'production_countries', 'revenue',\n",
      "       'runtime', 'tagline', 'title', 'vote_average', 'vote_count', 'year'],\n",
      "      dtype='object')\n"
     ]
    }
   ],
   "source": [
    "print(f'Shape of the dataframe: {df.shape}')\n",
    "\n",
    "print('\\n')\n",
    "\n",
    "print(f'columns: {df.columns}')"
   ]
  },
  {
   "cell_type": "code",
   "execution_count": 6,
   "metadata": {},
   "outputs": [
    {
     "name": "stdout",
     "output_type": "stream",
     "text": [
      "<class 'pandas.core.frame.DataFrame'>\n",
      "Index: 45393 entries, 0 to 45465\n",
      "Data columns (total 16 columns):\n",
      " #   Column                Non-Null Count  Dtype  \n",
      "---  ------                --------------  -----  \n",
      " 0   budget                45393 non-null  float64\n",
      " 1   genres                45393 non-null  object \n",
      " 2   id                    45393 non-null  int32  \n",
      " 3   imdb_id               45393 non-null  object \n",
      " 4   original_language     45393 non-null  object \n",
      " 5   overview              45393 non-null  object \n",
      " 6   popularity            45393 non-null  float64\n",
      " 7   production_companies  45393 non-null  object \n",
      " 8   production_countries  45393 non-null  object \n",
      " 9   revenue               45393 non-null  float64\n",
      " 10  runtime               45393 non-null  int32  \n",
      " 11  tagline               45393 non-null  object \n",
      " 12  title                 45393 non-null  object \n",
      " 13  vote_average          45393 non-null  float64\n",
      " 14  vote_count            45393 non-null  float64\n",
      " 15  year                  45393 non-null  int32  \n",
      "dtypes: float64(5), int32(3), object(8)\n",
      "memory usage: 5.4+ MB\n",
      "Information about the dataframe: \n",
      "None\n"
     ]
    }
   ],
   "source": [
    "print(f'Information about the dataframe: \\n{df.info()}')"
   ]
  },
  {
   "cell_type": "code",
   "execution_count": 7,
   "metadata": {},
   "outputs": [
    {
     "data": {
      "text/html": [
       "<div>\n",
       "<style scoped>\n",
       "    .dataframe tbody tr th:only-of-type {\n",
       "        vertical-align: middle;\n",
       "    }\n",
       "\n",
       "    .dataframe tbody tr th {\n",
       "        vertical-align: top;\n",
       "    }\n",
       "\n",
       "    .dataframe thead th {\n",
       "        text-align: right;\n",
       "    }\n",
       "</style>\n",
       "<table border=\"1\" class=\"dataframe\">\n",
       "  <thead>\n",
       "    <tr style=\"text-align: right;\">\n",
       "      <th></th>\n",
       "      <th>budget</th>\n",
       "      <th>genres</th>\n",
       "      <th>id</th>\n",
       "      <th>imdb_id</th>\n",
       "      <th>original_language</th>\n",
       "      <th>overview</th>\n",
       "      <th>popularity</th>\n",
       "      <th>production_companies</th>\n",
       "      <th>production_countries</th>\n",
       "      <th>revenue</th>\n",
       "      <th>runtime</th>\n",
       "      <th>tagline</th>\n",
       "      <th>title</th>\n",
       "      <th>vote_average</th>\n",
       "      <th>vote_count</th>\n",
       "      <th>year</th>\n",
       "    </tr>\n",
       "  </thead>\n",
       "  <tbody>\n",
       "    <tr>\n",
       "      <th>0</th>\n",
       "      <td>30000000.0</td>\n",
       "      <td>[Animation, Comedy, Family]</td>\n",
       "      <td>862</td>\n",
       "      <td>tt0114709</td>\n",
       "      <td>en</td>\n",
       "      <td>Led by Woody, Andy's toys live happily in his ...</td>\n",
       "      <td>21.946943</td>\n",
       "      <td>[{'name': 'Pixar Animation Studios', 'id': 3}]</td>\n",
       "      <td>[{'iso_3166_1': 'US', 'name': 'United States o...</td>\n",
       "      <td>373554033.0</td>\n",
       "      <td>81</td>\n",
       "      <td></td>\n",
       "      <td>Toy Story</td>\n",
       "      <td>7.7</td>\n",
       "      <td>5415.0</td>\n",
       "      <td>1995</td>\n",
       "    </tr>\n",
       "    <tr>\n",
       "      <th>1</th>\n",
       "      <td>65000000.0</td>\n",
       "      <td>[Adventure, Fantasy, Family]</td>\n",
       "      <td>8844</td>\n",
       "      <td>tt0113497</td>\n",
       "      <td>en</td>\n",
       "      <td>When siblings Judy and Peter discover an encha...</td>\n",
       "      <td>17.015539</td>\n",
       "      <td>[{'name': 'TriStar Pictures', 'id': 559}, {'na...</td>\n",
       "      <td>[{'iso_3166_1': 'US', 'name': 'United States o...</td>\n",
       "      <td>262797249.0</td>\n",
       "      <td>104</td>\n",
       "      <td>Roll the dice and unleash the excitement!</td>\n",
       "      <td>Jumanji</td>\n",
       "      <td>6.9</td>\n",
       "      <td>2413.0</td>\n",
       "      <td>1995</td>\n",
       "    </tr>\n",
       "  </tbody>\n",
       "</table>\n",
       "</div>"
      ],
      "text/plain": [
       "       budget                        genres    id    imdb_id  \\\n",
       "0  30000000.0   [Animation, Comedy, Family]   862  tt0114709   \n",
       "1  65000000.0  [Adventure, Fantasy, Family]  8844  tt0113497   \n",
       "\n",
       "  original_language                                           overview  \\\n",
       "0                en  Led by Woody, Andy's toys live happily in his ...   \n",
       "1                en  When siblings Judy and Peter discover an encha...   \n",
       "\n",
       "   popularity                               production_companies  \\\n",
       "0   21.946943     [{'name': 'Pixar Animation Studios', 'id': 3}]   \n",
       "1   17.015539  [{'name': 'TriStar Pictures', 'id': 559}, {'na...   \n",
       "\n",
       "                                production_countries      revenue  runtime  \\\n",
       "0  [{'iso_3166_1': 'US', 'name': 'United States o...  373554033.0       81   \n",
       "1  [{'iso_3166_1': 'US', 'name': 'United States o...  262797249.0      104   \n",
       "\n",
       "                                     tagline      title  vote_average  \\\n",
       "0                                             Toy Story           7.7   \n",
       "1  Roll the dice and unleash the excitement!    Jumanji           6.9   \n",
       "\n",
       "   vote_count  year  \n",
       "0      5415.0  1995  \n",
       "1      2413.0  1995  "
      ]
     },
     "execution_count": 7,
     "metadata": {},
     "output_type": "execute_result"
    }
   ],
   "source": [
    "df.head(2)"
   ]
  },
  {
   "cell_type": "markdown",
   "metadata": {},
   "source": [
    "# **Knowledge based Recommender**"
   ]
  },
  {
   "cell_type": "code",
   "execution_count": 8,
   "metadata": {},
   "outputs": [],
   "source": [
    "movies_d=pd.read_csv(r'The Movies Dataset/movies_metadata.csv', low_memory=False)\n",
    "\n",
    "movies_d['popularity'] = pd.to_numeric(movies_d['popularity'], errors='coerce')  # Converts to numeric, replacing invalid entries with NaN\n",
    "\n",
    "movies_d['overview'] = movies_d['overview'].fillna('')\n",
    "movies_d['tagline'] = movies_d['tagline'].fillna('')\n",
    "movies_d['status'] = movies_d['status'].fillna('Released')\n",
    "movies_d['runtime'] = movies_d['runtime'].fillna(90)\n",
    "movies_d = movies_d[movies_d['adult'] != 'True']\n",
    "\n",
    "movies_d['year'] = pd.to_datetime(movies_d['release_date'], errors='coerce').apply(lambda x: str(x).split('-')[0] if x != np.nan else np.nan)\n",
    "movies_d['year'] = pd.to_numeric(df['year'], errors='coerce')  # Converts to numeric, replacing invalid entries with NaN\n",
    "movies_d['year'] = movies_d['year'].fillna(2014)\n",
    "\n",
    "\n",
    "movies_d.drop(columns=['belongs_to_collection', 'homepage', 'poster_path', 'spoken_languages', 'adult', 'video', 'release_date', 'status', 'original_title'], inplace=True)\n",
    "\n",
    "movies_d.dropna(inplace=True)\n",
    "movies_d.drop_duplicates(inplace=True)\n",
    "movies_d.drop_duplicates(subset=['id', 'title'], inplace=True)\n",
    "\n",
    "movies_d['id'] = movies_d['id'].astype('int')\n",
    "movies_d['budget'] = movies_d['budget'].astype('float')\n",
    "movies_d['runtime'] = movies_d['runtime'].astype('int')\n",
    "\n",
    "movies_d['genres'] = movies_d['genres'].apply(literal_eval)\n",
    "movies_d['genres'] = movies_d['genres'].apply(lambda x: [i['name'] for i in x] if isinstance(x, list) else [])\n",
    "\n",
    "movies_d['production_countries'] = movies_d['production_countries'].apply(literal_eval)\n",
    "movies_d['production_countries'] = movies_d['production_countries'].apply(lambda x: [i['name'] for i in x] if isinstance(x, list) else [])\n",
    "\n",
    "movies_d['production_companies'] = movies_d['production_companies'].apply(literal_eval)\n",
    "movies_d['production_companies'] = movies_d['production_companies'].apply(lambda x: [i['name'] for i in x] if isinstance(x, list) else [])"
   ]
  },
  {
   "cell_type": "code",
   "execution_count": 9,
   "metadata": {},
   "outputs": [],
   "source": [
    "credits = pd.read_csv('The Movies Dataset/credits.csv')\n",
    "credits.drop_duplicates(inplace=True)\n",
    "credits.drop_duplicates(subset= ['id'],inplace=True)\n",
    "credits['id'] = credits['id'].astype('int')\n",
    "\n",
    "keywords = pd.read_csv('The Movies Dataset/keywords.csv')\n",
    "keywords.drop_duplicates(inplace=True)\n",
    "keywords.drop_duplicates(subset= ['id'],inplace=True)\n",
    "keywords['id'] = keywords['id'].astype('int')"
   ]
  },
  {
   "cell_type": "code",
   "execution_count": 10,
   "metadata": {},
   "outputs": [],
   "source": [
    "movies_d = movies_d.merge(credits, on='id')\n",
    "\n",
    "movies_d = movies_d.merge(keywords, on='id')"
   ]
  },
  {
   "cell_type": "code",
   "execution_count": 11,
   "metadata": {},
   "outputs": [],
   "source": [
    "movies_df = movies_d.copy()  # Ensures no linkage to the original DataFrame\n",
    "movies_df['cast'] = movies_df['cast'].apply(literal_eval)\n",
    "movies_df['crew'] = movies_df['crew'].apply(literal_eval)\n",
    "movies_df['keywords'] = movies_df['keywords'].apply(literal_eval)\n",
    "movies_df['cast_size'] = movies_df['cast'].apply(lambda x: len(x))\n",
    "movies_df['crew_size'] = movies_df['crew'].apply(lambda x: len(x))"
   ]
  },
  {
   "cell_type": "code",
   "execution_count": 12,
   "metadata": {},
   "outputs": [],
   "source": [
    "def get_director(x):\n",
    "    for i in x:\n",
    "        if i['job'] == 'Director':\n",
    "            return i['name']\n",
    "    return np.nan\n",
    "\n",
    "movies_df['director'] = movies_df['crew'].apply(get_director)"
   ]
  },
  {
   "cell_type": "code",
   "execution_count": 13,
   "metadata": {},
   "outputs": [],
   "source": [
    "movies_df['actor'] = movies_df['cast'].apply(lambda x: [i['name'] for i in x] if isinstance(x, list) else [])\n",
    "movies_df['actor'] = movies_df['actor'].apply(lambda x: x[:3] if len(x) >=3 else x)\n",
    "\n",
    "movies_df['character'] = movies_df['cast'].apply(lambda x: [i['character'] for i in x] if isinstance(x, list) else [])\n",
    "movies_df['character'] = movies_df['character'].apply(lambda x: x[:3] if len(x) >=3 else x)\n",
    "\n",
    "movies_df['keywords'] = movies_df['keywords'].apply(lambda x: [i['name'] for i in x] if isinstance(x, list) else [])\n",
    "\n",
    "movies_df.drop(columns=['crew', 'cast'], inplace=True)"
   ]
  },
  {
   "cell_type": "code",
   "execution_count": 14,
   "metadata": {},
   "outputs": [],
   "source": [
    "movies_df = movies_df[['imdb_id', 'id', 'title', 'year', 'genres', 'vote_average', 'vote_count', 'popularity', 'budget', 'revenue', 'original_language', 'production_countries', 'runtime',\n",
    "                       'production_companies', 'director', 'actor', 'character', 'cast_size', 'crew_size', 'overview', 'tagline', 'keywords']]"
   ]
  },
  {
   "cell_type": "code",
   "execution_count": 15,
   "metadata": {},
   "outputs": [
    {
     "name": "stdout",
     "output_type": "stream",
     "text": [
      "Shape of the movies dataframe: (45392, 22)\n"
     ]
    },
    {
     "data": {
      "text/html": [
       "<div>\n",
       "<style scoped>\n",
       "    .dataframe tbody tr th:only-of-type {\n",
       "        vertical-align: middle;\n",
       "    }\n",
       "\n",
       "    .dataframe tbody tr th {\n",
       "        vertical-align: top;\n",
       "    }\n",
       "\n",
       "    .dataframe thead th {\n",
       "        text-align: right;\n",
       "    }\n",
       "</style>\n",
       "<table border=\"1\" class=\"dataframe\">\n",
       "  <thead>\n",
       "    <tr style=\"text-align: right;\">\n",
       "      <th></th>\n",
       "      <th>imdb_id</th>\n",
       "      <th>id</th>\n",
       "      <th>title</th>\n",
       "      <th>year</th>\n",
       "      <th>genres</th>\n",
       "      <th>vote_average</th>\n",
       "      <th>vote_count</th>\n",
       "      <th>popularity</th>\n",
       "      <th>budget</th>\n",
       "      <th>revenue</th>\n",
       "      <th>...</th>\n",
       "      <th>runtime</th>\n",
       "      <th>production_companies</th>\n",
       "      <th>director</th>\n",
       "      <th>actor</th>\n",
       "      <th>character</th>\n",
       "      <th>cast_size</th>\n",
       "      <th>crew_size</th>\n",
       "      <th>overview</th>\n",
       "      <th>tagline</th>\n",
       "      <th>keywords</th>\n",
       "    </tr>\n",
       "  </thead>\n",
       "  <tbody>\n",
       "    <tr>\n",
       "      <th>0</th>\n",
       "      <td>tt0114709</td>\n",
       "      <td>862</td>\n",
       "      <td>Toy Story</td>\n",
       "      <td>1995.0</td>\n",
       "      <td>[Animation, Comedy, Family]</td>\n",
       "      <td>7.7</td>\n",
       "      <td>5415.0</td>\n",
       "      <td>21.946943</td>\n",
       "      <td>30000000.0</td>\n",
       "      <td>373554033.0</td>\n",
       "      <td>...</td>\n",
       "      <td>81</td>\n",
       "      <td>[Pixar Animation Studios]</td>\n",
       "      <td>John Lasseter</td>\n",
       "      <td>[Tom Hanks, Tim Allen, Don Rickles]</td>\n",
       "      <td>[Woody (voice), Buzz Lightyear (voice), Mr. Po...</td>\n",
       "      <td>13</td>\n",
       "      <td>106</td>\n",
       "      <td>Led by Woody, Andy's toys live happily in his ...</td>\n",
       "      <td></td>\n",
       "      <td>[jealousy, toy, boy, friendship, friends, riva...</td>\n",
       "    </tr>\n",
       "    <tr>\n",
       "      <th>1</th>\n",
       "      <td>tt0113497</td>\n",
       "      <td>8844</td>\n",
       "      <td>Jumanji</td>\n",
       "      <td>1995.0</td>\n",
       "      <td>[Adventure, Fantasy, Family]</td>\n",
       "      <td>6.9</td>\n",
       "      <td>2413.0</td>\n",
       "      <td>17.015539</td>\n",
       "      <td>65000000.0</td>\n",
       "      <td>262797249.0</td>\n",
       "      <td>...</td>\n",
       "      <td>104</td>\n",
       "      <td>[TriStar Pictures, Teitler Film, Interscope Co...</td>\n",
       "      <td>Joe Johnston</td>\n",
       "      <td>[Robin Williams, Jonathan Hyde, Kirsten Dunst]</td>\n",
       "      <td>[Alan Parrish, Samuel Alan Parrish / Van Pelt,...</td>\n",
       "      <td>26</td>\n",
       "      <td>16</td>\n",
       "      <td>When siblings Judy and Peter discover an encha...</td>\n",
       "      <td>Roll the dice and unleash the excitement!</td>\n",
       "      <td>[board game, disappearance, based on children'...</td>\n",
       "    </tr>\n",
       "  </tbody>\n",
       "</table>\n",
       "<p>2 rows × 22 columns</p>\n",
       "</div>"
      ],
      "text/plain": [
       "     imdb_id    id      title    year                        genres  \\\n",
       "0  tt0114709   862  Toy Story  1995.0   [Animation, Comedy, Family]   \n",
       "1  tt0113497  8844    Jumanji  1995.0  [Adventure, Fantasy, Family]   \n",
       "\n",
       "   vote_average  vote_count  popularity      budget      revenue  ... runtime  \\\n",
       "0           7.7      5415.0   21.946943  30000000.0  373554033.0  ...      81   \n",
       "1           6.9      2413.0   17.015539  65000000.0  262797249.0  ...     104   \n",
       "\n",
       "                                production_companies       director  \\\n",
       "0                          [Pixar Animation Studios]  John Lasseter   \n",
       "1  [TriStar Pictures, Teitler Film, Interscope Co...   Joe Johnston   \n",
       "\n",
       "                                            actor  \\\n",
       "0             [Tom Hanks, Tim Allen, Don Rickles]   \n",
       "1  [Robin Williams, Jonathan Hyde, Kirsten Dunst]   \n",
       "\n",
       "                                           character cast_size crew_size  \\\n",
       "0  [Woody (voice), Buzz Lightyear (voice), Mr. Po...        13       106   \n",
       "1  [Alan Parrish, Samuel Alan Parrish / Van Pelt,...        26        16   \n",
       "\n",
       "                                            overview  \\\n",
       "0  Led by Woody, Andy's toys live happily in his ...   \n",
       "1  When siblings Judy and Peter discover an encha...   \n",
       "\n",
       "                                     tagline  \\\n",
       "0                                              \n",
       "1  Roll the dice and unleash the excitement!   \n",
       "\n",
       "                                            keywords  \n",
       "0  [jealousy, toy, boy, friendship, friends, riva...  \n",
       "1  [board game, disappearance, based on children'...  \n",
       "\n",
       "[2 rows x 22 columns]"
      ]
     },
     "execution_count": 15,
     "metadata": {},
     "output_type": "execute_result"
    }
   ],
   "source": [
    "print(f'Shape of the movies dataframe: {movies_df.shape}')\n",
    "\n",
    "movies_df.head(2)"
   ]
  },
  {
   "cell_type": "code",
   "execution_count": 16,
   "metadata": {},
   "outputs": [
    {
     "data": {
      "image/png": "[encoded data removed]",
      "text/plain": [
       "<Figure size 2000x500 with 1 Axes>"
      ]
     },
     "metadata": {},
     "output_type": "display_data"
    }
   ],
   "source": [
    "#checking Distribution of years\n",
    "plt.figure(figsize=(20,5))\n",
    "sns.histplot(movies_df['year'])\n",
    "plt.show()"
   ]
  },
  {
   "cell_type": "markdown",
   "metadata": {},
   "source": [
    "## movies_with_ratings"
   ]
  },
  {
   "cell_type": "code",
   "execution_count": 17,
   "metadata": {},
   "outputs": [
    {
     "name": "stdout",
     "output_type": "stream",
     "text": [
      "Shape of the links_small dataframe: (9112, 2)\n"
     ]
    }
   ],
   "source": [
    "links_small = pd.read_csv('The Movies Dataset/links_small.csv')\n",
    "\n",
    "links_small.rename(columns={'tmdbId': 'id'}, inplace=True)\n",
    "links_small.drop(columns=['imdbId'], inplace=True)\n",
    "links_small.dropna(inplace=True)\n",
    "links_small.drop_duplicates(inplace=True)\n",
    "links_small.drop_duplicates(subset = ['id'] ,inplace=True)\n",
    "\n",
    "links_small['id'] = links_small['id'].astype('int')\n",
    "\n",
    "print(f'Shape of the links_small dataframe: {links_small.shape}')"
   ]
  },
  {
   "cell_type": "code",
   "execution_count": 18,
   "metadata": {},
   "outputs": [
    {
     "name": "stdout",
     "output_type": "stream",
     "text": [
      "Shape of the links_small dataframe: (99933, 4)\n"
     ]
    },
    {
     "data": {
      "text/html": [
       "<div>\n",
       "<style scoped>\n",
       "    .dataframe tbody tr th:only-of-type {\n",
       "        vertical-align: middle;\n",
       "    }\n",
       "\n",
       "    .dataframe tbody tr th {\n",
       "        vertical-align: top;\n",
       "    }\n",
       "\n",
       "    .dataframe thead th {\n",
       "        text-align: right;\n",
       "    }\n",
       "</style>\n",
       "<table border=\"1\" class=\"dataframe\">\n",
       "  <thead>\n",
       "    <tr style=\"text-align: right;\">\n",
       "      <th></th>\n",
       "      <th>userId</th>\n",
       "      <th>id</th>\n",
       "      <th>rating</th>\n",
       "      <th>timestamp</th>\n",
       "    </tr>\n",
       "  </thead>\n",
       "  <tbody>\n",
       "    <tr>\n",
       "      <th>0</th>\n",
       "      <td>1</td>\n",
       "      <td>9909</td>\n",
       "      <td>2.5</td>\n",
       "      <td>1260759144</td>\n",
       "    </tr>\n",
       "    <tr>\n",
       "      <th>1</th>\n",
       "      <td>7</td>\n",
       "      <td>9909</td>\n",
       "      <td>3.0</td>\n",
       "      <td>851868750</td>\n",
       "    </tr>\n",
       "    <tr>\n",
       "      <th>2</th>\n",
       "      <td>31</td>\n",
       "      <td>9909</td>\n",
       "      <td>4.0</td>\n",
       "      <td>1273541953</td>\n",
       "    </tr>\n",
       "  </tbody>\n",
       "</table>\n",
       "</div>"
      ],
      "text/plain": [
       "   userId    id  rating   timestamp\n",
       "0       1  9909     2.5  1260759144\n",
       "1       7  9909     3.0   851868750\n",
       "2      31  9909     4.0  1273541953"
      ]
     },
     "execution_count": 18,
     "metadata": {},
     "output_type": "execute_result"
    }
   ],
   "source": [
    "ratings = pd.read_csv('The Movies Dataset/ratings_small.csv')\n",
    "ratings = ratings.merge(links_small, on='movieId')\n",
    "\n",
    "ratings = ratings[['userId', 'id', 'rating', 'timestamp']]\n",
    "\n",
    "ratings.dropna(inplace=True)\n",
    "ratings.drop_duplicates(inplace=True)\n",
    "\n",
    "print(f'Shape of the links_small dataframe: {ratings.shape}')\n",
    "\n",
    "ratings.head(3)"
   ]
  },
  {
   "cell_type": "code",
   "execution_count": 19,
   "metadata": {},
   "outputs": [
    {
     "name": "stdout",
     "output_type": "stream",
     "text": [
      "Shape of the movies_with_ratings dataframe: (9025, 22)\n"
     ]
    },
    {
     "data": {
      "text/html": [
       "<div>\n",
       "<style scoped>\n",
       "    .dataframe tbody tr th:only-of-type {\n",
       "        vertical-align: middle;\n",
       "    }\n",
       "\n",
       "    .dataframe tbody tr th {\n",
       "        vertical-align: top;\n",
       "    }\n",
       "\n",
       "    .dataframe thead th {\n",
       "        text-align: right;\n",
       "    }\n",
       "</style>\n",
       "<table border=\"1\" class=\"dataframe\">\n",
       "  <thead>\n",
       "    <tr style=\"text-align: right;\">\n",
       "      <th></th>\n",
       "      <th>imdb_id</th>\n",
       "      <th>id</th>\n",
       "      <th>title</th>\n",
       "      <th>year</th>\n",
       "      <th>genres</th>\n",
       "      <th>vote_average</th>\n",
       "      <th>vote_count</th>\n",
       "      <th>popularity</th>\n",
       "      <th>budget</th>\n",
       "      <th>revenue</th>\n",
       "      <th>...</th>\n",
       "      <th>runtime</th>\n",
       "      <th>production_companies</th>\n",
       "      <th>director</th>\n",
       "      <th>actor</th>\n",
       "      <th>character</th>\n",
       "      <th>cast_size</th>\n",
       "      <th>crew_size</th>\n",
       "      <th>overview</th>\n",
       "      <th>tagline</th>\n",
       "      <th>keywords</th>\n",
       "    </tr>\n",
       "  </thead>\n",
       "  <tbody>\n",
       "    <tr>\n",
       "      <th>0</th>\n",
       "      <td>tt0114709</td>\n",
       "      <td>862</td>\n",
       "      <td>Toy Story</td>\n",
       "      <td>1995.0</td>\n",
       "      <td>[Animation, Comedy, Family]</td>\n",
       "      <td>7.7</td>\n",
       "      <td>5415.0</td>\n",
       "      <td>21.946943</td>\n",
       "      <td>30000000.0</td>\n",
       "      <td>373554033.0</td>\n",
       "      <td>...</td>\n",
       "      <td>81</td>\n",
       "      <td>[Pixar Animation Studios]</td>\n",
       "      <td>John Lasseter</td>\n",
       "      <td>[Tom Hanks, Tim Allen, Don Rickles]</td>\n",
       "      <td>[Woody (voice), Buzz Lightyear (voice), Mr. Po...</td>\n",
       "      <td>13</td>\n",
       "      <td>106</td>\n",
       "      <td>Led by Woody, Andy's toys live happily in his ...</td>\n",
       "      <td></td>\n",
       "      <td>[jealousy, toy, boy, friendship, friends, riva...</td>\n",
       "    </tr>\n",
       "    <tr>\n",
       "      <th>1</th>\n",
       "      <td>tt0113497</td>\n",
       "      <td>8844</td>\n",
       "      <td>Jumanji</td>\n",
       "      <td>1995.0</td>\n",
       "      <td>[Adventure, Fantasy, Family]</td>\n",
       "      <td>6.9</td>\n",
       "      <td>2413.0</td>\n",
       "      <td>17.015539</td>\n",
       "      <td>65000000.0</td>\n",
       "      <td>262797249.0</td>\n",
       "      <td>...</td>\n",
       "      <td>104</td>\n",
       "      <td>[TriStar Pictures, Teitler Film, Interscope Co...</td>\n",
       "      <td>Joe Johnston</td>\n",
       "      <td>[Robin Williams, Jonathan Hyde, Kirsten Dunst]</td>\n",
       "      <td>[Alan Parrish, Samuel Alan Parrish / Van Pelt,...</td>\n",
       "      <td>26</td>\n",
       "      <td>16</td>\n",
       "      <td>When siblings Judy and Peter discover an encha...</td>\n",
       "      <td>Roll the dice and unleash the excitement!</td>\n",
       "      <td>[board game, disappearance, based on children'...</td>\n",
       "    </tr>\n",
       "    <tr>\n",
       "      <th>2</th>\n",
       "      <td>tt0113228</td>\n",
       "      <td>15602</td>\n",
       "      <td>Grumpier Old Men</td>\n",
       "      <td>1995.0</td>\n",
       "      <td>[Romance, Comedy]</td>\n",
       "      <td>6.5</td>\n",
       "      <td>92.0</td>\n",
       "      <td>11.712900</td>\n",
       "      <td>0.0</td>\n",
       "      <td>0.0</td>\n",
       "      <td>...</td>\n",
       "      <td>101</td>\n",
       "      <td>[Warner Bros., Lancaster Gate]</td>\n",
       "      <td>Howard Deutch</td>\n",
       "      <td>[Walter Matthau, Jack Lemmon, Ann-Margret]</td>\n",
       "      <td>[Max Goldman, John Gustafson, Ariel Gustafson]</td>\n",
       "      <td>7</td>\n",
       "      <td>4</td>\n",
       "      <td>A family wedding reignites the ancient feud be...</td>\n",
       "      <td>Still Yelling. Still Fighting. Still Ready for...</td>\n",
       "      <td>[fishing, best friend, duringcreditsstinger, o...</td>\n",
       "    </tr>\n",
       "  </tbody>\n",
       "</table>\n",
       "<p>3 rows × 22 columns</p>\n",
       "</div>"
      ],
      "text/plain": [
       "     imdb_id     id             title    year                        genres  \\\n",
       "0  tt0114709    862         Toy Story  1995.0   [Animation, Comedy, Family]   \n",
       "1  tt0113497   8844           Jumanji  1995.0  [Adventure, Fantasy, Family]   \n",
       "2  tt0113228  15602  Grumpier Old Men  1995.0             [Romance, Comedy]   \n",
       "\n",
       "   vote_average  vote_count  popularity      budget      revenue  ... runtime  \\\n",
       "0           7.7      5415.0   21.946943  30000000.0  373554033.0  ...      81   \n",
       "1           6.9      2413.0   17.015539  65000000.0  262797249.0  ...     104   \n",
       "2           6.5        92.0   11.712900         0.0          0.0  ...     101   \n",
       "\n",
       "                                production_companies       director  \\\n",
       "0                          [Pixar Animation Studios]  John Lasseter   \n",
       "1  [TriStar Pictures, Teitler Film, Interscope Co...   Joe Johnston   \n",
       "2                     [Warner Bros., Lancaster Gate]  Howard Deutch   \n",
       "\n",
       "                                            actor  \\\n",
       "0             [Tom Hanks, Tim Allen, Don Rickles]   \n",
       "1  [Robin Williams, Jonathan Hyde, Kirsten Dunst]   \n",
       "2      [Walter Matthau, Jack Lemmon, Ann-Margret]   \n",
       "\n",
       "                                           character cast_size crew_size  \\\n",
       "0  [Woody (voice), Buzz Lightyear (voice), Mr. Po...        13       106   \n",
       "1  [Alan Parrish, Samuel Alan Parrish / Van Pelt,...        26        16   \n",
       "2     [Max Goldman, John Gustafson, Ariel Gustafson]         7         4   \n",
       "\n",
       "                                            overview  \\\n",
       "0  Led by Woody, Andy's toys live happily in his ...   \n",
       "1  When siblings Judy and Peter discover an encha...   \n",
       "2  A family wedding reignites the ancient feud be...   \n",
       "\n",
       "                                             tagline  \\\n",
       "0                                                      \n",
       "1          Roll the dice and unleash the excitement!   \n",
       "2  Still Yelling. Still Fighting. Still Ready for...   \n",
       "\n",
       "                                            keywords  \n",
       "0  [jealousy, toy, boy, friendship, friends, riva...  \n",
       "1  [board game, disappearance, based on children'...  \n",
       "2  [fishing, best friend, duringcreditsstinger, o...  \n",
       "\n",
       "[3 rows x 22 columns]"
      ]
     },
     "execution_count": 19,
     "metadata": {},
     "output_type": "execute_result"
    }
   ],
   "source": [
    "movies_in_ratings = movies_df[movies_df['id'].isin(ratings['id'])]\n",
    "\n",
    "print(f'Shape of the movies_with_ratings dataframe: {movies_in_ratings.shape}')\n",
    "\n",
    "movies_in_ratings.head(3)"
   ]
  },
  {
   "cell_type": "markdown",
   "metadata": {},
   "source": [
    "## Create a new dataFrame for the mean of ratings for each product"
   ]
  },
  {
   "cell_type": "code",
   "execution_count": 20,
   "metadata": {},
   "outputs": [
    {
     "data": {
      "text/plain": [
       "(99810, 25)"
      ]
     },
     "execution_count": 20,
     "metadata": {},
     "output_type": "execute_result"
    }
   ],
   "source": [
    "movies_with_ratings = movies_in_ratings.merge(ratings, on='id')\n",
    "movies_with_ratings.shape"
   ]
  },
  {
   "cell_type": "code",
   "execution_count": 21,
   "metadata": {},
   "outputs": [
    {
     "data": {
      "text/html": [
       "<div>\n",
       "<style scoped>\n",
       "    .dataframe tbody tr th:only-of-type {\n",
       "        vertical-align: middle;\n",
       "    }\n",
       "\n",
       "    .dataframe tbody tr th {\n",
       "        vertical-align: top;\n",
       "    }\n",
       "\n",
       "    .dataframe thead th {\n",
       "        text-align: right;\n",
       "    }\n",
       "</style>\n",
       "<table border=\"1\" class=\"dataframe\">\n",
       "  <thead>\n",
       "    <tr style=\"text-align: right;\">\n",
       "      <th></th>\n",
       "      <th>rating</th>\n",
       "    </tr>\n",
       "    <tr>\n",
       "      <th>title</th>\n",
       "      <th></th>\n",
       "    </tr>\n",
       "  </thead>\n",
       "  <tbody>\n",
       "    <tr>\n",
       "      <th>$9.99</th>\n",
       "      <td>3.833333</td>\n",
       "    </tr>\n",
       "    <tr>\n",
       "      <th>'Neath the Arizona Skies</th>\n",
       "      <td>0.500000</td>\n",
       "    </tr>\n",
       "    <tr>\n",
       "      <th>'night, Mother</th>\n",
       "      <td>5.000000</td>\n",
       "    </tr>\n",
       "  </tbody>\n",
       "</table>\n",
       "</div>"
      ],
      "text/plain": [
       "                            rating\n",
       "title                             \n",
       "$9.99                     3.833333\n",
       "'Neath the Arizona Skies  0.500000\n",
       "'night, Mother            5.000000"
      ]
     },
     "execution_count": 21,
     "metadata": {},
     "output_type": "execute_result"
    }
   ],
   "source": [
    "average_rating_df = movies_with_ratings[[\"title\", \"rating\"]].groupby('title').mean()\n",
    "average_rating_df.head(3)"
   ]
  },
  {
   "cell_type": "code",
   "execution_count": 22,
   "metadata": {},
   "outputs": [
    {
     "data": {
      "text/html": [
       "<div>\n",
       "<style scoped>\n",
       "    .dataframe tbody tr th:only-of-type {\n",
       "        vertical-align: middle;\n",
       "    }\n",
       "\n",
       "    .dataframe tbody tr th {\n",
       "        vertical-align: top;\n",
       "    }\n",
       "\n",
       "    .dataframe thead th {\n",
       "        text-align: right;\n",
       "    }\n",
       "</style>\n",
       "<table border=\"1\" class=\"dataframe\">\n",
       "  <thead>\n",
       "    <tr style=\"text-align: right;\">\n",
       "      <th></th>\n",
       "      <th>rating</th>\n",
       "    </tr>\n",
       "    <tr>\n",
       "      <th>title</th>\n",
       "      <th></th>\n",
       "    </tr>\n",
       "  </thead>\n",
       "  <tbody>\n",
       "    <tr>\n",
       "      <th>Female Perversions</th>\n",
       "      <td>5.0</td>\n",
       "    </tr>\n",
       "    <tr>\n",
       "      <th>Lake of Fire</th>\n",
       "      <td>5.0</td>\n",
       "    </tr>\n",
       "    <tr>\n",
       "      <th>Lamerica</th>\n",
       "      <td>5.0</td>\n",
       "    </tr>\n",
       "    <tr>\n",
       "      <th>The Family Stone</th>\n",
       "      <td>5.0</td>\n",
       "    </tr>\n",
       "    <tr>\n",
       "      <th>Riding Giants</th>\n",
       "      <td>5.0</td>\n",
       "    </tr>\n",
       "  </tbody>\n",
       "</table>\n",
       "</div>"
      ],
      "text/plain": [
       "                    rating\n",
       "title                     \n",
       "Female Perversions     5.0\n",
       "Lake of Fire           5.0\n",
       "Lamerica               5.0\n",
       "The Family Stone       5.0\n",
       "Riding Giants          5.0"
      ]
     },
     "execution_count": 22,
     "metadata": {},
     "output_type": "execute_result"
    }
   ],
   "source": [
    "sorted_average_ratings = average_rating_df.sort_values(\"rating\",ascending=False)\n",
    "sorted_average_ratings.head(5)"
   ]
  },
  {
   "cell_type": "markdown",
   "metadata": {},
   "source": [
    "## take the high of the frequently of the rated products"
   ]
  },
  {
   "cell_type": "code",
   "execution_count": 23,
   "metadata": {},
   "outputs": [
    {
     "name": "stdout",
     "output_type": "stream",
     "text": [
      "Index(['Forrest Gump', 'Pulp Fiction', 'The Shawshank Redemption',\n",
      "       'The Silence of the Lambs', 'Star Wars', 'Jurassic Park', 'The Matrix',\n",
      "       'Toy Story', 'Schindler's List', 'Terminator 2: Judgment Day',\n",
      "       ...\n",
      "       'American Psycho', 'The Birds', 'Mr. & Mrs. Smith', 'Cruel Intentions',\n",
      "       'My Fair Lady', 'My Big Fat Greek Wedding',\n",
      "       'The Hunchback of Notre Dame', 'Chicago', 'Shutter Island',\n",
      "       'Mighty Aphrodite'],\n",
      "      dtype='object', name='title', length=458)\n"
     ]
    }
   ],
   "source": [
    "# Create a list of only the frequently watched movies\n",
    "product_popularity = movies_with_ratings[\"title\"].value_counts()\n",
    "popular_product = product_popularity[product_popularity > 50].index # can use that code without .index to show the name and their counts\n",
    "\n",
    "print(popular_product)"
   ]
  },
  {
   "cell_type": "markdown",
   "metadata": {},
   "source": [
    "## filter the original DataFrame to include only the popular products"
   ]
  },
  {
   "cell_type": "code",
   "execution_count": 24,
   "metadata": {},
   "outputs": [
    {
     "data": {
      "text/html": [
       "<div>\n",
       "<style scoped>\n",
       "    .dataframe tbody tr th:only-of-type {\n",
       "        vertical-align: middle;\n",
       "    }\n",
       "\n",
       "    .dataframe tbody tr th {\n",
       "        vertical-align: top;\n",
       "    }\n",
       "\n",
       "    .dataframe thead th {\n",
       "        text-align: right;\n",
       "    }\n",
       "</style>\n",
       "<table border=\"1\" class=\"dataframe\">\n",
       "  <thead>\n",
       "    <tr style=\"text-align: right;\">\n",
       "      <th></th>\n",
       "      <th>imdb_id</th>\n",
       "      <th>id</th>\n",
       "      <th>title</th>\n",
       "      <th>year</th>\n",
       "      <th>genres</th>\n",
       "      <th>vote_average</th>\n",
       "      <th>vote_count</th>\n",
       "      <th>popularity</th>\n",
       "      <th>budget</th>\n",
       "      <th>revenue</th>\n",
       "      <th>...</th>\n",
       "      <th>actor</th>\n",
       "      <th>character</th>\n",
       "      <th>cast_size</th>\n",
       "      <th>crew_size</th>\n",
       "      <th>overview</th>\n",
       "      <th>tagline</th>\n",
       "      <th>keywords</th>\n",
       "      <th>userId</th>\n",
       "      <th>rating</th>\n",
       "      <th>timestamp</th>\n",
       "    </tr>\n",
       "  </thead>\n",
       "  <tbody>\n",
       "    <tr>\n",
       "      <th>0</th>\n",
       "      <td>tt0114709</td>\n",
       "      <td>862</td>\n",
       "      <td>Toy Story</td>\n",
       "      <td>1995.0</td>\n",
       "      <td>[Animation, Comedy, Family]</td>\n",
       "      <td>7.7</td>\n",
       "      <td>5415.0</td>\n",
       "      <td>21.946943</td>\n",
       "      <td>30000000.0</td>\n",
       "      <td>373554033.0</td>\n",
       "      <td>...</td>\n",
       "      <td>[Tom Hanks, Tim Allen, Don Rickles]</td>\n",
       "      <td>[Woody (voice), Buzz Lightyear (voice), Mr. Po...</td>\n",
       "      <td>13</td>\n",
       "      <td>106</td>\n",
       "      <td>Led by Woody, Andy's toys live happily in his ...</td>\n",
       "      <td></td>\n",
       "      <td>[jealousy, toy, boy, friendship, friends, riva...</td>\n",
       "      <td>7</td>\n",
       "      <td>3.0</td>\n",
       "      <td>851866703</td>\n",
       "    </tr>\n",
       "    <tr>\n",
       "      <th>1</th>\n",
       "      <td>tt0114709</td>\n",
       "      <td>862</td>\n",
       "      <td>Toy Story</td>\n",
       "      <td>1995.0</td>\n",
       "      <td>[Animation, Comedy, Family]</td>\n",
       "      <td>7.7</td>\n",
       "      <td>5415.0</td>\n",
       "      <td>21.946943</td>\n",
       "      <td>30000000.0</td>\n",
       "      <td>373554033.0</td>\n",
       "      <td>...</td>\n",
       "      <td>[Tom Hanks, Tim Allen, Don Rickles]</td>\n",
       "      <td>[Woody (voice), Buzz Lightyear (voice), Mr. Po...</td>\n",
       "      <td>13</td>\n",
       "      <td>106</td>\n",
       "      <td>Led by Woody, Andy's toys live happily in his ...</td>\n",
       "      <td></td>\n",
       "      <td>[jealousy, toy, boy, friendship, friends, riva...</td>\n",
       "      <td>9</td>\n",
       "      <td>4.0</td>\n",
       "      <td>938629179</td>\n",
       "    </tr>\n",
       "    <tr>\n",
       "      <th>2</th>\n",
       "      <td>tt0114709</td>\n",
       "      <td>862</td>\n",
       "      <td>Toy Story</td>\n",
       "      <td>1995.0</td>\n",
       "      <td>[Animation, Comedy, Family]</td>\n",
       "      <td>7.7</td>\n",
       "      <td>5415.0</td>\n",
       "      <td>21.946943</td>\n",
       "      <td>30000000.0</td>\n",
       "      <td>373554033.0</td>\n",
       "      <td>...</td>\n",
       "      <td>[Tom Hanks, Tim Allen, Don Rickles]</td>\n",
       "      <td>[Woody (voice), Buzz Lightyear (voice), Mr. Po...</td>\n",
       "      <td>13</td>\n",
       "      <td>106</td>\n",
       "      <td>Led by Woody, Andy's toys live happily in his ...</td>\n",
       "      <td></td>\n",
       "      <td>[jealousy, toy, boy, friendship, friends, riva...</td>\n",
       "      <td>13</td>\n",
       "      <td>5.0</td>\n",
       "      <td>1331380058</td>\n",
       "    </tr>\n",
       "  </tbody>\n",
       "</table>\n",
       "<p>3 rows × 25 columns</p>\n",
       "</div>"
      ],
      "text/plain": [
       "     imdb_id   id      title    year                       genres  \\\n",
       "0  tt0114709  862  Toy Story  1995.0  [Animation, Comedy, Family]   \n",
       "1  tt0114709  862  Toy Story  1995.0  [Animation, Comedy, Family]   \n",
       "2  tt0114709  862  Toy Story  1995.0  [Animation, Comedy, Family]   \n",
       "\n",
       "   vote_average  vote_count  popularity      budget      revenue  ...  \\\n",
       "0           7.7      5415.0   21.946943  30000000.0  373554033.0  ...   \n",
       "1           7.7      5415.0   21.946943  30000000.0  373554033.0  ...   \n",
       "2           7.7      5415.0   21.946943  30000000.0  373554033.0  ...   \n",
       "\n",
       "                                 actor  \\\n",
       "0  [Tom Hanks, Tim Allen, Don Rickles]   \n",
       "1  [Tom Hanks, Tim Allen, Don Rickles]   \n",
       "2  [Tom Hanks, Tim Allen, Don Rickles]   \n",
       "\n",
       "                                           character  cast_size crew_size  \\\n",
       "0  [Woody (voice), Buzz Lightyear (voice), Mr. Po...         13       106   \n",
       "1  [Woody (voice), Buzz Lightyear (voice), Mr. Po...         13       106   \n",
       "2  [Woody (voice), Buzz Lightyear (voice), Mr. Po...         13       106   \n",
       "\n",
       "                                            overview tagline  \\\n",
       "0  Led by Woody, Andy's toys live happily in his ...           \n",
       "1  Led by Woody, Andy's toys live happily in his ...           \n",
       "2  Led by Woody, Andy's toys live happily in his ...           \n",
       "\n",
       "                                            keywords  userId  rating  \\\n",
       "0  [jealousy, toy, boy, friendship, friends, riva...       7     3.0   \n",
       "1  [jealousy, toy, boy, friendship, friends, riva...       9     4.0   \n",
       "2  [jealousy, toy, boy, friendship, friends, riva...      13     5.0   \n",
       "\n",
       "    timestamp  \n",
       "0   851866703  \n",
       "1   938629179  \n",
       "2  1331380058  \n",
       "\n",
       "[3 rows x 25 columns]"
      ]
     },
     "execution_count": 24,
     "metadata": {},
     "output_type": "execute_result"
    }
   ],
   "source": [
    "# Use this popular_product list to filter the original DataFrame\n",
    "popular_product_rankings = movies_with_ratings[movies_with_ratings[\"title\"].isin(popular_product)]\n",
    "\n",
    "# Inspect the product watched over 50 times\n",
    "popular_product_rankings.head(3)"
   ]
  },
  {
   "cell_type": "markdown",
   "metadata": {},
   "source": [
    "### Find the top 5 popular products based on their average rating"
   ]
  },
  {
   "cell_type": "code",
   "execution_count": 25,
   "metadata": {},
   "outputs": [
    {
     "name": "stdout",
     "output_type": "stream",
     "text": [
      "                            rating\n",
      "title                             \n",
      "The Godfather             4.487500\n",
      "The Shawshank Redemption  4.487138\n",
      "The Godfather: Part II    4.385185\n",
      "The Usual Suspects        4.370647\n",
      "Chinatown                 4.335526\n"
     ]
    }
   ],
   "source": [
    "# Find the average rating given to these frequently watched films\n",
    "popular_product_average_rankings = popular_product_rankings[[\"title\", \"rating\"]].groupby('title').mean()\n",
    "print(popular_product_average_rankings.sort_values(by=\"rating\", ascending=False).head())"
   ]
  },
  {
   "cell_type": "markdown",
   "metadata": {},
   "source": [
    "## **Knowledge based Visualization**"
   ]
  },
  {
   "cell_type": "code",
   "execution_count": 26,
   "metadata": {},
   "outputs": [
    {
     "name": "stdout",
     "output_type": "stream",
     "text": [
      "Shape of the links_small dataframe: (9112, 2)\n"
     ]
    }
   ],
   "source": [
    "links_small = pd.read_csv('The Movies Dataset/links_small.csv')\n",
    "\n",
    "links_small.rename(columns={'tmdbId': 'id'}, inplace=True)\n",
    "links_small.drop(columns=['imdbId'], inplace=True)\n",
    "links_small.dropna(inplace=True)\n",
    "links_small.drop_duplicates(inplace=True)\n",
    "links_small.drop_duplicates(subset = ['id'] ,inplace=True)\n",
    "\n",
    "links_small['id'] = links_small['id'].astype('int')\n",
    "\n",
    "print(f'Shape of the links_small dataframe: {links_small.shape}')"
   ]
  },
  {
   "cell_type": "code",
   "execution_count": 27,
   "metadata": {},
   "outputs": [
    {
     "name": "stdout",
     "output_type": "stream",
     "text": [
      "Shape of the links_small dataframe: (99933, 4)\n"
     ]
    }
   ],
   "source": [
    "ratings = pd.read_csv('The Movies Dataset/ratings_small.csv')\n",
    "ratings = ratings.merge(links_small, on='movieId')\n",
    "\n",
    "ratings = ratings[['userId', 'id', 'rating', 'timestamp']]\n",
    "\n",
    "ratings.dropna(inplace=True)\n",
    "ratings.drop_duplicates(inplace=True)\n",
    "\n",
    "print(f'Shape of the links_small dataframe: {ratings.shape}')"
   ]
  },
  {
   "cell_type": "code",
   "execution_count": 28,
   "metadata": {},
   "outputs": [
    {
     "name": "stdout",
     "output_type": "stream",
     "text": [
      "Shape of the movies_with_ratings dataframe: (99810, 25)\n"
     ]
    },
    {
     "data": {
      "text/html": [
       "<div>\n",
       "<style scoped>\n",
       "    .dataframe tbody tr th:only-of-type {\n",
       "        vertical-align: middle;\n",
       "    }\n",
       "\n",
       "    .dataframe tbody tr th {\n",
       "        vertical-align: top;\n",
       "    }\n",
       "\n",
       "    .dataframe thead th {\n",
       "        text-align: right;\n",
       "    }\n",
       "</style>\n",
       "<table border=\"1\" class=\"dataframe\">\n",
       "  <thead>\n",
       "    <tr style=\"text-align: right;\">\n",
       "      <th></th>\n",
       "      <th>imdb_id</th>\n",
       "      <th>id</th>\n",
       "      <th>title</th>\n",
       "      <th>year</th>\n",
       "      <th>genres</th>\n",
       "      <th>vote_average</th>\n",
       "      <th>vote_count</th>\n",
       "      <th>popularity</th>\n",
       "      <th>budget</th>\n",
       "      <th>revenue</th>\n",
       "      <th>...</th>\n",
       "      <th>actor</th>\n",
       "      <th>character</th>\n",
       "      <th>cast_size</th>\n",
       "      <th>crew_size</th>\n",
       "      <th>overview</th>\n",
       "      <th>tagline</th>\n",
       "      <th>keywords</th>\n",
       "      <th>userId</th>\n",
       "      <th>rating</th>\n",
       "      <th>timestamp</th>\n",
       "    </tr>\n",
       "  </thead>\n",
       "  <tbody>\n",
       "    <tr>\n",
       "      <th>0</th>\n",
       "      <td>tt0114709</td>\n",
       "      <td>862</td>\n",
       "      <td>Toy Story</td>\n",
       "      <td>1995.0</td>\n",
       "      <td>[Animation, Comedy, Family]</td>\n",
       "      <td>7.7</td>\n",
       "      <td>5415.0</td>\n",
       "      <td>21.946943</td>\n",
       "      <td>30000000.0</td>\n",
       "      <td>373554033.0</td>\n",
       "      <td>...</td>\n",
       "      <td>[Tom Hanks, Tim Allen, Don Rickles]</td>\n",
       "      <td>[Woody (voice), Buzz Lightyear (voice), Mr. Po...</td>\n",
       "      <td>13</td>\n",
       "      <td>106</td>\n",
       "      <td>Led by Woody, Andy's toys live happily in his ...</td>\n",
       "      <td></td>\n",
       "      <td>[jealousy, toy, boy, friendship, friends, riva...</td>\n",
       "      <td>7</td>\n",
       "      <td>3.0</td>\n",
       "      <td>851866703</td>\n",
       "    </tr>\n",
       "  </tbody>\n",
       "</table>\n",
       "<p>1 rows × 25 columns</p>\n",
       "</div>"
      ],
      "text/plain": [
       "     imdb_id   id      title    year                       genres  \\\n",
       "0  tt0114709  862  Toy Story  1995.0  [Animation, Comedy, Family]   \n",
       "\n",
       "   vote_average  vote_count  popularity      budget      revenue  ...  \\\n",
       "0           7.7      5415.0   21.946943  30000000.0  373554033.0  ...   \n",
       "\n",
       "                                 actor  \\\n",
       "0  [Tom Hanks, Tim Allen, Don Rickles]   \n",
       "\n",
       "                                           character  cast_size crew_size  \\\n",
       "0  [Woody (voice), Buzz Lightyear (voice), Mr. Po...         13       106   \n",
       "\n",
       "                                            overview tagline  \\\n",
       "0  Led by Woody, Andy's toys live happily in his ...           \n",
       "\n",
       "                                            keywords  userId  rating  \\\n",
       "0  [jealousy, toy, boy, friendship, friends, riva...       7     3.0   \n",
       "\n",
       "   timestamp  \n",
       "0  851866703  \n",
       "\n",
       "[1 rows x 25 columns]"
      ]
     },
     "execution_count": 28,
     "metadata": {},
     "output_type": "execute_result"
    }
   ],
   "source": [
    "merged_rating_dataset = movies_df.merge(ratings, on='id')\n",
    "\n",
    "print(f'Shape of the movies_with_ratings dataframe: {merged_rating_dataset.shape}')\n",
    "\n",
    "merged_rating_dataset.head(1)"
   ]
  },
  {
   "cell_type": "code",
   "execution_count": 29,
   "metadata": {},
   "outputs": [
    {
     "data": {
      "text/html": [
       "<div>\n",
       "<style scoped>\n",
       "    .dataframe tbody tr th:only-of-type {\n",
       "        vertical-align: middle;\n",
       "    }\n",
       "\n",
       "    .dataframe tbody tr th {\n",
       "        vertical-align: top;\n",
       "    }\n",
       "\n",
       "    .dataframe thead th {\n",
       "        text-align: right;\n",
       "    }\n",
       "</style>\n",
       "<table border=\"1\" class=\"dataframe\">\n",
       "  <thead>\n",
       "    <tr style=\"text-align: right;\">\n",
       "      <th></th>\n",
       "      <th>user id</th>\n",
       "      <th>movie id</th>\n",
       "      <th>movie title</th>\n",
       "      <th>genres</th>\n",
       "      <th>rating</th>\n",
       "      <th>timestamp</th>\n",
       "    </tr>\n",
       "  </thead>\n",
       "  <tbody>\n",
       "    <tr>\n",
       "      <th>0</th>\n",
       "      <td>7</td>\n",
       "      <td>862</td>\n",
       "      <td>Toy Story</td>\n",
       "      <td>[Animation, Comedy, Family]</td>\n",
       "      <td>3.0</td>\n",
       "      <td>851866703</td>\n",
       "    </tr>\n",
       "    <tr>\n",
       "      <th>1</th>\n",
       "      <td>9</td>\n",
       "      <td>862</td>\n",
       "      <td>Toy Story</td>\n",
       "      <td>[Animation, Comedy, Family]</td>\n",
       "      <td>4.0</td>\n",
       "      <td>938629179</td>\n",
       "    </tr>\n",
       "    <tr>\n",
       "      <th>2</th>\n",
       "      <td>13</td>\n",
       "      <td>862</td>\n",
       "      <td>Toy Story</td>\n",
       "      <td>[Animation, Comedy, Family]</td>\n",
       "      <td>5.0</td>\n",
       "      <td>1331380058</td>\n",
       "    </tr>\n",
       "  </tbody>\n",
       "</table>\n",
       "</div>"
      ],
      "text/plain": [
       "   user id  movie id movie title                       genres  rating  \\\n",
       "0        7       862   Toy Story  [Animation, Comedy, Family]     3.0   \n",
       "1        9       862   Toy Story  [Animation, Comedy, Family]     4.0   \n",
       "2       13       862   Toy Story  [Animation, Comedy, Family]     5.0   \n",
       "\n",
       "    timestamp  \n",
       "0   851866703  \n",
       "1   938629179  \n",
       "2  1331380058  "
      ]
     },
     "execution_count": 29,
     "metadata": {},
     "output_type": "execute_result"
    }
   ],
   "source": [
    "merged_dataset = merged_rating_dataset[['userId', 'id', 'title', 'genres', 'rating', 'timestamp']]\n",
    "merged_dataset = merged_dataset.rename(columns={'userId':'user id', 'id':'movie id', 'title':'movie title'})\n",
    "merged_dataset.head(3)"
   ]
  },
  {
   "cell_type": "code",
   "execution_count": 30,
   "metadata": {},
   "outputs": [],
   "source": [
    "# Mapping dictionary\n",
    "rating_mapping = {\n",
    "    0.5: 1,\n",
    "    1.0: 1,\n",
    "    1.5: 2,\n",
    "    2.0: 2,\n",
    "    2.5: 3,\n",
    "    3.0: 3,\n",
    "    3.5: 4,\n",
    "    4.0: 4,\n",
    "    4.5: 4,\n",
    "    5.0: 5\n",
    "}\n",
    "\n",
    "# Apply mapping\n",
    "merged_dataset['rating'] = merged_dataset['rating'].map(rating_mapping)"
   ]
  },
  {
   "cell_type": "code",
   "execution_count": 31,
   "metadata": {},
   "outputs": [
    {
     "data": {
      "text/plain": [
       "rating\n",
       "4    46915\n",
       "3    24485\n",
       "5    15043\n",
       "2     8948\n",
       "1     4419\n",
       "Name: count, dtype: int64"
      ]
     },
     "execution_count": 31,
     "metadata": {},
     "output_type": "execute_result"
    }
   ],
   "source": [
    "merged_dataset['rating'].value_counts()"
   ]
  },
  {
   "cell_type": "code",
   "execution_count": 32,
   "metadata": {},
   "outputs": [
    {
     "data": {
      "image/png": "[encoded data removed]",
      "text/plain": [
       "<Figure size 1000x600 with 1 Axes>"
      ]
     },
     "metadata": {},
     "output_type": "display_data"
    }
   ],
   "source": [
    "merged_dataset['rating'].value_counts(sort=False).plot(kind='bar' ,figsize=(10,6), use_index = True, rot=0)\n",
    "plt.title('Bar plot of rating frequency')\n",
    "plt.xlabel('Rating')\n",
    "plt.ylabel('Number of times a rating was given')\n",
    "label = list(merged_dataset['rating'].value_counts(sort=False))\n",
    "r4 = [1,2,3,4,5]\n",
    "for i in range(len(label)):\n",
    "  plt.text(x = r4[i]-1.2 , y = label[i]+500, s = label[i], size =15)\n"
   ]
  },
  {
   "cell_type": "code",
   "execution_count": 33,
   "metadata": {},
   "outputs": [],
   "source": [
    "avg_highly_rated_movies = merged_dataset.groupby(['movie title']).agg({\"rating\":\"mean\"})['rating'].sort_values(ascending=False)\n",
    "avg_highly_rated_movies = avg_highly_rated_movies.to_frame()"
   ]
  },
  {
   "cell_type": "code",
   "execution_count": 34,
   "metadata": {},
   "outputs": [
    {
     "data": {
      "text/html": [
       "<div>\n",
       "<style scoped>\n",
       "    .dataframe tbody tr th:only-of-type {\n",
       "        vertical-align: middle;\n",
       "    }\n",
       "\n",
       "    .dataframe tbody tr th {\n",
       "        vertical-align: top;\n",
       "    }\n",
       "\n",
       "    .dataframe thead th {\n",
       "        text-align: right;\n",
       "    }\n",
       "</style>\n",
       "<table border=\"1\" class=\"dataframe\">\n",
       "  <thead>\n",
       "    <tr style=\"text-align: right;\">\n",
       "      <th></th>\n",
       "      <th>rating</th>\n",
       "    </tr>\n",
       "    <tr>\n",
       "      <th>movie title</th>\n",
       "      <th></th>\n",
       "    </tr>\n",
       "  </thead>\n",
       "  <tbody>\n",
       "    <tr>\n",
       "      <th>Sammy and Rosie Get Laid</th>\n",
       "      <td>5.0</td>\n",
       "    </tr>\n",
       "    <tr>\n",
       "      <th>Victoria</th>\n",
       "      <td>5.0</td>\n",
       "    </tr>\n",
       "    <tr>\n",
       "      <th>Bill Hicks: Relentless</th>\n",
       "      <td>5.0</td>\n",
       "    </tr>\n",
       "    <tr>\n",
       "      <th>My Best Friend</th>\n",
       "      <td>5.0</td>\n",
       "    </tr>\n",
       "    <tr>\n",
       "      <th>The Night of the Shooting Stars</th>\n",
       "      <td>5.0</td>\n",
       "    </tr>\n",
       "    <tr>\n",
       "      <th>The Brandon Teena Story</th>\n",
       "      <td>5.0</td>\n",
       "    </tr>\n",
       "    <tr>\n",
       "      <th>A Passage to India</th>\n",
       "      <td>5.0</td>\n",
       "    </tr>\n",
       "    <tr>\n",
       "      <th>Big Eden</th>\n",
       "      <td>5.0</td>\n",
       "    </tr>\n",
       "    <tr>\n",
       "      <th>Yossi</th>\n",
       "      <td>5.0</td>\n",
       "    </tr>\n",
       "    <tr>\n",
       "      <th>All Star Superman</th>\n",
       "      <td>5.0</td>\n",
       "    </tr>\n",
       "    <tr>\n",
       "      <th>Burn Up!</th>\n",
       "      <td>5.0</td>\n",
       "    </tr>\n",
       "    <tr>\n",
       "      <th>Me Before You</th>\n",
       "      <td>5.0</td>\n",
       "    </tr>\n",
       "    <tr>\n",
       "      <th>Visions of Light</th>\n",
       "      <td>5.0</td>\n",
       "    </tr>\n",
       "    <tr>\n",
       "      <th>Vive L'Amour</th>\n",
       "      <td>5.0</td>\n",
       "    </tr>\n",
       "    <tr>\n",
       "      <th>Female Perversions</th>\n",
       "      <td>5.0</td>\n",
       "    </tr>\n",
       "    <tr>\n",
       "      <th>The Life of Emile Zola</th>\n",
       "      <td>5.0</td>\n",
       "    </tr>\n",
       "    <tr>\n",
       "      <th>Maya Lin: A Strong Clear Vision</th>\n",
       "      <td>5.0</td>\n",
       "    </tr>\n",
       "    <tr>\n",
       "      <th>Good Morning, Babylon</th>\n",
       "      <td>5.0</td>\n",
       "    </tr>\n",
       "    <tr>\n",
       "      <th>Capital</th>\n",
       "      <td>5.0</td>\n",
       "    </tr>\n",
       "    <tr>\n",
       "      <th>Fiorile</th>\n",
       "      <td>5.0</td>\n",
       "    </tr>\n",
       "  </tbody>\n",
       "</table>\n",
       "</div>"
      ],
      "text/plain": [
       "                                 rating\n",
       "movie title                            \n",
       "Sammy and Rosie Get Laid            5.0\n",
       "Victoria                            5.0\n",
       "Bill Hicks: Relentless              5.0\n",
       "My Best Friend                      5.0\n",
       "The Night of the Shooting Stars     5.0\n",
       "The Brandon Teena Story             5.0\n",
       "A Passage to India                  5.0\n",
       "Big Eden                            5.0\n",
       "Yossi                               5.0\n",
       "All Star Superman                   5.0\n",
       "Burn Up!                            5.0\n",
       "Me Before You                       5.0\n",
       "Visions of Light                    5.0\n",
       "Vive L'Amour                        5.0\n",
       "Female Perversions                  5.0\n",
       "The Life of Emile Zola              5.0\n",
       "Maya Lin: A Strong Clear Vision     5.0\n",
       "Good Morning, Babylon               5.0\n",
       "Capital                             5.0\n",
       "Fiorile                             5.0"
      ]
     },
     "execution_count": 34,
     "metadata": {},
     "output_type": "execute_result"
    }
   ],
   "source": [
    "avg_highly_rated_movies.head(20)"
   ]
  },
  {
   "cell_type": "code",
   "execution_count": 35,
   "metadata": {},
   "outputs": [
    {
     "name": "stdout",
     "output_type": "stream",
     "text": [
      "Number of movies with 5 star rating on average:  302\n",
      "Number of movies with above 4 star and below 5 star rating on average:  2461\n",
      "Number of movies with above 3 star and below 4 star rating on average:  4210\n",
      "Number of movies with above 2 star and below 3 star rating on average:  1407\n",
      "Number of movies with above 1 star and below 2 star rating on average:  374\n",
      "Number of movies with below 1 star rating on average:  0\n"
     ]
    }
   ],
   "source": [
    "print(\"Number of movies with 5 star rating on average: \",len(avg_highly_rated_movies[avg_highly_rated_movies['rating'] == 5.0]))\n",
    "print(\"Number of movies with above 4 star and below 5 star rating on average: \",len(avg_highly_rated_movies[(avg_highly_rated_movies['rating'] >= 4.0) & (avg_highly_rated_movies['rating'] < 5.0)]))\n",
    "print(\"Number of movies with above 3 star and below 4 star rating on average: \",len(avg_highly_rated_movies[(avg_highly_rated_movies['rating'] >= 3.0) & (avg_highly_rated_movies['rating'] < 4.0)]))\n",
    "print(\"Number of movies with above 2 star and below 3 star rating on average: \",len(avg_highly_rated_movies[(avg_highly_rated_movies['rating'] >= 2.0) & (avg_highly_rated_movies['rating'] < 3.0)]))\n",
    "print(\"Number of movies with above 1 star and below 2 star rating on average: \",len(avg_highly_rated_movies[(avg_highly_rated_movies['rating'] >= 1.0) & (avg_highly_rated_movies['rating'] < 2.0)]))\n",
    "print(\"Number of movies with below 1 star rating on average: \", len(avg_highly_rated_movies[(avg_highly_rated_movies['rating'] < 1.0)]))\n"
   ]
  },
  {
   "cell_type": "code",
   "execution_count": 36,
   "metadata": {},
   "outputs": [
    {
     "name": "stdout",
     "output_type": "stream",
     "text": [
      "Split of movies count based on their overall average rating\n"
     ]
    },
    {
     "data": {
      "application/vnd.plotly.v1+json": {
       "config": {
        "plotlyServerURL": "https://plot.ly"
       },
       "data": [
        {
         "labels": [
          "5 star",
          "4 to 5 star",
          "3 to 4 star",
          "2 to 3 star",
          "1 to 2 star"
         ],
         "type": "pie",
         "values": [
          302,
          2461,
          4210,
          1407,
          374
         ]
        }
       ],
       "layout": {
        "template": {
         "data": {
          "bar": [
           {
            "error_x": {
             "color": "#2a3f5f"
            },
            "error_y": {
             "color": "#2a3f5f"
            },
            "marker": {
             "line": {
              "color": "#E5ECF6",
              "width": 0.5
             },
             "pattern": {
              "fillmode": "overlay",
              "size": 10,
              "solidity": 0.2
             }
            },
            "type": "bar"
           }
          ],
          "barpolar": [
           {
            "marker": {
             "line": {
              "color": "#E5ECF6",
              "width": 0.5
             },
             "pattern": {
              "fillmode": "overlay",
              "size": 10,
              "solidity": 0.2
             }
            },
            "type": "barpolar"
           }
          ],
          "carpet": [
           {
            "aaxis": {
             "endlinecolor": "#2a3f5f",
             "gridcolor": "white",
             "linecolor": "white",
             "minorgridcolor": "white",
             "startlinecolor": "#2a3f5f"
            },
            "baxis": {
             "endlinecolor": "#2a3f5f",
             "gridcolor": "white",
             "linecolor": "white",
             "minorgridcolor": "white",
             "startlinecolor": "#2a3f5f"
            },
            "type": "carpet"
           }
          ],
          "choropleth": [
           {
            "colorbar": {
             "outlinewidth": 0,
             "ticks": ""
            },
            "type": "choropleth"
           }
          ],
          "contour": [
           {
            "colorbar": {
             "outlinewidth": 0,
             "ticks": ""
            },
            "colorscale": [
             [
              0,
              "#0d0887"
             ],
             [
              0.1111111111111111,
              "#46039f"
             ],
             [
              0.2222222222222222,
              "#7201a8"
             ],
             [
              0.3333333333333333,
              "#9c179e"
             ],
             [
              0.4444444444444444,
              "#bd3786"
             ],
             [
              0.5555555555555556,
              "#d8576b"
             ],
             [
              0.6666666666666666,
              "#ed7953"
             ],
             [
              0.7777777777777778,
              "#fb9f3a"
             ],
             [
              0.8888888888888888,
              "#fdca26"
             ],
             [
              1,
              "#f0f921"
             ]
            ],
            "type": "contour"
           }
          ],
          "contourcarpet": [
           {
            "colorbar": {
             "outlinewidth": 0,
             "ticks": ""
            },
            "type": "contourcarpet"
           }
          ],
          "heatmap": [
           {
            "colorbar": {
             "outlinewidth": 0,
             "ticks": ""
            },
            "colorscale": [
             [
              0,
              "#0d0887"
             ],
             [
              0.1111111111111111,
              "#46039f"
             ],
             [
              0.2222222222222222,
              "#7201a8"
             ],
             [
              0.3333333333333333,
              "#9c179e"
             ],
             [
              0.4444444444444444,
              "#bd3786"
             ],
             [
              0.5555555555555556,
              "#d8576b"
             ],
             [
              0.6666666666666666,
              "#ed7953"
             ],
             [
              0.7777777777777778,
              "#fb9f3a"
             ],
             [
              0.8888888888888888,
              "#fdca26"
             ],
             [
              1,
              "#f0f921"
             ]
            ],
            "type": "heatmap"
           }
          ],
          "heatmapgl": [
           {
            "colorbar": {
             "outlinewidth": 0,
             "ticks": ""
            },
            "colorscale": [
             [
              0,
              "#0d0887"
             ],
             [
              0.1111111111111111,
              "#46039f"
             ],
             [
              0.2222222222222222,
              "#7201a8"
             ],
             [
              0.3333333333333333,
              "#9c179e"
             ],
             [
              0.4444444444444444,
              "#bd3786"
             ],
             [
              0.5555555555555556,
              "#d8576b"
             ],
             [
              0.6666666666666666,
              "#ed7953"
             ],
             [
              0.7777777777777778,
              "#fb9f3a"
             ],
             [
              0.8888888888888888,
              "#fdca26"
             ],
             [
              1,
              "#f0f921"
             ]
            ],
            "type": "heatmapgl"
           }
          ],
          "histogram": [
           {
            "marker": {
             "pattern": {
              "fillmode": "overlay",
              "size": 10,
              "solidity": 0.2
             }
            },
            "type": "histogram"
           }
          ],
          "histogram2d": [
           {
            "colorbar": {
             "outlinewidth": 0,
             "ticks": ""
            },
            "colorscale": [
             [
              0,
              "#0d0887"
             ],
             [
              0.1111111111111111,
              "#46039f"
             ],
             [
              0.2222222222222222,
              "#7201a8"
             ],
             [
              0.3333333333333333,
              "#9c179e"
             ],
             [
              0.4444444444444444,
              "#bd3786"
             ],
             [
              0.5555555555555556,
              "#d8576b"
             ],
             [
              0.6666666666666666,
              "#ed7953"
             ],
             [
              0.7777777777777778,
              "#fb9f3a"
             ],
             [
              0.8888888888888888,
              "#fdca26"
             ],
             [
              1,
              "#f0f921"
             ]
            ],
            "type": "histogram2d"
           }
          ],
          "histogram2dcontour": [
           {
            "colorbar": {
             "outlinewidth": 0,
             "ticks": ""
            },
            "colorscale": [
             [
              0,
              "#0d0887"
             ],
             [
              0.1111111111111111,
              "#46039f"
             ],
             [
              0.2222222222222222,
              "#7201a8"
             ],
             [
              0.3333333333333333,
              "#9c179e"
             ],
             [
              0.4444444444444444,
              "#bd3786"
             ],
             [
              0.5555555555555556,
              "#d8576b"
             ],
             [
              0.6666666666666666,
              "#ed7953"
             ],
             [
              0.7777777777777778,
              "#fb9f3a"
             ],
             [
              0.8888888888888888,
              "#fdca26"
             ],
             [
              1,
              "#f0f921"
             ]
            ],
            "type": "histogram2dcontour"
           }
          ],
          "mesh3d": [
           {
            "colorbar": {
             "outlinewidth": 0,
             "ticks": ""
            },
            "type": "mesh3d"
           }
          ],
          "parcoords": [
           {
            "line": {
             "colorbar": {
              "outlinewidth": 0,
              "ticks": ""
             }
            },
            "type": "parcoords"
           }
          ],
          "pie": [
           {
            "automargin": true,
            "type": "pie"
           }
          ],
          "scatter": [
           {
            "fillpattern": {
             "fillmode": "overlay",
             "size": 10,
             "solidity": 0.2
            },
            "type": "scatter"
           }
          ],
          "scatter3d": [
           {
            "line": {
             "colorbar": {
              "outlinewidth": 0,
              "ticks": ""
             }
            },
            "marker": {
             "colorbar": {
              "outlinewidth": 0,
              "ticks": ""
             }
            },
            "type": "scatter3d"
           }
          ],
          "scattercarpet": [
           {
            "marker": {
             "colorbar": {
              "outlinewidth": 0,
              "ticks": ""
             }
            },
            "type": "scattercarpet"
           }
          ],
          "scattergeo": [
           {
            "marker": {
             "colorbar": {
              "outlinewidth": 0,
              "ticks": ""
             }
            },
            "type": "scattergeo"
           }
          ],
          "scattergl": [
           {
            "marker": {
             "colorbar": {
              "outlinewidth": 0,
              "ticks": ""
             }
            },
            "type": "scattergl"
           }
          ],
          "scattermapbox": [
           {
            "marker": {
             "colorbar": {
              "outlinewidth": 0,
              "ticks": ""
             }
            },
            "type": "scattermapbox"
           }
          ],
          "scatterpolar": [
           {
            "marker": {
             "colorbar": {
              "outlinewidth": 0,
              "ticks": ""
             }
            },
            "type": "scatterpolar"
           }
          ],
          "scatterpolargl": [
           {
            "marker": {
             "colorbar": {
              "outlinewidth": 0,
              "ticks": ""
             }
            },
            "type": "scatterpolargl"
           }
          ],
          "scatterternary": [
           {
            "marker": {
             "colorbar": {
              "outlinewidth": 0,
              "ticks": ""
             }
            },
            "type": "scatterternary"
           }
          ],
          "surface": [
           {
            "colorbar": {
             "outlinewidth": 0,
             "ticks": ""
            },
            "colorscale": [
             [
              0,
              "#0d0887"
             ],
             [
              0.1111111111111111,
              "#46039f"
             ],
             [
              0.2222222222222222,
              "#7201a8"
             ],
             [
              0.3333333333333333,
              "#9c179e"
             ],
             [
              0.4444444444444444,
              "#bd3786"
             ],
             [
              0.5555555555555556,
              "#d8576b"
             ],
             [
              0.6666666666666666,
              "#ed7953"
             ],
             [
              0.7777777777777778,
              "#fb9f3a"
             ],
             [
              0.8888888888888888,
              "#fdca26"
             ],
             [
              1,
              "#f0f921"
             ]
            ],
            "type": "surface"
           }
          ],
          "table": [
           {
            "cells": {
             "fill": {
              "color": "#EBF0F8"
             },
             "line": {
              "color": "white"
             }
            },
            "header": {
             "fill": {
              "color": "#C8D4E3"
             },
             "line": {
              "color": "white"
             }
            },
            "type": "table"
           }
          ]
         },
         "layout": {
          "annotationdefaults": {
           "arrowcolor": "#2a3f5f",
           "arrowhead": 0,
           "arrowwidth": 1
          },
          "autotypenumbers": "strict",
          "coloraxis": {
           "colorbar": {
            "outlinewidth": 0,
            "ticks": ""
           }
          },
          "colorscale": {
           "diverging": [
            [
             0,
             "#8e0152"
            ],
            [
             0.1,
             "#c51b7d"
            ],
            [
             0.2,
             "#de77ae"
            ],
            [
             0.3,
             "#f1b6da"
            ],
            [
             0.4,
             "#fde0ef"
            ],
            [
             0.5,
             "#f7f7f7"
            ],
            [
             0.6,
             "#e6f5d0"
            ],
            [
             0.7,
             "#b8e186"
            ],
            [
             0.8,
             "#7fbc41"
            ],
            [
             0.9,
             "#4d9221"
            ],
            [
             1,
             "#276419"
            ]
           ],
           "sequential": [
            [
             0,
             "#0d0887"
            ],
            [
             0.1111111111111111,
             "#46039f"
            ],
            [
             0.2222222222222222,
             "#7201a8"
            ],
            [
             0.3333333333333333,
             "#9c179e"
            ],
            [
             0.4444444444444444,
             "#bd3786"
            ],
            [
             0.5555555555555556,
             "#d8576b"
            ],
            [
             0.6666666666666666,
             "#ed7953"
            ],
            [
             0.7777777777777778,
             "#fb9f3a"
            ],
            [
             0.8888888888888888,
             "#fdca26"
            ],
            [
             1,
             "#f0f921"
            ]
           ],
           "sequentialminus": [
            [
             0,
             "#0d0887"
            ],
            [
             0.1111111111111111,
             "#46039f"
            ],
            [
             0.2222222222222222,
             "#7201a8"
            ],
            [
             0.3333333333333333,
             "#9c179e"
            ],
            [
             0.4444444444444444,
             "#bd3786"
            ],
            [
             0.5555555555555556,
             "#d8576b"
            ],
            [
             0.6666666666666666,
             "#ed7953"
            ],
            [
             0.7777777777777778,
             "#fb9f3a"
            ],
            [
             0.8888888888888888,
             "#fdca26"
            ],
            [
             1,
             "#f0f921"
            ]
           ]
          },
          "colorway": [
           "#636efa",
           "#EF553B",
           "#00cc96",
           "#ab63fa",
           "#FFA15A",
           "#19d3f3",
           "#FF6692",
           "#B6E880",
           "#FF97FF",
           "#FECB52"
          ],
          "font": {
           "color": "#2a3f5f"
          },
          "geo": {
           "bgcolor": "white",
           "lakecolor": "white",
           "landcolor": "#E5ECF6",
           "showlakes": true,
           "showland": true,
           "subunitcolor": "white"
          },
          "hoverlabel": {
           "align": "left"
          },
          "hovermode": "closest",
          "mapbox": {
           "style": "light"
          },
          "paper_bgcolor": "white",
          "plot_bgcolor": "#E5ECF6",
          "polar": {
           "angularaxis": {
            "gridcolor": "white",
            "linecolor": "white",
            "ticks": ""
           },
           "bgcolor": "#E5ECF6",
           "radialaxis": {
            "gridcolor": "white",
            "linecolor": "white",
            "ticks": ""
           }
          },
          "scene": {
           "xaxis": {
            "backgroundcolor": "#E5ECF6",
            "gridcolor": "white",
            "gridwidth": 2,
            "linecolor": "white",
            "showbackground": true,
            "ticks": "",
            "zerolinecolor": "white"
           },
           "yaxis": {
            "backgroundcolor": "#E5ECF6",
            "gridcolor": "white",
            "gridwidth": 2,
            "linecolor": "white",
            "showbackground": true,
            "ticks": "",
            "zerolinecolor": "white"
           },
           "zaxis": {
            "backgroundcolor": "#E5ECF6",
            "gridcolor": "white",
            "gridwidth": 2,
            "linecolor": "white",
            "showbackground": true,
            "ticks": "",
            "zerolinecolor": "white"
           }
          },
          "shapedefaults": {
           "line": {
            "color": "#2a3f5f"
           }
          },
          "ternary": {
           "aaxis": {
            "gridcolor": "white",
            "linecolor": "white",
            "ticks": ""
           },
           "baxis": {
            "gridcolor": "white",
            "linecolor": "white",
            "ticks": ""
           },
           "bgcolor": "#E5ECF6",
           "caxis": {
            "gridcolor": "white",
            "linecolor": "white",
            "ticks": ""
           }
          },
          "title": {
           "x": 0.05
          },
          "xaxis": {
           "automargin": true,
           "gridcolor": "white",
           "linecolor": "white",
           "ticks": "",
           "title": {
            "standoff": 15
           },
           "zerolinecolor": "white",
           "zerolinewidth": 2
          },
          "yaxis": {
           "automargin": true,
           "gridcolor": "white",
           "linecolor": "white",
           "ticks": "",
           "title": {
            "standoff": 15
           },
           "zerolinecolor": "white",
           "zerolinewidth": 2
          }
         }
        }
       }
      }
     },
     "metadata": {},
     "output_type": "display_data"
    }
   ],
   "source": [
    "print('Split of movies count based on their overall average rating')\n",
    "# Pie chart, where the slices will be ordered and plotted counter-clockwise:\n",
    "labels = '5 star', '4 to 5 star', '3 to 4 star', '2 to 3 star', '1 to 2 star'\n",
    "values = [302, 2461, 4210, 1407, 374]\n",
    "\n",
    "fig = go.Figure(data=[go.Pie(labels=labels, values=values)])\n",
    "fig.show()\n",
    "\n",
    "plt.show()\n"
   ]
  },
  {
   "cell_type": "code",
   "execution_count": 37,
   "metadata": {},
   "outputs": [],
   "source": [
    "avg_highly_rated_movies.reset_index(level=0, inplace=True)"
   ]
  },
  {
   "cell_type": "code",
   "execution_count": 38,
   "metadata": {},
   "outputs": [
    {
     "data": {
      "text/html": [
       "<div>\n",
       "<style scoped>\n",
       "    .dataframe tbody tr th:only-of-type {\n",
       "        vertical-align: middle;\n",
       "    }\n",
       "\n",
       "    .dataframe tbody tr th {\n",
       "        vertical-align: top;\n",
       "    }\n",
       "\n",
       "    .dataframe thead th {\n",
       "        text-align: right;\n",
       "    }\n",
       "</style>\n",
       "<table border=\"1\" class=\"dataframe\">\n",
       "  <thead>\n",
       "    <tr style=\"text-align: right;\">\n",
       "      <th></th>\n",
       "      <th>movie title</th>\n",
       "      <th>avg rating</th>\n",
       "    </tr>\n",
       "  </thead>\n",
       "  <tbody>\n",
       "    <tr>\n",
       "      <th>0</th>\n",
       "      <td>Sammy and Rosie Get Laid</td>\n",
       "      <td>5.0</td>\n",
       "    </tr>\n",
       "    <tr>\n",
       "      <th>1</th>\n",
       "      <td>Victoria</td>\n",
       "      <td>5.0</td>\n",
       "    </tr>\n",
       "    <tr>\n",
       "      <th>2</th>\n",
       "      <td>Bill Hicks: Relentless</td>\n",
       "      <td>5.0</td>\n",
       "    </tr>\n",
       "    <tr>\n",
       "      <th>3</th>\n",
       "      <td>My Best Friend</td>\n",
       "      <td>5.0</td>\n",
       "    </tr>\n",
       "    <tr>\n",
       "      <th>4</th>\n",
       "      <td>The Night of the Shooting Stars</td>\n",
       "      <td>5.0</td>\n",
       "    </tr>\n",
       "    <tr>\n",
       "      <th>5</th>\n",
       "      <td>The Brandon Teena Story</td>\n",
       "      <td>5.0</td>\n",
       "    </tr>\n",
       "    <tr>\n",
       "      <th>6</th>\n",
       "      <td>A Passage to India</td>\n",
       "      <td>5.0</td>\n",
       "    </tr>\n",
       "    <tr>\n",
       "      <th>7</th>\n",
       "      <td>Big Eden</td>\n",
       "      <td>5.0</td>\n",
       "    </tr>\n",
       "    <tr>\n",
       "      <th>8</th>\n",
       "      <td>Yossi</td>\n",
       "      <td>5.0</td>\n",
       "    </tr>\n",
       "    <tr>\n",
       "      <th>9</th>\n",
       "      <td>All Star Superman</td>\n",
       "      <td>5.0</td>\n",
       "    </tr>\n",
       "  </tbody>\n",
       "</table>\n",
       "</div>"
      ],
      "text/plain": [
       "                       movie title  avg rating\n",
       "0         Sammy and Rosie Get Laid         5.0\n",
       "1                         Victoria         5.0\n",
       "2           Bill Hicks: Relentless         5.0\n",
       "3                   My Best Friend         5.0\n",
       "4  The Night of the Shooting Stars         5.0\n",
       "5          The Brandon Teena Story         5.0\n",
       "6               A Passage to India         5.0\n",
       "7                         Big Eden         5.0\n",
       "8                            Yossi         5.0\n",
       "9                All Star Superman         5.0"
      ]
     },
     "execution_count": 38,
     "metadata": {},
     "output_type": "execute_result"
    }
   ],
   "source": [
    "avg_highly_rated_movies.columns = ['movie title', 'avg rating']\n",
    "\n",
    "avg_highly_rated_movies.head(10)"
   ]
  },
  {
   "cell_type": "code",
   "execution_count": 39,
   "metadata": {},
   "outputs": [
    {
     "data": {
      "text/plain": [
       "movie title\n",
       "The Shawshank Redemption                 1384\n",
       "Forrest Gump                             1379\n",
       "Pulp Fiction                             1365\n",
       "The Silence of the Lambs                 1252\n",
       "Star Wars                                1222\n",
       "                                         ... \n",
       "Madea Goes to Jail                          1\n",
       "Fraternity Vacation                         1\n",
       "The End of Summer                           1\n",
       "National Lampoon Presents Dorm Daze         1\n",
       "The Agony and Ecstasy of Phil Spector       1\n",
       "Name: rating, Length: 8754, dtype: int64"
      ]
     },
     "execution_count": 39,
     "metadata": {},
     "output_type": "execute_result"
    }
   ],
   "source": [
    "merged_dataset.groupby(['movie title']).agg({\"rating\":\"sum\"})['rating'].sort_values(ascending=False)"
   ]
  },
  {
   "cell_type": "code",
   "execution_count": 40,
   "metadata": {},
   "outputs": [],
   "source": [
    "# merged_dataset['movie id'].value_counts(sort=False).plot(kind='bar' ,figsize=(20,6), use_index = True, rot=0)\n",
    "# plt.title('Bar plot of frequency of a movie being watched')\n",
    "# plt.xlabel('Movies')\n",
    "# plt.ylabel('Number of times a user watched that movie')"
   ]
  },
  {
   "cell_type": "code",
   "execution_count": 41,
   "metadata": {},
   "outputs": [],
   "source": [
    "popular_movies = merged_dataset.groupby(['movie title']).agg({\"rating\":\"count\"})['rating'].sort_values(ascending=False)\n",
    "\n",
    "popular_movies = popular_movies.to_frame()\n",
    "popular_movies.reset_index(level=0, inplace=True)\n",
    "popular_movies.columns = ['movie title', 'Number of Users watched']"
   ]
  },
  {
   "cell_type": "code",
   "execution_count": 42,
   "metadata": {},
   "outputs": [
    {
     "name": "stdout",
     "output_type": "stream",
     "text": [
      "Number of popular movies with more than 500 viewers:  0\n",
      "Number of popular movies with more than 400 and less than 500 viewers:  0\n",
      "Number of popular movies with more than 300 and less than 400 viewers:  4\n",
      "Number of popular movies with more than 200 and less than 300 viewers:  25\n",
      "Number of popular movies with more than 100 and less than 200 viewers:  123\n",
      "Number of popular movies with more than 50 and less than 100 viewers:  314\n",
      "Number of popular movies with more than 20 and less than 50 viewers:  843\n",
      "Number of popular movies with less than 20 viewers:  7445\n"
     ]
    }
   ],
   "source": [
    "print(\"Number of popular movies with more than 500 viewers: \",len(popular_movies[popular_movies['Number of Users watched'] >= 500]))\n",
    "print(\"Number of popular movies with more than 400 and less than 500 viewers: \",len(popular_movies[(popular_movies['Number of Users watched'] >= 400) & (popular_movies['Number of Users watched'] < 500)]))\n",
    "print(\"Number of popular movies with more than 300 and less than 400 viewers: \",len(popular_movies[(popular_movies['Number of Users watched'] >= 300) & (popular_movies['Number of Users watched'] < 400)]))\n",
    "print(\"Number of popular movies with more than 200 and less than 300 viewers: \",len(popular_movies[(popular_movies['Number of Users watched'] >= 200) & (popular_movies['Number of Users watched'] < 300)]))\n",
    "print(\"Number of popular movies with more than 100 and less than 200 viewers: \",len(popular_movies[(popular_movies['Number of Users watched'] >= 100) & (popular_movies['Number of Users watched'] < 200)]))\n",
    "print(\"Number of popular movies with more than 50 and less than 100 viewers: \",len(popular_movies[(popular_movies['Number of Users watched'] >= 50) & (popular_movies['Number of Users watched'] < 100)]))\n",
    "print(\"Number of popular movies with more than 20 and less than 50 viewers: \",len(popular_movies[(popular_movies['Number of Users watched'] >= 20) & (popular_movies['Number of Users watched'] < 50)]))\n",
    "print(\"Number of popular movies with less than 20 viewers: \", len(popular_movies[(popular_movies['Number of Users watched'] < 20)]))"
   ]
  },
  {
   "cell_type": "code",
   "execution_count": 43,
   "metadata": {},
   "outputs": [
    {
     "name": "stdout",
     "output_type": "stream",
     "text": [
      "Split of movies count based on their overall viewers\n"
     ]
    },
    {
     "data": {
      "application/vnd.plotly.v1+json": {
       "config": {
        "plotlyServerURL": "https://plot.ly"
       },
       "data": [
        {
         "labels": [
          "300 to 400 viewers",
          "200 to 300 viewers",
          "100 to 200 viewers",
          "50 to 100 viewers",
          "20 to 50 viewers",
          "less than 20 viewers"
         ],
         "type": "pie",
         "values": [
          4,
          25,
          123,
          314,
          843,
          7445
         ]
        }
       ],
       "layout": {
        "template": {
         "data": {
          "bar": [
           {
            "error_x": {
             "color": "#2a3f5f"
            },
            "error_y": {
             "color": "#2a3f5f"
            },
            "marker": {
             "line": {
              "color": "#E5ECF6",
              "width": 0.5
             },
             "pattern": {
              "fillmode": "overlay",
              "size": 10,
              "solidity": 0.2
             }
            },
            "type": "bar"
           }
          ],
          "barpolar": [
           {
            "marker": {
             "line": {
              "color": "#E5ECF6",
              "width": 0.5
             },
             "pattern": {
              "fillmode": "overlay",
              "size": 10,
              "solidity": 0.2
             }
            },
            "type": "barpolar"
           }
          ],
          "carpet": [
           {
            "aaxis": {
             "endlinecolor": "#2a3f5f",
             "gridcolor": "white",
             "linecolor": "white",
             "minorgridcolor": "white",
             "startlinecolor": "#2a3f5f"
            },
            "baxis": {
             "endlinecolor": "#2a3f5f",
             "gridcolor": "white",
             "linecolor": "white",
             "minorgridcolor": "white",
             "startlinecolor": "#2a3f5f"
            },
            "type": "carpet"
           }
          ],
          "choropleth": [
           {
            "colorbar": {
             "outlinewidth": 0,
             "ticks": ""
            },
            "type": "choropleth"
           }
          ],
          "contour": [
           {
            "colorbar": {
             "outlinewidth": 0,
             "ticks": ""
            },
            "colorscale": [
             [
              0,
              "#0d0887"
             ],
             [
              0.1111111111111111,
              "#46039f"
             ],
             [
              0.2222222222222222,
              "#7201a8"
             ],
             [
              0.3333333333333333,
              "#9c179e"
             ],
             [
              0.4444444444444444,
              "#bd3786"
             ],
             [
              0.5555555555555556,
              "#d8576b"
             ],
             [
              0.6666666666666666,
              "#ed7953"
             ],
             [
              0.7777777777777778,
              "#fb9f3a"
             ],
             [
              0.8888888888888888,
              "#fdca26"
             ],
             [
              1,
              "#f0f921"
             ]
            ],
            "type": "contour"
           }
          ],
          "contourcarpet": [
           {
            "colorbar": {
             "outlinewidth": 0,
             "ticks": ""
            },
            "type": "contourcarpet"
           }
          ],
          "heatmap": [
           {
            "colorbar": {
             "outlinewidth": 0,
             "ticks": ""
            },
            "colorscale": [
             [
              0,
              "#0d0887"
             ],
             [
              0.1111111111111111,
              "#46039f"
             ],
             [
              0.2222222222222222,
              "#7201a8"
             ],
             [
              0.3333333333333333,
              "#9c179e"
             ],
             [
              0.4444444444444444,
              "#bd3786"
             ],
             [
              0.5555555555555556,
              "#d8576b"
             ],
             [
              0.6666666666666666,
              "#ed7953"
             ],
             [
              0.7777777777777778,
              "#fb9f3a"
             ],
             [
              0.8888888888888888,
              "#fdca26"
             ],
             [
              1,
              "#f0f921"
             ]
            ],
            "type": "heatmap"
           }
          ],
          "heatmapgl": [
           {
            "colorbar": {
             "outlinewidth": 0,
             "ticks": ""
            },
            "colorscale": [
             [
              0,
              "#0d0887"
             ],
             [
              0.1111111111111111,
              "#46039f"
             ],
             [
              0.2222222222222222,
              "#7201a8"
             ],
             [
              0.3333333333333333,
              "#9c179e"
             ],
             [
              0.4444444444444444,
              "#bd3786"
             ],
             [
              0.5555555555555556,
              "#d8576b"
             ],
             [
              0.6666666666666666,
              "#ed7953"
             ],
             [
              0.7777777777777778,
              "#fb9f3a"
             ],
             [
              0.8888888888888888,
              "#fdca26"
             ],
             [
              1,
              "#f0f921"
             ]
            ],
            "type": "heatmapgl"
           }
          ],
          "histogram": [
           {
            "marker": {
             "pattern": {
              "fillmode": "overlay",
              "size": 10,
              "solidity": 0.2
             }
            },
            "type": "histogram"
           }
          ],
          "histogram2d": [
           {
            "colorbar": {
             "outlinewidth": 0,
             "ticks": ""
            },
            "colorscale": [
             [
              0,
              "#0d0887"
             ],
             [
              0.1111111111111111,
              "#46039f"
             ],
             [
              0.2222222222222222,
              "#7201a8"
             ],
             [
              0.3333333333333333,
              "#9c179e"
             ],
             [
              0.4444444444444444,
              "#bd3786"
             ],
             [
              0.5555555555555556,
              "#d8576b"
             ],
             [
              0.6666666666666666,
              "#ed7953"
             ],
             [
              0.7777777777777778,
              "#fb9f3a"
             ],
             [
              0.8888888888888888,
              "#fdca26"
             ],
             [
              1,
              "#f0f921"
             ]
            ],
            "type": "histogram2d"
           }
          ],
          "histogram2dcontour": [
           {
            "colorbar": {
             "outlinewidth": 0,
             "ticks": ""
            },
            "colorscale": [
             [
              0,
              "#0d0887"
             ],
             [
              0.1111111111111111,
              "#46039f"
             ],
             [
              0.2222222222222222,
              "#7201a8"
             ],
             [
              0.3333333333333333,
              "#9c179e"
             ],
             [
              0.4444444444444444,
              "#bd3786"
             ],
             [
              0.5555555555555556,
              "#d8576b"
             ],
             [
              0.6666666666666666,
              "#ed7953"
             ],
             [
              0.7777777777777778,
              "#fb9f3a"
             ],
             [
              0.8888888888888888,
              "#fdca26"
             ],
             [
              1,
              "#f0f921"
             ]
            ],
            "type": "histogram2dcontour"
           }
          ],
          "mesh3d": [
           {
            "colorbar": {
             "outlinewidth": 0,
             "ticks": ""
            },
            "type": "mesh3d"
           }
          ],
          "parcoords": [
           {
            "line": {
             "colorbar": {
              "outlinewidth": 0,
              "ticks": ""
             }
            },
            "type": "parcoords"
           }
          ],
          "pie": [
           {
            "automargin": true,
            "type": "pie"
           }
          ],
          "scatter": [
           {
            "fillpattern": {
             "fillmode": "overlay",
             "size": 10,
             "solidity": 0.2
            },
            "type": "scatter"
           }
          ],
          "scatter3d": [
           {
            "line": {
             "colorbar": {
              "outlinewidth": 0,
              "ticks": ""
             }
            },
            "marker": {
             "colorbar": {
              "outlinewidth": 0,
              "ticks": ""
             }
            },
            "type": "scatter3d"
           }
          ],
          "scattercarpet": [
           {
            "marker": {
             "colorbar": {
              "outlinewidth": 0,
              "ticks": ""
             }
            },
            "type": "scattercarpet"
           }
          ],
          "scattergeo": [
           {
            "marker": {
             "colorbar": {
              "outlinewidth": 0,
              "ticks": ""
             }
            },
            "type": "scattergeo"
           }
          ],
          "scattergl": [
           {
            "marker": {
             "colorbar": {
              "outlinewidth": 0,
              "ticks": ""
             }
            },
            "type": "scattergl"
           }
          ],
          "scattermapbox": [
           {
            "marker": {
             "colorbar": {
              "outlinewidth": 0,
              "ticks": ""
             }
            },
            "type": "scattermapbox"
           }
          ],
          "scatterpolar": [
           {
            "marker": {
             "colorbar": {
              "outlinewidth": 0,
              "ticks": ""
             }
            },
            "type": "scatterpolar"
           }
          ],
          "scatterpolargl": [
           {
            "marker": {
             "colorbar": {
              "outlinewidth": 0,
              "ticks": ""
             }
            },
            "type": "scatterpolargl"
           }
          ],
          "scatterternary": [
           {
            "marker": {
             "colorbar": {
              "outlinewidth": 0,
              "ticks": ""
             }
            },
            "type": "scatterternary"
           }
          ],
          "surface": [
           {
            "colorbar": {
             "outlinewidth": 0,
             "ticks": ""
            },
            "colorscale": [
             [
              0,
              "#0d0887"
             ],
             [
              0.1111111111111111,
              "#46039f"
             ],
             [
              0.2222222222222222,
              "#7201a8"
             ],
             [
              0.3333333333333333,
              "#9c179e"
             ],
             [
              0.4444444444444444,
              "#bd3786"
             ],
             [
              0.5555555555555556,
              "#d8576b"
             ],
             [
              0.6666666666666666,
              "#ed7953"
             ],
             [
              0.7777777777777778,
              "#fb9f3a"
             ],
             [
              0.8888888888888888,
              "#fdca26"
             ],
             [
              1,
              "#f0f921"
             ]
            ],
            "type": "surface"
           }
          ],
          "table": [
           {
            "cells": {
             "fill": {
              "color": "#EBF0F8"
             },
             "line": {
              "color": "white"
             }
            },
            "header": {
             "fill": {
              "color": "#C8D4E3"
             },
             "line": {
              "color": "white"
             }
            },
            "type": "table"
           }
          ]
         },
         "layout": {
          "annotationdefaults": {
           "arrowcolor": "#2a3f5f",
           "arrowhead": 0,
           "arrowwidth": 1
          },
          "autotypenumbers": "strict",
          "coloraxis": {
           "colorbar": {
            "outlinewidth": 0,
            "ticks": ""
           }
          },
          "colorscale": {
           "diverging": [
            [
             0,
             "#8e0152"
            ],
            [
             0.1,
             "#c51b7d"
            ],
            [
             0.2,
             "#de77ae"
            ],
            [
             0.3,
             "#f1b6da"
            ],
            [
             0.4,
             "#fde0ef"
            ],
            [
             0.5,
             "#f7f7f7"
            ],
            [
             0.6,
             "#e6f5d0"
            ],
            [
             0.7,
             "#b8e186"
            ],
            [
             0.8,
             "#7fbc41"
            ],
            [
             0.9,
             "#4d9221"
            ],
            [
             1,
             "#276419"
            ]
           ],
           "sequential": [
            [
             0,
             "#0d0887"
            ],
            [
             0.1111111111111111,
             "#46039f"
            ],
            [
             0.2222222222222222,
             "#7201a8"
            ],
            [
             0.3333333333333333,
             "#9c179e"
            ],
            [
             0.4444444444444444,
             "#bd3786"
            ],
            [
             0.5555555555555556,
             "#d8576b"
            ],
            [
             0.6666666666666666,
             "#ed7953"
            ],
            [
             0.7777777777777778,
             "#fb9f3a"
            ],
            [
             0.8888888888888888,
             "#fdca26"
            ],
            [
             1,
             "#f0f921"
            ]
           ],
           "sequentialminus": [
            [
             0,
             "#0d0887"
            ],
            [
             0.1111111111111111,
             "#46039f"
            ],
            [
             0.2222222222222222,
             "#7201a8"
            ],
            [
             0.3333333333333333,
             "#9c179e"
            ],
            [
             0.4444444444444444,
             "#bd3786"
            ],
            [
             0.5555555555555556,
             "#d8576b"
            ],
            [
             0.6666666666666666,
             "#ed7953"
            ],
            [
             0.7777777777777778,
             "#fb9f3a"
            ],
            [
             0.8888888888888888,
             "#fdca26"
            ],
            [
             1,
             "#f0f921"
            ]
           ]
          },
          "colorway": [
           "#636efa",
           "#EF553B",
           "#00cc96",
           "#ab63fa",
           "#FFA15A",
           "#19d3f3",
           "#FF6692",
           "#B6E880",
           "#FF97FF",
           "#FECB52"
          ],
          "font": {
           "color": "#2a3f5f"
          },
          "geo": {
           "bgcolor": "white",
           "lakecolor": "white",
           "landcolor": "#E5ECF6",
           "showlakes": true,
           "showland": true,
           "subunitcolor": "white"
          },
          "hoverlabel": {
           "align": "left"
          },
          "hovermode": "closest",
          "mapbox": {
           "style": "light"
          },
          "paper_bgcolor": "white",
          "plot_bgcolor": "#E5ECF6",
          "polar": {
           "angularaxis": {
            "gridcolor": "white",
            "linecolor": "white",
            "ticks": ""
           },
           "bgcolor": "#E5ECF6",
           "radialaxis": {
            "gridcolor": "white",
            "linecolor": "white",
            "ticks": ""
           }
          },
          "scene": {
           "xaxis": {
            "backgroundcolor": "#E5ECF6",
            "gridcolor": "white",
            "gridwidth": 2,
            "linecolor": "white",
            "showbackground": true,
            "ticks": "",
            "zerolinecolor": "white"
           },
           "yaxis": {
            "backgroundcolor": "#E5ECF6",
            "gridcolor": "white",
            "gridwidth": 2,
            "linecolor": "white",
            "showbackground": true,
            "ticks": "",
            "zerolinecolor": "white"
           },
           "zaxis": {
            "backgroundcolor": "#E5ECF6",
            "gridcolor": "white",
            "gridwidth": 2,
            "linecolor": "white",
            "showbackground": true,
            "ticks": "",
            "zerolinecolor": "white"
           }
          },
          "shapedefaults": {
           "line": {
            "color": "#2a3f5f"
           }
          },
          "ternary": {
           "aaxis": {
            "gridcolor": "white",
            "linecolor": "white",
            "ticks": ""
           },
           "baxis": {
            "gridcolor": "white",
            "linecolor": "white",
            "ticks": ""
           },
           "bgcolor": "#E5ECF6",
           "caxis": {
            "gridcolor": "white",
            "linecolor": "white",
            "ticks": ""
           }
          },
          "title": {
           "x": 0.05
          },
          "xaxis": {
           "automargin": true,
           "gridcolor": "white",
           "linecolor": "white",
           "ticks": "",
           "title": {
            "standoff": 15
           },
           "zerolinecolor": "white",
           "zerolinewidth": 2
          },
          "yaxis": {
           "automargin": true,
           "gridcolor": "white",
           "linecolor": "white",
           "ticks": "",
           "title": {
            "standoff": 15
           },
           "zerolinecolor": "white",
           "zerolinewidth": 2
          }
         }
        }
       }
      }
     },
     "metadata": {},
     "output_type": "display_data"
    }
   ],
   "source": [
    "print('Split of movies count based on their overall viewers')\n",
    "# Pie chart, where the slices will be ordered and plotted counter-clockwise:\n",
    "labels = ['300 to 400 viewers', '200 to 300 viewers', '100 to 200 viewers', '50 to 100 viewers', '20 to 50 viewers', 'less than 20 viewers']\n",
    "values = [4, 25, 123, 314, 843, 7445]\n",
    "\n",
    "fig = go.Figure(data=[go.Pie(labels=labels, values=values)])\n",
    "fig.show()\n"
   ]
  },
  {
   "cell_type": "code",
   "execution_count": 44,
   "metadata": {},
   "outputs": [
    {
     "data": {
      "text/html": [
       "<div>\n",
       "<style scoped>\n",
       "    .dataframe tbody tr th:only-of-type {\n",
       "        vertical-align: middle;\n",
       "    }\n",
       "\n",
       "    .dataframe tbody tr th {\n",
       "        vertical-align: top;\n",
       "    }\n",
       "\n",
       "    .dataframe thead th {\n",
       "        text-align: right;\n",
       "    }\n",
       "</style>\n",
       "<table border=\"1\" class=\"dataframe\">\n",
       "  <thead>\n",
       "    <tr style=\"text-align: right;\">\n",
       "      <th></th>\n",
       "      <th>movie title</th>\n",
       "      <th>Number of Users watched</th>\n",
       "    </tr>\n",
       "  </thead>\n",
       "  <tbody>\n",
       "    <tr>\n",
       "      <th>0</th>\n",
       "      <td>Forrest Gump</td>\n",
       "      <td>341</td>\n",
       "    </tr>\n",
       "    <tr>\n",
       "      <th>1</th>\n",
       "      <td>Pulp Fiction</td>\n",
       "      <td>324</td>\n",
       "    </tr>\n",
       "    <tr>\n",
       "      <th>2</th>\n",
       "      <td>The Shawshank Redemption</td>\n",
       "      <td>311</td>\n",
       "    </tr>\n",
       "    <tr>\n",
       "      <th>3</th>\n",
       "      <td>The Silence of the Lambs</td>\n",
       "      <td>304</td>\n",
       "    </tr>\n",
       "    <tr>\n",
       "      <th>4</th>\n",
       "      <td>Star Wars</td>\n",
       "      <td>291</td>\n",
       "    </tr>\n",
       "    <tr>\n",
       "      <th>5</th>\n",
       "      <td>Jurassic Park</td>\n",
       "      <td>274</td>\n",
       "    </tr>\n",
       "    <tr>\n",
       "      <th>6</th>\n",
       "      <td>The Matrix</td>\n",
       "      <td>259</td>\n",
       "    </tr>\n",
       "    <tr>\n",
       "      <th>7</th>\n",
       "      <td>Toy Story</td>\n",
       "      <td>247</td>\n",
       "    </tr>\n",
       "    <tr>\n",
       "      <th>8</th>\n",
       "      <td>Schindler's List</td>\n",
       "      <td>244</td>\n",
       "    </tr>\n",
       "    <tr>\n",
       "      <th>9</th>\n",
       "      <td>Terminator 2: Judgment Day</td>\n",
       "      <td>237</td>\n",
       "    </tr>\n",
       "  </tbody>\n",
       "</table>\n",
       "</div>"
      ],
      "text/plain": [
       "                  movie title  Number of Users watched\n",
       "0                Forrest Gump                      341\n",
       "1                Pulp Fiction                      324\n",
       "2    The Shawshank Redemption                      311\n",
       "3    The Silence of the Lambs                      304\n",
       "4                   Star Wars                      291\n",
       "5               Jurassic Park                      274\n",
       "6                  The Matrix                      259\n",
       "7                   Toy Story                      247\n",
       "8            Schindler's List                      244\n",
       "9  Terminator 2: Judgment Day                      237"
      ]
     },
     "execution_count": 44,
     "metadata": {},
     "output_type": "execute_result"
    }
   ],
   "source": [
    "popular_movies[popular_movies['Number of Users watched'] >= 200].head(10)"
   ]
  },
  {
   "cell_type": "code",
   "execution_count": 45,
   "metadata": {},
   "outputs": [
    {
     "data": {
      "text/html": [
       "<div>\n",
       "<style scoped>\n",
       "    .dataframe tbody tr th:only-of-type {\n",
       "        vertical-align: middle;\n",
       "    }\n",
       "\n",
       "    .dataframe tbody tr th {\n",
       "        vertical-align: top;\n",
       "    }\n",
       "\n",
       "    .dataframe thead th {\n",
       "        text-align: right;\n",
       "    }\n",
       "</style>\n",
       "<table border=\"1\" class=\"dataframe\">\n",
       "  <thead>\n",
       "    <tr style=\"text-align: right;\">\n",
       "      <th></th>\n",
       "      <th>movie title</th>\n",
       "      <th>avg rating</th>\n",
       "      <th>Number of Users watched</th>\n",
       "    </tr>\n",
       "  </thead>\n",
       "  <tbody>\n",
       "    <tr>\n",
       "      <th>0</th>\n",
       "      <td>Sammy and Rosie Get Laid</td>\n",
       "      <td>5.0</td>\n",
       "      <td>1</td>\n",
       "    </tr>\n",
       "    <tr>\n",
       "      <th>1</th>\n",
       "      <td>Victoria</td>\n",
       "      <td>5.0</td>\n",
       "      <td>1</td>\n",
       "    </tr>\n",
       "    <tr>\n",
       "      <th>2</th>\n",
       "      <td>Bill Hicks: Relentless</td>\n",
       "      <td>5.0</td>\n",
       "      <td>1</td>\n",
       "    </tr>\n",
       "    <tr>\n",
       "      <th>3</th>\n",
       "      <td>My Best Friend</td>\n",
       "      <td>5.0</td>\n",
       "      <td>1</td>\n",
       "    </tr>\n",
       "    <tr>\n",
       "      <th>4</th>\n",
       "      <td>The Night of the Shooting Stars</td>\n",
       "      <td>5.0</td>\n",
       "      <td>1</td>\n",
       "    </tr>\n",
       "    <tr>\n",
       "      <th>5</th>\n",
       "      <td>The Brandon Teena Story</td>\n",
       "      <td>5.0</td>\n",
       "      <td>1</td>\n",
       "    </tr>\n",
       "    <tr>\n",
       "      <th>6</th>\n",
       "      <td>A Passage to India</td>\n",
       "      <td>5.0</td>\n",
       "      <td>2</td>\n",
       "    </tr>\n",
       "    <tr>\n",
       "      <th>7</th>\n",
       "      <td>Big Eden</td>\n",
       "      <td>5.0</td>\n",
       "      <td>1</td>\n",
       "    </tr>\n",
       "    <tr>\n",
       "      <th>8</th>\n",
       "      <td>Yossi</td>\n",
       "      <td>5.0</td>\n",
       "      <td>1</td>\n",
       "    </tr>\n",
       "    <tr>\n",
       "      <th>9</th>\n",
       "      <td>All Star Superman</td>\n",
       "      <td>5.0</td>\n",
       "      <td>1</td>\n",
       "    </tr>\n",
       "  </tbody>\n",
       "</table>\n",
       "</div>"
      ],
      "text/plain": [
       "                       movie title  avg rating  Number of Users watched\n",
       "0         Sammy and Rosie Get Laid         5.0                        1\n",
       "1                         Victoria         5.0                        1\n",
       "2           Bill Hicks: Relentless         5.0                        1\n",
       "3                   My Best Friend         5.0                        1\n",
       "4  The Night of the Shooting Stars         5.0                        1\n",
       "5          The Brandon Teena Story         5.0                        1\n",
       "6               A Passage to India         5.0                        2\n",
       "7                         Big Eden         5.0                        1\n",
       "8                            Yossi         5.0                        1\n",
       "9                All Star Superman         5.0                        1"
      ]
     },
     "execution_count": 45,
     "metadata": {},
     "output_type": "execute_result"
    }
   ],
   "source": [
    "highly_rated_popular_movies = pd.merge(avg_highly_rated_movies, popular_movies, how = 'inner', on='movie title')\n",
    "highly_rated_popular_movies.head(10)"
   ]
  },
  {
   "cell_type": "code",
   "execution_count": 46,
   "metadata": {},
   "outputs": [
    {
     "data": {
      "text/html": [
       "<div>\n",
       "<style scoped>\n",
       "    .dataframe tbody tr th:only-of-type {\n",
       "        vertical-align: middle;\n",
       "    }\n",
       "\n",
       "    .dataframe tbody tr th {\n",
       "        vertical-align: top;\n",
       "    }\n",
       "\n",
       "    .dataframe thead th {\n",
       "        text-align: right;\n",
       "    }\n",
       "</style>\n",
       "<table border=\"1\" class=\"dataframe\">\n",
       "  <thead>\n",
       "    <tr style=\"text-align: right;\">\n",
       "      <th></th>\n",
       "      <th>movie title</th>\n",
       "      <th>avg rating</th>\n",
       "      <th>Number of Users watched</th>\n",
       "    </tr>\n",
       "  </thead>\n",
       "  <tbody>\n",
       "    <tr>\n",
       "      <th>442</th>\n",
       "      <td>The Shawshank Redemption</td>\n",
       "      <td>4.450161</td>\n",
       "      <td>311</td>\n",
       "    </tr>\n",
       "    <tr>\n",
       "      <th>445</th>\n",
       "      <td>The Godfather</td>\n",
       "      <td>4.445000</td>\n",
       "      <td>200</td>\n",
       "    </tr>\n",
       "    <tr>\n",
       "      <th>471</th>\n",
       "      <td>The Usual Suspects</td>\n",
       "      <td>4.348259</td>\n",
       "      <td>201</td>\n",
       "    </tr>\n",
       "    <tr>\n",
       "      <th>564</th>\n",
       "      <td>Schindler's List</td>\n",
       "      <td>4.270492</td>\n",
       "      <td>244</td>\n",
       "    </tr>\n",
       "    <tr>\n",
       "      <th>591</th>\n",
       "      <td>Fargo</td>\n",
       "      <td>4.250000</td>\n",
       "      <td>224</td>\n",
       "    </tr>\n",
       "    <tr>\n",
       "      <th>647</th>\n",
       "      <td>American Beauty</td>\n",
       "      <td>4.213636</td>\n",
       "      <td>220</td>\n",
       "    </tr>\n",
       "    <tr>\n",
       "      <th>648</th>\n",
       "      <td>Pulp Fiction</td>\n",
       "      <td>4.212963</td>\n",
       "      <td>324</td>\n",
       "    </tr>\n",
       "    <tr>\n",
       "      <th>650</th>\n",
       "      <td>The Empire Strikes Back</td>\n",
       "      <td>4.205128</td>\n",
       "      <td>234</td>\n",
       "    </tr>\n",
       "    <tr>\n",
       "      <th>681</th>\n",
       "      <td>Star Wars</td>\n",
       "      <td>4.199313</td>\n",
       "      <td>291</td>\n",
       "    </tr>\n",
       "    <tr>\n",
       "      <th>684</th>\n",
       "      <td>Raiders of the Lost Ark</td>\n",
       "      <td>4.195455</td>\n",
       "      <td>220</td>\n",
       "    </tr>\n",
       "  </tbody>\n",
       "</table>\n",
       "</div>"
      ],
      "text/plain": [
       "                  movie title  avg rating  Number of Users watched\n",
       "442  The Shawshank Redemption    4.450161                      311\n",
       "445             The Godfather    4.445000                      200\n",
       "471        The Usual Suspects    4.348259                      201\n",
       "564          Schindler's List    4.270492                      244\n",
       "591                     Fargo    4.250000                      224\n",
       "647           American Beauty    4.213636                      220\n",
       "648              Pulp Fiction    4.212963                      324\n",
       "650   The Empire Strikes Back    4.205128                      234\n",
       "681                 Star Wars    4.199313                      291\n",
       "684   Raiders of the Lost Ark    4.195455                      220"
      ]
     },
     "execution_count": 46,
     "metadata": {},
     "output_type": "execute_result"
    }
   ],
   "source": [
    "highly_rated_popular_movies[highly_rated_popular_movies['Number of Users watched'] >= 200].head(10)"
   ]
  },
  {
   "cell_type": "code",
   "execution_count": 47,
   "metadata": {},
   "outputs": [
    {
     "data": {
      "text/html": [
       "<div>\n",
       "<style scoped>\n",
       "    .dataframe tbody tr th:only-of-type {\n",
       "        vertical-align: middle;\n",
       "    }\n",
       "\n",
       "    .dataframe tbody tr th {\n",
       "        vertical-align: top;\n",
       "    }\n",
       "\n",
       "    .dataframe thead th {\n",
       "        text-align: right;\n",
       "    }\n",
       "</style>\n",
       "<table border=\"1\" class=\"dataframe\">\n",
       "  <thead>\n",
       "    <tr style=\"text-align: right;\">\n",
       "      <th></th>\n",
       "      <th>movie title</th>\n",
       "      <th>avg rating</th>\n",
       "      <th>Number of Users watched</th>\n",
       "    </tr>\n",
       "  </thead>\n",
       "  <tbody>\n",
       "    <tr>\n",
       "      <th>442</th>\n",
       "      <td>The Shawshank Redemption</td>\n",
       "      <td>4.450161</td>\n",
       "      <td>311</td>\n",
       "    </tr>\n",
       "    <tr>\n",
       "      <th>445</th>\n",
       "      <td>The Godfather</td>\n",
       "      <td>4.445000</td>\n",
       "      <td>200</td>\n",
       "    </tr>\n",
       "    <tr>\n",
       "      <th>471</th>\n",
       "      <td>The Usual Suspects</td>\n",
       "      <td>4.348259</td>\n",
       "      <td>201</td>\n",
       "    </tr>\n",
       "    <tr>\n",
       "      <th>564</th>\n",
       "      <td>Schindler's List</td>\n",
       "      <td>4.270492</td>\n",
       "      <td>244</td>\n",
       "    </tr>\n",
       "    <tr>\n",
       "      <th>591</th>\n",
       "      <td>Fargo</td>\n",
       "      <td>4.250000</td>\n",
       "      <td>224</td>\n",
       "    </tr>\n",
       "    <tr>\n",
       "      <th>647</th>\n",
       "      <td>American Beauty</td>\n",
       "      <td>4.213636</td>\n",
       "      <td>220</td>\n",
       "    </tr>\n",
       "    <tr>\n",
       "      <th>648</th>\n",
       "      <td>Pulp Fiction</td>\n",
       "      <td>4.212963</td>\n",
       "      <td>324</td>\n",
       "    </tr>\n",
       "    <tr>\n",
       "      <th>650</th>\n",
       "      <td>The Empire Strikes Back</td>\n",
       "      <td>4.205128</td>\n",
       "      <td>234</td>\n",
       "    </tr>\n",
       "    <tr>\n",
       "      <th>681</th>\n",
       "      <td>Star Wars</td>\n",
       "      <td>4.199313</td>\n",
       "      <td>291</td>\n",
       "    </tr>\n",
       "    <tr>\n",
       "      <th>684</th>\n",
       "      <td>Raiders of the Lost Ark</td>\n",
       "      <td>4.195455</td>\n",
       "      <td>220</td>\n",
       "    </tr>\n",
       "  </tbody>\n",
       "</table>\n",
       "</div>"
      ],
      "text/plain": [
       "                  movie title  avg rating  Number of Users watched\n",
       "442  The Shawshank Redemption    4.450161                      311\n",
       "445             The Godfather    4.445000                      200\n",
       "471        The Usual Suspects    4.348259                      201\n",
       "564          Schindler's List    4.270492                      244\n",
       "591                     Fargo    4.250000                      224\n",
       "647           American Beauty    4.213636                      220\n",
       "648              Pulp Fiction    4.212963                      324\n",
       "650   The Empire Strikes Back    4.205128                      234\n",
       "681                 Star Wars    4.199313                      291\n",
       "684   Raiders of the Lost Ark    4.195455                      220"
      ]
     },
     "execution_count": 47,
     "metadata": {},
     "output_type": "execute_result"
    }
   ],
   "source": [
    "highly_rated_popular_movies[(highly_rated_popular_movies['Number of Users watched']>=200) & (highly_rated_popular_movies['avg rating']>=4.0)].head(10)"
   ]
  },
  {
   "cell_type": "markdown",
   "metadata": {},
   "source": [
    "## Recommendations based on Movie Genre to a New User."
   ]
  },
  {
   "cell_type": "code",
   "execution_count": 48,
   "metadata": {},
   "outputs": [],
   "source": [
    "items_dataset = merged_dataset"
   ]
  },
  {
   "cell_type": "code",
   "execution_count": 49,
   "metadata": {},
   "outputs": [],
   "source": [
    "# Extract unique genres\n",
    "unique_genres = set(genre for genres in items_dataset['genres'] for genre in genres)\n",
    "\n",
    "# Create a column for each genre with binary encoding\n",
    "for genre in unique_genres:\n",
    "    items_dataset[genre] = items_dataset['genres'].apply(lambda genres: 1 if genre in genres else 0)\n",
    "\n",
    "# Drop the original genres column if no longer needed\n",
    "items_dataset = items_dataset.drop(columns=['genres'])"
   ]
  },
  {
   "cell_type": "code",
   "execution_count": 50,
   "metadata": {},
   "outputs": [
    {
     "data": {
      "text/plain": [
       "['Science Fiction',\n",
       " 'Adventure',\n",
       " 'Music',\n",
       " 'Foreign',\n",
       " 'War',\n",
       " 'TV Movie',\n",
       " 'Drama',\n",
       " 'Thriller',\n",
       " 'Documentary',\n",
       " 'Horror',\n",
       " 'Western',\n",
       " 'History',\n",
       " 'Mystery',\n",
       " 'Family',\n",
       " 'Fantasy',\n",
       " 'Comedy',\n",
       " 'Romance',\n",
       " 'Animation',\n",
       " 'Action',\n",
       " 'Crime']"
      ]
     },
     "execution_count": 50,
     "metadata": {},
     "output_type": "execute_result"
    }
   ],
   "source": [
    "movie_genre_list = items_dataset.columns[5:].tolist()\n",
    "movie_genre_list"
   ]
  },
  {
   "cell_type": "code",
   "execution_count": 51,
   "metadata": {},
   "outputs": [
    {
     "data": {
      "image/png": "[encoded data removed]",
      "text/plain": [
       "<Figure size 1000x500 with 1 Axes>"
      ]
     },
     "metadata": {},
     "output_type": "display_data"
    }
   ],
   "source": [
    "count = []\n",
    "for i in movie_genre_list:\n",
    "  # print(i)\n",
    "  genre_based_movies = items_dataset[['movie id','movie title',i]]\n",
    "  genre_based_movies = genre_based_movies[genre_based_movies[i] == 1]\n",
    "  count.append(len(genre_based_movies))\n",
    "  # merged_genre_movies = pd.merge(dataset, genre_based_movies, how='inner', on='movie id')\n",
    "  # star_based_visualization(merged_genre_movies)\n",
    "df_plot = pd.DataFrame({'Movie genre':movie_genre_list, 'Number of movies':count})\n",
    "ax = df_plot.plot.bar(x='Movie genre', y='Number of movies', rot=60, figsize=(10, 5))"
   ]
  },
  {
   "cell_type": "code",
   "execution_count": 52,
   "metadata": {},
   "outputs": [],
   "source": [
    "ratings_dataset = ratings.rename(columns={'id':'movie id'})"
   ]
  },
  {
   "cell_type": "code",
   "execution_count": 53,
   "metadata": {},
   "outputs": [],
   "source": [
    "def star_based_visualization(dataframe):\n",
    "    dataframe['rating'].value_counts(sort=False).plot(kind='bar' ,figsize=(10,6), use_index = True, rot=0)\n",
    "    plt.title('Bar plot of rating frequency')\n",
    "    plt.xlabel('Rating')\n",
    "    plt.ylabel('Number of times a rating was given')\n",
    "    # label = list(dataframe['rating'].value_counts(sort=False))\n",
    "    plt.show()\n",
    "    print(\"Total number of users watched this Genre: \",len(dataframe))\n",
    "    print(\"  \")\n"
   ]
  },
  {
   "cell_type": "code",
   "execution_count": 54,
   "metadata": {},
   "outputs": [],
   "source": [
    "def recommendations_genre(genre):\n",
    "    x = genre\n",
    "    print(\"****************************     ******************************     ******************************\")\n",
    "    print(\"****************************     ****** GENRE: \", x,\" ******     ******************************\")\n",
    "    print(\"    \")\n",
    "    genre_based_movies = items_dataset[['movie id','movie title',x]]\n",
    "    genre_based_movies = genre_based_movies[genre_based_movies[x] == 1]\n",
    "    merged_genre_movies = pd.merge(ratings_dataset, genre_based_movies, how='inner', on='movie id')\n",
    "    # merged_genre_movies.head()\n",
    "\n",
    "    star_based_visualization(merged_genre_movies)\n",
    "    high_rated_movies = merged_genre_movies.groupby(['movie title']).agg({\"rating\":\"mean\"})['rating'].sort_values(ascending=False)\n",
    "    high_rated_movies = high_rated_movies.to_frame()\n",
    "    print(\"These are the top movies that can be naviely suggested to the new users for the requested movie genre:\", x, \". Recommendations based on top average ratings.\")\n",
    "    print(high_rated_movies.head(10))\n",
    "    print(\"****************************     ******************************     ******************************\")\n",
    "    popular_movies_ingenre = merged_genre_movies.groupby(['movie title']).agg({\"rating\":\"count\"})['rating'].sort_values(ascending=False)\n",
    "    popular_movies_ingenre = popular_movies_ingenre.to_frame()\n",
    "    popular_movies_ingenre.reset_index(level=0, inplace=True)\n",
    "    popular_movies_ingenre.columns = ['movie title', 'Number of Users watched']\n",
    "    print(\"These are the most popular movies which can be recommended to a new user in\",x,\"genre. Recommendations based on Popularity\")\n",
    "    print(popular_movies_ingenre.sort_values('Number of Users watched', ascending=False).head(10))\n",
    "    print(\"****************************     ******************************     ******************************\")\n",
    "    highly_rated_popular_movies = pd.merge(high_rated_movies, popular_movies_ingenre, how = 'inner', on='movie title')\n",
    "    # highly_rated_popular_movies.head(10)\n",
    "    viewer_limit = 300\n",
    "    ratings_limit = 4.0\n",
    "    count = 0\n",
    "    check = 0\n",
    "    while viewer_limit > 0 and ratings_limit > 0:\n",
    "        s = highly_rated_popular_movies[(highly_rated_popular_movies['Number of Users watched']>viewer_limit) & (highly_rated_popular_movies['rating']>=ratings_limit)]\n",
    "        if len(s) < 11:\n",
    "            if check == 0:\n",
    "                viewer_limit -= 50\n",
    "                check = 1\n",
    "            else:\n",
    "                ratings_limit -= 0.5\n",
    "                check = 0\n",
    "        else:\n",
    "            break\n",
    "    print(\"These movies are the best to suggest to a new user within their requested genre as they are popular and well rated by the users who already watched them.\")\n",
    "    print(\"These have rating more than \",ratings_limit,\" with atleast \",viewer_limit ,\" viewers.\")\n",
    "\n",
    "    print(\"**Recommendations based popularity and rating. These are top rated popular movies**\")\n",
    "    print(s)\n",
    "    print(\"****************************     ******************************     ******************************\")\n",
    "    print(\"                             \")\n",
    "    print(\"                             \")\n"
   ]
  },
  {
   "cell_type": "code",
   "execution_count": 55,
   "metadata": {},
   "outputs": [],
   "source": [
    "# for i in movie_genre_list[1:]:\n",
    "#     recommendations_genre(i)"
   ]
  },
  {
   "cell_type": "markdown",
   "metadata": {},
   "source": [
    "# **Demographic Filtering**"
   ]
  },
  {
   "cell_type": "markdown",
   "metadata": {},
   "source": [
    "#### Weighted Rating (WR) = $(\\frac{v}{v + m} . R) + (\\frac{m}{v + m} . C)$\n",
    "\n",
    "### where\n",
    "\n",
    "* v is the number of votes for the movie;\n",
    "* m is the minimum votes required to be listed in the chart;\n",
    "* R is the average rating of the movie; And\n",
    "* C is the mean vote across the whole report"
   ]
  },
  {
   "cell_type": "code",
   "execution_count": 56,
   "metadata": {},
   "outputs": [
    {
     "name": "stdout",
     "output_type": "stream",
     "text": [
      "Mean vote across the whole report: 5.61981583063468\n",
      "Minimum votes required to be listed in the chart: 434.0\n"
     ]
    }
   ],
   "source": [
    "C= df['vote_average'].mean()\n",
    "print(f'Mean vote across the whole report: {C}')\n",
    "\n",
    "# vote_averages = df[df['vote_average'].notnull()]['vote_average'].astype('int')\n",
    "# C = vote_averages.mean()\n",
    "\n",
    "m= df['vote_count'].quantile(0.95)\n",
    "print(f'Minimum votes required to be listed in the chart: {m}')\n",
    "\n",
    "# # vote_counts = df[df['vote_count'].notnull()]['vote_count'].astype('int')\n",
    "# m = vote_counts.quantile(0.95)"
   ]
  },
  {
   "cell_type": "code",
   "execution_count": 57,
   "metadata": {},
   "outputs": [],
   "source": [
    "def weighted_rating(x, m=m, C=C):\n",
    "    v = x['vote_count']\n",
    "    R = x['vote_average']\n",
    "    # Calculation based on the IMDB formula\n",
    "    return (v/(v+m) * R) + (m/(m+v) * C)"
   ]
  },
  {
   "cell_type": "code",
   "execution_count": 58,
   "metadata": {},
   "outputs": [
    {
     "name": "stdout",
     "output_type": "stream",
     "text": [
      "shape of the filtered dataframe: (2274, 6)\n"
     ]
    }
   ],
   "source": [
    "qualified = df[(df['vote_count'] >= m) & (df['vote_count'].notnull()) & (df['vote_average'].notnull())][['title', 'year', 'vote_count', 'vote_average', 'popularity', 'genres']]\n",
    "print(f'shape of the filtered dataframe: {qualified.shape}')"
   ]
  },
  {
   "cell_type": "code",
   "execution_count": 59,
   "metadata": {},
   "outputs": [],
   "source": [
    "# Define a new feature 'score' and calculate its value with `weighted_rating()`\n",
    "qualified['wr_score'] = qualified.apply(weighted_rating, axis=1)"
   ]
  },
  {
   "cell_type": "code",
   "execution_count": 60,
   "metadata": {},
   "outputs": [],
   "source": [
    "#Sort movies based on score calculated above\n",
    "qualified = qualified.sort_values('wr_score', ascending=False).head(250)"
   ]
  },
  {
   "cell_type": "markdown",
   "metadata": {},
   "source": [
    "### Top Movies"
   ]
  },
  {
   "cell_type": "code",
   "execution_count": 61,
   "metadata": {},
   "outputs": [
    {
     "data": {
      "text/html": [
       "<div>\n",
       "<style scoped>\n",
       "    .dataframe tbody tr th:only-of-type {\n",
       "        vertical-align: middle;\n",
       "    }\n",
       "\n",
       "    .dataframe tbody tr th {\n",
       "        vertical-align: top;\n",
       "    }\n",
       "\n",
       "    .dataframe thead th {\n",
       "        text-align: right;\n",
       "    }\n",
       "</style>\n",
       "<table border=\"1\" class=\"dataframe\">\n",
       "  <thead>\n",
       "    <tr style=\"text-align: right;\">\n",
       "      <th></th>\n",
       "      <th>title</th>\n",
       "      <th>year</th>\n",
       "      <th>vote_count</th>\n",
       "      <th>vote_average</th>\n",
       "      <th>popularity</th>\n",
       "      <th>genres</th>\n",
       "      <th>wr_score</th>\n",
       "    </tr>\n",
       "  </thead>\n",
       "  <tbody>\n",
       "    <tr>\n",
       "      <th>314</th>\n",
       "      <td>The Shawshank Redemption</td>\n",
       "      <td>1994</td>\n",
       "      <td>8358.0</td>\n",
       "      <td>8.5</td>\n",
       "      <td>51.645403</td>\n",
       "      <td>[Drama, Crime]</td>\n",
       "      <td>8.357825</td>\n",
       "    </tr>\n",
       "    <tr>\n",
       "      <th>834</th>\n",
       "      <td>The Godfather</td>\n",
       "      <td>1972</td>\n",
       "      <td>6024.0</td>\n",
       "      <td>8.5</td>\n",
       "      <td>41.109264</td>\n",
       "      <td>[Drama, Crime]</td>\n",
       "      <td>8.306442</td>\n",
       "    </tr>\n",
       "    <tr>\n",
       "      <th>12481</th>\n",
       "      <td>The Dark Knight</td>\n",
       "      <td>2008</td>\n",
       "      <td>12269.0</td>\n",
       "      <td>8.3</td>\n",
       "      <td>123.167259</td>\n",
       "      <td>[Drama, Action, Crime, Thriller]</td>\n",
       "      <td>8.208431</td>\n",
       "    </tr>\n",
       "    <tr>\n",
       "      <th>2843</th>\n",
       "      <td>Fight Club</td>\n",
       "      <td>1999</td>\n",
       "      <td>9678.0</td>\n",
       "      <td>8.3</td>\n",
       "      <td>63.869599</td>\n",
       "      <td>[Drama]</td>\n",
       "      <td>8.184968</td>\n",
       "    </tr>\n",
       "    <tr>\n",
       "      <th>292</th>\n",
       "      <td>Pulp Fiction</td>\n",
       "      <td>1994</td>\n",
       "      <td>8670.0</td>\n",
       "      <td>8.3</td>\n",
       "      <td>140.950236</td>\n",
       "      <td>[Thriller, Crime]</td>\n",
       "      <td>8.172232</td>\n",
       "    </tr>\n",
       "    <tr>\n",
       "      <th>351</th>\n",
       "      <td>Forrest Gump</td>\n",
       "      <td>1994</td>\n",
       "      <td>8147.0</td>\n",
       "      <td>8.2</td>\n",
       "      <td>48.307194</td>\n",
       "      <td>[Comedy, Drama, Romance]</td>\n",
       "      <td>8.069502</td>\n",
       "    </tr>\n",
       "    <tr>\n",
       "      <th>522</th>\n",
       "      <td>Schindler's List</td>\n",
       "      <td>1993</td>\n",
       "      <td>4436.0</td>\n",
       "      <td>8.3</td>\n",
       "      <td>41.725123</td>\n",
       "      <td>[Drama, History, War]</td>\n",
       "      <td>8.061150</td>\n",
       "    </tr>\n",
       "    <tr>\n",
       "      <th>23673</th>\n",
       "      <td>Whiplash</td>\n",
       "      <td>2014</td>\n",
       "      <td>4376.0</td>\n",
       "      <td>8.3</td>\n",
       "      <td>64.299990</td>\n",
       "      <td>[Drama]</td>\n",
       "      <td>8.058170</td>\n",
       "    </tr>\n",
       "    <tr>\n",
       "      <th>5481</th>\n",
       "      <td>Spirited Away</td>\n",
       "      <td>2001</td>\n",
       "      <td>3968.0</td>\n",
       "      <td>8.3</td>\n",
       "      <td>41.048867</td>\n",
       "      <td>[Fantasy, Adventure, Animation, Family]</td>\n",
       "      <td>8.035756</td>\n",
       "    </tr>\n",
       "    <tr>\n",
       "      <th>1154</th>\n",
       "      <td>The Empire Strikes Back</td>\n",
       "      <td>1980</td>\n",
       "      <td>5998.0</td>\n",
       "      <td>8.2</td>\n",
       "      <td>19.470959</td>\n",
       "      <td>[Adventure, Action, Science Fiction]</td>\n",
       "      <td>8.025902</td>\n",
       "    </tr>\n",
       "    <tr>\n",
       "      <th>15480</th>\n",
       "      <td>Inception</td>\n",
       "      <td>2010</td>\n",
       "      <td>14075.0</td>\n",
       "      <td>8.1</td>\n",
       "      <td>29.108149</td>\n",
       "      <td>[Action, Thriller, Science Fiction, Mystery, A...</td>\n",
       "      <td>8.025812</td>\n",
       "    </tr>\n",
       "    <tr>\n",
       "      <th>2211</th>\n",
       "      <td>Life Is Beautiful</td>\n",
       "      <td>1997</td>\n",
       "      <td>3643.0</td>\n",
       "      <td>8.3</td>\n",
       "      <td>39.394970</td>\n",
       "      <td>[Comedy, Drama]</td>\n",
       "      <td>8.014692</td>\n",
       "    </tr>\n",
       "    <tr>\n",
       "      <th>18465</th>\n",
       "      <td>The Intouchables</td>\n",
       "      <td>2011</td>\n",
       "      <td>5410.0</td>\n",
       "      <td>8.2</td>\n",
       "      <td>16.086919</td>\n",
       "      <td>[Drama, Comedy]</td>\n",
       "      <td>8.008385</td>\n",
       "    </tr>\n",
       "    <tr>\n",
       "      <th>22879</th>\n",
       "      <td>Interstellar</td>\n",
       "      <td>2014</td>\n",
       "      <td>11187.0</td>\n",
       "      <td>8.1</td>\n",
       "      <td>32.213481</td>\n",
       "      <td>[Adventure, Drama, Science Fiction]</td>\n",
       "      <td>8.007375</td>\n",
       "    </tr>\n",
       "    <tr>\n",
       "      <th>1178</th>\n",
       "      <td>The Godfather: Part II</td>\n",
       "      <td>1974</td>\n",
       "      <td>3418.0</td>\n",
       "      <td>8.3</td>\n",
       "      <td>36.629307</td>\n",
       "      <td>[Drama, Crime]</td>\n",
       "      <td>7.998027</td>\n",
       "    </tr>\n",
       "  </tbody>\n",
       "</table>\n",
       "</div>"
      ],
      "text/plain": [
       "                          title  year  vote_count  vote_average  popularity  \\\n",
       "314    The Shawshank Redemption  1994      8358.0           8.5   51.645403   \n",
       "834               The Godfather  1972      6024.0           8.5   41.109264   \n",
       "12481           The Dark Knight  2008     12269.0           8.3  123.167259   \n",
       "2843                 Fight Club  1999      9678.0           8.3   63.869599   \n",
       "292                Pulp Fiction  1994      8670.0           8.3  140.950236   \n",
       "351                Forrest Gump  1994      8147.0           8.2   48.307194   \n",
       "522            Schindler's List  1993      4436.0           8.3   41.725123   \n",
       "23673                  Whiplash  2014      4376.0           8.3   64.299990   \n",
       "5481              Spirited Away  2001      3968.0           8.3   41.048867   \n",
       "1154    The Empire Strikes Back  1980      5998.0           8.2   19.470959   \n",
       "15480                 Inception  2010     14075.0           8.1   29.108149   \n",
       "2211          Life Is Beautiful  1997      3643.0           8.3   39.394970   \n",
       "18465          The Intouchables  2011      5410.0           8.2   16.086919   \n",
       "22879              Interstellar  2014     11187.0           8.1   32.213481   \n",
       "1178     The Godfather: Part II  1974      3418.0           8.3   36.629307   \n",
       "\n",
       "                                                  genres  wr_score  \n",
       "314                                       [Drama, Crime]  8.357825  \n",
       "834                                       [Drama, Crime]  8.306442  \n",
       "12481                   [Drama, Action, Crime, Thriller]  8.208431  \n",
       "2843                                             [Drama]  8.184968  \n",
       "292                                    [Thriller, Crime]  8.172232  \n",
       "351                             [Comedy, Drama, Romance]  8.069502  \n",
       "522                                [Drama, History, War]  8.061150  \n",
       "23673                                            [Drama]  8.058170  \n",
       "5481             [Fantasy, Adventure, Animation, Family]  8.035756  \n",
       "1154                [Adventure, Action, Science Fiction]  8.025902  \n",
       "15480  [Action, Thriller, Science Fiction, Mystery, A...  8.025812  \n",
       "2211                                     [Comedy, Drama]  8.014692  \n",
       "18465                                    [Drama, Comedy]  8.008385  \n",
       "22879                [Adventure, Drama, Science Fiction]  8.007375  \n",
       "1178                                      [Drama, Crime]  7.998027  "
      ]
     },
     "execution_count": 61,
     "metadata": {},
     "output_type": "execute_result"
    }
   ],
   "source": [
    "qualified.head(15)"
   ]
  },
  {
   "cell_type": "code",
   "execution_count": 62,
   "metadata": {},
   "outputs": [
    {
     "data": {
      "text/plain": [
       "Text(0.5, 1.0, 'Popular Movies')"
      ]
     },
     "execution_count": 62,
     "metadata": {},
     "output_type": "execute_result"
    },
    {
     "data": {
      "image/png": "[encoded data removed]",
      "text/plain": [
       "<Figure size 1800x800 with 1 Axes>"
      ]
     },
     "metadata": {},
     "output_type": "display_data"
    }
   ],
   "source": [
    "pop= qualified.sort_values('popularity', ascending=False)\n",
    "\n",
    "plt.figure(figsize=(18,8))\n",
    "plt.barh(pop['title'].head(10),pop['popularity'].head(10), align='center')\n",
    "plt.gca().invert_yaxis()\n",
    "plt.xlabel(\"Popularity\")\n",
    "plt.title(\"Popular Movies\")\n"
   ]
  },
  {
   "cell_type": "markdown",
   "metadata": {},
   "source": [
    "### deponed of the genres on the score"
   ]
  },
  {
   "cell_type": "code",
   "execution_count": 63,
   "metadata": {},
   "outputs": [
    {
     "name": "stdout",
     "output_type": "stream",
     "text": [
      "Shape of the genres dataframe: (93378, 16)\n"
     ]
    }
   ],
   "source": [
    "s = df.apply(lambda x: pd.Series(x['genres']),axis=1).stack().reset_index(level=1, drop=True)\n",
    "s.name = 'genre'\n",
    "gen_df = df.drop('genres', axis=1).join(s)\n",
    "\n",
    "print(f'Shape of the genres dataframe: {gen_df.shape}')"
   ]
  },
  {
   "cell_type": "code",
   "execution_count": 64,
   "metadata": {},
   "outputs": [],
   "source": [
    "def build_chart(genre, percentile=0.85):\n",
    "    df = gen_df[gen_df['genre'] == genre]\n",
    "    vote_counts = df[df['vote_count'].notnull()]['vote_count']\n",
    "    vote_averages = df[df['vote_average'].notnull()]['vote_average']\n",
    "    C = vote_averages.mean()\n",
    "    m = vote_counts.quantile(percentile)\n",
    "    \n",
    "    qualified = df[(df['vote_count'] >= m) & (df['vote_count'].notnull()) & (df['vote_average'].notnull())][['title', 'year', 'vote_count', 'vote_average', 'popularity']]\n",
    "    qualified['vote_count'] = qualified['vote_count']\n",
    "    qualified['vote_average'] = qualified['vote_average']\n",
    "    \n",
    "    qualified['wr'] = qualified.apply(lambda x: (x['vote_count']/(x['vote_count']+m) * x['vote_average']) + (m/(m+x['vote_count']) * C), axis=1)\n",
    "    qualified = qualified.sort_values('wr', ascending=False).head(250)\n",
    "    \n",
    "    return qualified"
   ]
  },
  {
   "cell_type": "code",
   "execution_count": 65,
   "metadata": {},
   "outputs": [
    {
     "name": "stdout",
     "output_type": "stream",
     "text": [
      "['Drama', 'Comedy', 'Thriller', 'Romance', 'Action', 'Horror', 'Crime', 'Documentary', 'Adventure', 'Science Fiction', 'Family', 'Mystery', 'Fantasy', 'Animation', 'Foreign', 'Music', 'History', 'War', 'Western', 'TV Movie']\n"
     ]
    }
   ],
   "source": [
    "genre_list = gen_df['genre'].value_counts().index.to_list()\n",
    "\n",
    "print(genre_list)"
   ]
  },
  {
   "cell_type": "markdown",
   "metadata": {},
   "source": [
    "### Top Romance Movies"
   ]
  },
  {
   "cell_type": "code",
   "execution_count": 66,
   "metadata": {},
   "outputs": [
    {
     "data": {
      "text/html": [
       "<div>\n",
       "<style scoped>\n",
       "    .dataframe tbody tr th:only-of-type {\n",
       "        vertical-align: middle;\n",
       "    }\n",
       "\n",
       "    .dataframe tbody tr th {\n",
       "        vertical-align: top;\n",
       "    }\n",
       "\n",
       "    .dataframe thead th {\n",
       "        text-align: right;\n",
       "    }\n",
       "</style>\n",
       "<table border=\"1\" class=\"dataframe\">\n",
       "  <thead>\n",
       "    <tr style=\"text-align: right;\">\n",
       "      <th></th>\n",
       "      <th>title</th>\n",
       "      <th>year</th>\n",
       "      <th>vote_count</th>\n",
       "      <th>vote_average</th>\n",
       "      <th>popularity</th>\n",
       "      <th>wr</th>\n",
       "    </tr>\n",
       "  </thead>\n",
       "  <tbody>\n",
       "    <tr>\n",
       "      <th>10309</th>\n",
       "      <td>Dilwale Dulhania Le Jayenge</td>\n",
       "      <td>1995</td>\n",
       "      <td>661.0</td>\n",
       "      <td>9.1</td>\n",
       "      <td>34.457024</td>\n",
       "      <td>8.701374</td>\n",
       "    </tr>\n",
       "    <tr>\n",
       "      <th>40251</th>\n",
       "      <td>Your Name.</td>\n",
       "      <td>2016</td>\n",
       "      <td>1030.0</td>\n",
       "      <td>8.5</td>\n",
       "      <td>34.461252</td>\n",
       "      <td>8.281296</td>\n",
       "    </tr>\n",
       "    <tr>\n",
       "      <th>351</th>\n",
       "      <td>Forrest Gump</td>\n",
       "      <td>1994</td>\n",
       "      <td>8147.0</td>\n",
       "      <td>8.2</td>\n",
       "      <td>48.307194</td>\n",
       "      <td>8.173553</td>\n",
       "    </tr>\n",
       "    <tr>\n",
       "      <th>1132</th>\n",
       "      <td>Cinema Paradiso</td>\n",
       "      <td>1988</td>\n",
       "      <td>834.0</td>\n",
       "      <td>8.2</td>\n",
       "      <td>14.177005</td>\n",
       "      <td>7.964468</td>\n",
       "    </tr>\n",
       "    <tr>\n",
       "      <th>40882</th>\n",
       "      <td>La La Land</td>\n",
       "      <td>2016</td>\n",
       "      <td>4745.0</td>\n",
       "      <td>7.9</td>\n",
       "      <td>19.681686</td>\n",
       "      <td>7.860594</td>\n",
       "    </tr>\n",
       "    <tr>\n",
       "      <th>22168</th>\n",
       "      <td>Her</td>\n",
       "      <td>2013</td>\n",
       "      <td>4215.0</td>\n",
       "      <td>7.9</td>\n",
       "      <td>13.829515</td>\n",
       "      <td>7.855744</td>\n",
       "    </tr>\n",
       "    <tr>\n",
       "      <th>7208</th>\n",
       "      <td>Eternal Sunshine of the Spotless Mind</td>\n",
       "      <td>2004</td>\n",
       "      <td>3758.0</td>\n",
       "      <td>7.9</td>\n",
       "      <td>12.906327</td>\n",
       "      <td>7.850489</td>\n",
       "    </tr>\n",
       "    <tr>\n",
       "      <th>876</th>\n",
       "      <td>Vertigo</td>\n",
       "      <td>1958</td>\n",
       "      <td>1162.0</td>\n",
       "      <td>8.0</td>\n",
       "      <td>18.208220</td>\n",
       "      <td>7.840649</td>\n",
       "    </tr>\n",
       "    <tr>\n",
       "      <th>3189</th>\n",
       "      <td>City Lights</td>\n",
       "      <td>1931</td>\n",
       "      <td>444.0</td>\n",
       "      <td>8.2</td>\n",
       "      <td>10.891524</td>\n",
       "      <td>7.792772</td>\n",
       "    </tr>\n",
       "    <tr>\n",
       "      <th>15530</th>\n",
       "      <td>Mr. Nobody</td>\n",
       "      <td>2009</td>\n",
       "      <td>1616.0</td>\n",
       "      <td>7.9</td>\n",
       "      <td>11.817059</td>\n",
       "      <td>7.788362</td>\n",
       "    </tr>\n",
       "  </tbody>\n",
       "</table>\n",
       "</div>"
      ],
      "text/plain": [
       "                                       title  year  vote_count  vote_average  \\\n",
       "10309            Dilwale Dulhania Le Jayenge  1995       661.0           9.1   \n",
       "40251                             Your Name.  2016      1030.0           8.5   \n",
       "351                             Forrest Gump  1994      8147.0           8.2   \n",
       "1132                         Cinema Paradiso  1988       834.0           8.2   \n",
       "40882                             La La Land  2016      4745.0           7.9   \n",
       "22168                                    Her  2013      4215.0           7.9   \n",
       "7208   Eternal Sunshine of the Spotless Mind  2004      3758.0           7.9   \n",
       "876                                  Vertigo  1958      1162.0           8.0   \n",
       "3189                             City Lights  1931       444.0           8.2   \n",
       "15530                             Mr. Nobody  2009      1616.0           7.9   \n",
       "\n",
       "       popularity        wr  \n",
       "10309   34.457024  8.701374  \n",
       "40251   34.461252  8.281296  \n",
       "351     48.307194  8.173553  \n",
       "1132    14.177005  7.964468  \n",
       "40882   19.681686  7.860594  \n",
       "22168   13.829515  7.855744  \n",
       "7208    12.906327  7.850489  \n",
       "876     18.208220  7.840649  \n",
       "3189    10.891524  7.792772  \n",
       "15530   11.817059  7.788362  "
      ]
     },
     "execution_count": 66,
     "metadata": {},
     "output_type": "execute_result"
    }
   ],
   "source": [
    "build_chart('Romance').head(10)"
   ]
  },
  {
   "cell_type": "markdown",
   "metadata": {},
   "source": [
    "### Top Action Movies"
   ]
  },
  {
   "cell_type": "code",
   "execution_count": 67,
   "metadata": {},
   "outputs": [
    {
     "data": {
      "text/html": [
       "<div>\n",
       "<style scoped>\n",
       "    .dataframe tbody tr th:only-of-type {\n",
       "        vertical-align: middle;\n",
       "    }\n",
       "\n",
       "    .dataframe tbody tr th {\n",
       "        vertical-align: top;\n",
       "    }\n",
       "\n",
       "    .dataframe thead th {\n",
       "        text-align: right;\n",
       "    }\n",
       "</style>\n",
       "<table border=\"1\" class=\"dataframe\">\n",
       "  <thead>\n",
       "    <tr style=\"text-align: right;\">\n",
       "      <th></th>\n",
       "      <th>title</th>\n",
       "      <th>year</th>\n",
       "      <th>vote_count</th>\n",
       "      <th>vote_average</th>\n",
       "      <th>popularity</th>\n",
       "      <th>wr</th>\n",
       "    </tr>\n",
       "  </thead>\n",
       "  <tbody>\n",
       "    <tr>\n",
       "      <th>12481</th>\n",
       "      <td>The Dark Knight</td>\n",
       "      <td>2008</td>\n",
       "      <td>12269.0</td>\n",
       "      <td>8.3</td>\n",
       "      <td>123.167259</td>\n",
       "      <td>8.250466</td>\n",
       "    </tr>\n",
       "    <tr>\n",
       "      <th>1154</th>\n",
       "      <td>The Empire Strikes Back</td>\n",
       "      <td>1980</td>\n",
       "      <td>5998.0</td>\n",
       "      <td>8.2</td>\n",
       "      <td>19.470959</td>\n",
       "      <td>8.104236</td>\n",
       "    </tr>\n",
       "    <tr>\n",
       "      <th>15480</th>\n",
       "      <td>Inception</td>\n",
       "      <td>2010</td>\n",
       "      <td>14075.0</td>\n",
       "      <td>8.1</td>\n",
       "      <td>29.108149</td>\n",
       "      <td>8.059909</td>\n",
       "    </tr>\n",
       "    <tr>\n",
       "      <th>7000</th>\n",
       "      <td>The Lord of the Rings: The Return of the King</td>\n",
       "      <td>2003</td>\n",
       "      <td>8226.0</td>\n",
       "      <td>8.1</td>\n",
       "      <td>29.324358</td>\n",
       "      <td>8.032171</td>\n",
       "    </tr>\n",
       "    <tr>\n",
       "      <th>256</th>\n",
       "      <td>Star Wars</td>\n",
       "      <td>1977</td>\n",
       "      <td>6778.0</td>\n",
       "      <td>8.1</td>\n",
       "      <td>42.149697</td>\n",
       "      <td>8.018152</td>\n",
       "    </tr>\n",
       "    <tr>\n",
       "      <th>4863</th>\n",
       "      <td>The Lord of the Rings: The Fellowship of the Ring</td>\n",
       "      <td>2001</td>\n",
       "      <td>8892.0</td>\n",
       "      <td>8.0</td>\n",
       "      <td>32.070725</td>\n",
       "      <td>7.939624</td>\n",
       "    </tr>\n",
       "    <tr>\n",
       "      <th>5814</th>\n",
       "      <td>The Lord of the Rings: The Two Towers</td>\n",
       "      <td>2002</td>\n",
       "      <td>7641.0</td>\n",
       "      <td>8.0</td>\n",
       "      <td>29.423537</td>\n",
       "      <td>7.930026</td>\n",
       "    </tr>\n",
       "    <tr>\n",
       "      <th>23753</th>\n",
       "      <td>Guardians of the Galaxy</td>\n",
       "      <td>2014</td>\n",
       "      <td>10014.0</td>\n",
       "      <td>7.9</td>\n",
       "      <td>53.291601</td>\n",
       "      <td>7.848464</td>\n",
       "    </tr>\n",
       "    <tr>\n",
       "      <th>2458</th>\n",
       "      <td>The Matrix</td>\n",
       "      <td>1999</td>\n",
       "      <td>9079.0</td>\n",
       "      <td>7.9</td>\n",
       "      <td>33.366332</td>\n",
       "      <td>7.843287</td>\n",
       "    </tr>\n",
       "    <tr>\n",
       "      <th>4135</th>\n",
       "      <td>Scarface</td>\n",
       "      <td>1983</td>\n",
       "      <td>3017.0</td>\n",
       "      <td>8.0</td>\n",
       "      <td>11.299673</td>\n",
       "      <td>7.830315</td>\n",
       "    </tr>\n",
       "  </tbody>\n",
       "</table>\n",
       "</div>"
      ],
      "text/plain": [
       "                                                   title  year  vote_count  \\\n",
       "12481                                    The Dark Knight  2008     12269.0   \n",
       "1154                             The Empire Strikes Back  1980      5998.0   \n",
       "15480                                          Inception  2010     14075.0   \n",
       "7000       The Lord of the Rings: The Return of the King  2003      8226.0   \n",
       "256                                            Star Wars  1977      6778.0   \n",
       "4863   The Lord of the Rings: The Fellowship of the Ring  2001      8892.0   \n",
       "5814               The Lord of the Rings: The Two Towers  2002      7641.0   \n",
       "23753                            Guardians of the Galaxy  2014     10014.0   \n",
       "2458                                          The Matrix  1999      9079.0   \n",
       "4135                                            Scarface  1983      3017.0   \n",
       "\n",
       "       vote_average  popularity        wr  \n",
       "12481           8.3  123.167259  8.250466  \n",
       "1154            8.2   19.470959  8.104236  \n",
       "15480           8.1   29.108149  8.059909  \n",
       "7000            8.1   29.324358  8.032171  \n",
       "256             8.1   42.149697  8.018152  \n",
       "4863            8.0   32.070725  7.939624  \n",
       "5814            8.0   29.423537  7.930026  \n",
       "23753           7.9   53.291601  7.848464  \n",
       "2458            7.9   33.366332  7.843287  \n",
       "4135            8.0   11.299673  7.830315  "
      ]
     },
     "execution_count": 67,
     "metadata": {},
     "output_type": "execute_result"
    }
   ],
   "source": [
    "build_chart('Action').head(10)"
   ]
  },
  {
   "cell_type": "markdown",
   "metadata": {},
   "source": [
    "# **Content Based Filtering**"
   ]
  },
  {
   "cell_type": "code",
   "execution_count": 68,
   "metadata": {},
   "outputs": [
    {
     "name": "stdout",
     "output_type": "stream",
     "text": [
      "Shape of the links_small dataframe: (9112,)\n"
     ]
    },
    {
     "data": {
      "text/plain": [
       "0      862\n",
       "1     8844\n",
       "2    15602\n",
       "3    31357\n",
       "4    11862\n",
       "Name: tmdbId, dtype: int32"
      ]
     },
     "execution_count": 68,
     "metadata": {},
     "output_type": "execute_result"
    }
   ],
   "source": [
    "links_small = pd.read_csv('The Movies Dataset/links_small.csv')\n",
    "links_small = links_small[links_small['tmdbId'].notnull()]['tmdbId'].astype('int')\n",
    "\n",
    "\n",
    "print(f'Shape of the links_small dataframe: {links_small.shape}')\n",
    "links_small.head()"
   ]
  },
  {
   "cell_type": "code",
   "execution_count": 69,
   "metadata": {},
   "outputs": [
    {
     "name": "stdout",
     "output_type": "stream",
     "text": [
      "(9082, 16)\n"
     ]
    },
    {
     "data": {
      "text/html": [
       "<div>\n",
       "<style scoped>\n",
       "    .dataframe tbody tr th:only-of-type {\n",
       "        vertical-align: middle;\n",
       "    }\n",
       "\n",
       "    .dataframe tbody tr th {\n",
       "        vertical-align: top;\n",
       "    }\n",
       "\n",
       "    .dataframe thead th {\n",
       "        text-align: right;\n",
       "    }\n",
       "</style>\n",
       "<table border=\"1\" class=\"dataframe\">\n",
       "  <thead>\n",
       "    <tr style=\"text-align: right;\">\n",
       "      <th></th>\n",
       "      <th>budget</th>\n",
       "      <th>genres</th>\n",
       "      <th>id</th>\n",
       "      <th>imdb_id</th>\n",
       "      <th>original_language</th>\n",
       "      <th>overview</th>\n",
       "      <th>popularity</th>\n",
       "      <th>production_companies</th>\n",
       "      <th>production_countries</th>\n",
       "      <th>revenue</th>\n",
       "      <th>runtime</th>\n",
       "      <th>tagline</th>\n",
       "      <th>title</th>\n",
       "      <th>vote_average</th>\n",
       "      <th>vote_count</th>\n",
       "      <th>year</th>\n",
       "    </tr>\n",
       "  </thead>\n",
       "  <tbody>\n",
       "    <tr>\n",
       "      <th>0</th>\n",
       "      <td>30000000.0</td>\n",
       "      <td>[Animation, Comedy, Family]</td>\n",
       "      <td>862</td>\n",
       "      <td>tt0114709</td>\n",
       "      <td>en</td>\n",
       "      <td>Led by Woody, Andy's toys live happily in his ...</td>\n",
       "      <td>21.946943</td>\n",
       "      <td>[{'name': 'Pixar Animation Studios', 'id': 3}]</td>\n",
       "      <td>[{'iso_3166_1': 'US', 'name': 'United States o...</td>\n",
       "      <td>373554033.0</td>\n",
       "      <td>81</td>\n",
       "      <td></td>\n",
       "      <td>Toy Story</td>\n",
       "      <td>7.7</td>\n",
       "      <td>5415.0</td>\n",
       "      <td>1995</td>\n",
       "    </tr>\n",
       "    <tr>\n",
       "      <th>1</th>\n",
       "      <td>65000000.0</td>\n",
       "      <td>[Adventure, Fantasy, Family]</td>\n",
       "      <td>8844</td>\n",
       "      <td>tt0113497</td>\n",
       "      <td>en</td>\n",
       "      <td>When siblings Judy and Peter discover an encha...</td>\n",
       "      <td>17.015539</td>\n",
       "      <td>[{'name': 'TriStar Pictures', 'id': 559}, {'na...</td>\n",
       "      <td>[{'iso_3166_1': 'US', 'name': 'United States o...</td>\n",
       "      <td>262797249.0</td>\n",
       "      <td>104</td>\n",
       "      <td>Roll the dice and unleash the excitement!</td>\n",
       "      <td>Jumanji</td>\n",
       "      <td>6.9</td>\n",
       "      <td>2413.0</td>\n",
       "      <td>1995</td>\n",
       "    </tr>\n",
       "    <tr>\n",
       "      <th>2</th>\n",
       "      <td>0.0</td>\n",
       "      <td>[Romance, Comedy]</td>\n",
       "      <td>15602</td>\n",
       "      <td>tt0113228</td>\n",
       "      <td>en</td>\n",
       "      <td>A family wedding reignites the ancient feud be...</td>\n",
       "      <td>11.712900</td>\n",
       "      <td>[{'name': 'Warner Bros.', 'id': 6194}, {'name'...</td>\n",
       "      <td>[{'iso_3166_1': 'US', 'name': 'United States o...</td>\n",
       "      <td>0.0</td>\n",
       "      <td>101</td>\n",
       "      <td>Still Yelling. Still Fighting. Still Ready for...</td>\n",
       "      <td>Grumpier Old Men</td>\n",
       "      <td>6.5</td>\n",
       "      <td>92.0</td>\n",
       "      <td>1995</td>\n",
       "    </tr>\n",
       "  </tbody>\n",
       "</table>\n",
       "</div>"
      ],
      "text/plain": [
       "       budget                        genres     id    imdb_id  \\\n",
       "0  30000000.0   [Animation, Comedy, Family]    862  tt0114709   \n",
       "1  65000000.0  [Adventure, Fantasy, Family]   8844  tt0113497   \n",
       "2         0.0             [Romance, Comedy]  15602  tt0113228   \n",
       "\n",
       "  original_language                                           overview  \\\n",
       "0                en  Led by Woody, Andy's toys live happily in his ...   \n",
       "1                en  When siblings Judy and Peter discover an encha...   \n",
       "2                en  A family wedding reignites the ancient feud be...   \n",
       "\n",
       "   popularity                               production_companies  \\\n",
       "0   21.946943     [{'name': 'Pixar Animation Studios', 'id': 3}]   \n",
       "1   17.015539  [{'name': 'TriStar Pictures', 'id': 559}, {'na...   \n",
       "2   11.712900  [{'name': 'Warner Bros.', 'id': 6194}, {'name'...   \n",
       "\n",
       "                                production_countries      revenue  runtime  \\\n",
       "0  [{'iso_3166_1': 'US', 'name': 'United States o...  373554033.0       81   \n",
       "1  [{'iso_3166_1': 'US', 'name': 'United States o...  262797249.0      104   \n",
       "2  [{'iso_3166_1': 'US', 'name': 'United States o...          0.0      101   \n",
       "\n",
       "                                             tagline             title  \\\n",
       "0                                                            Toy Story   \n",
       "1          Roll the dice and unleash the excitement!           Jumanji   \n",
       "2  Still Yelling. Still Fighting. Still Ready for...  Grumpier Old Men   \n",
       "\n",
       "   vote_average  vote_count  year  \n",
       "0           7.7      5415.0  1995  \n",
       "1           6.9      2413.0  1995  \n",
       "2           6.5        92.0  1995  "
      ]
     },
     "execution_count": 69,
     "metadata": {},
     "output_type": "execute_result"
    }
   ],
   "source": [
    "smd_1 = df[df['id'].isin(links_small)]\n",
    "\n",
    "print(smd_1.shape)\n",
    "smd_1.head(3)"
   ]
  },
  {
   "cell_type": "markdown",
   "metadata": {},
   "source": [
    "### Movie Description Based Recommender"
   ]
  },
  {
   "cell_type": "code",
   "execution_count": 70,
   "metadata": {},
   "outputs": [],
   "source": [
    "smd_1 = smd_1.copy()  # Ensures no linkage to the original DataFrame\n",
    "smd_1['description'] = smd_1['title'] + ' ' + smd_1['overview'] + ' ' + smd_1['tagline']\n",
    "smd_1['description'] = smd_1['description'].apply(lambda x: x.lower())"
   ]
  },
  {
   "cell_type": "code",
   "execution_count": null,
   "metadata": {},
   "outputs": [
    {
     "data": {
      "text/plain": [
       "(9082, 282926)"
      ]
     },
     "execution_count": 71,
     "metadata": {},
     "output_type": "execute_result"
    }
   ],
   "source": [
    "#Define a TF-IDF Vectorizer Object. Remove all english stop words such as 'the', 'a'\n",
    "tfve = TfidfVectorizer(analyzer='word',ngram_range=(1, 2),min_df=0.0, stop_words='english')\n",
    "\n",
    "#Construct the required TF-IDF matrix by fitting and transforming the data\n",
    "tfidf_matrix = tfve.fit_transform(smd_1['description'])\n",
    "\n",
    "#Output the shape of tfidf_matrix\n",
    "tfidf_matrix.shape"
   ]
  },
  {
   "cell_type": "markdown",
   "metadata": {},
   "source": [
    "## **Cosine similarity**\n",
    "\n",
    "## $cosine(x,y) = \\frac{x. y^\\intercal}{||x||.||y||} $"
   ]
  },
  {
   "cell_type": "markdown",
   "metadata": {},
   "source": [
    "Since we have used the TF-IDF vectorizer, calculating the dot product will directly give us the cosine similarity score. Therefore, we will use sklearn's **linear_kernel()** instead of cosine_similarities() since it is faster."
   ]
  },
  {
   "cell_type": "code",
   "execution_count": 72,
   "metadata": {},
   "outputs": [
    {
     "data": {
      "text/plain": [
       "(9082, 9082)"
      ]
     },
     "execution_count": 72,
     "metadata": {},
     "output_type": "execute_result"
    }
   ],
   "source": [
    "# Compute the cosine similarity matrix\n",
    "cosine_sim_1 = linear_kernel(tfidf_matrix, tfidf_matrix)\n",
    "# cosine_sim_1 = cosine_similarity(tfidf_matrix, tfidf_matrix)\n",
    "# cosine_sim_1 = sigmoid_kernel(tfidf_matrix, tfidf_matrix)\n",
    "\n",
    "cosine_sim_1.shape"
   ]
  },
  {
   "cell_type": "code",
   "execution_count": 73,
   "metadata": {},
   "outputs": [],
   "source": [
    "smd_1 = smd_1.reset_index()\n",
    "titles = smd_1['title']\n",
    "indices = pd.Series(smd_1.index, index=smd_1['title'])"
   ]
  },
  {
   "cell_type": "code",
   "execution_count": 74,
   "metadata": {},
   "outputs": [],
   "source": [
    "# Function that takes in movie title as input and outputs most similar movies\n",
    "def get_recommendations(title, cosine_sim, recommendations_num=10):\n",
    "    \n",
    "    recommendations_num = recommendations_num + 1\n",
    "    # Get the index of the movie that matches the title\n",
    "    idx = indices[title]\n",
    "\n",
    "    # Get the pairwsie similarity scores of all movies with that movie\n",
    "    sim_scores = list(enumerate(cosine_sim[idx]))\n",
    "\n",
    "    # Sort the movies based on the similarity scores\n",
    "    sim_scores = sorted(sim_scores, key=lambda x: x[1], reverse=True)\n",
    "\n",
    "    # Get the scores of the 10 most similar movies\n",
    "    sim_scores = sim_scores[1:recommendations_num]\n",
    "\n",
    "    # Get the movie indices\n",
    "    movie_indices = [i[0] for i in sim_scores]\n",
    "\n",
    "    # Return the top 10 most similar movies\n",
    "    return titles.iloc[movie_indices]"
   ]
  },
  {
   "cell_type": "code",
   "execution_count": 75,
   "metadata": {},
   "outputs": [
    {
     "data": {
      "text/plain": [
       "973      The Godfather: Part II\n",
       "8382                 The Family\n",
       "3508                       Made\n",
       "1581    The Godfather: Part III\n",
       "4195         Johnny Dangerously\n",
       "5666                       Fury\n",
       "2411             American Movie\n",
       "29               Shanghai Triad\n",
       "7755              Henry's Crime\n",
       "3287          Jaws: The Revenge\n",
       "Name: title, dtype: object"
      ]
     },
     "execution_count": 75,
     "metadata": {},
     "output_type": "execute_result"
    }
   ],
   "source": [
    "get_recommendations('The Godfather', cosine_sim_1)"
   ]
  },
  {
   "cell_type": "code",
   "execution_count": 76,
   "metadata": {},
   "outputs": [
    {
     "data": {
      "text/plain": [
       "7926                      The Dark Knight Rises\n",
       "132                              Batman Forever\n",
       "524                                      Batman\n",
       "8222    Batman: The Dark Knight Returns, Part 2\n",
       "2578               Batman: Mask of the Phantasm\n",
       "1113                             Batman Returns\n",
       "8160    Batman: The Dark Knight Returns, Part 1\n",
       "7561                 Batman: Under the Red Hood\n",
       "7896                           Batman: Year One\n",
       "6141                              Batman Begins\n",
       "Name: title, dtype: object"
      ]
     },
     "execution_count": 76,
     "metadata": {},
     "output_type": "execute_result"
    }
   ],
   "source": [
    "get_recommendations('The Dark Knight', cosine_sim_1)"
   ]
  },
  {
   "cell_type": "markdown",
   "metadata": {},
   "source": [
    "## Metadata Based Recommender"
   ]
  },
  {
   "cell_type": "code",
   "execution_count": 77,
   "metadata": {},
   "outputs": [],
   "source": [
    "credits = pd.read_csv('The Movies Dataset/credits.csv')\n",
    "credits.drop_duplicates(inplace=True)\n",
    "credits.drop_duplicates(subset= ['id'],inplace=True)\n",
    "\n",
    "\n",
    "keywords = pd.read_csv('The Movies Dataset/keywords.csv')\n",
    "keywords.drop_duplicates(inplace=True)\n",
    "keywords.drop_duplicates(subset= ['id'],inplace=True)"
   ]
  },
  {
   "cell_type": "code",
   "execution_count": 78,
   "metadata": {},
   "outputs": [],
   "source": [
    "keywords['id'] = keywords['id'].astype('int')\n",
    "credits['id'] = credits['id'].astype('int')\n",
    "df['id'] = df['id'].astype('int')"
   ]
  },
  {
   "cell_type": "code",
   "execution_count": 79,
   "metadata": {},
   "outputs": [],
   "source": [
    "df = df.merge(credits, on='id')\n",
    "\n",
    "df = df.merge(keywords, on='id')"
   ]
  },
  {
   "cell_type": "code",
   "execution_count": 80,
   "metadata": {},
   "outputs": [
    {
     "data": {
      "text/plain": [
       "(9082, 19)"
      ]
     },
     "execution_count": 80,
     "metadata": {},
     "output_type": "execute_result"
    }
   ],
   "source": [
    "smd_2 = df[df['id'].isin(links_small)]\n",
    "smd_2.shape"
   ]
  },
  {
   "cell_type": "code",
   "execution_count": 81,
   "metadata": {},
   "outputs": [
    {
     "data": {
      "text/html": [
       "<div>\n",
       "<style scoped>\n",
       "    .dataframe tbody tr th:only-of-type {\n",
       "        vertical-align: middle;\n",
       "    }\n",
       "\n",
       "    .dataframe tbody tr th {\n",
       "        vertical-align: top;\n",
       "    }\n",
       "\n",
       "    .dataframe thead th {\n",
       "        text-align: right;\n",
       "    }\n",
       "</style>\n",
       "<table border=\"1\" class=\"dataframe\">\n",
       "  <thead>\n",
       "    <tr style=\"text-align: right;\">\n",
       "      <th></th>\n",
       "      <th>id</th>\n",
       "      <th>title</th>\n",
       "      <th>cast</th>\n",
       "      <th>crew</th>\n",
       "      <th>keywords</th>\n",
       "    </tr>\n",
       "  </thead>\n",
       "  <tbody>\n",
       "    <tr>\n",
       "      <th>0</th>\n",
       "      <td>862</td>\n",
       "      <td>Toy Story</td>\n",
       "      <td>[{'cast_id': 14, 'character': 'Woody (voice)',...</td>\n",
       "      <td>[{'credit_id': '52fe4284c3a36847f8024f49', 'de...</td>\n",
       "      <td>[{'id': 931, 'name': 'jealousy'}, {'id': 4290,...</td>\n",
       "    </tr>\n",
       "    <tr>\n",
       "      <th>1</th>\n",
       "      <td>8844</td>\n",
       "      <td>Jumanji</td>\n",
       "      <td>[{'cast_id': 1, 'character': 'Alan Parrish', '...</td>\n",
       "      <td>[{'credit_id': '52fe44bfc3a36847f80a7cd1', 'de...</td>\n",
       "      <td>[{'id': 10090, 'name': 'board game'}, {'id': 1...</td>\n",
       "    </tr>\n",
       "    <tr>\n",
       "      <th>2</th>\n",
       "      <td>15602</td>\n",
       "      <td>Grumpier Old Men</td>\n",
       "      <td>[{'cast_id': 2, 'character': 'Max Goldman', 'c...</td>\n",
       "      <td>[{'credit_id': '52fe466a9251416c75077a89', 'de...</td>\n",
       "      <td>[{'id': 1495, 'name': 'fishing'}, {'id': 12392...</td>\n",
       "    </tr>\n",
       "  </tbody>\n",
       "</table>\n",
       "</div>"
      ],
      "text/plain": [
       "      id             title                                               cast  \\\n",
       "0    862         Toy Story  [{'cast_id': 14, 'character': 'Woody (voice)',...   \n",
       "1   8844           Jumanji  [{'cast_id': 1, 'character': 'Alan Parrish', '...   \n",
       "2  15602  Grumpier Old Men  [{'cast_id': 2, 'character': 'Max Goldman', 'c...   \n",
       "\n",
       "                                                crew  \\\n",
       "0  [{'credit_id': '52fe4284c3a36847f8024f49', 'de...   \n",
       "1  [{'credit_id': '52fe44bfc3a36847f80a7cd1', 'de...   \n",
       "2  [{'credit_id': '52fe466a9251416c75077a89', 'de...   \n",
       "\n",
       "                                            keywords  \n",
       "0  [{'id': 931, 'name': 'jealousy'}, {'id': 4290,...  \n",
       "1  [{'id': 10090, 'name': 'board game'}, {'id': 1...  \n",
       "2  [{'id': 1495, 'name': 'fishing'}, {'id': 12392...  "
      ]
     },
     "execution_count": 81,
     "metadata": {},
     "output_type": "execute_result"
    }
   ],
   "source": [
    "smd_2[['id', 'title', 'cast', 'crew', 'keywords']].head(3)"
   ]
  },
  {
   "cell_type": "code",
   "execution_count": 82,
   "metadata": {},
   "outputs": [],
   "source": [
    "smd_2 = smd_2.copy()  # Ensures no linkage to the original DataFrame\n",
    "smd_2['cast'] = smd_2['cast'].apply(literal_eval)\n",
    "smd_2['crew'] = smd_2['crew'].apply(literal_eval)\n",
    "smd_2['keywords'] = smd_2['keywords'].apply(literal_eval)\n",
    "smd_2['cast_size'] = smd_2['cast'].apply(lambda x: len(x))\n",
    "smd_2['crew_size'] = smd_2['crew'].apply(lambda x: len(x))"
   ]
  },
  {
   "cell_type": "code",
   "execution_count": 83,
   "metadata": {},
   "outputs": [
    {
     "data": {
      "text/html": [
       "<div>\n",
       "<style scoped>\n",
       "    .dataframe tbody tr th:only-of-type {\n",
       "        vertical-align: middle;\n",
       "    }\n",
       "\n",
       "    .dataframe tbody tr th {\n",
       "        vertical-align: top;\n",
       "    }\n",
       "\n",
       "    .dataframe thead th {\n",
       "        text-align: right;\n",
       "    }\n",
       "</style>\n",
       "<table border=\"1\" class=\"dataframe\">\n",
       "  <thead>\n",
       "    <tr style=\"text-align: right;\">\n",
       "      <th></th>\n",
       "      <th>id</th>\n",
       "      <th>title</th>\n",
       "      <th>cast</th>\n",
       "      <th>cast_size</th>\n",
       "      <th>crew</th>\n",
       "      <th>crew_size</th>\n",
       "      <th>keywords</th>\n",
       "    </tr>\n",
       "  </thead>\n",
       "  <tbody>\n",
       "    <tr>\n",
       "      <th>0</th>\n",
       "      <td>862</td>\n",
       "      <td>Toy Story</td>\n",
       "      <td>[{'cast_id': 14, 'character': 'Woody (voice)',...</td>\n",
       "      <td>13</td>\n",
       "      <td>[{'credit_id': '52fe4284c3a36847f8024f49', 'de...</td>\n",
       "      <td>106</td>\n",
       "      <td>[{'id': 931, 'name': 'jealousy'}, {'id': 4290,...</td>\n",
       "    </tr>\n",
       "    <tr>\n",
       "      <th>1</th>\n",
       "      <td>8844</td>\n",
       "      <td>Jumanji</td>\n",
       "      <td>[{'cast_id': 1, 'character': 'Alan Parrish', '...</td>\n",
       "      <td>26</td>\n",
       "      <td>[{'credit_id': '52fe44bfc3a36847f80a7cd1', 'de...</td>\n",
       "      <td>16</td>\n",
       "      <td>[{'id': 10090, 'name': 'board game'}, {'id': 1...</td>\n",
       "    </tr>\n",
       "    <tr>\n",
       "      <th>2</th>\n",
       "      <td>15602</td>\n",
       "      <td>Grumpier Old Men</td>\n",
       "      <td>[{'cast_id': 2, 'character': 'Max Goldman', 'c...</td>\n",
       "      <td>7</td>\n",
       "      <td>[{'credit_id': '52fe466a9251416c75077a89', 'de...</td>\n",
       "      <td>4</td>\n",
       "      <td>[{'id': 1495, 'name': 'fishing'}, {'id': 12392...</td>\n",
       "    </tr>\n",
       "  </tbody>\n",
       "</table>\n",
       "</div>"
      ],
      "text/plain": [
       "      id             title                                               cast  \\\n",
       "0    862         Toy Story  [{'cast_id': 14, 'character': 'Woody (voice)',...   \n",
       "1   8844           Jumanji  [{'cast_id': 1, 'character': 'Alan Parrish', '...   \n",
       "2  15602  Grumpier Old Men  [{'cast_id': 2, 'character': 'Max Goldman', 'c...   \n",
       "\n",
       "   cast_size                                               crew  crew_size  \\\n",
       "0         13  [{'credit_id': '52fe4284c3a36847f8024f49', 'de...        106   \n",
       "1         26  [{'credit_id': '52fe44bfc3a36847f80a7cd1', 'de...         16   \n",
       "2          7  [{'credit_id': '52fe466a9251416c75077a89', 'de...          4   \n",
       "\n",
       "                                            keywords  \n",
       "0  [{'id': 931, 'name': 'jealousy'}, {'id': 4290,...  \n",
       "1  [{'id': 10090, 'name': 'board game'}, {'id': 1...  \n",
       "2  [{'id': 1495, 'name': 'fishing'}, {'id': 12392...  "
      ]
     },
     "execution_count": 83,
     "metadata": {},
     "output_type": "execute_result"
    }
   ],
   "source": [
    "smd_2[['id', 'title', 'cast', 'cast_size', 'crew', 'crew_size', 'keywords']].head(3)"
   ]
  },
  {
   "cell_type": "code",
   "execution_count": 84,
   "metadata": {},
   "outputs": [],
   "source": [
    "def get_director(x):\n",
    "    for i in x:\n",
    "        if i['job'] == 'Director':\n",
    "            return i['name']\n",
    "    return np.nan"
   ]
  },
  {
   "cell_type": "code",
   "execution_count": 85,
   "metadata": {},
   "outputs": [],
   "source": [
    "smd_2['director'] = smd_2['crew'].apply(get_director)"
   ]
  },
  {
   "cell_type": "code",
   "execution_count": 86,
   "metadata": {},
   "outputs": [],
   "source": [
    "smd_2['cast'] = smd_2['cast'].apply(lambda x: [i['name'] for i in x] if isinstance(x, list) else [])\n",
    "smd_2['cast'] = smd_2['cast'].apply(lambda x: x[:3] if len(x) >=3 else x)\n",
    "\n",
    "smd_2['keywords'] = smd_2['keywords'].apply(lambda x: [i['name'] for i in x] if isinstance(x, list) else [])"
   ]
  },
  {
   "cell_type": "code",
   "execution_count": 87,
   "metadata": {},
   "outputs": [
    {
     "data": {
      "text/html": [
       "<div>\n",
       "<style scoped>\n",
       "    .dataframe tbody tr th:only-of-type {\n",
       "        vertical-align: middle;\n",
       "    }\n",
       "\n",
       "    .dataframe tbody tr th {\n",
       "        vertical-align: top;\n",
       "    }\n",
       "\n",
       "    .dataframe thead th {\n",
       "        text-align: right;\n",
       "    }\n",
       "</style>\n",
       "<table border=\"1\" class=\"dataframe\">\n",
       "  <thead>\n",
       "    <tr style=\"text-align: right;\">\n",
       "      <th></th>\n",
       "      <th>id</th>\n",
       "      <th>title</th>\n",
       "      <th>cast</th>\n",
       "      <th>cast_size</th>\n",
       "      <th>director</th>\n",
       "      <th>crew_size</th>\n",
       "      <th>keywords</th>\n",
       "    </tr>\n",
       "  </thead>\n",
       "  <tbody>\n",
       "    <tr>\n",
       "      <th>0</th>\n",
       "      <td>862</td>\n",
       "      <td>Toy Story</td>\n",
       "      <td>[Tom Hanks, Tim Allen, Don Rickles]</td>\n",
       "      <td>13</td>\n",
       "      <td>John Lasseter</td>\n",
       "      <td>106</td>\n",
       "      <td>[jealousy, toy, boy, friendship, friends, riva...</td>\n",
       "    </tr>\n",
       "    <tr>\n",
       "      <th>1</th>\n",
       "      <td>8844</td>\n",
       "      <td>Jumanji</td>\n",
       "      <td>[Robin Williams, Jonathan Hyde, Kirsten Dunst]</td>\n",
       "      <td>26</td>\n",
       "      <td>Joe Johnston</td>\n",
       "      <td>16</td>\n",
       "      <td>[board game, disappearance, based on children'...</td>\n",
       "    </tr>\n",
       "    <tr>\n",
       "      <th>2</th>\n",
       "      <td>15602</td>\n",
       "      <td>Grumpier Old Men</td>\n",
       "      <td>[Walter Matthau, Jack Lemmon, Ann-Margret]</td>\n",
       "      <td>7</td>\n",
       "      <td>Howard Deutch</td>\n",
       "      <td>4</td>\n",
       "      <td>[fishing, best friend, duringcreditsstinger, o...</td>\n",
       "    </tr>\n",
       "  </tbody>\n",
       "</table>\n",
       "</div>"
      ],
      "text/plain": [
       "      id             title                                            cast  \\\n",
       "0    862         Toy Story             [Tom Hanks, Tim Allen, Don Rickles]   \n",
       "1   8844           Jumanji  [Robin Williams, Jonathan Hyde, Kirsten Dunst]   \n",
       "2  15602  Grumpier Old Men      [Walter Matthau, Jack Lemmon, Ann-Margret]   \n",
       "\n",
       "   cast_size       director  crew_size  \\\n",
       "0         13  John Lasseter        106   \n",
       "1         26   Joe Johnston         16   \n",
       "2          7  Howard Deutch          4   \n",
       "\n",
       "                                            keywords  \n",
       "0  [jealousy, toy, boy, friendship, friends, riva...  \n",
       "1  [board game, disappearance, based on children'...  \n",
       "2  [fishing, best friend, duringcreditsstinger, o...  "
      ]
     },
     "execution_count": 87,
     "metadata": {},
     "output_type": "execute_result"
    }
   ],
   "source": [
    "smd_2[['id', 'title', 'cast', 'cast_size', 'director', 'crew_size', 'keywords']].head(3)"
   ]
  },
  {
   "cell_type": "markdown",
   "metadata": {},
   "source": [
    "1. **Strip Spaces and Convert to Lowercase** from all our features. This way, our engine will not confuse between **Johnny Depp** and **Johnny Galecki.** "
   ]
  },
  {
   "cell_type": "code",
   "execution_count": 88,
   "metadata": {},
   "outputs": [],
   "source": [
    "smd_2['cast'] = smd_2['cast'].apply(lambda x: [str.lower(i.replace(\" \", \"\")) for i in x])"
   ]
  },
  {
   "cell_type": "markdown",
   "metadata": {},
   "source": [
    "2. **Mention Director 3 times** to give it more weight relative to the entire cast."
   ]
  },
  {
   "cell_type": "code",
   "execution_count": 89,
   "metadata": {},
   "outputs": [],
   "source": [
    "smd_2['director'] = smd_2['director'].astype('str').apply(lambda x: str.lower(x.replace(\" \", \"\")))\n",
    "smd_2['director'] = smd_2['director'].apply(lambda x: [x,x, x])"
   ]
  },
  {
   "cell_type": "markdown",
   "metadata": {},
   "source": [
    "#### Keywords\n",
    "\n",
    "small amount of pre-processing of our keywords before putting them to any use. As a first step, we calculate the frequenct counts of every keyword that appears in the dataset."
   ]
  },
  {
   "cell_type": "code",
   "execution_count": 90,
   "metadata": {},
   "outputs": [],
   "source": [
    "s = smd_2.apply(lambda x: pd.Series(x['keywords']),axis=1).stack().reset_index(level=1, drop=True)\n",
    "s.name = 'keyword'"
   ]
  },
  {
   "cell_type": "code",
   "execution_count": 91,
   "metadata": {},
   "outputs": [
    {
     "data": {
      "text/plain": [
       "keyword\n",
       "independent film        603\n",
       "woman director          541\n",
       "murder                  397\n",
       "duringcreditsstinger    327\n",
       "based on novel          309\n",
       "Name: count, dtype: int64"
      ]
     },
     "execution_count": 91,
     "metadata": {},
     "output_type": "execute_result"
    }
   ],
   "source": [
    "s = s.value_counts()\n",
    "s[:5]"
   ]
  },
  {
   "cell_type": "code",
   "execution_count": 92,
   "metadata": {},
   "outputs": [],
   "source": [
    "s = s[s > 1]"
   ]
  },
  {
   "cell_type": "code",
   "execution_count": 93,
   "metadata": {},
   "outputs": [],
   "source": [
    "stemmer = SnowballStemmer('english')"
   ]
  },
  {
   "cell_type": "code",
   "execution_count": 94,
   "metadata": {},
   "outputs": [],
   "source": [
    "def filter_keywords(x):\n",
    "    words = []\n",
    "    for i in x:\n",
    "        if i in s:\n",
    "            words.append(i)\n",
    "    return words"
   ]
  },
  {
   "cell_type": "code",
   "execution_count": 95,
   "metadata": {},
   "outputs": [],
   "source": [
    "smd_2['keywords'] = smd_2['keywords'].apply(filter_keywords)\n",
    "smd_2['keywords'] = smd_2['keywords'].apply(lambda x: [stemmer.stem(i) for i in x])\n",
    "smd_2['keywords'] = smd_2['keywords'].apply(lambda x: [str.lower(i.replace(\" \", \"\")) for i in x])"
   ]
  },
  {
   "cell_type": "code",
   "execution_count": 96,
   "metadata": {},
   "outputs": [],
   "source": [
    "smd_2['soup'] = smd_2['keywords'] + smd_2['cast'] + smd_2['director'] + smd_2['genres']\n",
    "smd_2['soup'] = smd_2['soup'].apply(lambda x: ' '.join(x))"
   ]
  },
  {
   "cell_type": "markdown",
   "metadata": {},
   "source": [
    "### CountVectorizer"
   ]
  },
  {
   "cell_type": "code",
   "execution_count": 97,
   "metadata": {},
   "outputs": [],
   "source": [
    "count = CountVectorizer(analyzer='word',ngram_range=(1, 2),min_df=0.0, stop_words='english')\n",
    "count_matrix = count.fit_transform(smd_2['soup'])"
   ]
  },
  {
   "cell_type": "code",
   "execution_count": 98,
   "metadata": {},
   "outputs": [
    {
     "data": {
      "text/plain": [
       "(9082, 9082)"
      ]
     },
     "execution_count": 98,
     "metadata": {},
     "output_type": "execute_result"
    }
   ],
   "source": [
    "cosine_sim_2 = cosine_similarity(count_matrix, count_matrix)\n",
    "\n",
    "cosine_sim_2.shape"
   ]
  },
  {
   "cell_type": "code",
   "execution_count": 99,
   "metadata": {},
   "outputs": [],
   "source": [
    "smd_2 = smd_2.reset_index()\n",
    "titles = smd_2['title']\n",
    "indices = pd.Series(smd_2.index, index=smd_2['title'])"
   ]
  },
  {
   "cell_type": "code",
   "execution_count": 100,
   "metadata": {},
   "outputs": [
    {
     "data": {
      "text/plain": [
       "7926         The Dark Knight Rises\n",
       "6141                 Batman Begins\n",
       "6539                  The Prestige\n",
       "2064                     Following\n",
       "7550                     Inception\n",
       "4103                      Insomnia\n",
       "3360                       Memento\n",
       "8501                  Interstellar\n",
       "7561    Batman: Under the Red Hood\n",
       "1113                Batman Returns\n",
       "Name: title, dtype: object"
      ]
     },
     "execution_count": 100,
     "metadata": {},
     "output_type": "execute_result"
    }
   ],
   "source": [
    "get_recommendations('The Dark Knight', cosine_sim_2)"
   ]
  },
  {
   "cell_type": "code",
   "execution_count": 101,
   "metadata": {},
   "outputs": [
    {
     "data": {
      "text/plain": [
       "3298               Head Over Heels\n",
       "4707                 Freaky Friday\n",
       "1308              The House of Yes\n",
       "6200              Just Like Heaven\n",
       "7800         Mr. Popper's Penguins\n",
       "7241    Ghosts of Girlfriends Past\n",
       "6875     The Spiderwick Chronicles\n",
       "8764                      The DUFF\n",
       "6614         It's a Boy Girl Thing\n",
       "7279       I Love You, Beth Cooper\n",
       "Name: title, dtype: object"
      ]
     },
     "execution_count": 101,
     "metadata": {},
     "output_type": "execute_result"
    }
   ],
   "source": [
    "get_recommendations('Mean Girls', cosine_sim_2)"
   ]
  },
  {
   "cell_type": "markdown",
   "metadata": {},
   "source": [
    "### Popularity and Ratings"
   ]
  },
  {
   "cell_type": "code",
   "execution_count": 102,
   "metadata": {},
   "outputs": [],
   "source": [
    "def improved_recommendations(title, cosine_sim, recommendations_num=10):\n",
    "    idx = indices[title]\n",
    "    sim_scores = list(enumerate(cosine_sim[idx]))\n",
    "    sim_scores = sorted(sim_scores, key=lambda x: x[1], reverse=True)\n",
    "    sim_scores = sim_scores[1:26]\n",
    "    movie_indices = [i[0] for i in sim_scores]\n",
    "    \n",
    "    movies = smd_2.iloc[movie_indices][['title', 'vote_count', 'vote_average', 'year']]\n",
    "    vote_counts = movies[movies['vote_count'].notnull()]['vote_count']\n",
    "    vote_averages = movies[movies['vote_average'].notnull()]['vote_average']\n",
    "    C = vote_averages.mean()\n",
    "    m = vote_counts.quantile(0.60)\n",
    "    qualified = movies[(movies['vote_count'] >= m) & (movies['vote_count'].notnull()) & (movies['vote_average'].notnull())]\n",
    "    qualified = qualified.copy()\n",
    "    qualified['vote_count'] = qualified['vote_count']\n",
    "    qualified['vote_average'] = qualified['vote_average']\n",
    "    qualified['wr_score'] = qualified.apply(weighted_rating, axis=1)\n",
    "    qualified = qualified.sort_values('wr_score', ascending=False).head(recommendations_num)\n",
    "    return qualified"
   ]
  },
  {
   "cell_type": "code",
   "execution_count": 103,
   "metadata": {},
   "outputs": [
    {
     "data": {
      "text/html": [
       "<div>\n",
       "<style scoped>\n",
       "    .dataframe tbody tr th:only-of-type {\n",
       "        vertical-align: middle;\n",
       "    }\n",
       "\n",
       "    .dataframe tbody tr th {\n",
       "        vertical-align: top;\n",
       "    }\n",
       "\n",
       "    .dataframe thead th {\n",
       "        text-align: right;\n",
       "    }\n",
       "</style>\n",
       "<table border=\"1\" class=\"dataframe\">\n",
       "  <thead>\n",
       "    <tr style=\"text-align: right;\">\n",
       "      <th></th>\n",
       "      <th>title</th>\n",
       "      <th>vote_count</th>\n",
       "      <th>vote_average</th>\n",
       "      <th>year</th>\n",
       "      <th>wr_score</th>\n",
       "    </tr>\n",
       "  </thead>\n",
       "  <tbody>\n",
       "    <tr>\n",
       "      <th>7550</th>\n",
       "      <td>Inception</td>\n",
       "      <td>14075.0</td>\n",
       "      <td>8.1</td>\n",
       "      <td>2010</td>\n",
       "      <td>8.025812</td>\n",
       "    </tr>\n",
       "    <tr>\n",
       "      <th>8501</th>\n",
       "      <td>Interstellar</td>\n",
       "      <td>11187.0</td>\n",
       "      <td>8.1</td>\n",
       "      <td>2014</td>\n",
       "      <td>8.007375</td>\n",
       "    </tr>\n",
       "    <tr>\n",
       "      <th>3360</th>\n",
       "      <td>Memento</td>\n",
       "      <td>4168.0</td>\n",
       "      <td>8.1</td>\n",
       "      <td>2000</td>\n",
       "      <td>7.866102</td>\n",
       "    </tr>\n",
       "    <tr>\n",
       "      <th>6539</th>\n",
       "      <td>The Prestige</td>\n",
       "      <td>4510.0</td>\n",
       "      <td>8.0</td>\n",
       "      <td>2006</td>\n",
       "      <td>7.791060</td>\n",
       "    </tr>\n",
       "    <tr>\n",
       "      <th>7926</th>\n",
       "      <td>The Dark Knight Rises</td>\n",
       "      <td>9263.0</td>\n",
       "      <td>7.6</td>\n",
       "      <td>2012</td>\n",
       "      <td>7.511375</td>\n",
       "    </tr>\n",
       "    <tr>\n",
       "      <th>6141</th>\n",
       "      <td>Batman Begins</td>\n",
       "      <td>7511.0</td>\n",
       "      <td>7.5</td>\n",
       "      <td>2005</td>\n",
       "      <td>7.397294</td>\n",
       "    </tr>\n",
       "    <tr>\n",
       "      <th>1113</th>\n",
       "      <td>Batman Returns</td>\n",
       "      <td>1706.0</td>\n",
       "      <td>6.6</td>\n",
       "      <td>1992</td>\n",
       "      <td>6.401215</td>\n",
       "    </tr>\n",
       "    <tr>\n",
       "      <th>8905</th>\n",
       "      <td>Batman v Superman: Dawn of Justice</td>\n",
       "      <td>7189.0</td>\n",
       "      <td>5.7</td>\n",
       "      <td>2016</td>\n",
       "      <td>5.695435</td>\n",
       "    </tr>\n",
       "    <tr>\n",
       "      <th>132</th>\n",
       "      <td>Batman Forever</td>\n",
       "      <td>1529.0</td>\n",
       "      <td>5.2</td>\n",
       "      <td>1995</td>\n",
       "      <td>5.292817</td>\n",
       "    </tr>\n",
       "    <tr>\n",
       "      <th>1239</th>\n",
       "      <td>Batman &amp; Robin</td>\n",
       "      <td>1447.0</td>\n",
       "      <td>4.2</td>\n",
       "      <td>1997</td>\n",
       "      <td>4.527592</td>\n",
       "    </tr>\n",
       "  </tbody>\n",
       "</table>\n",
       "</div>"
      ],
      "text/plain": [
       "                                   title  vote_count  vote_average  year  \\\n",
       "7550                           Inception     14075.0           8.1  2010   \n",
       "8501                        Interstellar     11187.0           8.1  2014   \n",
       "3360                             Memento      4168.0           8.1  2000   \n",
       "6539                        The Prestige      4510.0           8.0  2006   \n",
       "7926               The Dark Knight Rises      9263.0           7.6  2012   \n",
       "6141                       Batman Begins      7511.0           7.5  2005   \n",
       "1113                      Batman Returns      1706.0           6.6  1992   \n",
       "8905  Batman v Superman: Dawn of Justice      7189.0           5.7  2016   \n",
       "132                       Batman Forever      1529.0           5.2  1995   \n",
       "1239                      Batman & Robin      1447.0           4.2  1997   \n",
       "\n",
       "      wr_score  \n",
       "7550  8.025812  \n",
       "8501  8.007375  \n",
       "3360  7.866102  \n",
       "6539  7.791060  \n",
       "7926  7.511375  \n",
       "6141  7.397294  \n",
       "1113  6.401215  \n",
       "8905  5.695435  \n",
       "132   5.292817  \n",
       "1239  4.527592  "
      ]
     },
     "execution_count": 103,
     "metadata": {},
     "output_type": "execute_result"
    }
   ],
   "source": [
    "improved_recommendations('The Dark Knight', cosine_sim_2)"
   ]
  },
  {
   "cell_type": "code",
   "execution_count": 104,
   "metadata": {},
   "outputs": [
    {
     "data": {
      "text/html": [
       "<div>\n",
       "<style scoped>\n",
       "    .dataframe tbody tr th:only-of-type {\n",
       "        vertical-align: middle;\n",
       "    }\n",
       "\n",
       "    .dataframe tbody tr th {\n",
       "        vertical-align: top;\n",
       "    }\n",
       "\n",
       "    .dataframe thead th {\n",
       "        text-align: right;\n",
       "    }\n",
       "</style>\n",
       "<table border=\"1\" class=\"dataframe\">\n",
       "  <thead>\n",
       "    <tr style=\"text-align: right;\">\n",
       "      <th></th>\n",
       "      <th>title</th>\n",
       "      <th>vote_count</th>\n",
       "      <th>vote_average</th>\n",
       "      <th>year</th>\n",
       "      <th>wr_score</th>\n",
       "    </tr>\n",
       "  </thead>\n",
       "  <tbody>\n",
       "    <tr>\n",
       "      <th>1526</th>\n",
       "      <td>The Breakfast Club</td>\n",
       "      <td>2189.0</td>\n",
       "      <td>7.8</td>\n",
       "      <td>1985</td>\n",
       "      <td>7.439268</td>\n",
       "    </tr>\n",
       "    <tr>\n",
       "      <th>390</th>\n",
       "      <td>Dazed and Confused</td>\n",
       "      <td>588.0</td>\n",
       "      <td>7.4</td>\n",
       "      <td>1993</td>\n",
       "      <td>6.644031</td>\n",
       "    </tr>\n",
       "    <tr>\n",
       "      <th>8764</th>\n",
       "      <td>The DUFF</td>\n",
       "      <td>1372.0</td>\n",
       "      <td>6.8</td>\n",
       "      <td>2015</td>\n",
       "      <td>6.516390</td>\n",
       "    </tr>\n",
       "    <tr>\n",
       "      <th>3677</th>\n",
       "      <td>The Princess Diaries</td>\n",
       "      <td>1063.0</td>\n",
       "      <td>6.5</td>\n",
       "      <td>2001</td>\n",
       "      <td>6.244823</td>\n",
       "    </tr>\n",
       "    <tr>\n",
       "      <th>6200</th>\n",
       "      <td>Just Like Heaven</td>\n",
       "      <td>595.0</td>\n",
       "      <td>6.5</td>\n",
       "      <td>2005</td>\n",
       "      <td>6.128766</td>\n",
       "    </tr>\n",
       "    <tr>\n",
       "      <th>6875</th>\n",
       "      <td>The Spiderwick Chronicles</td>\n",
       "      <td>593.0</td>\n",
       "      <td>6.3</td>\n",
       "      <td>2008</td>\n",
       "      <td>6.012561</td>\n",
       "    </tr>\n",
       "    <tr>\n",
       "      <th>4707</th>\n",
       "      <td>Freaky Friday</td>\n",
       "      <td>919.0</td>\n",
       "      <td>6.0</td>\n",
       "      <td>2003</td>\n",
       "      <td>5.878049</td>\n",
       "    </tr>\n",
       "    <tr>\n",
       "      <th>7800</th>\n",
       "      <td>Mr. Popper's Penguins</td>\n",
       "      <td>775.0</td>\n",
       "      <td>5.7</td>\n",
       "      <td>2011</td>\n",
       "      <td>5.671216</td>\n",
       "    </tr>\n",
       "    <tr>\n",
       "      <th>7241</th>\n",
       "      <td>Ghosts of Girlfriends Past</td>\n",
       "      <td>716.0</td>\n",
       "      <td>5.6</td>\n",
       "      <td>2009</td>\n",
       "      <td>5.607478</td>\n",
       "    </tr>\n",
       "    <tr>\n",
       "      <th>7396</th>\n",
       "      <td>American Pie Presents: The Book of Love</td>\n",
       "      <td>454.0</td>\n",
       "      <td>5.1</td>\n",
       "      <td>2009</td>\n",
       "      <td>5.354054</td>\n",
       "    </tr>\n",
       "  </tbody>\n",
       "</table>\n",
       "</div>"
      ],
      "text/plain": [
       "                                        title  vote_count  vote_average  year  \\\n",
       "1526                       The Breakfast Club      2189.0           7.8  1985   \n",
       "390                        Dazed and Confused       588.0           7.4  1993   \n",
       "8764                                 The DUFF      1372.0           6.8  2015   \n",
       "3677                     The Princess Diaries      1063.0           6.5  2001   \n",
       "6200                         Just Like Heaven       595.0           6.5  2005   \n",
       "6875                The Spiderwick Chronicles       593.0           6.3  2008   \n",
       "4707                            Freaky Friday       919.0           6.0  2003   \n",
       "7800                    Mr. Popper's Penguins       775.0           5.7  2011   \n",
       "7241               Ghosts of Girlfriends Past       716.0           5.6  2009   \n",
       "7396  American Pie Presents: The Book of Love       454.0           5.1  2009   \n",
       "\n",
       "      wr_score  \n",
       "1526  7.439268  \n",
       "390   6.644031  \n",
       "8764  6.516390  \n",
       "3677  6.244823  \n",
       "6200  6.128766  \n",
       "6875  6.012561  \n",
       "4707  5.878049  \n",
       "7800  5.671216  \n",
       "7241  5.607478  \n",
       "7396  5.354054  "
      ]
     },
     "execution_count": 104,
     "metadata": {},
     "output_type": "execute_result"
    }
   ],
   "source": [
    "improved_recommendations('Mean Girls', cosine_sim_2)"
   ]
  },
  {
   "cell_type": "markdown",
   "metadata": {},
   "source": [
    "## Using only Numerical column for **Content Based Filtering**"
   ]
  },
  {
   "cell_type": "code",
   "execution_count": 105,
   "metadata": {},
   "outputs": [
    {
     "data": {
      "text/html": [
       "<div>\n",
       "<style scoped>\n",
       "    .dataframe tbody tr th:only-of-type {\n",
       "        vertical-align: middle;\n",
       "    }\n",
       "\n",
       "    .dataframe tbody tr th {\n",
       "        vertical-align: top;\n",
       "    }\n",
       "\n",
       "    .dataframe thead th {\n",
       "        text-align: right;\n",
       "    }\n",
       "</style>\n",
       "<table border=\"1\" class=\"dataframe\">\n",
       "  <thead>\n",
       "    <tr style=\"text-align: right;\">\n",
       "      <th></th>\n",
       "      <th>index</th>\n",
       "      <th>budget</th>\n",
       "      <th>genres</th>\n",
       "      <th>id</th>\n",
       "      <th>imdb_id</th>\n",
       "      <th>original_language</th>\n",
       "      <th>overview</th>\n",
       "      <th>popularity</th>\n",
       "      <th>production_companies</th>\n",
       "      <th>production_countries</th>\n",
       "      <th>...</th>\n",
       "      <th>vote_average</th>\n",
       "      <th>vote_count</th>\n",
       "      <th>year</th>\n",
       "      <th>cast</th>\n",
       "      <th>crew</th>\n",
       "      <th>keywords</th>\n",
       "      <th>cast_size</th>\n",
       "      <th>crew_size</th>\n",
       "      <th>director</th>\n",
       "      <th>soup</th>\n",
       "    </tr>\n",
       "  </thead>\n",
       "  <tbody>\n",
       "    <tr>\n",
       "      <th>0</th>\n",
       "      <td>0</td>\n",
       "      <td>30000000.0</td>\n",
       "      <td>[Animation, Comedy, Family]</td>\n",
       "      <td>862</td>\n",
       "      <td>tt0114709</td>\n",
       "      <td>en</td>\n",
       "      <td>Led by Woody, Andy's toys live happily in his ...</td>\n",
       "      <td>21.946943</td>\n",
       "      <td>[{'name': 'Pixar Animation Studios', 'id': 3}]</td>\n",
       "      <td>[{'iso_3166_1': 'US', 'name': 'United States o...</td>\n",
       "      <td>...</td>\n",
       "      <td>7.7</td>\n",
       "      <td>5415.0</td>\n",
       "      <td>1995</td>\n",
       "      <td>[tomhanks, timallen, donrickles]</td>\n",
       "      <td>[{'credit_id': '52fe4284c3a36847f8024f49', 'de...</td>\n",
       "      <td>[jealousi, toy, boy, friendship, friend, rival...</td>\n",
       "      <td>13</td>\n",
       "      <td>106</td>\n",
       "      <td>[johnlasseter, johnlasseter, johnlasseter]</td>\n",
       "      <td>jealousi toy boy friendship friend rivalri boy...</td>\n",
       "    </tr>\n",
       "    <tr>\n",
       "      <th>1</th>\n",
       "      <td>1</td>\n",
       "      <td>65000000.0</td>\n",
       "      <td>[Adventure, Fantasy, Family]</td>\n",
       "      <td>8844</td>\n",
       "      <td>tt0113497</td>\n",
       "      <td>en</td>\n",
       "      <td>When siblings Judy and Peter discover an encha...</td>\n",
       "      <td>17.015539</td>\n",
       "      <td>[{'name': 'TriStar Pictures', 'id': 559}, {'na...</td>\n",
       "      <td>[{'iso_3166_1': 'US', 'name': 'United States o...</td>\n",
       "      <td>...</td>\n",
       "      <td>6.9</td>\n",
       "      <td>2413.0</td>\n",
       "      <td>1995</td>\n",
       "      <td>[robinwilliams, jonathanhyde, kirstendunst]</td>\n",
       "      <td>[{'credit_id': '52fe44bfc3a36847f80a7cd1', 'de...</td>\n",
       "      <td>[boardgam, disappear, basedonchildren'sbook, n...</td>\n",
       "      <td>26</td>\n",
       "      <td>16</td>\n",
       "      <td>[joejohnston, joejohnston, joejohnston]</td>\n",
       "      <td>boardgam disappear basedonchildren'sbook newho...</td>\n",
       "    </tr>\n",
       "    <tr>\n",
       "      <th>2</th>\n",
       "      <td>2</td>\n",
       "      <td>0.0</td>\n",
       "      <td>[Romance, Comedy]</td>\n",
       "      <td>15602</td>\n",
       "      <td>tt0113228</td>\n",
       "      <td>en</td>\n",
       "      <td>A family wedding reignites the ancient feud be...</td>\n",
       "      <td>11.712900</td>\n",
       "      <td>[{'name': 'Warner Bros.', 'id': 6194}, {'name'...</td>\n",
       "      <td>[{'iso_3166_1': 'US', 'name': 'United States o...</td>\n",
       "      <td>...</td>\n",
       "      <td>6.5</td>\n",
       "      <td>92.0</td>\n",
       "      <td>1995</td>\n",
       "      <td>[waltermatthau, jacklemmon, ann-margret]</td>\n",
       "      <td>[{'credit_id': '52fe466a9251416c75077a89', 'de...</td>\n",
       "      <td>[fish, bestfriend, duringcreditssting]</td>\n",
       "      <td>7</td>\n",
       "      <td>4</td>\n",
       "      <td>[howarddeutch, howarddeutch, howarddeutch]</td>\n",
       "      <td>fish bestfriend duringcreditssting waltermatth...</td>\n",
       "    </tr>\n",
       "  </tbody>\n",
       "</table>\n",
       "<p>3 rows × 24 columns</p>\n",
       "</div>"
      ],
      "text/plain": [
       "   index      budget                        genres     id    imdb_id  \\\n",
       "0      0  30000000.0   [Animation, Comedy, Family]    862  tt0114709   \n",
       "1      1  65000000.0  [Adventure, Fantasy, Family]   8844  tt0113497   \n",
       "2      2         0.0             [Romance, Comedy]  15602  tt0113228   \n",
       "\n",
       "  original_language                                           overview  \\\n",
       "0                en  Led by Woody, Andy's toys live happily in his ...   \n",
       "1                en  When siblings Judy and Peter discover an encha...   \n",
       "2                en  A family wedding reignites the ancient feud be...   \n",
       "\n",
       "   popularity                               production_companies  \\\n",
       "0   21.946943     [{'name': 'Pixar Animation Studios', 'id': 3}]   \n",
       "1   17.015539  [{'name': 'TriStar Pictures', 'id': 559}, {'na...   \n",
       "2   11.712900  [{'name': 'Warner Bros.', 'id': 6194}, {'name'...   \n",
       "\n",
       "                                production_countries  ...  vote_average  \\\n",
       "0  [{'iso_3166_1': 'US', 'name': 'United States o...  ...           7.7   \n",
       "1  [{'iso_3166_1': 'US', 'name': 'United States o...  ...           6.9   \n",
       "2  [{'iso_3166_1': 'US', 'name': 'United States o...  ...           6.5   \n",
       "\n",
       "   vote_count  year                                         cast  \\\n",
       "0      5415.0  1995             [tomhanks, timallen, donrickles]   \n",
       "1      2413.0  1995  [robinwilliams, jonathanhyde, kirstendunst]   \n",
       "2        92.0  1995     [waltermatthau, jacklemmon, ann-margret]   \n",
       "\n",
       "                                                crew  \\\n",
       "0  [{'credit_id': '52fe4284c3a36847f8024f49', 'de...   \n",
       "1  [{'credit_id': '52fe44bfc3a36847f80a7cd1', 'de...   \n",
       "2  [{'credit_id': '52fe466a9251416c75077a89', 'de...   \n",
       "\n",
       "                                            keywords  cast_size crew_size  \\\n",
       "0  [jealousi, toy, boy, friendship, friend, rival...         13       106   \n",
       "1  [boardgam, disappear, basedonchildren'sbook, n...         26        16   \n",
       "2             [fish, bestfriend, duringcreditssting]          7         4   \n",
       "\n",
       "                                     director  \\\n",
       "0  [johnlasseter, johnlasseter, johnlasseter]   \n",
       "1     [joejohnston, joejohnston, joejohnston]   \n",
       "2  [howarddeutch, howarddeutch, howarddeutch]   \n",
       "\n",
       "                                                soup  \n",
       "0  jealousi toy boy friendship friend rivalri boy...  \n",
       "1  boardgam disappear basedonchildren'sbook newho...  \n",
       "2  fish bestfriend duringcreditssting waltermatth...  \n",
       "\n",
       "[3 rows x 24 columns]"
      ]
     },
     "execution_count": 105,
     "metadata": {},
     "output_type": "execute_result"
    }
   ],
   "source": [
    "smd_2.head(3)"
   ]
  },
  {
   "cell_type": "code",
   "execution_count": 106,
   "metadata": {},
   "outputs": [
    {
     "name": "stdout",
     "output_type": "stream",
     "text": [
      "ndf shape is: (9082, 9)\n"
     ]
    },
    {
     "data": {
      "text/html": [
       "<div>\n",
       "<style scoped>\n",
       "    .dataframe tbody tr th:only-of-type {\n",
       "        vertical-align: middle;\n",
       "    }\n",
       "\n",
       "    .dataframe tbody tr th {\n",
       "        vertical-align: top;\n",
       "    }\n",
       "\n",
       "    .dataframe thead th {\n",
       "        text-align: right;\n",
       "    }\n",
       "</style>\n",
       "<table border=\"1\" class=\"dataframe\">\n",
       "  <thead>\n",
       "    <tr style=\"text-align: right;\">\n",
       "      <th></th>\n",
       "      <th>budget</th>\n",
       "      <th>popularity</th>\n",
       "      <th>revenue</th>\n",
       "      <th>runtime</th>\n",
       "      <th>vote_average</th>\n",
       "      <th>vote_count</th>\n",
       "      <th>year</th>\n",
       "      <th>cast_size</th>\n",
       "      <th>crew_size</th>\n",
       "    </tr>\n",
       "  </thead>\n",
       "  <tbody>\n",
       "    <tr>\n",
       "      <th>0</th>\n",
       "      <td>30000000.0</td>\n",
       "      <td>21.946943</td>\n",
       "      <td>373554033.0</td>\n",
       "      <td>81</td>\n",
       "      <td>7.7</td>\n",
       "      <td>5415.0</td>\n",
       "      <td>1995</td>\n",
       "      <td>13</td>\n",
       "      <td>106</td>\n",
       "    </tr>\n",
       "    <tr>\n",
       "      <th>1</th>\n",
       "      <td>65000000.0</td>\n",
       "      <td>17.015539</td>\n",
       "      <td>262797249.0</td>\n",
       "      <td>104</td>\n",
       "      <td>6.9</td>\n",
       "      <td>2413.0</td>\n",
       "      <td>1995</td>\n",
       "      <td>26</td>\n",
       "      <td>16</td>\n",
       "    </tr>\n",
       "    <tr>\n",
       "      <th>2</th>\n",
       "      <td>0.0</td>\n",
       "      <td>11.712900</td>\n",
       "      <td>0.0</td>\n",
       "      <td>101</td>\n",
       "      <td>6.5</td>\n",
       "      <td>92.0</td>\n",
       "      <td>1995</td>\n",
       "      <td>7</td>\n",
       "      <td>4</td>\n",
       "    </tr>\n",
       "    <tr>\n",
       "      <th>3</th>\n",
       "      <td>16000000.0</td>\n",
       "      <td>3.859495</td>\n",
       "      <td>81452156.0</td>\n",
       "      <td>127</td>\n",
       "      <td>6.1</td>\n",
       "      <td>34.0</td>\n",
       "      <td>1995</td>\n",
       "      <td>10</td>\n",
       "      <td>10</td>\n",
       "    </tr>\n",
       "    <tr>\n",
       "      <th>4</th>\n",
       "      <td>0.0</td>\n",
       "      <td>8.387519</td>\n",
       "      <td>76578911.0</td>\n",
       "      <td>106</td>\n",
       "      <td>5.7</td>\n",
       "      <td>173.0</td>\n",
       "      <td>1995</td>\n",
       "      <td>12</td>\n",
       "      <td>7</td>\n",
       "    </tr>\n",
       "  </tbody>\n",
       "</table>\n",
       "</div>"
      ],
      "text/plain": [
       "       budget  popularity      revenue  runtime  vote_average  vote_count  \\\n",
       "0  30000000.0   21.946943  373554033.0       81           7.7      5415.0   \n",
       "1  65000000.0   17.015539  262797249.0      104           6.9      2413.0   \n",
       "2         0.0   11.712900          0.0      101           6.5        92.0   \n",
       "3  16000000.0    3.859495   81452156.0      127           6.1        34.0   \n",
       "4         0.0    8.387519   76578911.0      106           5.7       173.0   \n",
       "\n",
       "   year  cast_size  crew_size  \n",
       "0  1995         13        106  \n",
       "1  1995         26         16  \n",
       "2  1995          7          4  \n",
       "3  1995         10         10  \n",
       "4  1995         12          7  "
      ]
     },
     "execution_count": 106,
     "metadata": {},
     "output_type": "execute_result"
    }
   ],
   "source": [
    "ndf = smd_2.select_dtypes(include=[\"float64\",\"int64\",\"float32\",\"int32\"])\n",
    "\n",
    "ndf.drop(columns=['index','id'], inplace=True)\n",
    "\n",
    "print(f'ndf shape is: {ndf.shape}')\n",
    "\n",
    "ndf.head()"
   ]
  },
  {
   "cell_type": "code",
   "execution_count": 107,
   "metadata": {},
   "outputs": [
    {
     "data": {
      "text/html": [
       "<div>\n",
       "<style scoped>\n",
       "    .dataframe tbody tr th:only-of-type {\n",
       "        vertical-align: middle;\n",
       "    }\n",
       "\n",
       "    .dataframe tbody tr th {\n",
       "        vertical-align: top;\n",
       "    }\n",
       "\n",
       "    .dataframe thead th {\n",
       "        text-align: right;\n",
       "    }\n",
       "</style>\n",
       "<table border=\"1\" class=\"dataframe\">\n",
       "  <thead>\n",
       "    <tr style=\"text-align: right;\">\n",
       "      <th></th>\n",
       "      <th>budget</th>\n",
       "      <th>popularity</th>\n",
       "      <th>revenue</th>\n",
       "      <th>runtime</th>\n",
       "      <th>vote_average</th>\n",
       "      <th>vote_count</th>\n",
       "      <th>year</th>\n",
       "      <th>cast_size</th>\n",
       "      <th>crew_size</th>\n",
       "    </tr>\n",
       "  </thead>\n",
       "  <tbody>\n",
       "    <tr>\n",
       "      <th>0</th>\n",
       "      <td>0.078947</td>\n",
       "      <td>0.040087</td>\n",
       "      <td>0.133988</td>\n",
       "      <td>0.071053</td>\n",
       "      <td>0.77</td>\n",
       "      <td>0.384725</td>\n",
       "      <td>0.815789</td>\n",
       "      <td>0.041534</td>\n",
       "      <td>0.243678</td>\n",
       "    </tr>\n",
       "    <tr>\n",
       "      <th>1</th>\n",
       "      <td>0.171053</td>\n",
       "      <td>0.031079</td>\n",
       "      <td>0.094261</td>\n",
       "      <td>0.091228</td>\n",
       "      <td>0.69</td>\n",
       "      <td>0.171439</td>\n",
       "      <td>0.815789</td>\n",
       "      <td>0.083067</td>\n",
       "      <td>0.036782</td>\n",
       "    </tr>\n",
       "    <tr>\n",
       "      <th>2</th>\n",
       "      <td>0.000000</td>\n",
       "      <td>0.021394</td>\n",
       "      <td>0.000000</td>\n",
       "      <td>0.088596</td>\n",
       "      <td>0.65</td>\n",
       "      <td>0.006536</td>\n",
       "      <td>0.815789</td>\n",
       "      <td>0.022364</td>\n",
       "      <td>0.009195</td>\n",
       "    </tr>\n",
       "    <tr>\n",
       "      <th>3</th>\n",
       "      <td>0.042105</td>\n",
       "      <td>0.007049</td>\n",
       "      <td>0.029216</td>\n",
       "      <td>0.111404</td>\n",
       "      <td>0.61</td>\n",
       "      <td>0.002416</td>\n",
       "      <td>0.815789</td>\n",
       "      <td>0.031949</td>\n",
       "      <td>0.022989</td>\n",
       "    </tr>\n",
       "    <tr>\n",
       "      <th>4</th>\n",
       "      <td>0.000000</td>\n",
       "      <td>0.015320</td>\n",
       "      <td>0.027468</td>\n",
       "      <td>0.092982</td>\n",
       "      <td>0.57</td>\n",
       "      <td>0.012291</td>\n",
       "      <td>0.815789</td>\n",
       "      <td>0.038339</td>\n",
       "      <td>0.016092</td>\n",
       "    </tr>\n",
       "  </tbody>\n",
       "</table>\n",
       "</div>"
      ],
      "text/plain": [
       "     budget  popularity   revenue   runtime  vote_average  vote_count  \\\n",
       "0  0.078947    0.040087  0.133988  0.071053          0.77    0.384725   \n",
       "1  0.171053    0.031079  0.094261  0.091228          0.69    0.171439   \n",
       "2  0.000000    0.021394  0.000000  0.088596          0.65    0.006536   \n",
       "3  0.042105    0.007049  0.029216  0.111404          0.61    0.002416   \n",
       "4  0.000000    0.015320  0.027468  0.092982          0.57    0.012291   \n",
       "\n",
       "       year  cast_size  crew_size  \n",
       "0  0.815789   0.041534   0.243678  \n",
       "1  0.815789   0.083067   0.036782  \n",
       "2  0.815789   0.022364   0.009195  \n",
       "3  0.815789   0.031949   0.022989  \n",
       "4  0.815789   0.038339   0.016092  "
      ]
     },
     "execution_count": 107,
     "metadata": {},
     "output_type": "execute_result"
    }
   ],
   "source": [
    "# Create MinMaxScaler Object\n",
    "scaler = MinMaxScaler(feature_range=(0, 1))\n",
    "\n",
    "# Create dataframe after transformation\n",
    "ndfmx = pd.DataFrame((scaler.fit_transform(ndf)))\n",
    "\n",
    "# assign column names\n",
    "ndfmx.columns=ndf.columns\n",
    "\n",
    "# Show initial 5 records\n",
    "ndfmx.head()\n"
   ]
  },
  {
   "cell_type": "code",
   "execution_count": 108,
   "metadata": {},
   "outputs": [
    {
     "data": {
      "text/plain": [
       "(9082, 9082)"
      ]
     },
     "execution_count": 108,
     "metadata": {},
     "output_type": "execute_result"
    }
   ],
   "source": [
    "# Compute the cosine similarity\n",
    "cosine_sim_3 = cosine_similarity(ndfmx, ndfmx)\n",
    "\n",
    "cosine_sim_3.shape"
   ]
  },
  {
   "cell_type": "code",
   "execution_count": 109,
   "metadata": {},
   "outputs": [
    {
     "name": "stdout",
     "output_type": "stream",
     "text": [
      "Indices shape is: (9082,)\n"
     ]
    },
    {
     "data": {
      "text/plain": [
       "title\n",
       "Toy Story                      0\n",
       "Jumanji                        1\n",
       "Grumpier Old Men               2\n",
       "Waiting to Exhale              3\n",
       "Father of the Bride Part II    4\n",
       "dtype: int64"
      ]
     },
     "execution_count": 109,
     "metadata": {},
     "output_type": "execute_result"
    }
   ],
   "source": [
    "# Reverse mapping of indices and movie titles\n",
    "indices = pd.Series(smd_2.index, index=smd_2['title']).drop_duplicates()\n",
    "\n",
    "print(f'Indices shape is: {indices.shape}')\n",
    "indices.head()"
   ]
  },
  {
   "cell_type": "code",
   "execution_count": 110,
   "metadata": {},
   "outputs": [
    {
     "data": {
      "text/plain": [
       "8600       Guardians of the Galaxy\n",
       "7864                  The Avengers\n",
       "6925                      Iron Man\n",
       "8280                    Iron Man 3\n",
       "8198              Django Unchained\n",
       "8501                  Interstellar\n",
       "8885                 Suicide Squad\n",
       "8745            Mad Max: Fury Road\n",
       "6141                 Batman Begins\n",
       "8753    Captain America: Civil War\n",
       "Name: title, dtype: object"
      ]
     },
     "execution_count": 110,
     "metadata": {},
     "output_type": "execute_result"
    }
   ],
   "source": [
    "get_recommendations('The Dark Knight', cosine_sim_3)"
   ]
  },
  {
   "cell_type": "markdown",
   "metadata": {},
   "source": [
    "# **Marge two cosine similarity matrices**"
   ]
  },
  {
   "cell_type": "code",
   "execution_count": 111,
   "metadata": {},
   "outputs": [
    {
     "data": {
      "text/plain": [
       "(9082, 9082)"
      ]
     },
     "execution_count": 111,
     "metadata": {},
     "output_type": "execute_result"
    }
   ],
   "source": [
    "alpha = 0.3  # Hyperparameter to balance the two matrices\n",
    "\n",
    "combine_cosine_sim = alpha * cosine_sim_1 + (1 - alpha) * cosine_sim_2\n",
    "\n",
    "combine_cosine_sim.shape"
   ]
  },
  {
   "cell_type": "code",
   "execution_count": 112,
   "metadata": {},
   "outputs": [
    {
     "data": {
      "text/plain": [
       "6897    The Dark Knight\n",
       "6141      Batman Begins\n",
       "2064          Following\n",
       "6539       The Prestige\n",
       "7550          Inception\n",
       "4103           Insomnia\n",
       "3360            Memento\n",
       "8501       Interstellar\n",
       "1113     Batman Returns\n",
       "132      Batman Forever\n",
       "Name: title, dtype: object"
      ]
     },
     "execution_count": 112,
     "metadata": {},
     "output_type": "execute_result"
    }
   ],
   "source": [
    "get_recommendations('The Dark Knight Rises', combine_cosine_sim)"
   ]
  },
  {
   "cell_type": "code",
   "execution_count": 113,
   "metadata": {},
   "outputs": [
    {
     "data": {
      "text/html": [
       "<div>\n",
       "<style scoped>\n",
       "    .dataframe tbody tr th:only-of-type {\n",
       "        vertical-align: middle;\n",
       "    }\n",
       "\n",
       "    .dataframe tbody tr th {\n",
       "        vertical-align: top;\n",
       "    }\n",
       "\n",
       "    .dataframe thead th {\n",
       "        text-align: right;\n",
       "    }\n",
       "</style>\n",
       "<table border=\"1\" class=\"dataframe\">\n",
       "  <thead>\n",
       "    <tr style=\"text-align: right;\">\n",
       "      <th></th>\n",
       "      <th>title</th>\n",
       "      <th>vote_count</th>\n",
       "      <th>vote_average</th>\n",
       "      <th>year</th>\n",
       "      <th>wr_score</th>\n",
       "    </tr>\n",
       "  </thead>\n",
       "  <tbody>\n",
       "    <tr>\n",
       "      <th>6897</th>\n",
       "      <td>The Dark Knight</td>\n",
       "      <td>12269.0</td>\n",
       "      <td>8.3</td>\n",
       "      <td>2008</td>\n",
       "      <td>8.208431</td>\n",
       "    </tr>\n",
       "    <tr>\n",
       "      <th>7550</th>\n",
       "      <td>Inception</td>\n",
       "      <td>14075.0</td>\n",
       "      <td>8.1</td>\n",
       "      <td>2010</td>\n",
       "      <td>8.025812</td>\n",
       "    </tr>\n",
       "    <tr>\n",
       "      <th>8501</th>\n",
       "      <td>Interstellar</td>\n",
       "      <td>11187.0</td>\n",
       "      <td>8.1</td>\n",
       "      <td>2014</td>\n",
       "      <td>8.007375</td>\n",
       "    </tr>\n",
       "    <tr>\n",
       "      <th>3360</th>\n",
       "      <td>Memento</td>\n",
       "      <td>4168.0</td>\n",
       "      <td>8.1</td>\n",
       "      <td>2000</td>\n",
       "      <td>7.866102</td>\n",
       "    </tr>\n",
       "    <tr>\n",
       "      <th>6539</th>\n",
       "      <td>The Prestige</td>\n",
       "      <td>4510.0</td>\n",
       "      <td>8.0</td>\n",
       "      <td>2006</td>\n",
       "      <td>7.791060</td>\n",
       "    </tr>\n",
       "    <tr>\n",
       "      <th>6141</th>\n",
       "      <td>Batman Begins</td>\n",
       "      <td>7511.0</td>\n",
       "      <td>7.5</td>\n",
       "      <td>2005</td>\n",
       "      <td>7.397294</td>\n",
       "    </tr>\n",
       "    <tr>\n",
       "      <th>524</th>\n",
       "      <td>Batman</td>\n",
       "      <td>2145.0</td>\n",
       "      <td>7.0</td>\n",
       "      <td>1989</td>\n",
       "      <td>6.767739</td>\n",
       "    </tr>\n",
       "    <tr>\n",
       "      <th>1113</th>\n",
       "      <td>Batman Returns</td>\n",
       "      <td>1706.0</td>\n",
       "      <td>6.6</td>\n",
       "      <td>1992</td>\n",
       "      <td>6.401215</td>\n",
       "    </tr>\n",
       "    <tr>\n",
       "      <th>132</th>\n",
       "      <td>Batman Forever</td>\n",
       "      <td>1529.0</td>\n",
       "      <td>5.2</td>\n",
       "      <td>1995</td>\n",
       "      <td>5.292817</td>\n",
       "    </tr>\n",
       "    <tr>\n",
       "      <th>1239</th>\n",
       "      <td>Batman &amp; Robin</td>\n",
       "      <td>1447.0</td>\n",
       "      <td>4.2</td>\n",
       "      <td>1997</td>\n",
       "      <td>4.527592</td>\n",
       "    </tr>\n",
       "  </tbody>\n",
       "</table>\n",
       "</div>"
      ],
      "text/plain": [
       "                title  vote_count  vote_average  year  wr_score\n",
       "6897  The Dark Knight     12269.0           8.3  2008  8.208431\n",
       "7550        Inception     14075.0           8.1  2010  8.025812\n",
       "8501     Interstellar     11187.0           8.1  2014  8.007375\n",
       "3360          Memento      4168.0           8.1  2000  7.866102\n",
       "6539     The Prestige      4510.0           8.0  2006  7.791060\n",
       "6141    Batman Begins      7511.0           7.5  2005  7.397294\n",
       "524            Batman      2145.0           7.0  1989  6.767739\n",
       "1113   Batman Returns      1706.0           6.6  1992  6.401215\n",
       "132    Batman Forever      1529.0           5.2  1995  5.292817\n",
       "1239   Batman & Robin      1447.0           4.2  1997  4.527592"
      ]
     },
     "execution_count": 113,
     "metadata": {},
     "output_type": "execute_result"
    }
   ],
   "source": [
    "improved_recommendations('The Dark Knight Rises', combine_cosine_sim)"
   ]
  },
  {
   "cell_type": "code",
   "execution_count": 114,
   "metadata": {},
   "outputs": [
    {
     "data": {
      "text/plain": [
       "973            The Godfather: Part II\n",
       "3581    Tucker: The Man and His Dream\n",
       "1325                    The Rainmaker\n",
       "3670                  The Cotton Club\n",
       "3279                 Gardens of Stone\n",
       "4462               One from the Heart\n",
       "1581          The Godfather: Part III\n",
       "2977                 The Conversation\n",
       "5797                      Rumble Fish\n",
       "1971            Peggy Sue Got Married\n",
       "Name: title, dtype: object"
      ]
     },
     "execution_count": 114,
     "metadata": {},
     "output_type": "execute_result"
    }
   ],
   "source": [
    "get_recommendations('The Godfather', combine_cosine_sim)"
   ]
  },
  {
   "cell_type": "code",
   "execution_count": 115,
   "metadata": {},
   "outputs": [
    {
     "data": {
      "text/html": [
       "<div>\n",
       "<style scoped>\n",
       "    .dataframe tbody tr th:only-of-type {\n",
       "        vertical-align: middle;\n",
       "    }\n",
       "\n",
       "    .dataframe tbody tr th {\n",
       "        vertical-align: top;\n",
       "    }\n",
       "\n",
       "    .dataframe thead th {\n",
       "        text-align: right;\n",
       "    }\n",
       "</style>\n",
       "<table border=\"1\" class=\"dataframe\">\n",
       "  <thead>\n",
       "    <tr style=\"text-align: right;\">\n",
       "      <th></th>\n",
       "      <th>title</th>\n",
       "      <th>vote_count</th>\n",
       "      <th>vote_average</th>\n",
       "      <th>year</th>\n",
       "      <th>wr_score</th>\n",
       "    </tr>\n",
       "  </thead>\n",
       "  <tbody>\n",
       "    <tr>\n",
       "      <th>973</th>\n",
       "      <td>The Godfather: Part II</td>\n",
       "      <td>3418.0</td>\n",
       "      <td>8.3</td>\n",
       "      <td>1974</td>\n",
       "      <td>7.998027</td>\n",
       "    </tr>\n",
       "    <tr>\n",
       "      <th>965</th>\n",
       "      <td>GoodFellas</td>\n",
       "      <td>3211.0</td>\n",
       "      <td>8.2</td>\n",
       "      <td>1990</td>\n",
       "      <td>7.892785</td>\n",
       "    </tr>\n",
       "    <tr>\n",
       "      <th>960</th>\n",
       "      <td>Apocalypse Now</td>\n",
       "      <td>2112.0</td>\n",
       "      <td>8.0</td>\n",
       "      <td>1979</td>\n",
       "      <td>7.594266</td>\n",
       "    </tr>\n",
       "    <tr>\n",
       "      <th>1581</th>\n",
       "      <td>The Godfather: Part III</td>\n",
       "      <td>1589.0</td>\n",
       "      <td>7.1</td>\n",
       "      <td>1990</td>\n",
       "      <td>6.782452</td>\n",
       "    </tr>\n",
       "    <tr>\n",
       "      <th>1079</th>\n",
       "      <td>Dracula</td>\n",
       "      <td>1087.0</td>\n",
       "      <td>7.1</td>\n",
       "      <td>1992</td>\n",
       "      <td>6.677646</td>\n",
       "    </tr>\n",
       "    <tr>\n",
       "      <th>2977</th>\n",
       "      <td>The Conversation</td>\n",
       "      <td>377.0</td>\n",
       "      <td>7.5</td>\n",
       "      <td>1974</td>\n",
       "      <td>6.493835</td>\n",
       "    </tr>\n",
       "    <tr>\n",
       "      <th>2787</th>\n",
       "      <td>Midnight Express</td>\n",
       "      <td>309.0</td>\n",
       "      <td>7.6</td>\n",
       "      <td>1978</td>\n",
       "      <td>6.443338</td>\n",
       "    </tr>\n",
       "    <tr>\n",
       "      <th>8382</th>\n",
       "      <td>The Family</td>\n",
       "      <td>1052.0</td>\n",
       "      <td>6.1</td>\n",
       "      <td>2013</td>\n",
       "      <td>5.959758</td>\n",
       "    </tr>\n",
       "    <tr>\n",
       "      <th>7366</th>\n",
       "      <td>The Bad Lieutenant: Port of Call - New Orleans</td>\n",
       "      <td>331.0</td>\n",
       "      <td>6.0</td>\n",
       "      <td>2009</td>\n",
       "      <td>5.784314</td>\n",
       "    </tr>\n",
       "    <tr>\n",
       "      <th>635</th>\n",
       "      <td>Jack</td>\n",
       "      <td>340.0</td>\n",
       "      <td>5.9</td>\n",
       "      <td>1996</td>\n",
       "      <td>5.742894</td>\n",
       "    </tr>\n",
       "  </tbody>\n",
       "</table>\n",
       "</div>"
      ],
      "text/plain": [
       "                                               title  vote_count  \\\n",
       "973                           The Godfather: Part II      3418.0   \n",
       "965                                       GoodFellas      3211.0   \n",
       "960                                   Apocalypse Now      2112.0   \n",
       "1581                         The Godfather: Part III      1589.0   \n",
       "1079                                         Dracula      1087.0   \n",
       "2977                                The Conversation       377.0   \n",
       "2787                                Midnight Express       309.0   \n",
       "8382                                      The Family      1052.0   \n",
       "7366  The Bad Lieutenant: Port of Call - New Orleans       331.0   \n",
       "635                                             Jack       340.0   \n",
       "\n",
       "      vote_average  year  wr_score  \n",
       "973            8.3  1974  7.998027  \n",
       "965            8.2  1990  7.892785  \n",
       "960            8.0  1979  7.594266  \n",
       "1581           7.1  1990  6.782452  \n",
       "1079           7.1  1992  6.677646  \n",
       "2977           7.5  1974  6.493835  \n",
       "2787           7.6  1978  6.443338  \n",
       "8382           6.1  2013  5.959758  \n",
       "7366           6.0  2009  5.784314  \n",
       "635            5.9  1996  5.742894  "
      ]
     },
     "execution_count": 115,
     "metadata": {},
     "output_type": "execute_result"
    }
   ],
   "source": [
    "improved_recommendations('The Godfather', combine_cosine_sim)"
   ]
  },
  {
   "cell_type": "code",
   "execution_count": 116,
   "metadata": {},
   "outputs": [
    {
     "data": {
      "text/plain": [
       "3298               Head Over Heels\n",
       "4707                 Freaky Friday\n",
       "6200              Just Like Heaven\n",
       "1308              The House of Yes\n",
       "7800         Mr. Popper's Penguins\n",
       "7241    Ghosts of Girlfriends Past\n",
       "6875     The Spiderwick Chronicles\n",
       "8764                      The DUFF\n",
       "6614         It's a Boy Girl Thing\n",
       "7279       I Love You, Beth Cooper\n",
       "Name: title, dtype: object"
      ]
     },
     "execution_count": 116,
     "metadata": {},
     "output_type": "execute_result"
    }
   ],
   "source": [
    "get_recommendations('Mean Girls', combine_cosine_sim)"
   ]
  },
  {
   "cell_type": "code",
   "execution_count": 117,
   "metadata": {},
   "outputs": [
    {
     "data": {
      "text/html": [
       "<div>\n",
       "<style scoped>\n",
       "    .dataframe tbody tr th:only-of-type {\n",
       "        vertical-align: middle;\n",
       "    }\n",
       "\n",
       "    .dataframe tbody tr th {\n",
       "        vertical-align: top;\n",
       "    }\n",
       "\n",
       "    .dataframe thead th {\n",
       "        text-align: right;\n",
       "    }\n",
       "</style>\n",
       "<table border=\"1\" class=\"dataframe\">\n",
       "  <thead>\n",
       "    <tr style=\"text-align: right;\">\n",
       "      <th></th>\n",
       "      <th>title</th>\n",
       "      <th>vote_count</th>\n",
       "      <th>vote_average</th>\n",
       "      <th>year</th>\n",
       "      <th>wr_score</th>\n",
       "    </tr>\n",
       "  </thead>\n",
       "  <tbody>\n",
       "    <tr>\n",
       "      <th>1526</th>\n",
       "      <td>The Breakfast Club</td>\n",
       "      <td>2189.0</td>\n",
       "      <td>7.8</td>\n",
       "      <td>1985</td>\n",
       "      <td>7.439268</td>\n",
       "    </tr>\n",
       "    <tr>\n",
       "      <th>8764</th>\n",
       "      <td>The DUFF</td>\n",
       "      <td>1372.0</td>\n",
       "      <td>6.8</td>\n",
       "      <td>2015</td>\n",
       "      <td>6.516390</td>\n",
       "    </tr>\n",
       "    <tr>\n",
       "      <th>3677</th>\n",
       "      <td>The Princess Diaries</td>\n",
       "      <td>1063.0</td>\n",
       "      <td>6.5</td>\n",
       "      <td>2001</td>\n",
       "      <td>6.244823</td>\n",
       "    </tr>\n",
       "    <tr>\n",
       "      <th>5395</th>\n",
       "      <td>Napoleon Dynamite</td>\n",
       "      <td>567.0</td>\n",
       "      <td>6.7</td>\n",
       "      <td>2004</td>\n",
       "      <td>6.231668</td>\n",
       "    </tr>\n",
       "    <tr>\n",
       "      <th>6200</th>\n",
       "      <td>Just Like Heaven</td>\n",
       "      <td>595.0</td>\n",
       "      <td>6.5</td>\n",
       "      <td>2005</td>\n",
       "      <td>6.128766</td>\n",
       "    </tr>\n",
       "    <tr>\n",
       "      <th>6875</th>\n",
       "      <td>The Spiderwick Chronicles</td>\n",
       "      <td>593.0</td>\n",
       "      <td>6.3</td>\n",
       "      <td>2008</td>\n",
       "      <td>6.012561</td>\n",
       "    </tr>\n",
       "    <tr>\n",
       "      <th>4707</th>\n",
       "      <td>Freaky Friday</td>\n",
       "      <td>919.0</td>\n",
       "      <td>6.0</td>\n",
       "      <td>2003</td>\n",
       "      <td>5.878049</td>\n",
       "    </tr>\n",
       "    <tr>\n",
       "      <th>7800</th>\n",
       "      <td>Mr. Popper's Penguins</td>\n",
       "      <td>775.0</td>\n",
       "      <td>5.7</td>\n",
       "      <td>2011</td>\n",
       "      <td>5.671216</td>\n",
       "    </tr>\n",
       "    <tr>\n",
       "      <th>7241</th>\n",
       "      <td>Ghosts of Girlfriends Past</td>\n",
       "      <td>716.0</td>\n",
       "      <td>5.6</td>\n",
       "      <td>2009</td>\n",
       "      <td>5.607478</td>\n",
       "    </tr>\n",
       "    <tr>\n",
       "      <th>7396</th>\n",
       "      <td>American Pie Presents: The Book of Love</td>\n",
       "      <td>454.0</td>\n",
       "      <td>5.1</td>\n",
       "      <td>2009</td>\n",
       "      <td>5.354054</td>\n",
       "    </tr>\n",
       "  </tbody>\n",
       "</table>\n",
       "</div>"
      ],
      "text/plain": [
       "                                        title  vote_count  vote_average  year  \\\n",
       "1526                       The Breakfast Club      2189.0           7.8  1985   \n",
       "8764                                 The DUFF      1372.0           6.8  2015   \n",
       "3677                     The Princess Diaries      1063.0           6.5  2001   \n",
       "5395                        Napoleon Dynamite       567.0           6.7  2004   \n",
       "6200                         Just Like Heaven       595.0           6.5  2005   \n",
       "6875                The Spiderwick Chronicles       593.0           6.3  2008   \n",
       "4707                            Freaky Friday       919.0           6.0  2003   \n",
       "7800                    Mr. Popper's Penguins       775.0           5.7  2011   \n",
       "7241               Ghosts of Girlfriends Past       716.0           5.6  2009   \n",
       "7396  American Pie Presents: The Book of Love       454.0           5.1  2009   \n",
       "\n",
       "      wr_score  \n",
       "1526  7.439268  \n",
       "8764  6.516390  \n",
       "3677  6.244823  \n",
       "5395  6.231668  \n",
       "6200  6.128766  \n",
       "6875  6.012561  \n",
       "4707  5.878049  \n",
       "7800  5.671216  \n",
       "7241  5.607478  \n",
       "7396  5.354054  "
      ]
     },
     "execution_count": 117,
     "metadata": {},
     "output_type": "execute_result"
    }
   ],
   "source": [
    "improved_recommendations('Mean Girls', combine_cosine_sim)"
   ]
  },
  {
   "cell_type": "markdown",
   "metadata": {},
   "source": [
    "# **Rating Dataset**"
   ]
  },
  {
   "cell_type": "code",
   "execution_count": 118,
   "metadata": {},
   "outputs": [
    {
     "name": "stdout",
     "output_type": "stream",
     "text": [
      "(100004, 4)\n"
     ]
    },
    {
     "data": {
      "text/html": [
       "<div>\n",
       "<style scoped>\n",
       "    .dataframe tbody tr th:only-of-type {\n",
       "        vertical-align: middle;\n",
       "    }\n",
       "\n",
       "    .dataframe tbody tr th {\n",
       "        vertical-align: top;\n",
       "    }\n",
       "\n",
       "    .dataframe thead th {\n",
       "        text-align: right;\n",
       "    }\n",
       "</style>\n",
       "<table border=\"1\" class=\"dataframe\">\n",
       "  <thead>\n",
       "    <tr style=\"text-align: right;\">\n",
       "      <th></th>\n",
       "      <th>userId</th>\n",
       "      <th>movieId</th>\n",
       "      <th>rating</th>\n",
       "      <th>timestamp</th>\n",
       "    </tr>\n",
       "  </thead>\n",
       "  <tbody>\n",
       "    <tr>\n",
       "      <th>0</th>\n",
       "      <td>1</td>\n",
       "      <td>31</td>\n",
       "      <td>2.5</td>\n",
       "      <td>1260759144</td>\n",
       "    </tr>\n",
       "    <tr>\n",
       "      <th>1</th>\n",
       "      <td>1</td>\n",
       "      <td>1029</td>\n",
       "      <td>3.0</td>\n",
       "      <td>1260759179</td>\n",
       "    </tr>\n",
       "    <tr>\n",
       "      <th>2</th>\n",
       "      <td>1</td>\n",
       "      <td>1061</td>\n",
       "      <td>3.0</td>\n",
       "      <td>1260759182</td>\n",
       "    </tr>\n",
       "    <tr>\n",
       "      <th>3</th>\n",
       "      <td>1</td>\n",
       "      <td>1129</td>\n",
       "      <td>2.0</td>\n",
       "      <td>1260759185</td>\n",
       "    </tr>\n",
       "    <tr>\n",
       "      <th>4</th>\n",
       "      <td>1</td>\n",
       "      <td>1172</td>\n",
       "      <td>4.0</td>\n",
       "      <td>1260759205</td>\n",
       "    </tr>\n",
       "  </tbody>\n",
       "</table>\n",
       "</div>"
      ],
      "text/plain": [
       "   userId  movieId  rating   timestamp\n",
       "0       1       31     2.5  1260759144\n",
       "1       1     1029     3.0  1260759179\n",
       "2       1     1061     3.0  1260759182\n",
       "3       1     1129     2.0  1260759185\n",
       "4       1     1172     4.0  1260759205"
      ]
     },
     "execution_count": 118,
     "metadata": {},
     "output_type": "execute_result"
    }
   ],
   "source": [
    "ratings = pd.read_csv('The Movies Dataset/ratings_small.csv')\n",
    "links_rec = pd.read_csv('The Movies Dataset/links_small.csv')\n",
    "\n",
    "print(ratings.shape)\n",
    "\n",
    "ratings.head()"
   ]
  },
  {
   "cell_type": "code",
   "execution_count": 119,
   "metadata": {},
   "outputs": [
    {
     "data": {
      "text/html": [
       "<div>\n",
       "<style scoped>\n",
       "    .dataframe tbody tr th:only-of-type {\n",
       "        vertical-align: middle;\n",
       "    }\n",
       "\n",
       "    .dataframe tbody tr th {\n",
       "        vertical-align: top;\n",
       "    }\n",
       "\n",
       "    .dataframe thead th {\n",
       "        text-align: right;\n",
       "    }\n",
       "</style>\n",
       "<table border=\"1\" class=\"dataframe\">\n",
       "  <thead>\n",
       "    <tr style=\"text-align: right;\">\n",
       "      <th></th>\n",
       "      <th>movieId</th>\n",
       "      <th>imdbId</th>\n",
       "      <th>tmdbId</th>\n",
       "    </tr>\n",
       "  </thead>\n",
       "  <tbody>\n",
       "    <tr>\n",
       "      <th>0</th>\n",
       "      <td>1</td>\n",
       "      <td>114709</td>\n",
       "      <td>862.0</td>\n",
       "    </tr>\n",
       "    <tr>\n",
       "      <th>1</th>\n",
       "      <td>2</td>\n",
       "      <td>113497</td>\n",
       "      <td>8844.0</td>\n",
       "    </tr>\n",
       "    <tr>\n",
       "      <th>2</th>\n",
       "      <td>3</td>\n",
       "      <td>113228</td>\n",
       "      <td>15602.0</td>\n",
       "    </tr>\n",
       "    <tr>\n",
       "      <th>3</th>\n",
       "      <td>4</td>\n",
       "      <td>114885</td>\n",
       "      <td>31357.0</td>\n",
       "    </tr>\n",
       "    <tr>\n",
       "      <th>4</th>\n",
       "      <td>5</td>\n",
       "      <td>113041</td>\n",
       "      <td>11862.0</td>\n",
       "    </tr>\n",
       "    <tr>\n",
       "      <th>...</th>\n",
       "      <td>...</td>\n",
       "      <td>...</td>\n",
       "      <td>...</td>\n",
       "    </tr>\n",
       "    <tr>\n",
       "      <th>9120</th>\n",
       "      <td>162672</td>\n",
       "      <td>3859980</td>\n",
       "      <td>402672.0</td>\n",
       "    </tr>\n",
       "    <tr>\n",
       "      <th>9121</th>\n",
       "      <td>163056</td>\n",
       "      <td>4262980</td>\n",
       "      <td>315011.0</td>\n",
       "    </tr>\n",
       "    <tr>\n",
       "      <th>9122</th>\n",
       "      <td>163949</td>\n",
       "      <td>2531318</td>\n",
       "      <td>391698.0</td>\n",
       "    </tr>\n",
       "    <tr>\n",
       "      <th>9123</th>\n",
       "      <td>164977</td>\n",
       "      <td>27660</td>\n",
       "      <td>137608.0</td>\n",
       "    </tr>\n",
       "    <tr>\n",
       "      <th>9124</th>\n",
       "      <td>164979</td>\n",
       "      <td>3447228</td>\n",
       "      <td>410803.0</td>\n",
       "    </tr>\n",
       "  </tbody>\n",
       "</table>\n",
       "<p>9125 rows × 3 columns</p>\n",
       "</div>"
      ],
      "text/plain": [
       "      movieId   imdbId    tmdbId\n",
       "0           1   114709     862.0\n",
       "1           2   113497    8844.0\n",
       "2           3   113228   15602.0\n",
       "3           4   114885   31357.0\n",
       "4           5   113041   11862.0\n",
       "...       ...      ...       ...\n",
       "9120   162672  3859980  402672.0\n",
       "9121   163056  4262980  315011.0\n",
       "9122   163949  2531318  391698.0\n",
       "9123   164977    27660  137608.0\n",
       "9124   164979  3447228  410803.0\n",
       "\n",
       "[9125 rows x 3 columns]"
      ]
     },
     "execution_count": 119,
     "metadata": {},
     "output_type": "execute_result"
    }
   ],
   "source": [
    "links_rec"
   ]
  },
  {
   "cell_type": "markdown",
   "metadata": {},
   "source": [
    "# **Collaborative Filtering**"
   ]
  },
  {
   "cell_type": "code",
   "execution_count": 120,
   "metadata": {},
   "outputs": [
    {
     "name": "stdout",
     "output_type": "stream",
     "text": [
      "Evaluating RMSE, MAE of algorithm SVD on 5 split(s).\n",
      "\n",
      "                  Fold 1  Fold 2  Fold 3  Fold 4  Fold 5  Mean    Std     \n",
      "RMSE (testset)    0.8974  0.8946  0.8927  0.9008  0.9028  0.8976  0.0038  \n",
      "MAE (testset)     0.6891  0.6885  0.6879  0.6944  0.6949  0.6910  0.0030  \n",
      "Fit time          0.98    0.50    0.49    0.48    0.47    0.58    0.20    \n",
      "Test time         0.06    0.05    0.05    0.05    0.05    0.05    0.01    \n"
     ]
    },
    {
     "data": {
      "text/plain": [
       "{'test_rmse': array([0.89743986, 0.89455317, 0.89265507, 0.90076263, 0.90279278]),\n",
       " 'test_mae': array([0.68906044, 0.68850006, 0.68794971, 0.69437293, 0.6949475 ]),\n",
       " 'fit_time': (0.975999116897583,\n",
       "  0.502007246017456,\n",
       "  0.49000048637390137,\n",
       "  0.47600269317626953,\n",
       "  0.4719986915588379),\n",
       " 'test_time': (0.06199812889099121,\n",
       "  0.04899168014526367,\n",
       "  0.04899930953979492,\n",
       "  0.05499720573425293,\n",
       "  0.04800128936767578)}"
      ]
     },
     "execution_count": 120,
     "metadata": {},
     "output_type": "execute_result"
    }
   ],
   "source": [
    "# Define the reader\n",
    "reader = Reader()\n",
    "\n",
    "# Create the dataset\n",
    "data = Dataset.load_from_df(ratings[['userId', 'movieId', 'rating']], reader)\n",
    "\n",
    "# Perform K-fold cross-validation\n",
    "kf = KFold(n_splits=5)\n",
    "svd = SVD()\n",
    "\n",
    "# for trainset, testset in kf.split(data):\n",
    "#     svd.fit(trainset)\n",
    "#     predictions = svd.test(testset)\n",
    "#     # Process predictions if needed\n",
    "\n",
    "# Alternatively, use cross_validate for a higher-level API\n",
    "results = cross_validate(svd, data,  measures=['RMSE', 'MAE'], cv=5, verbose=True)\n",
    "\n",
    "results"
   ]
  },
  {
   "cell_type": "code",
   "execution_count": 121,
   "metadata": {},
   "outputs": [
    {
     "data": {
      "text/plain": [
       "<surprise.prediction_algorithms.matrix_factorization.SVD at 0x2519df68f90>"
      ]
     },
     "execution_count": 121,
     "metadata": {},
     "output_type": "execute_result"
    }
   ],
   "source": [
    "trainset = data.build_full_trainset()\n",
    "svd.fit(trainset)"
   ]
  },
  {
   "cell_type": "code",
   "execution_count": 122,
   "metadata": {},
   "outputs": [
    {
     "data": {
      "text/html": [
       "<div>\n",
       "<style scoped>\n",
       "    .dataframe tbody tr th:only-of-type {\n",
       "        vertical-align: middle;\n",
       "    }\n",
       "\n",
       "    .dataframe tbody tr th {\n",
       "        vertical-align: top;\n",
       "    }\n",
       "\n",
       "    .dataframe thead th {\n",
       "        text-align: right;\n",
       "    }\n",
       "</style>\n",
       "<table border=\"1\" class=\"dataframe\">\n",
       "  <thead>\n",
       "    <tr style=\"text-align: right;\">\n",
       "      <th></th>\n",
       "      <th>userId</th>\n",
       "      <th>movieId</th>\n",
       "      <th>rating</th>\n",
       "      <th>timestamp</th>\n",
       "    </tr>\n",
       "  </thead>\n",
       "  <tbody>\n",
       "    <tr>\n",
       "      <th>0</th>\n",
       "      <td>1</td>\n",
       "      <td>31</td>\n",
       "      <td>2.5</td>\n",
       "      <td>1260759144</td>\n",
       "    </tr>\n",
       "    <tr>\n",
       "      <th>1</th>\n",
       "      <td>1</td>\n",
       "      <td>1029</td>\n",
       "      <td>3.0</td>\n",
       "      <td>1260759179</td>\n",
       "    </tr>\n",
       "    <tr>\n",
       "      <th>2</th>\n",
       "      <td>1</td>\n",
       "      <td>1061</td>\n",
       "      <td>3.0</td>\n",
       "      <td>1260759182</td>\n",
       "    </tr>\n",
       "    <tr>\n",
       "      <th>3</th>\n",
       "      <td>1</td>\n",
       "      <td>1129</td>\n",
       "      <td>2.0</td>\n",
       "      <td>1260759185</td>\n",
       "    </tr>\n",
       "    <tr>\n",
       "      <th>4</th>\n",
       "      <td>1</td>\n",
       "      <td>1172</td>\n",
       "      <td>4.0</td>\n",
       "      <td>1260759205</td>\n",
       "    </tr>\n",
       "    <tr>\n",
       "      <th>5</th>\n",
       "      <td>1</td>\n",
       "      <td>1263</td>\n",
       "      <td>2.0</td>\n",
       "      <td>1260759151</td>\n",
       "    </tr>\n",
       "    <tr>\n",
       "      <th>6</th>\n",
       "      <td>1</td>\n",
       "      <td>1287</td>\n",
       "      <td>2.0</td>\n",
       "      <td>1260759187</td>\n",
       "    </tr>\n",
       "    <tr>\n",
       "      <th>7</th>\n",
       "      <td>1</td>\n",
       "      <td>1293</td>\n",
       "      <td>2.0</td>\n",
       "      <td>1260759148</td>\n",
       "    </tr>\n",
       "    <tr>\n",
       "      <th>8</th>\n",
       "      <td>1</td>\n",
       "      <td>1339</td>\n",
       "      <td>3.5</td>\n",
       "      <td>1260759125</td>\n",
       "    </tr>\n",
       "    <tr>\n",
       "      <th>9</th>\n",
       "      <td>1</td>\n",
       "      <td>1343</td>\n",
       "      <td>2.0</td>\n",
       "      <td>1260759131</td>\n",
       "    </tr>\n",
       "    <tr>\n",
       "      <th>10</th>\n",
       "      <td>1</td>\n",
       "      <td>1371</td>\n",
       "      <td>2.5</td>\n",
       "      <td>1260759135</td>\n",
       "    </tr>\n",
       "    <tr>\n",
       "      <th>11</th>\n",
       "      <td>1</td>\n",
       "      <td>1405</td>\n",
       "      <td>1.0</td>\n",
       "      <td>1260759203</td>\n",
       "    </tr>\n",
       "    <tr>\n",
       "      <th>12</th>\n",
       "      <td>1</td>\n",
       "      <td>1953</td>\n",
       "      <td>4.0</td>\n",
       "      <td>1260759191</td>\n",
       "    </tr>\n",
       "    <tr>\n",
       "      <th>13</th>\n",
       "      <td>1</td>\n",
       "      <td>2105</td>\n",
       "      <td>4.0</td>\n",
       "      <td>1260759139</td>\n",
       "    </tr>\n",
       "    <tr>\n",
       "      <th>14</th>\n",
       "      <td>1</td>\n",
       "      <td>2150</td>\n",
       "      <td>3.0</td>\n",
       "      <td>1260759194</td>\n",
       "    </tr>\n",
       "    <tr>\n",
       "      <th>15</th>\n",
       "      <td>1</td>\n",
       "      <td>2193</td>\n",
       "      <td>2.0</td>\n",
       "      <td>1260759198</td>\n",
       "    </tr>\n",
       "    <tr>\n",
       "      <th>16</th>\n",
       "      <td>1</td>\n",
       "      <td>2294</td>\n",
       "      <td>2.0</td>\n",
       "      <td>1260759108</td>\n",
       "    </tr>\n",
       "    <tr>\n",
       "      <th>17</th>\n",
       "      <td>1</td>\n",
       "      <td>2455</td>\n",
       "      <td>2.5</td>\n",
       "      <td>1260759113</td>\n",
       "    </tr>\n",
       "    <tr>\n",
       "      <th>18</th>\n",
       "      <td>1</td>\n",
       "      <td>2968</td>\n",
       "      <td>1.0</td>\n",
       "      <td>1260759200</td>\n",
       "    </tr>\n",
       "    <tr>\n",
       "      <th>19</th>\n",
       "      <td>1</td>\n",
       "      <td>3671</td>\n",
       "      <td>3.0</td>\n",
       "      <td>1260759117</td>\n",
       "    </tr>\n",
       "  </tbody>\n",
       "</table>\n",
       "</div>"
      ],
      "text/plain": [
       "    userId  movieId  rating   timestamp\n",
       "0        1       31     2.5  1260759144\n",
       "1        1     1029     3.0  1260759179\n",
       "2        1     1061     3.0  1260759182\n",
       "3        1     1129     2.0  1260759185\n",
       "4        1     1172     4.0  1260759205\n",
       "5        1     1263     2.0  1260759151\n",
       "6        1     1287     2.0  1260759187\n",
       "7        1     1293     2.0  1260759148\n",
       "8        1     1339     3.5  1260759125\n",
       "9        1     1343     2.0  1260759131\n",
       "10       1     1371     2.5  1260759135\n",
       "11       1     1405     1.0  1260759203\n",
       "12       1     1953     4.0  1260759191\n",
       "13       1     2105     4.0  1260759139\n",
       "14       1     2150     3.0  1260759194\n",
       "15       1     2193     2.0  1260759198\n",
       "16       1     2294     2.0  1260759108\n",
       "17       1     2455     2.5  1260759113\n",
       "18       1     2968     1.0  1260759200\n",
       "19       1     3671     3.0  1260759117"
      ]
     },
     "execution_count": 122,
     "metadata": {},
     "output_type": "execute_result"
    }
   ],
   "source": [
    "ratings[ratings['userId'] == 1]"
   ]
  },
  {
   "cell_type": "code",
   "execution_count": 123,
   "metadata": {},
   "outputs": [
    {
     "data": {
      "text/plain": [
       "Prediction(uid=1, iid=302, r_ui=3, est=2.531635720763929, details={'was_impossible': False})"
      ]
     },
     "execution_count": 123,
     "metadata": {},
     "output_type": "execute_result"
    }
   ],
   "source": [
    "svd.predict(1, 302, 3)"
   ]
  },
  {
   "cell_type": "code",
   "execution_count": 124,
   "metadata": {},
   "outputs": [],
   "source": [
    "def collaborative_filtering_svd(\n",
    "    user_id, n_recommendations=10, svd_model=svd, ratings_df=ratings, movies_df=df, links_df=links_rec\n",
    "):\n",
    "    # Merge datasets to link movieId with TMDb metadata\n",
    "    merged_df = ratings_df.merge(links_df, on=\"movieId\")\n",
    "    merged_df = merged_df.merge(movies_df[[\"id\", \"title\", \"vote_average\", \"vote_count\", \"year\"]], \n",
    "                                left_on=\"tmdbId\", right_on=\"id\", how=\"left\")\n",
    "    \n",
    "    # Get the list of movies the user has already watched\n",
    "    watched_movies = ratings_df[ratings_df[\"userId\"] == user_id][\"movieId\"].tolist()\n",
    "    \n",
    "    # Get all unique movie IDs\n",
    "    movie_ids = ratings_df[\"movieId\"].unique()\n",
    "    \n",
    "    # Predict ratings for all movies the user hasn't watched\n",
    "    predictions = [\n",
    "        svd_model.predict(user_id, movie_id) for movie_id in movie_ids if movie_id not in watched_movies\n",
    "    ]\n",
    "    \n",
    "    # Sort predictions by estimated rating\n",
    "    predictions.sort(key=lambda x: x.est, reverse=True)\n",
    "    \n",
    "    # Get top N recommendations\n",
    "    top_movie_ids = [pred.iid for pred in predictions[:n_recommendations]]\n",
    "    \n",
    "    # Retrieve movie details\n",
    "    recommended_movies = merged_df[merged_df[\"movieId\"].isin(top_movie_ids)].drop_duplicates(subset=\"movieId\")\n",
    "    \n",
    "    # Prepare the result DataFrame\n",
    "    result = recommended_movies[[\"title\", \"vote_count\", \"vote_average\", \"year\"]].copy()\n",
    "    result[\"predicted_rating\"] = [pred.est for pred in predictions[:n_recommendations]]\n",
    "    result = result.sort_values(by=\"predicted_rating\", ascending=False).head(n_recommendations)\n",
    "    \n",
    "    return result\n"
   ]
  },
  {
   "cell_type": "code",
   "execution_count": 125,
   "metadata": {},
   "outputs": [
    {
     "data": {
      "text/html": [
       "<div>\n",
       "<style scoped>\n",
       "    .dataframe tbody tr th:only-of-type {\n",
       "        vertical-align: middle;\n",
       "    }\n",
       "\n",
       "    .dataframe tbody tr th {\n",
       "        vertical-align: top;\n",
       "    }\n",
       "\n",
       "    .dataframe thead th {\n",
       "        text-align: right;\n",
       "    }\n",
       "</style>\n",
       "<table border=\"1\" class=\"dataframe\">\n",
       "  <thead>\n",
       "    <tr style=\"text-align: right;\">\n",
       "      <th></th>\n",
       "      <th>title</th>\n",
       "      <th>vote_count</th>\n",
       "      <th>vote_average</th>\n",
       "      <th>year</th>\n",
       "      <th>predicted_rating</th>\n",
       "    </tr>\n",
       "  </thead>\n",
       "  <tbody>\n",
       "    <tr>\n",
       "      <th>13298</th>\n",
       "      <td>Star Wars</td>\n",
       "      <td>6778.0</td>\n",
       "      <td>8.1</td>\n",
       "      <td>1977.0</td>\n",
       "      <td>3.692675</td>\n",
       "    </tr>\n",
       "    <tr>\n",
       "      <th>16173</th>\n",
       "      <td>Monty Python and the Holy Grail</td>\n",
       "      <td>1742.0</td>\n",
       "      <td>7.8</td>\n",
       "      <td>1975.0</td>\n",
       "      <td>3.682243</td>\n",
       "    </tr>\n",
       "    <tr>\n",
       "      <th>28140</th>\n",
       "      <td>The Pianist</td>\n",
       "      <td>1927.0</td>\n",
       "      <td>8.1</td>\n",
       "      <td>2002.0</td>\n",
       "      <td>3.629920</td>\n",
       "    </tr>\n",
       "    <tr>\n",
       "      <th>41121</th>\n",
       "      <td>NaN</td>\n",
       "      <td>NaN</td>\n",
       "      <td>NaN</td>\n",
       "      <td>NaN</td>\n",
       "      <td>3.585312</td>\n",
       "    </tr>\n",
       "    <tr>\n",
       "      <th>45024</th>\n",
       "      <td>Rear Window</td>\n",
       "      <td>1531.0</td>\n",
       "      <td>8.2</td>\n",
       "      <td>1954.0</td>\n",
       "      <td>3.566524</td>\n",
       "    </tr>\n",
       "    <tr>\n",
       "      <th>45474</th>\n",
       "      <td>Sunset Boulevard</td>\n",
       "      <td>533.0</td>\n",
       "      <td>8.2</td>\n",
       "      <td>1950.0</td>\n",
       "      <td>3.564920</td>\n",
       "    </tr>\n",
       "    <tr>\n",
       "      <th>46639</th>\n",
       "      <td>The Third Man</td>\n",
       "      <td>431.0</td>\n",
       "      <td>7.9</td>\n",
       "      <td>1949.0</td>\n",
       "      <td>3.564358</td>\n",
       "    </tr>\n",
       "    <tr>\n",
       "      <th>46677</th>\n",
       "      <td>Ran</td>\n",
       "      <td>349.0</td>\n",
       "      <td>7.9</td>\n",
       "      <td>1985.0</td>\n",
       "      <td>3.541744</td>\n",
       "    </tr>\n",
       "    <tr>\n",
       "      <th>49853</th>\n",
       "      <td>On the Waterfront</td>\n",
       "      <td>368.0</td>\n",
       "      <td>8.0</td>\n",
       "      <td>1954.0</td>\n",
       "      <td>3.540252</td>\n",
       "    </tr>\n",
       "    <tr>\n",
       "      <th>82470</th>\n",
       "      <td>Gladiator 1992</td>\n",
       "      <td>28.0</td>\n",
       "      <td>5.7</td>\n",
       "      <td>1992.0</td>\n",
       "      <td>3.536396</td>\n",
       "    </tr>\n",
       "  </tbody>\n",
       "</table>\n",
       "</div>"
      ],
      "text/plain": [
       "                                 title  vote_count  vote_average    year  \\\n",
       "13298                        Star Wars      6778.0           8.1  1977.0   \n",
       "16173  Monty Python and the Holy Grail      1742.0           7.8  1975.0   \n",
       "28140                      The Pianist      1927.0           8.1  2002.0   \n",
       "41121                              NaN         NaN           NaN     NaN   \n",
       "45024                      Rear Window      1531.0           8.2  1954.0   \n",
       "45474                 Sunset Boulevard       533.0           8.2  1950.0   \n",
       "46639                    The Third Man       431.0           7.9  1949.0   \n",
       "46677                              Ran       349.0           7.9  1985.0   \n",
       "49853                On the Waterfront       368.0           8.0  1954.0   \n",
       "82470                   Gladiator 1992        28.0           5.7  1992.0   \n",
       "\n",
       "       predicted_rating  \n",
       "13298          3.692675  \n",
       "16173          3.682243  \n",
       "28140          3.629920  \n",
       "41121          3.585312  \n",
       "45024          3.566524  \n",
       "45474          3.564920  \n",
       "46639          3.564358  \n",
       "46677          3.541744  \n",
       "49853          3.540252  \n",
       "82470          3.536396  "
      ]
     },
     "execution_count": 125,
     "metadata": {},
     "output_type": "execute_result"
    }
   ],
   "source": [
    "# Get recommendations\n",
    "user_recommendations = collaborative_filtering_svd(1)\n",
    "user_recommendations"
   ]
  },
  {
   "cell_type": "code",
   "execution_count": 126,
   "metadata": {},
   "outputs": [
    {
     "data": {
      "text/html": [
       "<div>\n",
       "<style scoped>\n",
       "    .dataframe tbody tr th:only-of-type {\n",
       "        vertical-align: middle;\n",
       "    }\n",
       "\n",
       "    .dataframe tbody tr th {\n",
       "        vertical-align: top;\n",
       "    }\n",
       "\n",
       "    .dataframe thead th {\n",
       "        text-align: right;\n",
       "    }\n",
       "</style>\n",
       "<table border=\"1\" class=\"dataframe\">\n",
       "  <thead>\n",
       "    <tr style=\"text-align: right;\">\n",
       "      <th></th>\n",
       "      <th>title</th>\n",
       "      <th>vote_count</th>\n",
       "      <th>vote_average</th>\n",
       "      <th>year</th>\n",
       "      <th>predicted_rating</th>\n",
       "    </tr>\n",
       "  </thead>\n",
       "  <tbody>\n",
       "    <tr>\n",
       "      <th>165</th>\n",
       "      <td>Cinema Paradiso</td>\n",
       "      <td>834.0</td>\n",
       "      <td>8.2</td>\n",
       "      <td>1988.0</td>\n",
       "      <td>4.328146</td>\n",
       "    </tr>\n",
       "    <tr>\n",
       "      <th>9775</th>\n",
       "      <td>Trainspotting</td>\n",
       "      <td>2737.0</td>\n",
       "      <td>7.8</td>\n",
       "      <td>1996.0</td>\n",
       "      <td>4.113784</td>\n",
       "    </tr>\n",
       "    <tr>\n",
       "      <th>45024</th>\n",
       "      <td>Rear Window</td>\n",
       "      <td>1531.0</td>\n",
       "      <td>8.2</td>\n",
       "      <td>1954.0</td>\n",
       "      <td>4.103427</td>\n",
       "    </tr>\n",
       "    <tr>\n",
       "      <th>46620</th>\n",
       "      <td>Wings of Desire</td>\n",
       "      <td>256.0</td>\n",
       "      <td>7.5</td>\n",
       "      <td>1987.0</td>\n",
       "      <td>4.000668</td>\n",
       "    </tr>\n",
       "    <tr>\n",
       "      <th>51500</th>\n",
       "      <td>Lock, Stock and Two Smoking Barrels</td>\n",
       "      <td>1671.0</td>\n",
       "      <td>7.5</td>\n",
       "      <td>1998.0</td>\n",
       "      <td>3.973525</td>\n",
       "    </tr>\n",
       "    <tr>\n",
       "      <th>64489</th>\n",
       "      <td>There Will Be Blood</td>\n",
       "      <td>1581.0</td>\n",
       "      <td>7.9</td>\n",
       "      <td>2007.0</td>\n",
       "      <td>3.951464</td>\n",
       "    </tr>\n",
       "    <tr>\n",
       "      <th>71899</th>\n",
       "      <td>Winnie the Pooh and the Blustery Day</td>\n",
       "      <td>20.0</td>\n",
       "      <td>7.8</td>\n",
       "      <td>1968.0</td>\n",
       "      <td>3.944459</td>\n",
       "    </tr>\n",
       "    <tr>\n",
       "      <th>74084</th>\n",
       "      <td>Sophie's Choice</td>\n",
       "      <td>149.0</td>\n",
       "      <td>7.4</td>\n",
       "      <td>1982.0</td>\n",
       "      <td>3.938655</td>\n",
       "    </tr>\n",
       "    <tr>\n",
       "      <th>74410</th>\n",
       "      <td>Chariots of Fire</td>\n",
       "      <td>213.0</td>\n",
       "      <td>6.9</td>\n",
       "      <td>1981.0</td>\n",
       "      <td>3.920231</td>\n",
       "    </tr>\n",
       "    <tr>\n",
       "      <th>75785</th>\n",
       "      <td>Howl's Moving Castle</td>\n",
       "      <td>2049.0</td>\n",
       "      <td>8.2</td>\n",
       "      <td>2004.0</td>\n",
       "      <td>3.887503</td>\n",
       "    </tr>\n",
       "  </tbody>\n",
       "</table>\n",
       "</div>"
      ],
      "text/plain": [
       "                                      title  vote_count  vote_average    year  \\\n",
       "165                         Cinema Paradiso       834.0           8.2  1988.0   \n",
       "9775                          Trainspotting      2737.0           7.8  1996.0   \n",
       "45024                           Rear Window      1531.0           8.2  1954.0   \n",
       "46620                       Wings of Desire       256.0           7.5  1987.0   \n",
       "51500   Lock, Stock and Two Smoking Barrels      1671.0           7.5  1998.0   \n",
       "64489                   There Will Be Blood      1581.0           7.9  2007.0   \n",
       "71899  Winnie the Pooh and the Blustery Day        20.0           7.8  1968.0   \n",
       "74084                       Sophie's Choice       149.0           7.4  1982.0   \n",
       "74410                      Chariots of Fire       213.0           6.9  1981.0   \n",
       "75785                  Howl's Moving Castle      2049.0           8.2  2004.0   \n",
       "\n",
       "       predicted_rating  \n",
       "165            4.328146  \n",
       "9775           4.113784  \n",
       "45024          4.103427  \n",
       "46620          4.000668  \n",
       "51500          3.973525  \n",
       "64489          3.951464  \n",
       "71899          3.944459  \n",
       "74084          3.938655  \n",
       "74410          3.920231  \n",
       "75785          3.887503  "
      ]
     },
     "execution_count": 126,
     "metadata": {},
     "output_type": "execute_result"
    }
   ],
   "source": [
    "# Get recommendations\n",
    "user_recommendations = collaborative_filtering_svd(500)\n",
    "user_recommendations"
   ]
  },
  {
   "cell_type": "markdown",
   "metadata": {},
   "source": [
    "## Another way for collaborative filtering"
   ]
  },
  {
   "cell_type": "code",
   "execution_count": 127,
   "metadata": {},
   "outputs": [
    {
     "name": "stdout",
     "output_type": "stream",
     "text": [
      "movies_with_ratings shape: (99810, 25)\n"
     ]
    },
    {
     "data": {
      "text/html": [
       "<div>\n",
       "<style scoped>\n",
       "    .dataframe tbody tr th:only-of-type {\n",
       "        vertical-align: middle;\n",
       "    }\n",
       "\n",
       "    .dataframe tbody tr th {\n",
       "        vertical-align: top;\n",
       "    }\n",
       "\n",
       "    .dataframe thead th {\n",
       "        text-align: right;\n",
       "    }\n",
       "</style>\n",
       "<table border=\"1\" class=\"dataframe\">\n",
       "  <thead>\n",
       "    <tr style=\"text-align: right;\">\n",
       "      <th></th>\n",
       "      <th>imdb_id</th>\n",
       "      <th>id</th>\n",
       "      <th>title</th>\n",
       "      <th>year</th>\n",
       "      <th>genres</th>\n",
       "      <th>vote_average</th>\n",
       "      <th>vote_count</th>\n",
       "      <th>popularity</th>\n",
       "      <th>budget</th>\n",
       "      <th>revenue</th>\n",
       "      <th>...</th>\n",
       "      <th>actor</th>\n",
       "      <th>character</th>\n",
       "      <th>cast_size</th>\n",
       "      <th>crew_size</th>\n",
       "      <th>overview</th>\n",
       "      <th>tagline</th>\n",
       "      <th>keywords</th>\n",
       "      <th>userId</th>\n",
       "      <th>rating</th>\n",
       "      <th>timestamp</th>\n",
       "    </tr>\n",
       "  </thead>\n",
       "  <tbody>\n",
       "    <tr>\n",
       "      <th>0</th>\n",
       "      <td>tt0114709</td>\n",
       "      <td>862</td>\n",
       "      <td>Toy Story</td>\n",
       "      <td>1995.0</td>\n",
       "      <td>[Animation, Comedy, Family]</td>\n",
       "      <td>7.7</td>\n",
       "      <td>5415.0</td>\n",
       "      <td>21.946943</td>\n",
       "      <td>30000000.0</td>\n",
       "      <td>373554033.0</td>\n",
       "      <td>...</td>\n",
       "      <td>[Tom Hanks, Tim Allen, Don Rickles]</td>\n",
       "      <td>[Woody (voice), Buzz Lightyear (voice), Mr. Po...</td>\n",
       "      <td>13</td>\n",
       "      <td>106</td>\n",
       "      <td>Led by Woody, Andy's toys live happily in his ...</td>\n",
       "      <td></td>\n",
       "      <td>[jealousy, toy, boy, friendship, friends, riva...</td>\n",
       "      <td>7</td>\n",
       "      <td>3.0</td>\n",
       "      <td>851866703</td>\n",
       "    </tr>\n",
       "    <tr>\n",
       "      <th>1</th>\n",
       "      <td>tt0114709</td>\n",
       "      <td>862</td>\n",
       "      <td>Toy Story</td>\n",
       "      <td>1995.0</td>\n",
       "      <td>[Animation, Comedy, Family]</td>\n",
       "      <td>7.7</td>\n",
       "      <td>5415.0</td>\n",
       "      <td>21.946943</td>\n",
       "      <td>30000000.0</td>\n",
       "      <td>373554033.0</td>\n",
       "      <td>...</td>\n",
       "      <td>[Tom Hanks, Tim Allen, Don Rickles]</td>\n",
       "      <td>[Woody (voice), Buzz Lightyear (voice), Mr. Po...</td>\n",
       "      <td>13</td>\n",
       "      <td>106</td>\n",
       "      <td>Led by Woody, Andy's toys live happily in his ...</td>\n",
       "      <td></td>\n",
       "      <td>[jealousy, toy, boy, friendship, friends, riva...</td>\n",
       "      <td>9</td>\n",
       "      <td>4.0</td>\n",
       "      <td>938629179</td>\n",
       "    </tr>\n",
       "    <tr>\n",
       "      <th>2</th>\n",
       "      <td>tt0114709</td>\n",
       "      <td>862</td>\n",
       "      <td>Toy Story</td>\n",
       "      <td>1995.0</td>\n",
       "      <td>[Animation, Comedy, Family]</td>\n",
       "      <td>7.7</td>\n",
       "      <td>5415.0</td>\n",
       "      <td>21.946943</td>\n",
       "      <td>30000000.0</td>\n",
       "      <td>373554033.0</td>\n",
       "      <td>...</td>\n",
       "      <td>[Tom Hanks, Tim Allen, Don Rickles]</td>\n",
       "      <td>[Woody (voice), Buzz Lightyear (voice), Mr. Po...</td>\n",
       "      <td>13</td>\n",
       "      <td>106</td>\n",
       "      <td>Led by Woody, Andy's toys live happily in his ...</td>\n",
       "      <td></td>\n",
       "      <td>[jealousy, toy, boy, friendship, friends, riva...</td>\n",
       "      <td>13</td>\n",
       "      <td>5.0</td>\n",
       "      <td>1331380058</td>\n",
       "    </tr>\n",
       "  </tbody>\n",
       "</table>\n",
       "<p>3 rows × 25 columns</p>\n",
       "</div>"
      ],
      "text/plain": [
       "     imdb_id   id      title    year                       genres  \\\n",
       "0  tt0114709  862  Toy Story  1995.0  [Animation, Comedy, Family]   \n",
       "1  tt0114709  862  Toy Story  1995.0  [Animation, Comedy, Family]   \n",
       "2  tt0114709  862  Toy Story  1995.0  [Animation, Comedy, Family]   \n",
       "\n",
       "   vote_average  vote_count  popularity      budget      revenue  ...  \\\n",
       "0           7.7      5415.0   21.946943  30000000.0  373554033.0  ...   \n",
       "1           7.7      5415.0   21.946943  30000000.0  373554033.0  ...   \n",
       "2           7.7      5415.0   21.946943  30000000.0  373554033.0  ...   \n",
       "\n",
       "                                 actor  \\\n",
       "0  [Tom Hanks, Tim Allen, Don Rickles]   \n",
       "1  [Tom Hanks, Tim Allen, Don Rickles]   \n",
       "2  [Tom Hanks, Tim Allen, Don Rickles]   \n",
       "\n",
       "                                           character  cast_size crew_size  \\\n",
       "0  [Woody (voice), Buzz Lightyear (voice), Mr. Po...         13       106   \n",
       "1  [Woody (voice), Buzz Lightyear (voice), Mr. Po...         13       106   \n",
       "2  [Woody (voice), Buzz Lightyear (voice), Mr. Po...         13       106   \n",
       "\n",
       "                                            overview tagline  \\\n",
       "0  Led by Woody, Andy's toys live happily in his ...           \n",
       "1  Led by Woody, Andy's toys live happily in his ...           \n",
       "2  Led by Woody, Andy's toys live happily in his ...           \n",
       "\n",
       "                                            keywords  userId  rating  \\\n",
       "0  [jealousy, toy, boy, friendship, friends, riva...       7     3.0   \n",
       "1  [jealousy, toy, boy, friendship, friends, riva...       9     4.0   \n",
       "2  [jealousy, toy, boy, friendship, friends, riva...      13     5.0   \n",
       "\n",
       "    timestamp  \n",
       "0   851866703  \n",
       "1   938629179  \n",
       "2  1331380058  \n",
       "\n",
       "[3 rows x 25 columns]"
      ]
     },
     "execution_count": 127,
     "metadata": {},
     "output_type": "execute_result"
    }
   ],
   "source": [
    "print(f'movies_with_ratings shape: {movies_with_ratings.shape}')\n",
    "\n",
    "movies_with_ratings.head(3)"
   ]
  },
  {
   "cell_type": "code",
   "execution_count": 128,
   "metadata": {},
   "outputs": [
    {
     "name": "stdout",
     "output_type": "stream",
     "text": [
      "user_ratings_table shape: (671, 8754)\n"
     ]
    },
    {
     "data": {
      "text/html": [
       "<div>\n",
       "<style scoped>\n",
       "    .dataframe tbody tr th:only-of-type {\n",
       "        vertical-align: middle;\n",
       "    }\n",
       "\n",
       "    .dataframe tbody tr th {\n",
       "        vertical-align: top;\n",
       "    }\n",
       "\n",
       "    .dataframe thead th {\n",
       "        text-align: right;\n",
       "    }\n",
       "</style>\n",
       "<table border=\"1\" class=\"dataframe\">\n",
       "  <thead>\n",
       "    <tr style=\"text-align: right;\">\n",
       "      <th>title</th>\n",
       "      <th>$9.99</th>\n",
       "      <th>'Neath the Arizona Skies</th>\n",
       "      <th>'night, Mother</th>\n",
       "      <th>(500) Days of Summer</th>\n",
       "      <th>...And God Created Woman</th>\n",
       "      <th>...And Justice for All</th>\n",
       "      <th>1-900</th>\n",
       "      <th>10</th>\n",
       "      <th>10 Attitudes</th>\n",
       "      <th>10 Cloverfield Lane</th>\n",
       "      <th>...</th>\n",
       "      <th>eXistenZ</th>\n",
       "      <th>loudQUIETloud: A Film About the Pixies</th>\n",
       "      <th>xXx</th>\n",
       "      <th>xXx: State of the Union</th>\n",
       "      <th>¡Three Amigos!</th>\n",
       "      <th>À Nous la Liberté</th>\n",
       "      <th>Æon Flux</th>\n",
       "      <th>İtirazım Var</th>\n",
       "      <th>Želary</th>\n",
       "      <th>’Round Midnight</th>\n",
       "    </tr>\n",
       "    <tr>\n",
       "      <th>userId</th>\n",
       "      <th></th>\n",
       "      <th></th>\n",
       "      <th></th>\n",
       "      <th></th>\n",
       "      <th></th>\n",
       "      <th></th>\n",
       "      <th></th>\n",
       "      <th></th>\n",
       "      <th></th>\n",
       "      <th></th>\n",
       "      <th></th>\n",
       "      <th></th>\n",
       "      <th></th>\n",
       "      <th></th>\n",
       "      <th></th>\n",
       "      <th></th>\n",
       "      <th></th>\n",
       "      <th></th>\n",
       "      <th></th>\n",
       "      <th></th>\n",
       "      <th></th>\n",
       "    </tr>\n",
       "  </thead>\n",
       "  <tbody>\n",
       "    <tr>\n",
       "      <th>1</th>\n",
       "      <td>NaN</td>\n",
       "      <td>NaN</td>\n",
       "      <td>NaN</td>\n",
       "      <td>NaN</td>\n",
       "      <td>NaN</td>\n",
       "      <td>NaN</td>\n",
       "      <td>NaN</td>\n",
       "      <td>NaN</td>\n",
       "      <td>NaN</td>\n",
       "      <td>NaN</td>\n",
       "      <td>...</td>\n",
       "      <td>NaN</td>\n",
       "      <td>NaN</td>\n",
       "      <td>NaN</td>\n",
       "      <td>NaN</td>\n",
       "      <td>NaN</td>\n",
       "      <td>NaN</td>\n",
       "      <td>NaN</td>\n",
       "      <td>NaN</td>\n",
       "      <td>NaN</td>\n",
       "      <td>NaN</td>\n",
       "    </tr>\n",
       "    <tr>\n",
       "      <th>2</th>\n",
       "      <td>NaN</td>\n",
       "      <td>NaN</td>\n",
       "      <td>NaN</td>\n",
       "      <td>NaN</td>\n",
       "      <td>NaN</td>\n",
       "      <td>NaN</td>\n",
       "      <td>NaN</td>\n",
       "      <td>NaN</td>\n",
       "      <td>NaN</td>\n",
       "      <td>NaN</td>\n",
       "      <td>...</td>\n",
       "      <td>NaN</td>\n",
       "      <td>NaN</td>\n",
       "      <td>NaN</td>\n",
       "      <td>NaN</td>\n",
       "      <td>NaN</td>\n",
       "      <td>NaN</td>\n",
       "      <td>NaN</td>\n",
       "      <td>NaN</td>\n",
       "      <td>NaN</td>\n",
       "      <td>NaN</td>\n",
       "    </tr>\n",
       "    <tr>\n",
       "      <th>3</th>\n",
       "      <td>NaN</td>\n",
       "      <td>NaN</td>\n",
       "      <td>NaN</td>\n",
       "      <td>NaN</td>\n",
       "      <td>NaN</td>\n",
       "      <td>NaN</td>\n",
       "      <td>NaN</td>\n",
       "      <td>NaN</td>\n",
       "      <td>NaN</td>\n",
       "      <td>NaN</td>\n",
       "      <td>...</td>\n",
       "      <td>NaN</td>\n",
       "      <td>NaN</td>\n",
       "      <td>NaN</td>\n",
       "      <td>NaN</td>\n",
       "      <td>NaN</td>\n",
       "      <td>NaN</td>\n",
       "      <td>NaN</td>\n",
       "      <td>NaN</td>\n",
       "      <td>NaN</td>\n",
       "      <td>NaN</td>\n",
       "    </tr>\n",
       "    <tr>\n",
       "      <th>4</th>\n",
       "      <td>NaN</td>\n",
       "      <td>NaN</td>\n",
       "      <td>NaN</td>\n",
       "      <td>NaN</td>\n",
       "      <td>NaN</td>\n",
       "      <td>NaN</td>\n",
       "      <td>NaN</td>\n",
       "      <td>NaN</td>\n",
       "      <td>NaN</td>\n",
       "      <td>NaN</td>\n",
       "      <td>...</td>\n",
       "      <td>NaN</td>\n",
       "      <td>NaN</td>\n",
       "      <td>NaN</td>\n",
       "      <td>NaN</td>\n",
       "      <td>NaN</td>\n",
       "      <td>NaN</td>\n",
       "      <td>NaN</td>\n",
       "      <td>NaN</td>\n",
       "      <td>NaN</td>\n",
       "      <td>NaN</td>\n",
       "    </tr>\n",
       "    <tr>\n",
       "      <th>5</th>\n",
       "      <td>NaN</td>\n",
       "      <td>NaN</td>\n",
       "      <td>NaN</td>\n",
       "      <td>NaN</td>\n",
       "      <td>NaN</td>\n",
       "      <td>NaN</td>\n",
       "      <td>NaN</td>\n",
       "      <td>NaN</td>\n",
       "      <td>NaN</td>\n",
       "      <td>NaN</td>\n",
       "      <td>...</td>\n",
       "      <td>NaN</td>\n",
       "      <td>NaN</td>\n",
       "      <td>NaN</td>\n",
       "      <td>NaN</td>\n",
       "      <td>NaN</td>\n",
       "      <td>NaN</td>\n",
       "      <td>NaN</td>\n",
       "      <td>NaN</td>\n",
       "      <td>NaN</td>\n",
       "      <td>NaN</td>\n",
       "    </tr>\n",
       "  </tbody>\n",
       "</table>\n",
       "<p>5 rows × 8754 columns</p>\n",
       "</div>"
      ],
      "text/plain": [
       "title   $9.99  'Neath the Arizona Skies  'night, Mother  (500) Days of Summer  \\\n",
       "userId                                                                          \n",
       "1         NaN                       NaN             NaN                   NaN   \n",
       "2         NaN                       NaN             NaN                   NaN   \n",
       "3         NaN                       NaN             NaN                   NaN   \n",
       "4         NaN                       NaN             NaN                   NaN   \n",
       "5         NaN                       NaN             NaN                   NaN   \n",
       "\n",
       "title   ...And God Created Woman  ...And Justice for All  1-900  10  \\\n",
       "userId                                                                \n",
       "1                            NaN                     NaN    NaN NaN   \n",
       "2                            NaN                     NaN    NaN NaN   \n",
       "3                            NaN                     NaN    NaN NaN   \n",
       "4                            NaN                     NaN    NaN NaN   \n",
       "5                            NaN                     NaN    NaN NaN   \n",
       "\n",
       "title   10 Attitudes  10 Cloverfield Lane  ...  eXistenZ  \\\n",
       "userId                                     ...             \n",
       "1                NaN                  NaN  ...       NaN   \n",
       "2                NaN                  NaN  ...       NaN   \n",
       "3                NaN                  NaN  ...       NaN   \n",
       "4                NaN                  NaN  ...       NaN   \n",
       "5                NaN                  NaN  ...       NaN   \n",
       "\n",
       "title   loudQUIETloud: A Film About the Pixies  xXx  xXx: State of the Union  \\\n",
       "userId                                                                         \n",
       "1                                          NaN  NaN                      NaN   \n",
       "2                                          NaN  NaN                      NaN   \n",
       "3                                          NaN  NaN                      NaN   \n",
       "4                                          NaN  NaN                      NaN   \n",
       "5                                          NaN  NaN                      NaN   \n",
       "\n",
       "title   ¡Three Amigos!  À Nous la Liberté  Æon Flux  İtirazım Var  Želary  \\\n",
       "userId                                                                      \n",
       "1                  NaN                NaN       NaN           NaN     NaN   \n",
       "2                  NaN                NaN       NaN           NaN     NaN   \n",
       "3                  NaN                NaN       NaN           NaN     NaN   \n",
       "4                  NaN                NaN       NaN           NaN     NaN   \n",
       "5                  NaN                NaN       NaN           NaN     NaN   \n",
       "\n",
       "title   ’Round Midnight  \n",
       "userId                   \n",
       "1                   NaN  \n",
       "2                   NaN  \n",
       "3                   NaN  \n",
       "4                   NaN  \n",
       "5                   NaN  \n",
       "\n",
       "[5 rows x 8754 columns]"
      ]
     },
     "execution_count": 128,
     "metadata": {},
     "output_type": "execute_result"
    }
   ],
   "source": [
    "# Use pivot_table with an aggregation function to handle duplicates\n",
    "user_ratings_df = movies_with_ratings.pivot_table(index='userId', columns='title', values='rating', aggfunc='mean')\n",
    "\n",
    "print(f'user_ratings_table shape: {user_ratings_df.shape}')\n",
    "\n",
    "# Inspect the transformed table\n",
    "user_ratings_df.head()"
   ]
  },
  {
   "cell_type": "code",
   "execution_count": 129,
   "metadata": {},
   "outputs": [
    {
     "name": "stdout",
     "output_type": "stream",
     "text": [
      "0.9830658635251945\n"
     ]
    }
   ],
   "source": [
    "# Count the occupied cells\n",
    "sparsity_count = user_ratings_df.isnull().values.sum()\n",
    "\n",
    "# Count all cells\n",
    "full_count = user_ratings_df.size\n",
    "\n",
    "# Find the sparsity of the DataFrame\n",
    "sparsity = sparsity_count / full_count\n",
    "print(sparsity)"
   ]
  },
  {
   "cell_type": "code",
   "execution_count": 130,
   "metadata": {},
   "outputs": [
    {
     "name": "stdout",
     "output_type": "stream",
     "text": [
      "title\n",
      "$9.99                        3\n",
      "'Neath the Arizona Skies     1\n",
      "'night, Mother               3\n",
      "(500) Days of Summer        45\n",
      "...And God Created Woman     1\n",
      "                            ..\n",
      "À Nous la Liberté            1\n",
      "Æon Flux                    13\n",
      "İtirazım Var                 1\n",
      "Želary                       1\n",
      "’Round Midnight              2\n",
      "Length: 8754, dtype: int64\n"
     ]
    }
   ],
   "source": [
    "# Count the occupied cells per column\n",
    "occupied_count = user_ratings_df.notnull().sum()\n",
    "print(occupied_count)"
   ]
  },
  {
   "cell_type": "code",
   "execution_count": 131,
   "metadata": {},
   "outputs": [
    {
     "name": "stdout",
     "output_type": "stream",
     "text": [
      "title\n",
      "My Tutor                      1\n",
      "Fat Albert                    1\n",
      "Fata Morgana                  1\n",
      "Sex and the City 2            1\n",
      "Sex Ed                        1\n",
      "                           ... \n",
      "Star Wars                   291\n",
      "The Silence of the Lambs    304\n",
      "The Shawshank Redemption    311\n",
      "Pulp Fiction                324\n",
      "Forrest Gump                341\n",
      "Length: 8754, dtype: int64\n"
     ]
    }
   ],
   "source": [
    "# Sort the resulting series from low to high\n",
    "sorted_occupied_count = occupied_count.sort_values()\n",
    "print(sorted_occupied_count)"
   ]
  },
  {
   "cell_type": "code",
   "execution_count": 132,
   "metadata": {},
   "outputs": [
    {
     "data": {
      "image/png": "[encoded data removed]",
      "text/plain": [
       "<Figure size 640x480 with 1 Axes>"
      ]
     },
     "metadata": {},
     "output_type": "display_data"
    }
   ],
   "source": [
    "# Plot a histogram of the values in sorted_occupied_count\n",
    "sorted_occupied_count.hist()\n",
    "plt.show()"
   ]
  },
  {
   "cell_type": "code",
   "execution_count": 133,
   "metadata": {},
   "outputs": [
    {
     "name": "stdout",
     "output_type": "stream",
     "text": [
      "userId\n",
      "1      0.0\n",
      "2      0.0\n",
      "3      0.0\n",
      "4      0.0\n",
      "5      0.0\n",
      "      ... \n",
      "667    0.0\n",
      "668    0.0\n",
      "669    0.0\n",
      "670    0.0\n",
      "671    0.0\n",
      "Length: 671, dtype: float64\n"
     ]
    }
   ],
   "source": [
    "# Get the average rating for each user \n",
    "avg_ratings = user_ratings_df.mean(axis=1)\n",
    "\n",
    "# Center each user's ratings around 0\n",
    "user_ratings_centered = user_ratings_df.sub(avg_ratings, axis=1)\n",
    "\n",
    "# Fill in all missing values with 0s\n",
    "user_ratings_centered.fillna(0, inplace=True)\n",
    "\n",
    "# Print the mean of each column\n",
    "print(user_ratings_centered.mean(axis=1))"
   ]
  },
  {
   "cell_type": "code",
   "execution_count": 134,
   "metadata": {},
   "outputs": [
    {
     "name": "stdout",
     "output_type": "stream",
     "text": [
      "Matrix is entirely zeros after centering. Consider adjusting the centering method.\n",
      "[[39.25683423  0.          0.          0.          0.          0.        ]\n",
      " [ 0.         40.62920444  0.          0.          0.          0.        ]\n",
      " [ 0.          0.         41.38688185  0.          0.          0.        ]\n",
      " [ 0.          0.          0.         43.4832371   0.          0.        ]\n",
      " [ 0.          0.          0.          0.         49.36824467  0.        ]\n",
      " [ 0.          0.          0.          0.          0.         73.66737147]]\n"
     ]
    }
   ],
   "source": [
    "# Check if the matrix is non-zero after centering\n",
    "if not user_ratings_centered.values.any():\n",
    "    print(\"Matrix is entirely zeros after centering. Consider adjusting the centering method.\")\n",
    "    \n",
    "    user_ratings_standardized = user_ratings_df.apply(lambda x: (x - x.mean()) / x.std(), axis=1)\n",
    "    user_ratings_standardized.fillna(0, inplace=True)\n",
    "\n",
    "    # Convert to NumPy array\n",
    "    user_ratings_standardized_matrix = user_ratings_standardized.values\n",
    "\n",
    "    # Perform SVD on the standardized matrix\n",
    "    U, sigma, Vt = svds(user_ratings_standardized_matrix, k=6)\n",
    "    sigma = np.diag(sigma)\n",
    "    print(sigma)\n",
    "    \n",
    "else:\n",
    "    # Perform SVD with a higher k value\n",
    "    U, sigma, Vt = svds(user_ratings_centered.values, k=6)\n",
    "    sigma = np.diag(sigma)\n",
    "    print(sigma)\n"
   ]
  },
  {
   "cell_type": "code",
   "execution_count": 135,
   "metadata": {},
   "outputs": [],
   "source": [
    "# Dot product of U and sigma\n",
    "U_sigma = np.dot(U, sigma)\n",
    "\n",
    "# Dot product of result and Vt\n",
    "U_sigma_Vt = np.dot(U_sigma, Vt)\n",
    "\n",
    "# Add the row means back contained in avg_ratings\n",
    "uncentered_ratings = U_sigma_Vt + avg_ratings.values.reshape(-1, 1)"
   ]
  },
  {
   "cell_type": "code",
   "execution_count": 136,
   "metadata": {},
   "outputs": [
    {
     "data": {
      "text/html": [
       "<div>\n",
       "<style scoped>\n",
       "    .dataframe tbody tr th:only-of-type {\n",
       "        vertical-align: middle;\n",
       "    }\n",
       "\n",
       "    .dataframe tbody tr th {\n",
       "        vertical-align: top;\n",
       "    }\n",
       "\n",
       "    .dataframe thead th {\n",
       "        text-align: right;\n",
       "    }\n",
       "</style>\n",
       "<table border=\"1\" class=\"dataframe\">\n",
       "  <thead>\n",
       "    <tr style=\"text-align: right;\">\n",
       "      <th>title</th>\n",
       "      <th>$9.99</th>\n",
       "      <th>'Neath the Arizona Skies</th>\n",
       "      <th>'night, Mother</th>\n",
       "      <th>(500) Days of Summer</th>\n",
       "      <th>...And God Created Woman</th>\n",
       "      <th>...And Justice for All</th>\n",
       "      <th>1-900</th>\n",
       "      <th>10</th>\n",
       "      <th>10 Attitudes</th>\n",
       "      <th>10 Cloverfield Lane</th>\n",
       "      <th>...</th>\n",
       "      <th>eXistenZ</th>\n",
       "      <th>loudQUIETloud: A Film About the Pixies</th>\n",
       "      <th>xXx</th>\n",
       "      <th>xXx: State of the Union</th>\n",
       "      <th>¡Three Amigos!</th>\n",
       "      <th>À Nous la Liberté</th>\n",
       "      <th>Æon Flux</th>\n",
       "      <th>İtirazım Var</th>\n",
       "      <th>Želary</th>\n",
       "      <th>’Round Midnight</th>\n",
       "    </tr>\n",
       "    <tr>\n",
       "      <th>userId</th>\n",
       "      <th></th>\n",
       "      <th></th>\n",
       "      <th></th>\n",
       "      <th></th>\n",
       "      <th></th>\n",
       "      <th></th>\n",
       "      <th></th>\n",
       "      <th></th>\n",
       "      <th></th>\n",
       "      <th></th>\n",
       "      <th></th>\n",
       "      <th></th>\n",
       "      <th></th>\n",
       "      <th></th>\n",
       "      <th></th>\n",
       "      <th></th>\n",
       "      <th></th>\n",
       "      <th></th>\n",
       "      <th></th>\n",
       "      <th></th>\n",
       "      <th></th>\n",
       "    </tr>\n",
       "  </thead>\n",
       "  <tbody>\n",
       "    <tr>\n",
       "      <th>1</th>\n",
       "      <td>2.549705</td>\n",
       "      <td>2.549999</td>\n",
       "      <td>2.550004</td>\n",
       "      <td>2.549753</td>\n",
       "      <td>2.550014</td>\n",
       "      <td>2.546917</td>\n",
       "      <td>2.550176</td>\n",
       "      <td>2.546712</td>\n",
       "      <td>2.550018</td>\n",
       "      <td>2.550035</td>\n",
       "      <td>...</td>\n",
       "      <td>2.547268</td>\n",
       "      <td>2.549999</td>\n",
       "      <td>2.549343</td>\n",
       "      <td>2.550259</td>\n",
       "      <td>2.548660</td>\n",
       "      <td>2.550056</td>\n",
       "      <td>2.551469</td>\n",
       "      <td>2.550016</td>\n",
       "      <td>2.549947</td>\n",
       "      <td>2.551013</td>\n",
       "    </tr>\n",
       "    <tr>\n",
       "      <th>2</th>\n",
       "      <td>3.479251</td>\n",
       "      <td>3.479971</td>\n",
       "      <td>3.479265</td>\n",
       "      <td>3.489538</td>\n",
       "      <td>3.480130</td>\n",
       "      <td>3.481975</td>\n",
       "      <td>3.481396</td>\n",
       "      <td>3.479263</td>\n",
       "      <td>3.479952</td>\n",
       "      <td>3.481679</td>\n",
       "      <td>...</td>\n",
       "      <td>3.464784</td>\n",
       "      <td>3.480131</td>\n",
       "      <td>3.472079</td>\n",
       "      <td>3.479869</td>\n",
       "      <td>3.467502</td>\n",
       "      <td>3.479900</td>\n",
       "      <td>3.484841</td>\n",
       "      <td>3.479934</td>\n",
       "      <td>3.480607</td>\n",
       "      <td>3.479320</td>\n",
       "    </tr>\n",
       "    <tr>\n",
       "      <th>3</th>\n",
       "      <td>3.566049</td>\n",
       "      <td>3.568587</td>\n",
       "      <td>3.565773</td>\n",
       "      <td>3.586859</td>\n",
       "      <td>3.568693</td>\n",
       "      <td>3.567963</td>\n",
       "      <td>3.570445</td>\n",
       "      <td>3.563692</td>\n",
       "      <td>3.568687</td>\n",
       "      <td>3.570566</td>\n",
       "      <td>...</td>\n",
       "      <td>3.555384</td>\n",
       "      <td>3.569209</td>\n",
       "      <td>3.535110</td>\n",
       "      <td>3.567378</td>\n",
       "      <td>3.560625</td>\n",
       "      <td>3.569098</td>\n",
       "      <td>3.573323</td>\n",
       "      <td>3.568418</td>\n",
       "      <td>3.569134</td>\n",
       "      <td>3.567877</td>\n",
       "    </tr>\n",
       "    <tr>\n",
       "      <th>4</th>\n",
       "      <td>4.344740</td>\n",
       "      <td>4.347802</td>\n",
       "      <td>4.371644</td>\n",
       "      <td>4.371046</td>\n",
       "      <td>4.348632</td>\n",
       "      <td>4.384209</td>\n",
       "      <td>4.354180</td>\n",
       "      <td>4.358987</td>\n",
       "      <td>4.347702</td>\n",
       "      <td>4.345705</td>\n",
       "      <td>...</td>\n",
       "      <td>4.310102</td>\n",
       "      <td>4.348653</td>\n",
       "      <td>4.261642</td>\n",
       "      <td>4.346051</td>\n",
       "      <td>4.290059</td>\n",
       "      <td>4.347796</td>\n",
       "      <td>4.319181</td>\n",
       "      <td>4.347922</td>\n",
       "      <td>4.349488</td>\n",
       "      <td>4.345931</td>\n",
       "    </tr>\n",
       "    <tr>\n",
       "      <th>5</th>\n",
       "      <td>3.913999</td>\n",
       "      <td>3.910010</td>\n",
       "      <td>3.924983</td>\n",
       "      <td>3.905412</td>\n",
       "      <td>3.909843</td>\n",
       "      <td>3.907943</td>\n",
       "      <td>3.907064</td>\n",
       "      <td>3.903932</td>\n",
       "      <td>3.909928</td>\n",
       "      <td>3.918410</td>\n",
       "      <td>...</td>\n",
       "      <td>3.919784</td>\n",
       "      <td>3.909110</td>\n",
       "      <td>3.973838</td>\n",
       "      <td>3.910502</td>\n",
       "      <td>3.899026</td>\n",
       "      <td>3.908721</td>\n",
       "      <td>3.916833</td>\n",
       "      <td>3.910132</td>\n",
       "      <td>3.910690</td>\n",
       "      <td>3.913582</td>\n",
       "    </tr>\n",
       "    <tr>\n",
       "      <th>...</th>\n",
       "      <td>...</td>\n",
       "      <td>...</td>\n",
       "      <td>...</td>\n",
       "      <td>...</td>\n",
       "      <td>...</td>\n",
       "      <td>...</td>\n",
       "      <td>...</td>\n",
       "      <td>...</td>\n",
       "      <td>...</td>\n",
       "      <td>...</td>\n",
       "      <td>...</td>\n",
       "      <td>...</td>\n",
       "      <td>...</td>\n",
       "      <td>...</td>\n",
       "      <td>...</td>\n",
       "      <td>...</td>\n",
       "      <td>...</td>\n",
       "      <td>...</td>\n",
       "      <td>...</td>\n",
       "      <td>...</td>\n",
       "      <td>...</td>\n",
       "    </tr>\n",
       "    <tr>\n",
       "      <th>667</th>\n",
       "      <td>3.644849</td>\n",
       "      <td>3.647016</td>\n",
       "      <td>3.650973</td>\n",
       "      <td>3.654728</td>\n",
       "      <td>3.647169</td>\n",
       "      <td>3.660816</td>\n",
       "      <td>3.649226</td>\n",
       "      <td>3.647727</td>\n",
       "      <td>3.647067</td>\n",
       "      <td>3.646716</td>\n",
       "      <td>...</td>\n",
       "      <td>3.638770</td>\n",
       "      <td>3.647407</td>\n",
       "      <td>3.628626</td>\n",
       "      <td>3.648180</td>\n",
       "      <td>3.631857</td>\n",
       "      <td>3.647303</td>\n",
       "      <td>3.658224</td>\n",
       "      <td>3.647034</td>\n",
       "      <td>3.647467</td>\n",
       "      <td>3.645004</td>\n",
       "    </tr>\n",
       "    <tr>\n",
       "      <th>668</th>\n",
       "      <td>3.788227</td>\n",
       "      <td>3.789440</td>\n",
       "      <td>3.789119</td>\n",
       "      <td>3.795585</td>\n",
       "      <td>3.789588</td>\n",
       "      <td>3.786319</td>\n",
       "      <td>3.790778</td>\n",
       "      <td>3.785831</td>\n",
       "      <td>3.789462</td>\n",
       "      <td>3.789042</td>\n",
       "      <td>...</td>\n",
       "      <td>3.777127</td>\n",
       "      <td>3.789685</td>\n",
       "      <td>3.767466</td>\n",
       "      <td>3.788873</td>\n",
       "      <td>3.782204</td>\n",
       "      <td>3.789664</td>\n",
       "      <td>3.785042</td>\n",
       "      <td>3.789419</td>\n",
       "      <td>3.789591</td>\n",
       "      <td>3.790547</td>\n",
       "    </tr>\n",
       "    <tr>\n",
       "      <th>669</th>\n",
       "      <td>3.350523</td>\n",
       "      <td>3.351284</td>\n",
       "      <td>3.354207</td>\n",
       "      <td>3.363299</td>\n",
       "      <td>3.351459</td>\n",
       "      <td>3.351825</td>\n",
       "      <td>3.352410</td>\n",
       "      <td>3.352592</td>\n",
       "      <td>3.351282</td>\n",
       "      <td>3.351512</td>\n",
       "      <td>...</td>\n",
       "      <td>3.342127</td>\n",
       "      <td>3.351674</td>\n",
       "      <td>3.312845</td>\n",
       "      <td>3.348529</td>\n",
       "      <td>3.343886</td>\n",
       "      <td>3.351448</td>\n",
       "      <td>3.331419</td>\n",
       "      <td>3.351184</td>\n",
       "      <td>3.351661</td>\n",
       "      <td>3.351695</td>\n",
       "    </tr>\n",
       "    <tr>\n",
       "      <th>670</th>\n",
       "      <td>3.805636</td>\n",
       "      <td>3.806416</td>\n",
       "      <td>3.812147</td>\n",
       "      <td>3.815831</td>\n",
       "      <td>3.806428</td>\n",
       "      <td>3.810663</td>\n",
       "      <td>3.806824</td>\n",
       "      <td>3.803576</td>\n",
       "      <td>3.806476</td>\n",
       "      <td>3.809046</td>\n",
       "      <td>...</td>\n",
       "      <td>3.806279</td>\n",
       "      <td>3.806653</td>\n",
       "      <td>3.794995</td>\n",
       "      <td>3.805658</td>\n",
       "      <td>3.798511</td>\n",
       "      <td>3.806498</td>\n",
       "      <td>3.807601</td>\n",
       "      <td>3.806356</td>\n",
       "      <td>3.806840</td>\n",
       "      <td>3.806535</td>\n",
       "    </tr>\n",
       "    <tr>\n",
       "      <th>671</th>\n",
       "      <td>3.919476</td>\n",
       "      <td>3.917252</td>\n",
       "      <td>3.922547</td>\n",
       "      <td>3.959039</td>\n",
       "      <td>3.917738</td>\n",
       "      <td>3.931790</td>\n",
       "      <td>3.919321</td>\n",
       "      <td>3.933036</td>\n",
       "      <td>3.916976</td>\n",
       "      <td>3.928163</td>\n",
       "      <td>...</td>\n",
       "      <td>3.879576</td>\n",
       "      <td>3.917495</td>\n",
       "      <td>3.895994</td>\n",
       "      <td>3.911299</td>\n",
       "      <td>3.878021</td>\n",
       "      <td>3.915909</td>\n",
       "      <td>3.896504</td>\n",
       "      <td>3.916945</td>\n",
       "      <td>3.920336</td>\n",
       "      <td>3.912584</td>\n",
       "    </tr>\n",
       "  </tbody>\n",
       "</table>\n",
       "<p>671 rows × 8754 columns</p>\n",
       "</div>"
      ],
      "text/plain": [
       "title      $9.99  'Neath the Arizona Skies  'night, Mother  \\\n",
       "userId                                                       \n",
       "1       2.549705                  2.549999        2.550004   \n",
       "2       3.479251                  3.479971        3.479265   \n",
       "3       3.566049                  3.568587        3.565773   \n",
       "4       4.344740                  4.347802        4.371644   \n",
       "5       3.913999                  3.910010        3.924983   \n",
       "...          ...                       ...             ...   \n",
       "667     3.644849                  3.647016        3.650973   \n",
       "668     3.788227                  3.789440        3.789119   \n",
       "669     3.350523                  3.351284        3.354207   \n",
       "670     3.805636                  3.806416        3.812147   \n",
       "671     3.919476                  3.917252        3.922547   \n",
       "\n",
       "title   (500) Days of Summer  ...And God Created Woman  \\\n",
       "userId                                                   \n",
       "1                   2.549753                  2.550014   \n",
       "2                   3.489538                  3.480130   \n",
       "3                   3.586859                  3.568693   \n",
       "4                   4.371046                  4.348632   \n",
       "5                   3.905412                  3.909843   \n",
       "...                      ...                       ...   \n",
       "667                 3.654728                  3.647169   \n",
       "668                 3.795585                  3.789588   \n",
       "669                 3.363299                  3.351459   \n",
       "670                 3.815831                  3.806428   \n",
       "671                 3.959039                  3.917738   \n",
       "\n",
       "title   ...And Justice for All     1-900        10  10 Attitudes  \\\n",
       "userId                                                             \n",
       "1                     2.546917  2.550176  2.546712      2.550018   \n",
       "2                     3.481975  3.481396  3.479263      3.479952   \n",
       "3                     3.567963  3.570445  3.563692      3.568687   \n",
       "4                     4.384209  4.354180  4.358987      4.347702   \n",
       "5                     3.907943  3.907064  3.903932      3.909928   \n",
       "...                        ...       ...       ...           ...   \n",
       "667                   3.660816  3.649226  3.647727      3.647067   \n",
       "668                   3.786319  3.790778  3.785831      3.789462   \n",
       "669                   3.351825  3.352410  3.352592      3.351282   \n",
       "670                   3.810663  3.806824  3.803576      3.806476   \n",
       "671                   3.931790  3.919321  3.933036      3.916976   \n",
       "\n",
       "title   10 Cloverfield Lane  ...  eXistenZ  \\\n",
       "userId                       ...             \n",
       "1                  2.550035  ...  2.547268   \n",
       "2                  3.481679  ...  3.464784   \n",
       "3                  3.570566  ...  3.555384   \n",
       "4                  4.345705  ...  4.310102   \n",
       "5                  3.918410  ...  3.919784   \n",
       "...                     ...  ...       ...   \n",
       "667                3.646716  ...  3.638770   \n",
       "668                3.789042  ...  3.777127   \n",
       "669                3.351512  ...  3.342127   \n",
       "670                3.809046  ...  3.806279   \n",
       "671                3.928163  ...  3.879576   \n",
       "\n",
       "title   loudQUIETloud: A Film About the Pixies       xXx  \\\n",
       "userId                                                     \n",
       "1                                     2.549999  2.549343   \n",
       "2                                     3.480131  3.472079   \n",
       "3                                     3.569209  3.535110   \n",
       "4                                     4.348653  4.261642   \n",
       "5                                     3.909110  3.973838   \n",
       "...                                        ...       ...   \n",
       "667                                   3.647407  3.628626   \n",
       "668                                   3.789685  3.767466   \n",
       "669                                   3.351674  3.312845   \n",
       "670                                   3.806653  3.794995   \n",
       "671                                   3.917495  3.895994   \n",
       "\n",
       "title   xXx: State of the Union  ¡Three Amigos!  À Nous la Liberté  Æon Flux  \\\n",
       "userId                                                                         \n",
       "1                      2.550259        2.548660           2.550056  2.551469   \n",
       "2                      3.479869        3.467502           3.479900  3.484841   \n",
       "3                      3.567378        3.560625           3.569098  3.573323   \n",
       "4                      4.346051        4.290059           4.347796  4.319181   \n",
       "5                      3.910502        3.899026           3.908721  3.916833   \n",
       "...                         ...             ...                ...       ...   \n",
       "667                    3.648180        3.631857           3.647303  3.658224   \n",
       "668                    3.788873        3.782204           3.789664  3.785042   \n",
       "669                    3.348529        3.343886           3.351448  3.331419   \n",
       "670                    3.805658        3.798511           3.806498  3.807601   \n",
       "671                    3.911299        3.878021           3.915909  3.896504   \n",
       "\n",
       "title   İtirazım Var    Želary  ’Round Midnight  \n",
       "userId                                           \n",
       "1           2.550016  2.549947         2.551013  \n",
       "2           3.479934  3.480607         3.479320  \n",
       "3           3.568418  3.569134         3.567877  \n",
       "4           4.347922  4.349488         4.345931  \n",
       "5           3.910132  3.910690         3.913582  \n",
       "...              ...       ...              ...  \n",
       "667         3.647034  3.647467         3.645004  \n",
       "668         3.789419  3.789591         3.790547  \n",
       "669         3.351184  3.351661         3.351695  \n",
       "670         3.806356  3.806840         3.806535  \n",
       "671         3.916945  3.920336         3.912584  \n",
       "\n",
       "[671 rows x 8754 columns]"
      ]
     },
     "execution_count": 136,
     "metadata": {},
     "output_type": "execute_result"
    }
   ],
   "source": [
    "# Create DataFrame of the results\n",
    "calc_pred_ratings_df = pd.DataFrame(uncentered_ratings, \n",
    "                                    index=user_ratings_df.index,\n",
    "                                    columns=user_ratings_df.columns\n",
    "                                   )\n",
    "# Print both the recalculated matrix and the original \n",
    "calc_pred_ratings_df"
   ]
  },
  {
   "cell_type": "code",
   "execution_count": 137,
   "metadata": {},
   "outputs": [
    {
     "name": "stdout",
     "output_type": "stream",
     "text": [
      "title\n",
      "The Shawshank Redemption      4.901910\n",
      "Star Wars                     4.832218\n",
      "Pulp Fiction                  4.825053\n",
      "Schindler's List              4.802232\n",
      "The Empire Strikes Back       4.769980\n",
      "                                ...   \n",
      "Batman & Robin                4.099112\n",
      "Congo                         4.098395\n",
      "Ace Ventura: Pet Detective    4.089053\n",
      "Batman Forever                4.088364\n",
      "Waterworld                    4.037323\n",
      "Name: 4, Length: 8754, dtype: float64\n"
     ]
    }
   ],
   "source": [
    "# Sort the ratings of User 5 from high to low\n",
    "user_5_ratings = calc_pred_ratings_df.loc[4,:].sort_values(ascending=False)\n",
    "\n",
    "print(user_5_ratings)"
   ]
  },
  {
   "cell_type": "code",
   "execution_count": 138,
   "metadata": {},
   "outputs": [
    {
     "name": "stdout",
     "output_type": "stream",
     "text": [
      "1.2253892223648926\n",
      "0.7461972136687867\n"
     ]
    },
    {
     "name": "stderr",
     "output_type": "stream",
     "text": [
      "c:\\Users\\PC\\anaconda3\\Lib\\site-packages\\sklearn\\metrics\\_regression.py:492: FutureWarning:\n",
      "\n",
      "'squared' is deprecated in version 1.4 and will be removed in 1.6. To calculate the root mean squared error, use the function'root_mean_squared_error'.\n",
      "\n",
      "c:\\Users\\PC\\anaconda3\\Lib\\site-packages\\sklearn\\metrics\\_regression.py:492: FutureWarning:\n",
      "\n",
      "'squared' is deprecated in version 1.4 and will be removed in 1.6. To calculate the root mean squared error, use the function'root_mean_squared_error'.\n",
      "\n"
     ]
    }
   ],
   "source": [
    "act_ratings_df = user_ratings_df\n",
    "\n",
    "avg_pred_ratings_df = pd.DataFrame(np.tile(avg_ratings.values, (user_ratings_df.shape[1], 1)).T, \n",
    "                                    index=user_ratings_df.index, \n",
    "                                    columns=user_ratings_df.columns)\n",
    "\n",
    "# Extract the ground truth to compare your predictions against\n",
    "actual_values = act_ratings_df.iloc[:20, :100].values\n",
    "avg_values = avg_pred_ratings_df.iloc[:20, :100].values\n",
    "predicted_values = calc_pred_ratings_df.iloc[:20, :100].values\n",
    "\n",
    "# Create a mask of actual_values to only look at the non-missing values in the ground truth\n",
    "mask = ~np.isnan(actual_values)\n",
    "\n",
    "# Print the performance of both predictions and compare\n",
    "print(mean_squared_error(actual_values[mask], avg_values[mask], squared=False))\n",
    "print(mean_squared_error(actual_values[mask], predicted_values[mask], squared=False))"
   ]
  },
  {
   "cell_type": "markdown",
   "metadata": {},
   "source": [
    "## Another way for collaborative filtering"
   ]
  },
  {
   "cell_type": "code",
   "execution_count": 183,
   "metadata": {},
   "outputs": [
    {
     "name": "stdout",
     "output_type": "stream",
     "text": [
      "Shape of the links_small dataframe: (9112, 2)\n"
     ]
    }
   ],
   "source": [
    "links_small = pd.read_csv('The Movies Dataset/links_small.csv')\n",
    "\n",
    "links_small.rename(columns={'tmdbId': 'id'}, inplace=True)\n",
    "links_small.drop(columns=['imdbId'], inplace=True)\n",
    "links_small.dropna(inplace=True)\n",
    "links_small.drop_duplicates(inplace=True)\n",
    "links_small.drop_duplicates(subset = ['id'] ,inplace=True)\n",
    "\n",
    "links_small['id'] = links_small['id'].astype('int')\n",
    "\n",
    "print(f'Shape of the links_small dataframe: {links_small.shape}')"
   ]
  },
  {
   "cell_type": "code",
   "execution_count": 184,
   "metadata": {},
   "outputs": [
    {
     "name": "stdout",
     "output_type": "stream",
     "text": [
      "Shape of the links_small dataframe: (99933, 4)\n"
     ]
    }
   ],
   "source": [
    "ratings = pd.read_csv('The Movies Dataset/ratings_small.csv')\n",
    "ratings = ratings.merge(links_small, on='movieId')\n",
    "\n",
    "ratings = ratings[['userId', 'id', 'rating', 'timestamp']]\n",
    "\n",
    "ratings.dropna(inplace=True)\n",
    "ratings.drop_duplicates(inplace=True)\n",
    "\n",
    "print(f'Shape of the links_small dataframe: {ratings.shape}')"
   ]
  },
  {
   "cell_type": "code",
   "execution_count": 185,
   "metadata": {},
   "outputs": [
    {
     "name": "stdout",
     "output_type": "stream",
     "text": [
      "Shape of the movies_with_ratings dataframe: (99810, 25)\n"
     ]
    },
    {
     "data": {
      "text/html": [
       "<div>\n",
       "<style scoped>\n",
       "    .dataframe tbody tr th:only-of-type {\n",
       "        vertical-align: middle;\n",
       "    }\n",
       "\n",
       "    .dataframe tbody tr th {\n",
       "        vertical-align: top;\n",
       "    }\n",
       "\n",
       "    .dataframe thead th {\n",
       "        text-align: right;\n",
       "    }\n",
       "</style>\n",
       "<table border=\"1\" class=\"dataframe\">\n",
       "  <thead>\n",
       "    <tr style=\"text-align: right;\">\n",
       "      <th></th>\n",
       "      <th>imdb_id</th>\n",
       "      <th>id</th>\n",
       "      <th>title</th>\n",
       "      <th>year</th>\n",
       "      <th>genres</th>\n",
       "      <th>vote_average</th>\n",
       "      <th>vote_count</th>\n",
       "      <th>popularity</th>\n",
       "      <th>budget</th>\n",
       "      <th>revenue</th>\n",
       "      <th>...</th>\n",
       "      <th>actor</th>\n",
       "      <th>character</th>\n",
       "      <th>cast_size</th>\n",
       "      <th>crew_size</th>\n",
       "      <th>overview</th>\n",
       "      <th>tagline</th>\n",
       "      <th>keywords</th>\n",
       "      <th>userId</th>\n",
       "      <th>rating</th>\n",
       "      <th>timestamp</th>\n",
       "    </tr>\n",
       "  </thead>\n",
       "  <tbody>\n",
       "    <tr>\n",
       "      <th>0</th>\n",
       "      <td>tt0114709</td>\n",
       "      <td>862</td>\n",
       "      <td>Toy Story</td>\n",
       "      <td>1995.0</td>\n",
       "      <td>[Animation, Comedy, Family]</td>\n",
       "      <td>7.7</td>\n",
       "      <td>5415.0</td>\n",
       "      <td>21.946943</td>\n",
       "      <td>30000000.0</td>\n",
       "      <td>373554033.0</td>\n",
       "      <td>...</td>\n",
       "      <td>[Tom Hanks, Tim Allen, Don Rickles]</td>\n",
       "      <td>[Woody (voice), Buzz Lightyear (voice), Mr. Po...</td>\n",
       "      <td>13</td>\n",
       "      <td>106</td>\n",
       "      <td>Led by Woody, Andy's toys live happily in his ...</td>\n",
       "      <td></td>\n",
       "      <td>[jealousy, toy, boy, friendship, friends, riva...</td>\n",
       "      <td>7</td>\n",
       "      <td>3.0</td>\n",
       "      <td>851866703</td>\n",
       "    </tr>\n",
       "  </tbody>\n",
       "</table>\n",
       "<p>1 rows × 25 columns</p>\n",
       "</div>"
      ],
      "text/plain": [
       "     imdb_id   id      title    year                       genres  \\\n",
       "0  tt0114709  862  Toy Story  1995.0  [Animation, Comedy, Family]   \n",
       "\n",
       "   vote_average  vote_count  popularity      budget      revenue  ...  \\\n",
       "0           7.7      5415.0   21.946943  30000000.0  373554033.0  ...   \n",
       "\n",
       "                                 actor  \\\n",
       "0  [Tom Hanks, Tim Allen, Don Rickles]   \n",
       "\n",
       "                                           character  cast_size crew_size  \\\n",
       "0  [Woody (voice), Buzz Lightyear (voice), Mr. Po...         13       106   \n",
       "\n",
       "                                            overview tagline  \\\n",
       "0  Led by Woody, Andy's toys live happily in his ...           \n",
       "\n",
       "                                            keywords  userId  rating  \\\n",
       "0  [jealousy, toy, boy, friendship, friends, riva...       7     3.0   \n",
       "\n",
       "   timestamp  \n",
       "0  851866703  \n",
       "\n",
       "[1 rows x 25 columns]"
      ]
     },
     "execution_count": 185,
     "metadata": {},
     "output_type": "execute_result"
    }
   ],
   "source": [
    "merged_rating_dataset = movies_df.merge(ratings, on='id')\n",
    "\n",
    "print(f'Shape of the movies_with_ratings dataframe: {merged_rating_dataset.shape}')\n",
    "\n",
    "merged_rating_dataset.head(1)"
   ]
  },
  {
   "cell_type": "code",
   "execution_count": 187,
   "metadata": {},
   "outputs": [
    {
     "name": "stdout",
     "output_type": "stream",
     "text": [
      "Shape of the movies_with_ratings dataframe: (99470, 3)\n"
     ]
    },
    {
     "data": {
      "text/html": [
       "<div>\n",
       "<style scoped>\n",
       "    .dataframe tbody tr th:only-of-type {\n",
       "        vertical-align: middle;\n",
       "    }\n",
       "\n",
       "    .dataframe tbody tr th {\n",
       "        vertical-align: top;\n",
       "    }\n",
       "\n",
       "    .dataframe thead th {\n",
       "        text-align: right;\n",
       "    }\n",
       "</style>\n",
       "<table border=\"1\" class=\"dataframe\">\n",
       "  <thead>\n",
       "    <tr style=\"text-align: right;\">\n",
       "      <th></th>\n",
       "      <th>user id</th>\n",
       "      <th>movie title</th>\n",
       "      <th>rating</th>\n",
       "    </tr>\n",
       "  </thead>\n",
       "  <tbody>\n",
       "    <tr>\n",
       "      <th>0</th>\n",
       "      <td>1</td>\n",
       "      <td>Antz</td>\n",
       "      <td>2.0</td>\n",
       "    </tr>\n",
       "    <tr>\n",
       "      <th>1</th>\n",
       "      <td>1</td>\n",
       "      <td>Beavis and Butt-Head Do America</td>\n",
       "      <td>1.0</td>\n",
       "    </tr>\n",
       "    <tr>\n",
       "      <th>2</th>\n",
       "      <td>1</td>\n",
       "      <td>Ben-Hur</td>\n",
       "      <td>2.0</td>\n",
       "    </tr>\n",
       "  </tbody>\n",
       "</table>\n",
       "</div>"
      ],
      "text/plain": [
       "   user id                      movie title  rating\n",
       "0        1                             Antz     2.0\n",
       "1        1  Beavis and Butt-Head Do America     1.0\n",
       "2        1                          Ben-Hur     2.0"
      ]
     },
     "execution_count": 187,
     "metadata": {},
     "output_type": "execute_result"
    }
   ],
   "source": [
    "refined_dataset = merged_rating_dataset[['userId', 'title', 'rating']]\n",
    "refined_dataset = refined_dataset.rename(columns={'userId':'user id', 'title':'movie title'})\n",
    "\n",
    "refined_dataset = refined_dataset.groupby(by=['user id','movie title'], as_index=False).agg({\"rating\":\"mean\"})\n",
    "\n",
    "\n",
    "print(f'Shape of the movies_with_ratings dataframe: {refined_dataset.shape}')\n",
    "\n",
    "refined_dataset.head(3)"
   ]
  },
  {
   "cell_type": "code",
   "execution_count": 188,
   "metadata": {},
   "outputs": [
    {
     "data": {
      "text/plain": [
       "(8754, 671)"
      ]
     },
     "execution_count": 188,
     "metadata": {},
     "output_type": "execute_result"
    }
   ],
   "source": [
    "#list of all users\n",
    "unique_users = refined_dataset['user id'].unique() \n",
    "#creating a list of all movie names in it\n",
    "unique_movies = refined_dataset['movie title'].unique()\n",
    "len(unique_movies),len(unique_users)"
   ]
  },
  {
   "cell_type": "code",
   "execution_count": 189,
   "metadata": {},
   "outputs": [
    {
     "data": {
      "text/plain": [
       "(99470, 99470)"
      ]
     },
     "execution_count": 189,
     "metadata": {},
     "output_type": "execute_result"
    }
   ],
   "source": [
    "users_list = refined_dataset['user id'].tolist()\n",
    "movie_list = refined_dataset['movie title'].tolist()\n",
    "len(users_list),len(movie_list)"
   ]
  },
  {
   "cell_type": "code",
   "execution_count": 191,
   "metadata": {},
   "outputs": [
    {
     "name": "stdout",
     "output_type": "stream",
     "text": [
      "99470\n"
     ]
    }
   ],
   "source": [
    "ratings_list = refined_dataset['rating'].tolist()\n",
    "print(len(ratings_list))"
   ]
  },
  {
   "cell_type": "code",
   "execution_count": 192,
   "metadata": {},
   "outputs": [
    {
     "name": "stdout",
     "output_type": "stream",
     "text": [
      "8754\n"
     ]
    }
   ],
   "source": [
    "movies_dict = {unique_movies[i] : i for i in range(len(unique_movies))}\n",
    "print(len(movies_dict))"
   ]
  },
  {
   "cell_type": "code",
   "execution_count": 193,
   "metadata": {},
   "outputs": [
    {
     "name": "stdout",
     "output_type": "stream",
     "text": [
      "Shape of Utility matrix:  (8754, 671)\n"
     ]
    },
    {
     "data": {
      "text/plain": [
       "array([[ 2., nan, nan, ..., nan, nan, nan],\n",
       "       [ 1., nan, nan, ..., nan, nan, nan],\n",
       "       [ 2., nan, nan, ..., nan, nan, nan],\n",
       "       ...,\n",
       "       [nan, nan, nan, ..., nan, nan, nan],\n",
       "       [nan, nan, nan, ..., nan, nan, nan],\n",
       "       [nan, nan, nan, ..., nan, nan, nan]])"
      ]
     },
     "execution_count": 193,
     "metadata": {},
     "output_type": "execute_result"
    }
   ],
   "source": [
    "## creating a utility matrix for the available data\n",
    "\n",
    "## Creating an empty array with (number of rows = number of movies) and (number of columns = number of users) rows as movies, columns as users\n",
    "\n",
    "utility_matrix = np.asarray([[np.nan for j in range(len(unique_users))] for i in range(len(unique_movies))])\n",
    "print(\"Shape of Utility matrix: \",utility_matrix.shape)\n",
    "\n",
    "for i in range(len(ratings_list)):\n",
    "\n",
    "    ## ith entry in users list and subtract 1 to get the index, we do the same for movies but we already defined a dictionary to get the index.\n",
    "    utility_matrix[movies_dict[movie_list[i]]][users_list[i]-1] = ratings_list[i]\n",
    "\n",
    "utility_matrix"
   ]
  },
  {
   "cell_type": "markdown",
   "metadata": {},
   "source": [
    "### Normalizing the utility matrix across movies column"
   ]
  },
  {
   "cell_type": "code",
   "execution_count": 194,
   "metadata": {},
   "outputs": [],
   "source": [
    "mask = np.isnan(utility_matrix)\n",
    "masked_arr = np.ma.masked_array(utility_matrix, mask)\n",
    "temp_mask = masked_arr.T\n",
    "rating_means = np.mean(temp_mask, axis=0)\n",
    "\n",
    "filled_matrix = temp_mask.filled(rating_means)\n",
    "filled_matrix = filled_matrix.T\n",
    "filled_matrix = filled_matrix - rating_means.data[:,np.newaxis]"
   ]
  },
  {
   "cell_type": "code",
   "execution_count": 196,
   "metadata": {},
   "outputs": [
    {
     "name": "stdout",
     "output_type": "stream",
     "text": [
      "(8754, 671)\n"
     ]
    },
    {
     "data": {
      "text/plain": [
       "array([[-0.0001455 ,  0.        ,  0.        , ...,  0.        ,\n",
       "         0.        ,  0.        ],\n",
       "       [-0.00023222,  0.        ,  0.        , ...,  0.        ,\n",
       "         0.        ,  0.        ],\n",
       "       [-0.00021877,  0.        ,  0.        , ...,  0.        ,\n",
       "         0.        ,  0.        ],\n",
       "       ...,\n",
       "       [ 0.        ,  0.        ,  0.        , ...,  0.        ,\n",
       "         0.        ,  0.        ],\n",
       "       [ 0.        ,  0.        ,  0.        , ...,  0.        ,\n",
       "         0.        ,  0.        ],\n",
       "       [ 0.        ,  0.        ,  0.        , ...,  0.        ,\n",
       "         0.        ,  0.        ]])"
      ]
     },
     "execution_count": 196,
     "metadata": {},
     "output_type": "execute_result"
    }
   ],
   "source": [
    "filled_matrix = filled_matrix.T / np.sqrt(len(movies_dict)-1)\n",
    "print(filled_matrix.shape)\n",
    "filled_matrix"
   ]
  },
  {
   "cell_type": "markdown",
   "metadata": {},
   "source": [
    "### Computing SVD (Singular Value Decomposition) of Utility matrix"
   ]
  },
  {
   "cell_type": "code",
   "execution_count": 197,
   "metadata": {},
   "outputs": [],
   "source": [
    "## Computing the SVD of the input matrix\n",
    "\n",
    "U, S, V = np.linalg.svd(filled_matrix)"
   ]
  },
  {
   "cell_type": "code",
   "execution_count": 198,
   "metadata": {},
   "outputs": [],
   "source": [
    "case_insensitive_movies_list = [i.lower() for i in unique_movies]"
   ]
  },
  {
   "cell_type": "markdown",
   "metadata": {},
   "source": [
    "### Defining a function to calculate the cosine similarity on the given dataframe and extracting requesting number of closely matched movie indices with the help of numpy einsum which valuates the Einstein summation convention on the operands."
   ]
  },
  {
   "cell_type": "code",
   "execution_count": 199,
   "metadata": {},
   "outputs": [],
   "source": [
    "#Function to calculate the cosine similarity (sorting by most similar and returning the top N)\n",
    "def top_cosine_similarity(data, movie_id, top_n=10):\n",
    "    index = movie_id \n",
    "    movie_row = data[index, :]\n",
    "    magnitude = np.sqrt(np.einsum('ij, ij -> i', data, data))\n",
    "    similarity = np.dot(movie_row, data.T) / (magnitude[index] * magnitude)\n",
    "    sort_indexes = np.argsort(-similarity)\n",
    "    return sort_indexes[:top_n]"
   ]
  },
  {
   "cell_type": "markdown",
   "metadata": {},
   "source": [
    "### Defining a function to get similar movies for the given movie name"
   ]
  },
  {
   "cell_type": "code",
   "execution_count": 200,
   "metadata": {},
   "outputs": [],
   "source": [
    "#k-principal components to represent movies, movie_id to find recommendations, top_n print n results        \n",
    "def get_similar_movies(movie_name,top_n,k = 50):\n",
    "    # k = 50\n",
    "    # movie_id = 1\n",
    "    # top_n = 10\n",
    "    \n",
    "    sliced = V.T[:, :k] # representative data\n",
    "    movie_id = movies_dict[movie_name]\n",
    "    indexes = top_cosine_similarity(sliced, movie_id, top_n)\n",
    "    print(\" \")\n",
    "    print(\"Top\",top_n,\"movies which are very much similar to the Movie-\",movie_name, \"are: \")\n",
    "    print(\" \")\n",
    "    for i in indexes[1:]:\n",
    "        print(unique_movies[i])"
   ]
  },
  {
   "cell_type": "code",
   "execution_count": 201,
   "metadata": {},
   "outputs": [],
   "source": [
    "def get_possible_movies(movie):\n",
    "    temp = ''\n",
    "    possible_movies = case_insensitive_movies_list.copy()\n",
    "    for i in movie :\n",
    "        out = []\n",
    "        temp += i\n",
    "        for j in possible_movies:\n",
    "            if temp in j:\n",
    "                out.append(j)\n",
    "        if len(out) == 0:\n",
    "            return possible_movies\n",
    "        out.sort()\n",
    "        possible_movies = out.copy()\n",
    "    return possible_movies"
   ]
  },
  {
   "cell_type": "code",
   "execution_count": 202,
   "metadata": {},
   "outputs": [],
   "source": [
    "class invalid(Exception):\n",
    "    pass\n",
    "\n",
    "def recommender():\n",
    "    \n",
    "    try:\n",
    "        movie_name = input(\"Enter the Movie name: \")\n",
    "        movie_name_lower = movie_name.lower()\n",
    "        if movie_name_lower not in case_insensitive_movies_list :\n",
    "            raise invalid\n",
    "        else :\n",
    "            # movies_list[case_insensitive_country_names.index(movie_name_lower)]\n",
    "            num_recom = int(input(\"Enter Number of movie recommendations needed: \"))\n",
    "            get_similar_movies(unique_movies[case_insensitive_movies_list.index(movie_name_lower)],num_recom)\n",
    "    except invalid:\n",
    "        possible_movies = get_possible_movies(movie_name_lower)\n",
    "        if len(possible_movies) == len(unique_movies) :\n",
    "            print(\"Movie name entered is does not exist in the list \")\n",
    "        else :\n",
    "            indices = [case_insensitive_movies_list.index(i) for i in possible_movies]\n",
    "            print(\"Entered Movie name is not matching with any movie from the dataset . Please check the below suggestions :\\n\",[unique_movies[i] for i in indices])\n",
    "            print(\"\")\n",
    "            recommender()"
   ]
  },
  {
   "cell_type": "code",
   "execution_count": 203,
   "metadata": {},
   "outputs": [
    {
     "name": "stdout",
     "output_type": "stream",
     "text": [
      " \n",
      "Top 15 movies which are very much similar to the Movie- Toy Story are: \n",
      " \n",
      "Double Jeopardy\n",
      "The Sound of Music\n",
      "Highlander\n",
      "Wag the Dog\n",
      "The Rock\n",
      "Othello\n",
      "Interview with the Vampire\n",
      "The Godfather: Part III\n",
      "You've Got Mail\n",
      "The Gods Must Be Crazy\n",
      "Pretty Woman\n",
      "Cool Hand Luke\n",
      "Mystery Men\n",
      "Lethal Weapon\n"
     ]
    }
   ],
   "source": [
    "recommender()"
   ]
  },
  {
   "cell_type": "markdown",
   "metadata": {},
   "source": [
    "# **Item Based Collaborative Filtering KNN**"
   ]
  },
  {
   "cell_type": "code",
   "execution_count": 139,
   "metadata": {},
   "outputs": [
    {
     "name": "stdout",
     "output_type": "stream",
     "text": [
      "Shape of the links_small dataframe: (9112, 2)\n"
     ]
    }
   ],
   "source": [
    "links_small = pd.read_csv('The Movies Dataset/links_small.csv')\n",
    "\n",
    "links_small.rename(columns={'tmdbId': 'id'}, inplace=True)\n",
    "links_small.drop(columns=['imdbId'], inplace=True)\n",
    "links_small.dropna(inplace=True)\n",
    "links_small.drop_duplicates(inplace=True)\n",
    "links_small.drop_duplicates(subset = ['id'] ,inplace=True)\n",
    "\n",
    "links_small['id'] = links_small['id'].astype('int')\n",
    "\n",
    "print(f'Shape of the links_small dataframe: {links_small.shape}')"
   ]
  },
  {
   "cell_type": "code",
   "execution_count": 140,
   "metadata": {},
   "outputs": [
    {
     "name": "stdout",
     "output_type": "stream",
     "text": [
      "Shape of the links_small dataframe: (99933, 4)\n"
     ]
    }
   ],
   "source": [
    "ratings = pd.read_csv('The Movies Dataset/ratings_small.csv')\n",
    "ratings = ratings.merge(links_small, on='movieId')\n",
    "\n",
    "ratings = ratings[['userId', 'id', 'rating', 'timestamp']]\n",
    "\n",
    "ratings.dropna(inplace=True)\n",
    "ratings.drop_duplicates(inplace=True)\n",
    "\n",
    "print(f'Shape of the links_small dataframe: {ratings.shape}')"
   ]
  },
  {
   "cell_type": "code",
   "execution_count": 141,
   "metadata": {},
   "outputs": [
    {
     "name": "stdout",
     "output_type": "stream",
     "text": [
      "Shape of the movies_with_ratings dataframe: (99810, 25)\n"
     ]
    },
    {
     "data": {
      "text/html": [
       "<div>\n",
       "<style scoped>\n",
       "    .dataframe tbody tr th:only-of-type {\n",
       "        vertical-align: middle;\n",
       "    }\n",
       "\n",
       "    .dataframe tbody tr th {\n",
       "        vertical-align: top;\n",
       "    }\n",
       "\n",
       "    .dataframe thead th {\n",
       "        text-align: right;\n",
       "    }\n",
       "</style>\n",
       "<table border=\"1\" class=\"dataframe\">\n",
       "  <thead>\n",
       "    <tr style=\"text-align: right;\">\n",
       "      <th></th>\n",
       "      <th>imdb_id</th>\n",
       "      <th>id</th>\n",
       "      <th>title</th>\n",
       "      <th>year</th>\n",
       "      <th>genres</th>\n",
       "      <th>vote_average</th>\n",
       "      <th>vote_count</th>\n",
       "      <th>popularity</th>\n",
       "      <th>budget</th>\n",
       "      <th>revenue</th>\n",
       "      <th>...</th>\n",
       "      <th>actor</th>\n",
       "      <th>character</th>\n",
       "      <th>cast_size</th>\n",
       "      <th>crew_size</th>\n",
       "      <th>overview</th>\n",
       "      <th>tagline</th>\n",
       "      <th>keywords</th>\n",
       "      <th>userId</th>\n",
       "      <th>rating</th>\n",
       "      <th>timestamp</th>\n",
       "    </tr>\n",
       "  </thead>\n",
       "  <tbody>\n",
       "    <tr>\n",
       "      <th>0</th>\n",
       "      <td>tt0114709</td>\n",
       "      <td>862</td>\n",
       "      <td>Toy Story</td>\n",
       "      <td>1995.0</td>\n",
       "      <td>[Animation, Comedy, Family]</td>\n",
       "      <td>7.7</td>\n",
       "      <td>5415.0</td>\n",
       "      <td>21.946943</td>\n",
       "      <td>30000000.0</td>\n",
       "      <td>373554033.0</td>\n",
       "      <td>...</td>\n",
       "      <td>[Tom Hanks, Tim Allen, Don Rickles]</td>\n",
       "      <td>[Woody (voice), Buzz Lightyear (voice), Mr. Po...</td>\n",
       "      <td>13</td>\n",
       "      <td>106</td>\n",
       "      <td>Led by Woody, Andy's toys live happily in his ...</td>\n",
       "      <td></td>\n",
       "      <td>[jealousy, toy, boy, friendship, friends, riva...</td>\n",
       "      <td>7</td>\n",
       "      <td>3.0</td>\n",
       "      <td>851866703</td>\n",
       "    </tr>\n",
       "  </tbody>\n",
       "</table>\n",
       "<p>1 rows × 25 columns</p>\n",
       "</div>"
      ],
      "text/plain": [
       "     imdb_id   id      title    year                       genres  \\\n",
       "0  tt0114709  862  Toy Story  1995.0  [Animation, Comedy, Family]   \n",
       "\n",
       "   vote_average  vote_count  popularity      budget      revenue  ...  \\\n",
       "0           7.7      5415.0   21.946943  30000000.0  373554033.0  ...   \n",
       "\n",
       "                                 actor  \\\n",
       "0  [Tom Hanks, Tim Allen, Don Rickles]   \n",
       "\n",
       "                                           character  cast_size crew_size  \\\n",
       "0  [Woody (voice), Buzz Lightyear (voice), Mr. Po...         13       106   \n",
       "\n",
       "                                            overview tagline  \\\n",
       "0  Led by Woody, Andy's toys live happily in his ...           \n",
       "\n",
       "                                            keywords  userId  rating  \\\n",
       "0  [jealousy, toy, boy, friendship, friends, riva...       7     3.0   \n",
       "\n",
       "   timestamp  \n",
       "0  851866703  \n",
       "\n",
       "[1 rows x 25 columns]"
      ]
     },
     "execution_count": 141,
     "metadata": {},
     "output_type": "execute_result"
    }
   ],
   "source": [
    "merged_rating_dataset = movies_df.merge(ratings, on='id')\n",
    "\n",
    "print(f'Shape of the movies_with_ratings dataframe: {merged_rating_dataset.shape}')\n",
    "\n",
    "merged_rating_dataset.head(1)"
   ]
  },
  {
   "cell_type": "markdown",
   "metadata": {},
   "source": [
    "### **Plot rating frequency of all movies**"
   ]
  },
  {
   "cell_type": "code",
   "execution_count": 142,
   "metadata": {},
   "outputs": [
    {
     "name": "stdout",
     "output_type": "stream",
     "text": [
      "Shape of the movies_with_ratings dataframe: (99810, 3)\n"
     ]
    },
    {
     "data": {
      "text/html": [
       "<div>\n",
       "<style scoped>\n",
       "    .dataframe tbody tr th:only-of-type {\n",
       "        vertical-align: middle;\n",
       "    }\n",
       "\n",
       "    .dataframe tbody tr th {\n",
       "        vertical-align: top;\n",
       "    }\n",
       "\n",
       "    .dataframe thead th {\n",
       "        text-align: right;\n",
       "    }\n",
       "</style>\n",
       "<table border=\"1\" class=\"dataframe\">\n",
       "  <thead>\n",
       "    <tr style=\"text-align: right;\">\n",
       "      <th></th>\n",
       "      <th>user id</th>\n",
       "      <th>movie title</th>\n",
       "      <th>rating</th>\n",
       "    </tr>\n",
       "  </thead>\n",
       "  <tbody>\n",
       "    <tr>\n",
       "      <th>0</th>\n",
       "      <td>7</td>\n",
       "      <td>Toy Story</td>\n",
       "      <td>3.0</td>\n",
       "    </tr>\n",
       "    <tr>\n",
       "      <th>1</th>\n",
       "      <td>9</td>\n",
       "      <td>Toy Story</td>\n",
       "      <td>4.0</td>\n",
       "    </tr>\n",
       "    <tr>\n",
       "      <th>2</th>\n",
       "      <td>13</td>\n",
       "      <td>Toy Story</td>\n",
       "      <td>5.0</td>\n",
       "    </tr>\n",
       "  </tbody>\n",
       "</table>\n",
       "</div>"
      ],
      "text/plain": [
       "   user id movie title  rating\n",
       "0        7   Toy Story     3.0\n",
       "1        9   Toy Story     4.0\n",
       "2       13   Toy Story     5.0"
      ]
     },
     "execution_count": 142,
     "metadata": {},
     "output_type": "execute_result"
    }
   ],
   "source": [
    "refined_dataset = merged_rating_dataset[['userId', 'title', 'rating']]\n",
    "refined_dataset = refined_dataset.rename(columns={'userId':'user id', 'title':'movie title'})\n",
    "\n",
    "print(f'Shape of the movies_with_ratings dataframe: {refined_dataset.shape}')\n",
    "\n",
    "refined_dataset.head(3)"
   ]
  },
  {
   "cell_type": "code",
   "execution_count": 143,
   "metadata": {},
   "outputs": [
    {
     "data": {
      "text/html": [
       "<div>\n",
       "<style scoped>\n",
       "    .dataframe tbody tr th:only-of-type {\n",
       "        vertical-align: middle;\n",
       "    }\n",
       "\n",
       "    .dataframe tbody tr th {\n",
       "        vertical-align: top;\n",
       "    }\n",
       "\n",
       "    .dataframe thead th {\n",
       "        text-align: right;\n",
       "    }\n",
       "</style>\n",
       "<table border=\"1\" class=\"dataframe\">\n",
       "  <thead>\n",
       "    <tr style=\"text-align: right;\">\n",
       "      <th></th>\n",
       "      <th>count</th>\n",
       "    </tr>\n",
       "    <tr>\n",
       "      <th>movie title</th>\n",
       "      <th></th>\n",
       "    </tr>\n",
       "  </thead>\n",
       "  <tbody>\n",
       "    <tr>\n",
       "      <th>$9.99</th>\n",
       "      <td>3</td>\n",
       "    </tr>\n",
       "    <tr>\n",
       "      <th>'Neath the Arizona Skies</th>\n",
       "      <td>1</td>\n",
       "    </tr>\n",
       "    <tr>\n",
       "      <th>'night, Mother</th>\n",
       "      <td>3</td>\n",
       "    </tr>\n",
       "    <tr>\n",
       "      <th>(500) Days of Summer</th>\n",
       "      <td>45</td>\n",
       "    </tr>\n",
       "    <tr>\n",
       "      <th>...And God Created Woman</th>\n",
       "      <td>1</td>\n",
       "    </tr>\n",
       "  </tbody>\n",
       "</table>\n",
       "</div>"
      ],
      "text/plain": [
       "                          count\n",
       "movie title                    \n",
       "$9.99                         3\n",
       "'Neath the Arizona Skies      1\n",
       "'night, Mother                3\n",
       "(500) Days of Summer         45\n",
       "...And God Created Woman      1"
      ]
     },
     "execution_count": 143,
     "metadata": {},
     "output_type": "execute_result"
    }
   ],
   "source": [
    "# get rating frequency\n",
    "movies_count_df = pd.DataFrame(refined_dataset.groupby('movie title').size(), columns=['count'])\n",
    "movies_count_df.head()"
   ]
  },
  {
   "cell_type": "code",
   "execution_count": 144,
   "metadata": {},
   "outputs": [
    {
     "data": {
      "text/plain": [
       "Text(0, 0.5, 'number of ratings')"
      ]
     },
     "execution_count": 144,
     "metadata": {},
     "output_type": "execute_result"
    },
    {
     "data": {
      "image/png": "[encoded data removed]",
      "text/plain": [
       "<Figure size 1200x800 with 1 Axes>"
      ]
     },
     "metadata": {},
     "output_type": "display_data"
    }
   ],
   "source": [
    "# plot rating frequency of all movies\n",
    "ax = movies_count_df \\\n",
    "    .sort_values('count', ascending=False) \\\n",
    "    .reset_index(drop=True) \\\n",
    "    .plot(\n",
    "        figsize=(12, 8),\n",
    "        title='Rating Frequency of All Movies',\n",
    "        fontsize=12\n",
    "    )\n",
    "ax.set_xlabel(\"movie Id\")\n",
    "ax.set_ylabel(\"number of ratings\")"
   ]
  },
  {
   "cell_type": "markdown",
   "metadata": {},
   "source": [
    "**As the size of MovieLens dataset picked for this project is small. There is no need of removing rarely rated movies or users who has given rating for fewer movies.**\n",
    "\n",
    "**Also because the dataset considered is small, we do not see the long-tail property which will be the scenario with the distribution of ratings.**\n",
    "\n",
    "*If the dataset is larger, then* (this can be referred when we do similar kind of tasks with a larger dataset, just for future reference)\n",
    "\n",
    "The distribution of ratings among movies often satisfies a property in real-world settings, which is referred to as the long-tail property. According to this property, only a small fraction of the items are rated frequently. Such items are referred to as popular items. The vast majority of items are rated rarely. This results in a highly skewed distribution of the underlying ratings."
   ]
  },
  {
   "cell_type": "markdown",
   "metadata": {},
   "source": [
    "## **Training KNN model to build item-based collaborative Recommender System**"
   ]
  },
  {
   "cell_type": "markdown",
   "metadata": {},
   "source": [
    "#### Movie Recommendation using KNN with Input as **User id**, Number of similar users should the model pick and Number of movies you want to get recommended:"
   ]
  },
  {
   "cell_type": "code",
   "execution_count": 145,
   "metadata": {},
   "outputs": [
    {
     "data": {
      "text/html": [
       "<div>\n",
       "<style scoped>\n",
       "    .dataframe tbody tr th:only-of-type {\n",
       "        vertical-align: middle;\n",
       "    }\n",
       "\n",
       "    .dataframe tbody tr th {\n",
       "        vertical-align: top;\n",
       "    }\n",
       "\n",
       "    .dataframe thead th {\n",
       "        text-align: right;\n",
       "    }\n",
       "</style>\n",
       "<table border=\"1\" class=\"dataframe\">\n",
       "  <thead>\n",
       "    <tr style=\"text-align: right;\">\n",
       "      <th>movie title</th>\n",
       "      <th>$9.99</th>\n",
       "      <th>'Neath the Arizona Skies</th>\n",
       "      <th>'night, Mother</th>\n",
       "      <th>(500) Days of Summer</th>\n",
       "      <th>...And God Created Woman</th>\n",
       "      <th>...And Justice for All</th>\n",
       "      <th>1-900</th>\n",
       "      <th>10</th>\n",
       "      <th>10 Attitudes</th>\n",
       "      <th>10 Cloverfield Lane</th>\n",
       "      <th>...</th>\n",
       "      <th>eXistenZ</th>\n",
       "      <th>loudQUIETloud: A Film About the Pixies</th>\n",
       "      <th>xXx</th>\n",
       "      <th>xXx: State of the Union</th>\n",
       "      <th>¡Three Amigos!</th>\n",
       "      <th>À Nous la Liberté</th>\n",
       "      <th>Æon Flux</th>\n",
       "      <th>İtirazım Var</th>\n",
       "      <th>Želary</th>\n",
       "      <th>’Round Midnight</th>\n",
       "    </tr>\n",
       "    <tr>\n",
       "      <th>user id</th>\n",
       "      <th></th>\n",
       "      <th></th>\n",
       "      <th></th>\n",
       "      <th></th>\n",
       "      <th></th>\n",
       "      <th></th>\n",
       "      <th></th>\n",
       "      <th></th>\n",
       "      <th></th>\n",
       "      <th></th>\n",
       "      <th></th>\n",
       "      <th></th>\n",
       "      <th></th>\n",
       "      <th></th>\n",
       "      <th></th>\n",
       "      <th></th>\n",
       "      <th></th>\n",
       "      <th></th>\n",
       "      <th></th>\n",
       "      <th></th>\n",
       "      <th></th>\n",
       "    </tr>\n",
       "  </thead>\n",
       "  <tbody>\n",
       "    <tr>\n",
       "      <th>1</th>\n",
       "      <td>0.0</td>\n",
       "      <td>0.0</td>\n",
       "      <td>0.0</td>\n",
       "      <td>0.0</td>\n",
       "      <td>0.0</td>\n",
       "      <td>0.0</td>\n",
       "      <td>0.0</td>\n",
       "      <td>0.0</td>\n",
       "      <td>0.0</td>\n",
       "      <td>0.0</td>\n",
       "      <td>...</td>\n",
       "      <td>0.0</td>\n",
       "      <td>0.0</td>\n",
       "      <td>0.0</td>\n",
       "      <td>0.0</td>\n",
       "      <td>0.0</td>\n",
       "      <td>0.0</td>\n",
       "      <td>0.0</td>\n",
       "      <td>0.0</td>\n",
       "      <td>0.0</td>\n",
       "      <td>0.0</td>\n",
       "    </tr>\n",
       "    <tr>\n",
       "      <th>2</th>\n",
       "      <td>0.0</td>\n",
       "      <td>0.0</td>\n",
       "      <td>0.0</td>\n",
       "      <td>0.0</td>\n",
       "      <td>0.0</td>\n",
       "      <td>0.0</td>\n",
       "      <td>0.0</td>\n",
       "      <td>0.0</td>\n",
       "      <td>0.0</td>\n",
       "      <td>0.0</td>\n",
       "      <td>...</td>\n",
       "      <td>0.0</td>\n",
       "      <td>0.0</td>\n",
       "      <td>0.0</td>\n",
       "      <td>0.0</td>\n",
       "      <td>0.0</td>\n",
       "      <td>0.0</td>\n",
       "      <td>0.0</td>\n",
       "      <td>0.0</td>\n",
       "      <td>0.0</td>\n",
       "      <td>0.0</td>\n",
       "    </tr>\n",
       "    <tr>\n",
       "      <th>3</th>\n",
       "      <td>0.0</td>\n",
       "      <td>0.0</td>\n",
       "      <td>0.0</td>\n",
       "      <td>0.0</td>\n",
       "      <td>0.0</td>\n",
       "      <td>0.0</td>\n",
       "      <td>0.0</td>\n",
       "      <td>0.0</td>\n",
       "      <td>0.0</td>\n",
       "      <td>0.0</td>\n",
       "      <td>...</td>\n",
       "      <td>0.0</td>\n",
       "      <td>0.0</td>\n",
       "      <td>0.0</td>\n",
       "      <td>0.0</td>\n",
       "      <td>0.0</td>\n",
       "      <td>0.0</td>\n",
       "      <td>0.0</td>\n",
       "      <td>0.0</td>\n",
       "      <td>0.0</td>\n",
       "      <td>0.0</td>\n",
       "    </tr>\n",
       "    <tr>\n",
       "      <th>4</th>\n",
       "      <td>0.0</td>\n",
       "      <td>0.0</td>\n",
       "      <td>0.0</td>\n",
       "      <td>0.0</td>\n",
       "      <td>0.0</td>\n",
       "      <td>0.0</td>\n",
       "      <td>0.0</td>\n",
       "      <td>0.0</td>\n",
       "      <td>0.0</td>\n",
       "      <td>0.0</td>\n",
       "      <td>...</td>\n",
       "      <td>0.0</td>\n",
       "      <td>0.0</td>\n",
       "      <td>0.0</td>\n",
       "      <td>0.0</td>\n",
       "      <td>0.0</td>\n",
       "      <td>0.0</td>\n",
       "      <td>0.0</td>\n",
       "      <td>0.0</td>\n",
       "      <td>0.0</td>\n",
       "      <td>0.0</td>\n",
       "    </tr>\n",
       "    <tr>\n",
       "      <th>5</th>\n",
       "      <td>0.0</td>\n",
       "      <td>0.0</td>\n",
       "      <td>0.0</td>\n",
       "      <td>0.0</td>\n",
       "      <td>0.0</td>\n",
       "      <td>0.0</td>\n",
       "      <td>0.0</td>\n",
       "      <td>0.0</td>\n",
       "      <td>0.0</td>\n",
       "      <td>0.0</td>\n",
       "      <td>...</td>\n",
       "      <td>0.0</td>\n",
       "      <td>0.0</td>\n",
       "      <td>0.0</td>\n",
       "      <td>0.0</td>\n",
       "      <td>0.0</td>\n",
       "      <td>0.0</td>\n",
       "      <td>0.0</td>\n",
       "      <td>0.0</td>\n",
       "      <td>0.0</td>\n",
       "      <td>0.0</td>\n",
       "    </tr>\n",
       "  </tbody>\n",
       "</table>\n",
       "<p>5 rows × 8754 columns</p>\n",
       "</div>"
      ],
      "text/plain": [
       "movie title  $9.99  'Neath the Arizona Skies  'night, Mother  \\\n",
       "user id                                                        \n",
       "1              0.0                       0.0             0.0   \n",
       "2              0.0                       0.0             0.0   \n",
       "3              0.0                       0.0             0.0   \n",
       "4              0.0                       0.0             0.0   \n",
       "5              0.0                       0.0             0.0   \n",
       "\n",
       "movie title  (500) Days of Summer  ...And God Created Woman  \\\n",
       "user id                                                       \n",
       "1                             0.0                       0.0   \n",
       "2                             0.0                       0.0   \n",
       "3                             0.0                       0.0   \n",
       "4                             0.0                       0.0   \n",
       "5                             0.0                       0.0   \n",
       "\n",
       "movie title  ...And Justice for All  1-900   10  10 Attitudes  \\\n",
       "user id                                                         \n",
       "1                               0.0    0.0  0.0           0.0   \n",
       "2                               0.0    0.0  0.0           0.0   \n",
       "3                               0.0    0.0  0.0           0.0   \n",
       "4                               0.0    0.0  0.0           0.0   \n",
       "5                               0.0    0.0  0.0           0.0   \n",
       "\n",
       "movie title  10 Cloverfield Lane  ...  eXistenZ  \\\n",
       "user id                           ...             \n",
       "1                            0.0  ...       0.0   \n",
       "2                            0.0  ...       0.0   \n",
       "3                            0.0  ...       0.0   \n",
       "4                            0.0  ...       0.0   \n",
       "5                            0.0  ...       0.0   \n",
       "\n",
       "movie title  loudQUIETloud: A Film About the Pixies  xXx  \\\n",
       "user id                                                    \n",
       "1                                               0.0  0.0   \n",
       "2                                               0.0  0.0   \n",
       "3                                               0.0  0.0   \n",
       "4                                               0.0  0.0   \n",
       "5                                               0.0  0.0   \n",
       "\n",
       "movie title  xXx: State of the Union  ¡Three Amigos!  À Nous la Liberté  \\\n",
       "user id                                                                   \n",
       "1                                0.0             0.0                0.0   \n",
       "2                                0.0             0.0                0.0   \n",
       "3                                0.0             0.0                0.0   \n",
       "4                                0.0             0.0                0.0   \n",
       "5                                0.0             0.0                0.0   \n",
       "\n",
       "movie title  Æon Flux  İtirazım Var  Želary  ’Round Midnight  \n",
       "user id                                                       \n",
       "1                 0.0           0.0     0.0              0.0  \n",
       "2                 0.0           0.0     0.0              0.0  \n",
       "3                 0.0           0.0     0.0              0.0  \n",
       "4                 0.0           0.0     0.0              0.0  \n",
       "5                 0.0           0.0     0.0              0.0  \n",
       "\n",
       "[5 rows x 8754 columns]"
      ]
     },
     "execution_count": 145,
     "metadata": {},
     "output_type": "execute_result"
    }
   ],
   "source": [
    "# Handle duplicates by averaging the ratings\n",
    "refined_dataset = refined_dataset.groupby(['user id', 'movie title'], as_index=False)['rating'].mean()\n",
    "\n",
    "# Create the pivot table\n",
    "user_to_movie_df = refined_dataset.pivot(\n",
    "    index='user id',\n",
    "    columns='movie title',\n",
    "    values='rating'\n",
    ").fillna(0)\n",
    "\n",
    "user_to_movie_df.head()\n"
   ]
  },
  {
   "cell_type": "code",
   "execution_count": 146,
   "metadata": {},
   "outputs": [
    {
     "data": {
      "text/plain": [
       "<671x8754 sparse matrix of type '<class 'numpy.float64'>'\n",
       "\twith 99470 stored elements in Compressed Sparse Row format>"
      ]
     },
     "execution_count": 146,
     "metadata": {},
     "output_type": "execute_result"
    }
   ],
   "source": [
    "# transform matrix to scipy sparse matrix\n",
    "user_to_movie_sparse_df = csr_matrix(user_to_movie_df.values)\n",
    "user_to_movie_sparse_df"
   ]
  },
  {
   "cell_type": "markdown",
   "metadata": {},
   "source": [
    "**Fitting K-Nearest Neighbours model to the scipy sparse matrix:**"
   ]
  },
  {
   "cell_type": "code",
   "execution_count": 147,
   "metadata": {},
   "outputs": [
    {
     "data": {
      "text/html": [
       "<style>#sk-container-id-1 {\n",
       "  /* Definition of color scheme common for light and dark mode */\n",
       "  --sklearn-color-text: black;\n",
       "  --sklearn-color-line: gray;\n",
       "  /* Definition of color scheme for unfitted estimators */\n",
       "  --sklearn-color-unfitted-level-0: #fff5e6;\n",
       "  --sklearn-color-unfitted-level-1: #f6e4d2;\n",
       "  --sklearn-color-unfitted-level-2: #ffe0b3;\n",
       "  --sklearn-color-unfitted-level-3: chocolate;\n",
       "  /* Definition of color scheme for fitted estimators */\n",
       "  --sklearn-color-fitted-level-0: #f0f8ff;\n",
       "  --sklearn-color-fitted-level-1: #d4ebff;\n",
       "  --sklearn-color-fitted-level-2: #b3dbfd;\n",
       "  --sklearn-color-fitted-level-3: cornflowerblue;\n",
       "\n",
       "  /* Specific color for light theme */\n",
       "  --sklearn-color-text-on-default-background: var(--sg-text-color, var(--theme-code-foreground, var(--jp-content-font-color1, black)));\n",
       "  --sklearn-color-background: var(--sg-background-color, var(--theme-background, var(--jp-layout-color0, white)));\n",
       "  --sklearn-color-border-box: var(--sg-text-color, var(--theme-code-foreground, var(--jp-content-font-color1, black)));\n",
       "  --sklearn-color-icon: #696969;\n",
       "\n",
       "  @media (prefers-color-scheme: dark) {\n",
       "    /* Redefinition of color scheme for dark theme */\n",
       "    --sklearn-color-text-on-default-background: var(--sg-text-color, var(--theme-code-foreground, var(--jp-content-font-color1, white)));\n",
       "    --sklearn-color-background: var(--sg-background-color, var(--theme-background, var(--jp-layout-color0, #111)));\n",
       "    --sklearn-color-border-box: var(--sg-text-color, var(--theme-code-foreground, var(--jp-content-font-color1, white)));\n",
       "    --sklearn-color-icon: #878787;\n",
       "  }\n",
       "}\n",
       "\n",
       "#sk-container-id-1 {\n",
       "  color: var(--sklearn-color-text);\n",
       "}\n",
       "\n",
       "#sk-container-id-1 pre {\n",
       "  padding: 0;\n",
       "}\n",
       "\n",
       "#sk-container-id-1 input.sk-hidden--visually {\n",
       "  border: 0;\n",
       "  clip: rect(1px 1px 1px 1px);\n",
       "  clip: rect(1px, 1px, 1px, 1px);\n",
       "  height: 1px;\n",
       "  margin: -1px;\n",
       "  overflow: hidden;\n",
       "  padding: 0;\n",
       "  position: absolute;\n",
       "  width: 1px;\n",
       "}\n",
       "\n",
       "#sk-container-id-1 div.sk-dashed-wrapped {\n",
       "  border: 1px dashed var(--sklearn-color-line);\n",
       "  margin: 0 0.4em 0.5em 0.4em;\n",
       "  box-sizing: border-box;\n",
       "  padding-bottom: 0.4em;\n",
       "  background-color: var(--sklearn-color-background);\n",
       "}\n",
       "\n",
       "#sk-container-id-1 div.sk-container {\n",
       "  /* jupyter's `normalize.less` sets `[hidden] { display: none; }`\n",
       "     but bootstrap.min.css set `[hidden] { display: none !important; }`\n",
       "     so we also need the `!important` here to be able to override the\n",
       "     default hidden behavior on the sphinx rendered scikit-learn.org.\n",
       "     See: https://github.com/scikit-learn/scikit-learn/issues/21755 */\n",
       "  display: inline-block !important;\n",
       "  position: relative;\n",
       "}\n",
       "\n",
       "#sk-container-id-1 div.sk-text-repr-fallback {\n",
       "  display: none;\n",
       "}\n",
       "\n",
       "div.sk-parallel-item,\n",
       "div.sk-serial,\n",
       "div.sk-item {\n",
       "  /* draw centered vertical line to link estimators */\n",
       "  background-image: linear-gradient(var(--sklearn-color-text-on-default-background), var(--sklearn-color-text-on-default-background));\n",
       "  background-size: 2px 100%;\n",
       "  background-repeat: no-repeat;\n",
       "  background-position: center center;\n",
       "}\n",
       "\n",
       "/* Parallel-specific style estimator block */\n",
       "\n",
       "#sk-container-id-1 div.sk-parallel-item::after {\n",
       "  content: \"\";\n",
       "  width: 100%;\n",
       "  border-bottom: 2px solid var(--sklearn-color-text-on-default-background);\n",
       "  flex-grow: 1;\n",
       "}\n",
       "\n",
       "#sk-container-id-1 div.sk-parallel {\n",
       "  display: flex;\n",
       "  align-items: stretch;\n",
       "  justify-content: center;\n",
       "  background-color: var(--sklearn-color-background);\n",
       "  position: relative;\n",
       "}\n",
       "\n",
       "#sk-container-id-1 div.sk-parallel-item {\n",
       "  display: flex;\n",
       "  flex-direction: column;\n",
       "}\n",
       "\n",
       "#sk-container-id-1 div.sk-parallel-item:first-child::after {\n",
       "  align-self: flex-end;\n",
       "  width: 50%;\n",
       "}\n",
       "\n",
       "#sk-container-id-1 div.sk-parallel-item:last-child::after {\n",
       "  align-self: flex-start;\n",
       "  width: 50%;\n",
       "}\n",
       "\n",
       "#sk-container-id-1 div.sk-parallel-item:only-child::after {\n",
       "  width: 0;\n",
       "}\n",
       "\n",
       "/* Serial-specific style estimator block */\n",
       "\n",
       "#sk-container-id-1 div.sk-serial {\n",
       "  display: flex;\n",
       "  flex-direction: column;\n",
       "  align-items: center;\n",
       "  background-color: var(--sklearn-color-background);\n",
       "  padding-right: 1em;\n",
       "  padding-left: 1em;\n",
       "}\n",
       "\n",
       "\n",
       "/* Toggleable style: style used for estimator/Pipeline/ColumnTransformer box that is\n",
       "clickable and can be expanded/collapsed.\n",
       "- Pipeline and ColumnTransformer use this feature and define the default style\n",
       "- Estimators will overwrite some part of the style using the `sk-estimator` class\n",
       "*/\n",
       "\n",
       "/* Pipeline and ColumnTransformer style (default) */\n",
       "\n",
       "#sk-container-id-1 div.sk-toggleable {\n",
       "  /* Default theme specific background. It is overwritten whether we have a\n",
       "  specific estimator or a Pipeline/ColumnTransformer */\n",
       "  background-color: var(--sklearn-color-background);\n",
       "}\n",
       "\n",
       "/* Toggleable label */\n",
       "#sk-container-id-1 label.sk-toggleable__label {\n",
       "  cursor: pointer;\n",
       "  display: block;\n",
       "  width: 100%;\n",
       "  margin-bottom: 0;\n",
       "  padding: 0.5em;\n",
       "  box-sizing: border-box;\n",
       "  text-align: center;\n",
       "}\n",
       "\n",
       "#sk-container-id-1 label.sk-toggleable__label-arrow:before {\n",
       "  /* Arrow on the left of the label */\n",
       "  content: \"▸\";\n",
       "  float: left;\n",
       "  margin-right: 0.25em;\n",
       "  color: var(--sklearn-color-icon);\n",
       "}\n",
       "\n",
       "#sk-container-id-1 label.sk-toggleable__label-arrow:hover:before {\n",
       "  color: var(--sklearn-color-text);\n",
       "}\n",
       "\n",
       "/* Toggleable content - dropdown */\n",
       "\n",
       "#sk-container-id-1 div.sk-toggleable__content {\n",
       "  max-height: 0;\n",
       "  max-width: 0;\n",
       "  overflow: hidden;\n",
       "  text-align: left;\n",
       "  /* unfitted */\n",
       "  background-color: var(--sklearn-color-unfitted-level-0);\n",
       "}\n",
       "\n",
       "#sk-container-id-1 div.sk-toggleable__content.fitted {\n",
       "  /* fitted */\n",
       "  background-color: var(--sklearn-color-fitted-level-0);\n",
       "}\n",
       "\n",
       "#sk-container-id-1 div.sk-toggleable__content pre {\n",
       "  margin: 0.2em;\n",
       "  border-radius: 0.25em;\n",
       "  color: var(--sklearn-color-text);\n",
       "  /* unfitted */\n",
       "  background-color: var(--sklearn-color-unfitted-level-0);\n",
       "}\n",
       "\n",
       "#sk-container-id-1 div.sk-toggleable__content.fitted pre {\n",
       "  /* unfitted */\n",
       "  background-color: var(--sklearn-color-fitted-level-0);\n",
       "}\n",
       "\n",
       "#sk-container-id-1 input.sk-toggleable__control:checked~div.sk-toggleable__content {\n",
       "  /* Expand drop-down */\n",
       "  max-height: 200px;\n",
       "  max-width: 100%;\n",
       "  overflow: auto;\n",
       "}\n",
       "\n",
       "#sk-container-id-1 input.sk-toggleable__control:checked~label.sk-toggleable__label-arrow:before {\n",
       "  content: \"▾\";\n",
       "}\n",
       "\n",
       "/* Pipeline/ColumnTransformer-specific style */\n",
       "\n",
       "#sk-container-id-1 div.sk-label input.sk-toggleable__control:checked~label.sk-toggleable__label {\n",
       "  color: var(--sklearn-color-text);\n",
       "  background-color: var(--sklearn-color-unfitted-level-2);\n",
       "}\n",
       "\n",
       "#sk-container-id-1 div.sk-label.fitted input.sk-toggleable__control:checked~label.sk-toggleable__label {\n",
       "  background-color: var(--sklearn-color-fitted-level-2);\n",
       "}\n",
       "\n",
       "/* Estimator-specific style */\n",
       "\n",
       "/* Colorize estimator box */\n",
       "#sk-container-id-1 div.sk-estimator input.sk-toggleable__control:checked~label.sk-toggleable__label {\n",
       "  /* unfitted */\n",
       "  background-color: var(--sklearn-color-unfitted-level-2);\n",
       "}\n",
       "\n",
       "#sk-container-id-1 div.sk-estimator.fitted input.sk-toggleable__control:checked~label.sk-toggleable__label {\n",
       "  /* fitted */\n",
       "  background-color: var(--sklearn-color-fitted-level-2);\n",
       "}\n",
       "\n",
       "#sk-container-id-1 div.sk-label label.sk-toggleable__label,\n",
       "#sk-container-id-1 div.sk-label label {\n",
       "  /* The background is the default theme color */\n",
       "  color: var(--sklearn-color-text-on-default-background);\n",
       "}\n",
       "\n",
       "/* On hover, darken the color of the background */\n",
       "#sk-container-id-1 div.sk-label:hover label.sk-toggleable__label {\n",
       "  color: var(--sklearn-color-text);\n",
       "  background-color: var(--sklearn-color-unfitted-level-2);\n",
       "}\n",
       "\n",
       "/* Label box, darken color on hover, fitted */\n",
       "#sk-container-id-1 div.sk-label.fitted:hover label.sk-toggleable__label.fitted {\n",
       "  color: var(--sklearn-color-text);\n",
       "  background-color: var(--sklearn-color-fitted-level-2);\n",
       "}\n",
       "\n",
       "/* Estimator label */\n",
       "\n",
       "#sk-container-id-1 div.sk-label label {\n",
       "  font-family: monospace;\n",
       "  font-weight: bold;\n",
       "  display: inline-block;\n",
       "  line-height: 1.2em;\n",
       "}\n",
       "\n",
       "#sk-container-id-1 div.sk-label-container {\n",
       "  text-align: center;\n",
       "}\n",
       "\n",
       "/* Estimator-specific */\n",
       "#sk-container-id-1 div.sk-estimator {\n",
       "  font-family: monospace;\n",
       "  border: 1px dotted var(--sklearn-color-border-box);\n",
       "  border-radius: 0.25em;\n",
       "  box-sizing: border-box;\n",
       "  margin-bottom: 0.5em;\n",
       "  /* unfitted */\n",
       "  background-color: var(--sklearn-color-unfitted-level-0);\n",
       "}\n",
       "\n",
       "#sk-container-id-1 div.sk-estimator.fitted {\n",
       "  /* fitted */\n",
       "  background-color: var(--sklearn-color-fitted-level-0);\n",
       "}\n",
       "\n",
       "/* on hover */\n",
       "#sk-container-id-1 div.sk-estimator:hover {\n",
       "  /* unfitted */\n",
       "  background-color: var(--sklearn-color-unfitted-level-2);\n",
       "}\n",
       "\n",
       "#sk-container-id-1 div.sk-estimator.fitted:hover {\n",
       "  /* fitted */\n",
       "  background-color: var(--sklearn-color-fitted-level-2);\n",
       "}\n",
       "\n",
       "/* Specification for estimator info (e.g. \"i\" and \"?\") */\n",
       "\n",
       "/* Common style for \"i\" and \"?\" */\n",
       "\n",
       ".sk-estimator-doc-link,\n",
       "a:link.sk-estimator-doc-link,\n",
       "a:visited.sk-estimator-doc-link {\n",
       "  float: right;\n",
       "  font-size: smaller;\n",
       "  line-height: 1em;\n",
       "  font-family: monospace;\n",
       "  background-color: var(--sklearn-color-background);\n",
       "  border-radius: 1em;\n",
       "  height: 1em;\n",
       "  width: 1em;\n",
       "  text-decoration: none !important;\n",
       "  margin-left: 1ex;\n",
       "  /* unfitted */\n",
       "  border: var(--sklearn-color-unfitted-level-1) 1pt solid;\n",
       "  color: var(--sklearn-color-unfitted-level-1);\n",
       "}\n",
       "\n",
       ".sk-estimator-doc-link.fitted,\n",
       "a:link.sk-estimator-doc-link.fitted,\n",
       "a:visited.sk-estimator-doc-link.fitted {\n",
       "  /* fitted */\n",
       "  border: var(--sklearn-color-fitted-level-1) 1pt solid;\n",
       "  color: var(--sklearn-color-fitted-level-1);\n",
       "}\n",
       "\n",
       "/* On hover */\n",
       "div.sk-estimator:hover .sk-estimator-doc-link:hover,\n",
       ".sk-estimator-doc-link:hover,\n",
       "div.sk-label-container:hover .sk-estimator-doc-link:hover,\n",
       ".sk-estimator-doc-link:hover {\n",
       "  /* unfitted */\n",
       "  background-color: var(--sklearn-color-unfitted-level-3);\n",
       "  color: var(--sklearn-color-background);\n",
       "  text-decoration: none;\n",
       "}\n",
       "\n",
       "div.sk-estimator.fitted:hover .sk-estimator-doc-link.fitted:hover,\n",
       ".sk-estimator-doc-link.fitted:hover,\n",
       "div.sk-label-container:hover .sk-estimator-doc-link.fitted:hover,\n",
       ".sk-estimator-doc-link.fitted:hover {\n",
       "  /* fitted */\n",
       "  background-color: var(--sklearn-color-fitted-level-3);\n",
       "  color: var(--sklearn-color-background);\n",
       "  text-decoration: none;\n",
       "}\n",
       "\n",
       "/* Span, style for the box shown on hovering the info icon */\n",
       ".sk-estimator-doc-link span {\n",
       "  display: none;\n",
       "  z-index: 9999;\n",
       "  position: relative;\n",
       "  font-weight: normal;\n",
       "  right: .2ex;\n",
       "  padding: .5ex;\n",
       "  margin: .5ex;\n",
       "  width: min-content;\n",
       "  min-width: 20ex;\n",
       "  max-width: 50ex;\n",
       "  color: var(--sklearn-color-text);\n",
       "  box-shadow: 2pt 2pt 4pt #999;\n",
       "  /* unfitted */\n",
       "  background: var(--sklearn-color-unfitted-level-0);\n",
       "  border: .5pt solid var(--sklearn-color-unfitted-level-3);\n",
       "}\n",
       "\n",
       ".sk-estimator-doc-link.fitted span {\n",
       "  /* fitted */\n",
       "  background: var(--sklearn-color-fitted-level-0);\n",
       "  border: var(--sklearn-color-fitted-level-3);\n",
       "}\n",
       "\n",
       ".sk-estimator-doc-link:hover span {\n",
       "  display: block;\n",
       "}\n",
       "\n",
       "/* \"?\"-specific style due to the `<a>` HTML tag */\n",
       "\n",
       "#sk-container-id-1 a.estimator_doc_link {\n",
       "  float: right;\n",
       "  font-size: 1rem;\n",
       "  line-height: 1em;\n",
       "  font-family: monospace;\n",
       "  background-color: var(--sklearn-color-background);\n",
       "  border-radius: 1rem;\n",
       "  height: 1rem;\n",
       "  width: 1rem;\n",
       "  text-decoration: none;\n",
       "  /* unfitted */\n",
       "  color: var(--sklearn-color-unfitted-level-1);\n",
       "  border: var(--sklearn-color-unfitted-level-1) 1pt solid;\n",
       "}\n",
       "\n",
       "#sk-container-id-1 a.estimator_doc_link.fitted {\n",
       "  /* fitted */\n",
       "  border: var(--sklearn-color-fitted-level-1) 1pt solid;\n",
       "  color: var(--sklearn-color-fitted-level-1);\n",
       "}\n",
       "\n",
       "/* On hover */\n",
       "#sk-container-id-1 a.estimator_doc_link:hover {\n",
       "  /* unfitted */\n",
       "  background-color: var(--sklearn-color-unfitted-level-3);\n",
       "  color: var(--sklearn-color-background);\n",
       "  text-decoration: none;\n",
       "}\n",
       "\n",
       "#sk-container-id-1 a.estimator_doc_link.fitted:hover {\n",
       "  /* fitted */\n",
       "  background-color: var(--sklearn-color-fitted-level-3);\n",
       "}\n",
       "</style><div id=\"sk-container-id-1\" class=\"sk-top-container\"><div class=\"sk-text-repr-fallback\"><pre>NearestNeighbors(algorithm=&#x27;brute&#x27;, metric=&#x27;cosine&#x27;)</pre><b>In a Jupyter environment, please rerun this cell to show the HTML representation or trust the notebook. <br />On GitHub, the HTML representation is unable to render, please try loading this page with nbviewer.org.</b></div><div class=\"sk-container\" hidden><div class=\"sk-item\"><div class=\"sk-estimator fitted sk-toggleable\"><input class=\"sk-toggleable__control sk-hidden--visually\" id=\"sk-estimator-id-1\" type=\"checkbox\" checked><label for=\"sk-estimator-id-1\" class=\"sk-toggleable__label fitted sk-toggleable__label-arrow fitted\">&nbsp;&nbsp;NearestNeighbors<a class=\"sk-estimator-doc-link fitted\" rel=\"noreferrer\" target=\"_blank\" href=\"https://scikit-learn.org/1.5/modules/generated/sklearn.neighbors.NearestNeighbors.html\">?<span>Documentation for NearestNeighbors</span></a><span class=\"sk-estimator-doc-link fitted\">i<span>Fitted</span></span></label><div class=\"sk-toggleable__content fitted\"><pre>NearestNeighbors(algorithm=&#x27;brute&#x27;, metric=&#x27;cosine&#x27;)</pre></div> </div></div></div></div>"
      ],
      "text/plain": [
       "NearestNeighbors(algorithm='brute', metric='cosine')"
      ]
     },
     "execution_count": 147,
     "metadata": {},
     "output_type": "execute_result"
    }
   ],
   "source": [
    "knn_model = NearestNeighbors(metric='cosine', algorithm='brute')\n",
    "knn_model.fit(user_to_movie_sparse_df)"
   ]
  },
  {
   "cell_type": "code",
   "execution_count": 148,
   "metadata": {},
   "outputs": [],
   "source": [
    "## function to find top n similar users of the given input user \n",
    "def get_similar_users(user, n = 5):\n",
    "    ## input to this function is the user and number of top similar users you want.\n",
    "\n",
    "    knn_input = np.asarray([user_to_movie_df.values[user-1]])  #.reshape(1,-1)\n",
    "    # knn_input = user_to_movie_df.iloc[0,:].values.reshape(1,-1)\n",
    "    distances, indices = knn_model.kneighbors(knn_input, n_neighbors=n+1)\n",
    "    \n",
    "    print(\"Top\",n,\"users who are very much similar to the User-\",user, \"are: \")\n",
    "    print(\" \")\n",
    "    for i in range(1,len(distances[0])):\n",
    "        print(i,\". User:\", indices[0][i]+1, \"separated by distance of\",distances[0][i])\n",
    "    return indices.flatten()[1:] + 1, distances.flatten()[1:]\n"
   ]
  },
  {
   "cell_type": "markdown",
   "metadata": {},
   "source": [
    "**Specify User id and Number of similar users we want to consider here**"
   ]
  },
  {
   "cell_type": "code",
   "execution_count": 149,
   "metadata": {},
   "outputs": [
    {
     "name": "stdout",
     "output_type": "stream",
     "text": [
      " Few of movies seen by the User:\n",
      "['A Beautiful Mind',\n",
      " 'About Time',\n",
      " 'Aladdin',\n",
      " 'Avatar',\n",
      " 'Brave',\n",
      " 'Finding Nemo',\n",
      " 'Gone Girl',\n",
      " 'Gravity',\n",
      " \"Hachi: A Dog's Tale\",\n",
      " 'Harry Potter and the Prisoner of Azkaban']\n",
      "Top 5 users who are very much similar to the User- 600 are: \n",
      " \n",
      "1 . User: 625 separated by distance of 0.7070687710325709\n",
      "2 . User: 149 separated by distance of 0.7704029625171946\n",
      "3 . User: 542 separated by distance of 0.7828557667625238\n",
      "4 . User: 251 separated by distance of 0.7956658655079909\n",
      "5 . User: 138 separated by distance of 0.8010726406747679\n"
     ]
    }
   ],
   "source": [
    "from pprint import pprint\n",
    "user_id = 600\n",
    "print(\" Few of movies seen by the User:\")\n",
    "pprint(list(refined_dataset[refined_dataset['user id'] == user_id]['movie title'])[:10])\n",
    "similar_user_list, distance_list = get_similar_users(user_id,5)"
   ]
  },
  {
   "cell_type": "markdown",
   "metadata": {},
   "source": [
    "**With the help of the KNN model built, we could get desired number of top similar users.**\n",
    "\n",
    "**Now we will have to pick the top movies to recommend.**\n",
    "\n",
    "**One way would be by taking the average of the existing ratings given by the similar users and picking the top 10 or 15 movies to recommend to our current user.**\n",
    "\n",
    "**But I feel recommendation would be more effective if we define weights to ratings by each similar user based on the thier distance from the input user. Defining these weights would give us the accurate recommendations by eliminating the chance of decision manipulation by the users who are relatively very far from the input user.**"
   ]
  },
  {
   "cell_type": "code",
   "execution_count": 150,
   "metadata": {},
   "outputs": [
    {
     "data": {
      "text/plain": [
       "(array([625, 149, 542, 251, 138], dtype=int64),\n",
       " array([0.70706877, 0.77040296, 0.78285577, 0.79566587, 0.80107264]))"
      ]
     },
     "execution_count": 150,
     "metadata": {},
     "output_type": "execute_result"
    }
   ],
   "source": [
    "similar_user_list, distance_list"
   ]
  },
  {
   "cell_type": "code",
   "execution_count": 151,
   "metadata": {},
   "outputs": [
    {
     "data": {
      "text/plain": [
       "array([0.18331778, 0.19973808, 0.20296665, 0.20628785, 0.20768964])"
      ]
     },
     "execution_count": 151,
     "metadata": {},
     "output_type": "execute_result"
    }
   ],
   "source": [
    "weightage_list = distance_list/np.sum(distance_list)\n",
    "weightage_list"
   ]
  },
  {
   "cell_type": "markdown",
   "metadata": {},
   "source": [
    "Getting ratings of all movies by derived similar users"
   ]
  },
  {
   "cell_type": "code",
   "execution_count": 152,
   "metadata": {},
   "outputs": [
    {
     "data": {
      "text/plain": [
       "array([[0., 0., 0., ..., 0., 0., 0.],\n",
       "       [0., 0., 0., ..., 0., 0., 0.],\n",
       "       [0., 0., 0., ..., 0., 0., 0.],\n",
       "       [0., 0., 0., ..., 0., 0., 0.],\n",
       "       [0., 0., 0., ..., 0., 0., 0.]])"
      ]
     },
     "execution_count": 152,
     "metadata": {},
     "output_type": "execute_result"
    }
   ],
   "source": [
    "mov_rtngs_sim_users = user_to_movie_df.values[similar_user_list]\n",
    "mov_rtngs_sim_users"
   ]
  },
  {
   "cell_type": "code",
   "execution_count": 153,
   "metadata": {},
   "outputs": [
    {
     "data": {
      "text/plain": [
       "Index(['$9.99', ''Neath the Arizona Skies', ''night, Mother',\n",
       "       '(500) Days of Summer', '...And God Created Woman',\n",
       "       '...And Justice for All', '1-900', '10', '10 Attitudes',\n",
       "       '10 Cloverfield Lane',\n",
       "       ...\n",
       "       'eXistenZ', 'loudQUIETloud: A Film About the Pixies', 'xXx',\n",
       "       'xXx: State of the Union', '¡Three Amigos!', 'À Nous la Liberté',\n",
       "       'Æon Flux', 'İtirazım Var', 'Želary', '’Round Midnight'],\n",
       "      dtype='object', name='movie title', length=8754)"
      ]
     },
     "execution_count": 153,
     "metadata": {},
     "output_type": "execute_result"
    }
   ],
   "source": [
    "movies_list = user_to_movie_df.columns\n",
    "movies_list"
   ]
  },
  {
   "cell_type": "code",
   "execution_count": 154,
   "metadata": {},
   "outputs": [
    {
     "name": "stdout",
     "output_type": "stream",
     "text": [
      "Weightage list shape: 5\n",
      "mov_rtngs_sim_users shape: (5, 8754)\n",
      "Number of movies: 8754\n"
     ]
    }
   ],
   "source": [
    "print(\"Weightage list shape:\", len(weightage_list))\n",
    "print(\"mov_rtngs_sim_users shape:\", mov_rtngs_sim_users.shape)\n",
    "print(\"Number of movies:\", len(movies_list))"
   ]
  },
  {
   "cell_type": "markdown",
   "metadata": {},
   "source": [
    "**Broadcasting weightage matrix to similar user rating matrix. so that it gets compatible for matrix operations**"
   ]
  },
  {
   "cell_type": "code",
   "execution_count": 155,
   "metadata": {},
   "outputs": [
    {
     "data": {
      "text/plain": [
       "(5, 8754)"
      ]
     },
     "execution_count": 155,
     "metadata": {},
     "output_type": "execute_result"
    }
   ],
   "source": [
    "weightage_list = weightage_list[:,np.newaxis] + np.zeros(len(movies_list))\n",
    "weightage_list.shape"
   ]
  },
  {
   "cell_type": "code",
   "execution_count": 156,
   "metadata": {},
   "outputs": [
    {
     "data": {
      "text/plain": [
       "array([0., 0., 0., ..., 0., 0., 0.])"
      ]
     },
     "execution_count": 156,
     "metadata": {},
     "output_type": "execute_result"
    }
   ],
   "source": [
    "new_rating_matrix = weightage_list*mov_rtngs_sim_users\n",
    "mean_rating_list = new_rating_matrix.sum(axis =0)\n",
    "mean_rating_list"
   ]
  },
  {
   "cell_type": "code",
   "execution_count": 157,
   "metadata": {},
   "outputs": [],
   "source": [
    "def recommend_movies(n):\n",
    "    n = min(len(mean_rating_list),n)\n",
    "    # print(np.argsort(mean_rating_list)[::-1][:n])\n",
    "    pprint(list(movies_list[np.argsort(mean_rating_list)[::-1][:n]]))"
   ]
  },
  {
   "cell_type": "code",
   "execution_count": 158,
   "metadata": {},
   "outputs": [
    {
     "name": "stdout",
     "output_type": "stream",
     "text": [
      "Movies recommended based on similar users are: \n",
      "['Return of the Jedi',\n",
      " 'Star Wars',\n",
      " 'Tin Cup',\n",
      " 'Twister',\n",
      " 'The Rock',\n",
      " 'Willy Wonka & the Chocolate Factory',\n",
      " 'Mission: Impossible',\n",
      " 'The Godfather',\n",
      " 'Independence Day',\n",
      " 'Erin Brockovich']\n"
     ]
    }
   ],
   "source": [
    "print(\"Movies recommended based on similar users are: \")\n",
    "recommend_movies(10)"
   ]
  },
  {
   "cell_type": "markdown",
   "metadata": {},
   "source": [
    "**Above drawbacks are addressed and a new recommender system with modification is built**\n",
    "\n",
    "Below function is defined to remove the movies which are already seen the current user and not at all seen by any of the similar users."
   ]
  },
  {
   "cell_type": "code",
   "execution_count": 159,
   "metadata": {},
   "outputs": [],
   "source": [
    "def filtered_movie_recommendations(n):\n",
    "    first_zero_index = np.where(mean_rating_list == 0)[0][-1]\n",
    "    sortd_index = np.argsort(mean_rating_list)[::-1]\n",
    "    sortd_index = sortd_index[:list(sortd_index).index(first_zero_index)]\n",
    "    n = min(len(sortd_index),n)\n",
    "    movies_watched = list(refined_dataset[refined_dataset['user id'] == user_id]['movie title'])\n",
    "    filtered_movie_list = list(movies_list[sortd_index])\n",
    "    count = 0\n",
    "    final_movie_list = []\n",
    "    for i in filtered_movie_list:\n",
    "        if i not in movies_watched:\n",
    "            count+=1\n",
    "            final_movie_list.append(i)\n",
    "        if count == n:\n",
    "            break\n",
    "    if count == 0:\n",
    "        print(\"There are no movies left which are not seen by the input users and seen by similar users. May be increasing the number of similar users who are to be considered may give a chance of suggesting an unseen good movie.\")\n",
    "    else:\n",
    "        pprint(final_movie_list)"
   ]
  },
  {
   "cell_type": "code",
   "execution_count": 160,
   "metadata": {},
   "outputs": [
    {
     "name": "stdout",
     "output_type": "stream",
     "text": [
      "['Return of the Jedi',\n",
      " 'Star Wars',\n",
      " 'Tin Cup',\n",
      " 'Twister',\n",
      " 'The Rock',\n",
      " 'Willy Wonka & the Chocolate Factory',\n",
      " 'Mission: Impossible',\n",
      " 'The Godfather',\n",
      " 'Independence Day',\n",
      " 'Erin Brockovich']\n"
     ]
    }
   ],
   "source": [
    "filtered_movie_recommendations(10)"
   ]
  },
  {
   "cell_type": "markdown",
   "metadata": {},
   "source": [
    "Coding up all of the above individual cells into a function.\n",
    "\n",
    "Giving Input as **User id, Number of similar Users to be considered, Number of top movie we want to recommend**"
   ]
  },
  {
   "cell_type": "code",
   "execution_count": 161,
   "metadata": {},
   "outputs": [],
   "source": [
    "def recommender_system(user_id, n_similar_users, n_movies): #, user_to_movie_df, knn_model):\n",
    "    print(\"Movie seen by the User:\")\n",
    "    pprint(list(refined_dataset[refined_dataset['user id'] == user_id]['movie title']))\n",
    "    print(\"\")\n",
    "\n",
    "    # def get_similar_users(user, user_to_movie_df, knn_model, n = 5):\n",
    "    def get_similar_users(user, n = 5):\n",
    "        \n",
    "        knn_input = np.asarray([user_to_movie_df.values[user-1]])\n",
    "        \n",
    "        distances, indices = knn_model.kneighbors(knn_input, n_neighbors=n+1)\n",
    "        \n",
    "        print(\"Top\",n,\"users who are very much similar to the User-\",user, \"are: \")\n",
    "        print(\" \")\n",
    "\n",
    "        for i in range(1,len(distances[0])):\n",
    "            print(i,\". User:\", indices[0][i]+1, \"separated by distance of\",distances[0][i])\n",
    "        print(\"\")\n",
    "        return indices.flatten()[1:] + 1, distances.flatten()[1:]\n",
    "\n",
    "    def filtered_movie_recommendations(n = 10):\n",
    "        first_zero_index = np.where(mean_rating_list == 0)[0][-1]\n",
    "        sortd_index = np.argsort(mean_rating_list)[::-1]\n",
    "        sortd_index = sortd_index[:list(sortd_index).index(first_zero_index)]\n",
    "        n = min(len(sortd_index),n)\n",
    "        movies_watched = list(refined_dataset[refined_dataset['user id'] == user_id]['movie title'])\n",
    "        filtered_movie_list = list(movies_list[sortd_index])\n",
    "        count = 0\n",
    "        final_movie_list = []\n",
    "        for i in filtered_movie_list:\n",
    "            if i not in movies_watched:\n",
    "                count+=1\n",
    "                final_movie_list.append(i)\n",
    "            if count == n:\n",
    "                break\n",
    "        if count == 0:\n",
    "            print(\"There are no movies left which are not seen by the input users and seen by similar users. May be increasing the number of similar users who are to be considered may give a chance of suggesting an unseen good movie.\")\n",
    "        else:\n",
    "            pprint(final_movie_list)\n",
    "\n",
    "    similar_user_list, distance_list = get_similar_users(user_id,n_similar_users)\n",
    "    weightage_list = distance_list/np.sum(distance_list)\n",
    "    mov_rtngs_sim_users = user_to_movie_df.values[similar_user_list]\n",
    "    movies_list = user_to_movie_df.columns\n",
    "    weightage_list = weightage_list[:,np.newaxis] + np.zeros(len(movies_list))\n",
    "    new_rating_matrix = weightage_list*mov_rtngs_sim_users\n",
    "    mean_rating_list = new_rating_matrix.sum(axis =0)\n",
    "    print(\"\")\n",
    "    print(\"Movies recommended based on similar users are: \")\n",
    "    print(\"\")\n",
    "    filtered_movie_recommendations(n_movies)"
   ]
  },
  {
   "cell_type": "code",
   "execution_count": 162,
   "metadata": {},
   "outputs": [
    {
     "name": "stdout",
     "output_type": "stream",
     "text": [
      "Enter user id\n",
      "number of similar users to be considered\n",
      "Enter number of movies to be recommended:\n",
      "Movie seen by the User:\n",
      "['101 Dalmatians',\n",
      " '21',\n",
      " '50 First Dates',\n",
      " 'A Beautiful Mind',\n",
      " \"A Knight's Tale\",\n",
      " 'A.I. Artificial Intelligence',\n",
      " 'About Time',\n",
      " 'Aladdin',\n",
      " 'American Hustle',\n",
      " 'American Pie',\n",
      " 'Antitrust',\n",
      " 'Armageddon',\n",
      " 'Asterix & Obelix Take on Caesar',\n",
      " 'BURN·E',\n",
      " 'Back to the Future',\n",
      " 'Back to the Future Part II',\n",
      " 'Back to the Future Part III',\n",
      " 'Bad Boys',\n",
      " 'Bad Boys II',\n",
      " 'Basic Instinct',\n",
      " 'Beauty and the Beast',\n",
      " 'Bewitched',\n",
      " 'Black Hawk Down',\n",
      " 'Blast from the Past',\n",
      " 'Blood Diamond',\n",
      " 'Braveheart',\n",
      " 'Brazil',\n",
      " 'Brother Bear',\n",
      " 'Bruce Almighty',\n",
      " 'Burn Notice: The Fall of Sam Axe',\n",
      " 'Calendar Girls',\n",
      " 'Cars',\n",
      " 'Casanova',\n",
      " 'Casino Royale',\n",
      " 'Cast Away',\n",
      " 'Catch Me If You Can',\n",
      " 'Children of Men',\n",
      " 'Coming to America',\n",
      " 'Contact',\n",
      " 'Cool Runnings',\n",
      " 'Coyote Ugly',\n",
      " 'Crocodile Dundee',\n",
      " 'Crocodile Dundee II',\n",
      " 'Cube²: Hypercube',\n",
      " 'Definitely, Maybe',\n",
      " 'Despicable Me',\n",
      " 'Die Another Day',\n",
      " 'Dirty Dancing',\n",
      " 'E.T. the Extra-Terrestrial',\n",
      " 'Enemy at the Gates',\n",
      " 'Enemy of the State',\n",
      " 'Entrapment',\n",
      " 'Erin Brockovich',\n",
      " 'Eternal Sunshine of the Spotless Mind',\n",
      " 'Fahrenheit 9/11',\n",
      " 'Falling Down',\n",
      " 'Fast & Furious',\n",
      " 'Femme Fatale',\n",
      " 'Fight Club',\n",
      " 'Final Destination',\n",
      " 'Finding Nemo',\n",
      " 'First Blood',\n",
      " 'Flawless',\n",
      " 'Flubber',\n",
      " 'Focus',\n",
      " 'Forrest Gump',\n",
      " 'Freaky Friday',\n",
      " 'Free Willy',\n",
      " 'Frozen',\n",
      " 'Full Metal Jacket',\n",
      " 'Gangs of New York',\n",
      " 'Ghost Dad',\n",
      " 'Gone in Sixty Seconds',\n",
      " 'Grease',\n",
      " 'Groundhog Day',\n",
      " 'Hackers',\n",
      " 'Hancock',\n",
      " 'Her',\n",
      " 'Hitch',\n",
      " 'Home Alone',\n",
      " 'Home Alone 2: Lost in New York',\n",
      " 'Hotel Transylvania',\n",
      " 'How to Train Your Dragon',\n",
      " 'I Am Legend',\n",
      " 'I, Robot',\n",
      " 'Ice Age',\n",
      " 'Ice Age: Dawn of the Dinosaurs',\n",
      " 'Ice Age: The Meltdown',\n",
      " 'In Bruges',\n",
      " 'In Time',\n",
      " 'Inception',\n",
      " 'Independence Day',\n",
      " 'Indiana Jones and the Last Crusade',\n",
      " 'Inglourious Basterds',\n",
      " 'Into the Wild',\n",
      " 'Jarhead',\n",
      " 'Johnny English',\n",
      " 'Jumanji',\n",
      " 'Juno',\n",
      " 'Jurassic Park',\n",
      " 'Jurassic Park III',\n",
      " 'Just Like Heaven',\n",
      " 'Larry Crowne',\n",
      " 'Legally Blonde',\n",
      " 'Leon: The Professional',\n",
      " 'Life of Brian',\n",
      " 'Life of Pi',\n",
      " 'Little Miss Sunshine',\n",
      " 'Lord of War',\n",
      " 'Maleficent',\n",
      " 'Man on a Ledge',\n",
      " 'Memento',\n",
      " 'Men in Black',\n",
      " 'Mindhunters',\n",
      " 'Minority Report',\n",
      " 'Mirror Mirror',\n",
      " 'Miss Congeniality',\n",
      " 'Mission: Impossible',\n",
      " 'Mission: Impossible II',\n",
      " 'Mission: Impossible III',\n",
      " 'Modern Times',\n",
      " 'Mona Lisa Smile',\n",
      " 'Monster-in-Law',\n",
      " 'Monsters University',\n",
      " 'Monsters, Inc.',\n",
      " 'Moulin Rouge!',\n",
      " 'Mr. & Mrs. Smith',\n",
      " 'Mrs. Doubtfire',\n",
      " 'Music and Lyrics',\n",
      " 'My Super Ex-Girlfriend',\n",
      " 'Napoleon Dynamite',\n",
      " 'Notting Hill',\n",
      " 'Now You See Me',\n",
      " \"Ocean's Eleven\",\n",
      " \"Ocean's Thirteen\",\n",
      " \"Ocean's Twelve\",\n",
      " 'Over the Hedge',\n",
      " 'Paycheck',\n",
      " 'Pearl Harbor',\n",
      " 'Phone Booth',\n",
      " \"Pirates of the Caribbean: At World's End\",\n",
      " 'Pirates of the Caribbean: The Curse of the Black Pearl',\n",
      " 'Planet Terror',\n",
      " 'Pleasantville',\n",
      " 'Police Academy',\n",
      " 'Pretty Woman',\n",
      " 'Pulp Fiction',\n",
      " 'Quantum of Solace',\n",
      " 'RED',\n",
      " 'RED 2',\n",
      " 'Rambo',\n",
      " 'Ratatouille',\n",
      " 'Ray',\n",
      " 'Rio',\n",
      " 'RockNRolla',\n",
      " 'Rocky',\n",
      " 'Runaway Bride',\n",
      " 'Salt',\n",
      " 'Saving Private Ryan',\n",
      " 'Saw',\n",
      " 'Scary Movie',\n",
      " \"Schindler's List\",\n",
      " 'Sea of Love',\n",
      " 'Seven Pounds',\n",
      " 'Seven Years in Tibet',\n",
      " 'Shaun of the Dead',\n",
      " \"She's Out of My League\",\n",
      " 'Sherlock Holmes',\n",
      " 'Sherlock Holmes: A Game of Shadows',\n",
      " \"Shoot 'Em Up\",\n",
      " 'Shrek',\n",
      " 'Shrek 2',\n",
      " 'Shrek Forever After',\n",
      " 'Shrek the Third',\n",
      " 'Sin City',\n",
      " 'Slumdog Millionaire',\n",
      " 'Space Cowboys',\n",
      " 'Speed',\n",
      " 'Spider-Man',\n",
      " 'Spy Game',\n",
      " 'Stranger Than Fiction',\n",
      " 'Sweet Home Alabama',\n",
      " 'Swordfish',\n",
      " 'Taken',\n",
      " 'Tangled',\n",
      " 'Tarzan',\n",
      " 'Taxi',\n",
      " 'Taxi 2',\n",
      " 'The Adventures of Tintin',\n",
      " 'The Amazing Spider-Man',\n",
      " 'The Aviator',\n",
      " 'The Bank Job',\n",
      " 'The Bourne Identity',\n",
      " 'The Bourne Supremacy',\n",
      " 'The Bourne Ultimatum',\n",
      " 'The Croods',\n",
      " 'The Da Vinci Code',\n",
      " 'The Day After Tomorrow',\n",
      " 'The Departed',\n",
      " 'The Devil Wears Prada',\n",
      " \"The Devil's Advocate\",\n",
      " \"The Emperor's New Groove\",\n",
      " 'The Expendables',\n",
      " 'The Fast and the Furious',\n",
      " 'The Fifth Element',\n",
      " 'The Firm',\n",
      " 'The Game',\n",
      " 'The Green Mile',\n",
      " 'The Hangover',\n",
      " \"The Hitchhiker's Guide to the Galaxy\",\n",
      " 'The Hunt for Red October',\n",
      " 'The Incredibles',\n",
      " 'The Interpreter',\n",
      " 'The Italian Job',\n",
      " 'The Jungle Book',\n",
      " 'The Karate Kid',\n",
      " 'The Land Before Time',\n",
      " 'The Lion King',\n",
      " \"The Lion King 2: Simba's Pride\",\n",
      " 'The Lost World: Jurassic Park',\n",
      " 'The Man in the Iron Mask',\n",
      " 'The Man with the Golden Gun',\n",
      " 'The Martian',\n",
      " 'The Mask',\n",
      " 'The Matrix',\n",
      " 'The Matrix Reloaded',\n",
      " 'The Matrix Revolutions',\n",
      " 'The Mexican',\n",
      " 'The Net',\n",
      " 'The Prestige',\n",
      " 'The Recruit',\n",
      " 'The Ring',\n",
      " 'The Silence of the Lambs',\n",
      " 'The Simpsons Movie',\n",
      " 'The Sixth Sense',\n",
      " 'The Terminal',\n",
      " 'The Thin Red Line',\n",
      " 'The Transporter',\n",
      " 'The Truman Show',\n",
      " 'The War of the Roses',\n",
      " 'The Wolf of Wall Street',\n",
      " 'Titanic',\n",
      " 'Toy Story',\n",
      " 'Transformers',\n",
      " 'Twelve Monkeys',\n",
      " 'Up',\n",
      " 'Vantage Point',\n",
      " 'WALL·E',\n",
      " 'What Women Want',\n",
      " 'When Harry Met Sally...',\n",
      " 'Yes Man']\n",
      "\n",
      "Top 15 users who are very much similar to the User- 200 are: \n",
      " \n",
      "1 . User: 313 separated by distance of 0.6589147122360606\n",
      "2 . User: 584 separated by distance of 0.6711791284994222\n",
      "3 . User: 480 separated by distance of 0.682858279069263\n",
      "4 . User: 574 separated by distance of 0.6844867871270179\n",
      "5 . User: 615 separated by distance of 0.6844990708692127\n",
      "6 . User: 212 separated by distance of 0.6846306045777562\n",
      "7 . User: 152 separated by distance of 0.6948163359258885\n",
      "8 . User: 355 separated by distance of 0.6990379424037653\n",
      "9 . User: 664 separated by distance of 0.7067757022071119\n",
      "10 . User: 250 separated by distance of 0.7092556570692259\n",
      "11 . User: 596 separated by distance of 0.709340330515875\n",
      "12 . User: 94 separated by distance of 0.7101016325800513\n",
      "13 . User: 475 separated by distance of 0.7119212017465101\n",
      "14 . User: 72 separated by distance of 0.7131618072994231\n",
      "15 . User: 150 separated by distance of 0.7179695929967957\n",
      "\n",
      "\n",
      "Movies recommended based on similar users are: \n",
      "\n",
      "['Star Wars',\n",
      " 'Return of the Jedi',\n",
      " 'The Empire Strikes Back',\n",
      " 'Raiders of the Lost Ark',\n",
      " 'The Lord of the Rings: The Fellowship of the Ring',\n",
      " 'Shakespeare in Love',\n",
      " 'Monty Python and the Holy Grail',\n",
      " 'American Beauty',\n",
      " 'Edward Scissorhands',\n",
      " 'Ghostbusters',\n",
      " 'Gladiator',\n",
      " 'Casablanca',\n",
      " 'Being John Malkovich',\n",
      " 'Who Framed Roger Rabbit',\n",
      " 'The Lord of the Rings: The Two Towers']\n"
     ]
    }
   ],
   "source": [
    "print(\"Enter user id\")\n",
    "user_id= int(input())\n",
    "print(\"number of similar users to be considered\")\n",
    "sim_users = int(input())\n",
    "print(\"Enter number of movies to be recommended:\")\n",
    "n_movies = int(input())\n",
    "recommender_system(user_id,sim_users,n_movies)\n",
    "# recommender_system(300, 15,15)"
   ]
  },
  {
   "cell_type": "markdown",
   "metadata": {},
   "source": [
    "## Movie Recommendation using KNN with Input as **Movie Name** and Number of movies you want to get recommended:"
   ]
  },
  {
   "cell_type": "markdown",
   "metadata": {},
   "source": [
    "2. Reshaping model in such a way that each movie has n-dimensional rating space where n is total number of users who could rate.\n",
    "\n",
    " We will train the KNN model inorder to find the closely matching similar movies to the movie we give as input and we recommend the top movies which would more closely align to the movie we have given."
   ]
  },
  {
   "cell_type": "code",
   "execution_count": 163,
   "metadata": {},
   "outputs": [
    {
     "data": {
      "text/html": [
       "<div>\n",
       "<style scoped>\n",
       "    .dataframe tbody tr th:only-of-type {\n",
       "        vertical-align: middle;\n",
       "    }\n",
       "\n",
       "    .dataframe tbody tr th {\n",
       "        vertical-align: top;\n",
       "    }\n",
       "\n",
       "    .dataframe thead th {\n",
       "        text-align: right;\n",
       "    }\n",
       "</style>\n",
       "<table border=\"1\" class=\"dataframe\">\n",
       "  <thead>\n",
       "    <tr style=\"text-align: right;\">\n",
       "      <th>user id</th>\n",
       "      <th>1</th>\n",
       "      <th>2</th>\n",
       "      <th>3</th>\n",
       "      <th>4</th>\n",
       "      <th>5</th>\n",
       "      <th>6</th>\n",
       "      <th>7</th>\n",
       "      <th>8</th>\n",
       "      <th>9</th>\n",
       "      <th>10</th>\n",
       "      <th>...</th>\n",
       "      <th>662</th>\n",
       "      <th>663</th>\n",
       "      <th>664</th>\n",
       "      <th>665</th>\n",
       "      <th>666</th>\n",
       "      <th>667</th>\n",
       "      <th>668</th>\n",
       "      <th>669</th>\n",
       "      <th>670</th>\n",
       "      <th>671</th>\n",
       "    </tr>\n",
       "    <tr>\n",
       "      <th>movie title</th>\n",
       "      <th></th>\n",
       "      <th></th>\n",
       "      <th></th>\n",
       "      <th></th>\n",
       "      <th></th>\n",
       "      <th></th>\n",
       "      <th></th>\n",
       "      <th></th>\n",
       "      <th></th>\n",
       "      <th></th>\n",
       "      <th></th>\n",
       "      <th></th>\n",
       "      <th></th>\n",
       "      <th></th>\n",
       "      <th></th>\n",
       "      <th></th>\n",
       "      <th></th>\n",
       "      <th></th>\n",
       "      <th></th>\n",
       "      <th></th>\n",
       "      <th></th>\n",
       "    </tr>\n",
       "  </thead>\n",
       "  <tbody>\n",
       "    <tr>\n",
       "      <th>$9.99</th>\n",
       "      <td>0.0</td>\n",
       "      <td>0.0</td>\n",
       "      <td>0.0</td>\n",
       "      <td>0.0</td>\n",
       "      <td>0.0</td>\n",
       "      <td>0.0</td>\n",
       "      <td>0.0</td>\n",
       "      <td>0.0</td>\n",
       "      <td>0.0</td>\n",
       "      <td>0.0</td>\n",
       "      <td>...</td>\n",
       "      <td>0.0</td>\n",
       "      <td>0.0</td>\n",
       "      <td>0.0</td>\n",
       "      <td>0.0</td>\n",
       "      <td>0.0</td>\n",
       "      <td>0.0</td>\n",
       "      <td>0.0</td>\n",
       "      <td>0.0</td>\n",
       "      <td>0.0</td>\n",
       "      <td>0.0</td>\n",
       "    </tr>\n",
       "    <tr>\n",
       "      <th>'Neath the Arizona Skies</th>\n",
       "      <td>0.0</td>\n",
       "      <td>0.0</td>\n",
       "      <td>0.0</td>\n",
       "      <td>0.0</td>\n",
       "      <td>0.0</td>\n",
       "      <td>0.0</td>\n",
       "      <td>0.0</td>\n",
       "      <td>0.0</td>\n",
       "      <td>0.0</td>\n",
       "      <td>0.0</td>\n",
       "      <td>...</td>\n",
       "      <td>0.0</td>\n",
       "      <td>0.0</td>\n",
       "      <td>0.0</td>\n",
       "      <td>0.0</td>\n",
       "      <td>0.0</td>\n",
       "      <td>0.0</td>\n",
       "      <td>0.0</td>\n",
       "      <td>0.0</td>\n",
       "      <td>0.0</td>\n",
       "      <td>0.0</td>\n",
       "    </tr>\n",
       "    <tr>\n",
       "      <th>'night, Mother</th>\n",
       "      <td>0.0</td>\n",
       "      <td>0.0</td>\n",
       "      <td>0.0</td>\n",
       "      <td>0.0</td>\n",
       "      <td>0.0</td>\n",
       "      <td>0.0</td>\n",
       "      <td>0.0</td>\n",
       "      <td>0.0</td>\n",
       "      <td>0.0</td>\n",
       "      <td>0.0</td>\n",
       "      <td>...</td>\n",
       "      <td>0.0</td>\n",
       "      <td>0.0</td>\n",
       "      <td>0.0</td>\n",
       "      <td>0.0</td>\n",
       "      <td>0.0</td>\n",
       "      <td>0.0</td>\n",
       "      <td>0.0</td>\n",
       "      <td>0.0</td>\n",
       "      <td>0.0</td>\n",
       "      <td>0.0</td>\n",
       "    </tr>\n",
       "    <tr>\n",
       "      <th>(500) Days of Summer</th>\n",
       "      <td>0.0</td>\n",
       "      <td>0.0</td>\n",
       "      <td>0.0</td>\n",
       "      <td>0.0</td>\n",
       "      <td>0.0</td>\n",
       "      <td>0.0</td>\n",
       "      <td>0.0</td>\n",
       "      <td>0.0</td>\n",
       "      <td>0.0</td>\n",
       "      <td>0.0</td>\n",
       "      <td>...</td>\n",
       "      <td>0.0</td>\n",
       "      <td>0.0</td>\n",
       "      <td>3.0</td>\n",
       "      <td>0.0</td>\n",
       "      <td>0.0</td>\n",
       "      <td>0.0</td>\n",
       "      <td>0.0</td>\n",
       "      <td>0.0</td>\n",
       "      <td>0.0</td>\n",
       "      <td>0.0</td>\n",
       "    </tr>\n",
       "    <tr>\n",
       "      <th>...And God Created Woman</th>\n",
       "      <td>0.0</td>\n",
       "      <td>0.0</td>\n",
       "      <td>0.0</td>\n",
       "      <td>0.0</td>\n",
       "      <td>0.0</td>\n",
       "      <td>0.0</td>\n",
       "      <td>0.0</td>\n",
       "      <td>0.0</td>\n",
       "      <td>0.0</td>\n",
       "      <td>0.0</td>\n",
       "      <td>...</td>\n",
       "      <td>0.0</td>\n",
       "      <td>0.0</td>\n",
       "      <td>0.0</td>\n",
       "      <td>0.0</td>\n",
       "      <td>0.0</td>\n",
       "      <td>0.0</td>\n",
       "      <td>0.0</td>\n",
       "      <td>0.0</td>\n",
       "      <td>0.0</td>\n",
       "      <td>0.0</td>\n",
       "    </tr>\n",
       "  </tbody>\n",
       "</table>\n",
       "<p>5 rows × 671 columns</p>\n",
       "</div>"
      ],
      "text/plain": [
       "user id                   1    2    3    4    5    6    7    8    9    10   \\\n",
       "movie title                                                                  \n",
       "$9.99                     0.0  0.0  0.0  0.0  0.0  0.0  0.0  0.0  0.0  0.0   \n",
       "'Neath the Arizona Skies  0.0  0.0  0.0  0.0  0.0  0.0  0.0  0.0  0.0  0.0   \n",
       "'night, Mother            0.0  0.0  0.0  0.0  0.0  0.0  0.0  0.0  0.0  0.0   \n",
       "(500) Days of Summer      0.0  0.0  0.0  0.0  0.0  0.0  0.0  0.0  0.0  0.0   \n",
       "...And God Created Woman  0.0  0.0  0.0  0.0  0.0  0.0  0.0  0.0  0.0  0.0   \n",
       "\n",
       "user id                   ...  662  663  664  665  666  667  668  669  670  \\\n",
       "movie title               ...                                                \n",
       "$9.99                     ...  0.0  0.0  0.0  0.0  0.0  0.0  0.0  0.0  0.0   \n",
       "'Neath the Arizona Skies  ...  0.0  0.0  0.0  0.0  0.0  0.0  0.0  0.0  0.0   \n",
       "'night, Mother            ...  0.0  0.0  0.0  0.0  0.0  0.0  0.0  0.0  0.0   \n",
       "(500) Days of Summer      ...  0.0  0.0  3.0  0.0  0.0  0.0  0.0  0.0  0.0   \n",
       "...And God Created Woman  ...  0.0  0.0  0.0  0.0  0.0  0.0  0.0  0.0  0.0   \n",
       "\n",
       "user id                   671  \n",
       "movie title                    \n",
       "$9.99                     0.0  \n",
       "'Neath the Arizona Skies  0.0  \n",
       "'night, Mother            0.0  \n",
       "(500) Days of Summer      0.0  \n",
       "...And God Created Woman  0.0  \n",
       "\n",
       "[5 rows x 671 columns]"
      ]
     },
     "execution_count": 163,
     "metadata": {},
     "output_type": "execute_result"
    }
   ],
   "source": [
    "# Handle duplicates by averaging the ratings\n",
    "refined_dataset = refined_dataset.groupby(['user id', 'movie title'], as_index=False)['rating'].mean()\n",
    "\n",
    "# pivot and create movie-user matrix\n",
    "movie_to_user_df = refined_dataset.pivot(\n",
    "    index='movie title',\n",
    "    columns='user id',\n",
    "    values='rating').fillna(0)\n",
    "\n",
    "movie_to_user_df.head()"
   ]
  },
  {
   "cell_type": "code",
   "execution_count": 164,
   "metadata": {},
   "outputs": [
    {
     "data": {
      "text/plain": [
       "<8754x671 sparse matrix of type '<class 'numpy.float64'>'\n",
       "\twith 99470 stored elements in Compressed Sparse Row format>"
      ]
     },
     "execution_count": 164,
     "metadata": {},
     "output_type": "execute_result"
    }
   ],
   "source": [
    "# transform matrix to scipy sparse matrix\n",
    "movie_to_user_sparse_df = csr_matrix(movie_to_user_df.values)\n",
    "movie_to_user_sparse_df"
   ]
  },
  {
   "cell_type": "markdown",
   "metadata": {},
   "source": [
    "Extracting movie names into a list:"
   ]
  },
  {
   "cell_type": "code",
   "execution_count": 165,
   "metadata": {},
   "outputs": [
    {
     "data": {
      "text/plain": [
       "['$9.99',\n",
       " \"'Neath the Arizona Skies\",\n",
       " \"'night, Mother\",\n",
       " '(500) Days of Summer',\n",
       " '...And God Created Woman',\n",
       " '...And Justice for All',\n",
       " '1-900',\n",
       " '10',\n",
       " '10 Attitudes',\n",
       " '10 Cloverfield Lane']"
      ]
     },
     "execution_count": 165,
     "metadata": {},
     "output_type": "execute_result"
    }
   ],
   "source": [
    "movies_list = list(movie_to_user_df.index)\n",
    "movies_list[:10]"
   ]
  },
  {
   "cell_type": "markdown",
   "metadata": {},
   "source": [
    "Creating a dictionary with movie name as key and its index from the list as value:"
   ]
  },
  {
   "cell_type": "code",
   "execution_count": 166,
   "metadata": {},
   "outputs": [],
   "source": [
    "movie_dict = {movie : index for index, movie in enumerate(movies_list)}\n",
    "# print(movie_dict)"
   ]
  },
  {
   "cell_type": "code",
   "execution_count": 167,
   "metadata": {},
   "outputs": [],
   "source": [
    "case_insensitive_movies_list = [i.lower() for i in movies_list]"
   ]
  },
  {
   "cell_type": "markdown",
   "metadata": {},
   "source": [
    "Fitting a KNN model:"
   ]
  },
  {
   "cell_type": "code",
   "execution_count": 168,
   "metadata": {},
   "outputs": [
    {
     "data": {
      "text/html": [
       "<style>#sk-container-id-2 {\n",
       "  /* Definition of color scheme common for light and dark mode */\n",
       "  --sklearn-color-text: black;\n",
       "  --sklearn-color-line: gray;\n",
       "  /* Definition of color scheme for unfitted estimators */\n",
       "  --sklearn-color-unfitted-level-0: #fff5e6;\n",
       "  --sklearn-color-unfitted-level-1: #f6e4d2;\n",
       "  --sklearn-color-unfitted-level-2: #ffe0b3;\n",
       "  --sklearn-color-unfitted-level-3: chocolate;\n",
       "  /* Definition of color scheme for fitted estimators */\n",
       "  --sklearn-color-fitted-level-0: #f0f8ff;\n",
       "  --sklearn-color-fitted-level-1: #d4ebff;\n",
       "  --sklearn-color-fitted-level-2: #b3dbfd;\n",
       "  --sklearn-color-fitted-level-3: cornflowerblue;\n",
       "\n",
       "  /* Specific color for light theme */\n",
       "  --sklearn-color-text-on-default-background: var(--sg-text-color, var(--theme-code-foreground, var(--jp-content-font-color1, black)));\n",
       "  --sklearn-color-background: var(--sg-background-color, var(--theme-background, var(--jp-layout-color0, white)));\n",
       "  --sklearn-color-border-box: var(--sg-text-color, var(--theme-code-foreground, var(--jp-content-font-color1, black)));\n",
       "  --sklearn-color-icon: #696969;\n",
       "\n",
       "  @media (prefers-color-scheme: dark) {\n",
       "    /* Redefinition of color scheme for dark theme */\n",
       "    --sklearn-color-text-on-default-background: var(--sg-text-color, var(--theme-code-foreground, var(--jp-content-font-color1, white)));\n",
       "    --sklearn-color-background: var(--sg-background-color, var(--theme-background, var(--jp-layout-color0, #111)));\n",
       "    --sklearn-color-border-box: var(--sg-text-color, var(--theme-code-foreground, var(--jp-content-font-color1, white)));\n",
       "    --sklearn-color-icon: #878787;\n",
       "  }\n",
       "}\n",
       "\n",
       "#sk-container-id-2 {\n",
       "  color: var(--sklearn-color-text);\n",
       "}\n",
       "\n",
       "#sk-container-id-2 pre {\n",
       "  padding: 0;\n",
       "}\n",
       "\n",
       "#sk-container-id-2 input.sk-hidden--visually {\n",
       "  border: 0;\n",
       "  clip: rect(1px 1px 1px 1px);\n",
       "  clip: rect(1px, 1px, 1px, 1px);\n",
       "  height: 1px;\n",
       "  margin: -1px;\n",
       "  overflow: hidden;\n",
       "  padding: 0;\n",
       "  position: absolute;\n",
       "  width: 1px;\n",
       "}\n",
       "\n",
       "#sk-container-id-2 div.sk-dashed-wrapped {\n",
       "  border: 1px dashed var(--sklearn-color-line);\n",
       "  margin: 0 0.4em 0.5em 0.4em;\n",
       "  box-sizing: border-box;\n",
       "  padding-bottom: 0.4em;\n",
       "  background-color: var(--sklearn-color-background);\n",
       "}\n",
       "\n",
       "#sk-container-id-2 div.sk-container {\n",
       "  /* jupyter's `normalize.less` sets `[hidden] { display: none; }`\n",
       "     but bootstrap.min.css set `[hidden] { display: none !important; }`\n",
       "     so we also need the `!important` here to be able to override the\n",
       "     default hidden behavior on the sphinx rendered scikit-learn.org.\n",
       "     See: https://github.com/scikit-learn/scikit-learn/issues/21755 */\n",
       "  display: inline-block !important;\n",
       "  position: relative;\n",
       "}\n",
       "\n",
       "#sk-container-id-2 div.sk-text-repr-fallback {\n",
       "  display: none;\n",
       "}\n",
       "\n",
       "div.sk-parallel-item,\n",
       "div.sk-serial,\n",
       "div.sk-item {\n",
       "  /* draw centered vertical line to link estimators */\n",
       "  background-image: linear-gradient(var(--sklearn-color-text-on-default-background), var(--sklearn-color-text-on-default-background));\n",
       "  background-size: 2px 100%;\n",
       "  background-repeat: no-repeat;\n",
       "  background-position: center center;\n",
       "}\n",
       "\n",
       "/* Parallel-specific style estimator block */\n",
       "\n",
       "#sk-container-id-2 div.sk-parallel-item::after {\n",
       "  content: \"\";\n",
       "  width: 100%;\n",
       "  border-bottom: 2px solid var(--sklearn-color-text-on-default-background);\n",
       "  flex-grow: 1;\n",
       "}\n",
       "\n",
       "#sk-container-id-2 div.sk-parallel {\n",
       "  display: flex;\n",
       "  align-items: stretch;\n",
       "  justify-content: center;\n",
       "  background-color: var(--sklearn-color-background);\n",
       "  position: relative;\n",
       "}\n",
       "\n",
       "#sk-container-id-2 div.sk-parallel-item {\n",
       "  display: flex;\n",
       "  flex-direction: column;\n",
       "}\n",
       "\n",
       "#sk-container-id-2 div.sk-parallel-item:first-child::after {\n",
       "  align-self: flex-end;\n",
       "  width: 50%;\n",
       "}\n",
       "\n",
       "#sk-container-id-2 div.sk-parallel-item:last-child::after {\n",
       "  align-self: flex-start;\n",
       "  width: 50%;\n",
       "}\n",
       "\n",
       "#sk-container-id-2 div.sk-parallel-item:only-child::after {\n",
       "  width: 0;\n",
       "}\n",
       "\n",
       "/* Serial-specific style estimator block */\n",
       "\n",
       "#sk-container-id-2 div.sk-serial {\n",
       "  display: flex;\n",
       "  flex-direction: column;\n",
       "  align-items: center;\n",
       "  background-color: var(--sklearn-color-background);\n",
       "  padding-right: 1em;\n",
       "  padding-left: 1em;\n",
       "}\n",
       "\n",
       "\n",
       "/* Toggleable style: style used for estimator/Pipeline/ColumnTransformer box that is\n",
       "clickable and can be expanded/collapsed.\n",
       "- Pipeline and ColumnTransformer use this feature and define the default style\n",
       "- Estimators will overwrite some part of the style using the `sk-estimator` class\n",
       "*/\n",
       "\n",
       "/* Pipeline and ColumnTransformer style (default) */\n",
       "\n",
       "#sk-container-id-2 div.sk-toggleable {\n",
       "  /* Default theme specific background. It is overwritten whether we have a\n",
       "  specific estimator or a Pipeline/ColumnTransformer */\n",
       "  background-color: var(--sklearn-color-background);\n",
       "}\n",
       "\n",
       "/* Toggleable label */\n",
       "#sk-container-id-2 label.sk-toggleable__label {\n",
       "  cursor: pointer;\n",
       "  display: block;\n",
       "  width: 100%;\n",
       "  margin-bottom: 0;\n",
       "  padding: 0.5em;\n",
       "  box-sizing: border-box;\n",
       "  text-align: center;\n",
       "}\n",
       "\n",
       "#sk-container-id-2 label.sk-toggleable__label-arrow:before {\n",
       "  /* Arrow on the left of the label */\n",
       "  content: \"▸\";\n",
       "  float: left;\n",
       "  margin-right: 0.25em;\n",
       "  color: var(--sklearn-color-icon);\n",
       "}\n",
       "\n",
       "#sk-container-id-2 label.sk-toggleable__label-arrow:hover:before {\n",
       "  color: var(--sklearn-color-text);\n",
       "}\n",
       "\n",
       "/* Toggleable content - dropdown */\n",
       "\n",
       "#sk-container-id-2 div.sk-toggleable__content {\n",
       "  max-height: 0;\n",
       "  max-width: 0;\n",
       "  overflow: hidden;\n",
       "  text-align: left;\n",
       "  /* unfitted */\n",
       "  background-color: var(--sklearn-color-unfitted-level-0);\n",
       "}\n",
       "\n",
       "#sk-container-id-2 div.sk-toggleable__content.fitted {\n",
       "  /* fitted */\n",
       "  background-color: var(--sklearn-color-fitted-level-0);\n",
       "}\n",
       "\n",
       "#sk-container-id-2 div.sk-toggleable__content pre {\n",
       "  margin: 0.2em;\n",
       "  border-radius: 0.25em;\n",
       "  color: var(--sklearn-color-text);\n",
       "  /* unfitted */\n",
       "  background-color: var(--sklearn-color-unfitted-level-0);\n",
       "}\n",
       "\n",
       "#sk-container-id-2 div.sk-toggleable__content.fitted pre {\n",
       "  /* unfitted */\n",
       "  background-color: var(--sklearn-color-fitted-level-0);\n",
       "}\n",
       "\n",
       "#sk-container-id-2 input.sk-toggleable__control:checked~div.sk-toggleable__content {\n",
       "  /* Expand drop-down */\n",
       "  max-height: 200px;\n",
       "  max-width: 100%;\n",
       "  overflow: auto;\n",
       "}\n",
       "\n",
       "#sk-container-id-2 input.sk-toggleable__control:checked~label.sk-toggleable__label-arrow:before {\n",
       "  content: \"▾\";\n",
       "}\n",
       "\n",
       "/* Pipeline/ColumnTransformer-specific style */\n",
       "\n",
       "#sk-container-id-2 div.sk-label input.sk-toggleable__control:checked~label.sk-toggleable__label {\n",
       "  color: var(--sklearn-color-text);\n",
       "  background-color: var(--sklearn-color-unfitted-level-2);\n",
       "}\n",
       "\n",
       "#sk-container-id-2 div.sk-label.fitted input.sk-toggleable__control:checked~label.sk-toggleable__label {\n",
       "  background-color: var(--sklearn-color-fitted-level-2);\n",
       "}\n",
       "\n",
       "/* Estimator-specific style */\n",
       "\n",
       "/* Colorize estimator box */\n",
       "#sk-container-id-2 div.sk-estimator input.sk-toggleable__control:checked~label.sk-toggleable__label {\n",
       "  /* unfitted */\n",
       "  background-color: var(--sklearn-color-unfitted-level-2);\n",
       "}\n",
       "\n",
       "#sk-container-id-2 div.sk-estimator.fitted input.sk-toggleable__control:checked~label.sk-toggleable__label {\n",
       "  /* fitted */\n",
       "  background-color: var(--sklearn-color-fitted-level-2);\n",
       "}\n",
       "\n",
       "#sk-container-id-2 div.sk-label label.sk-toggleable__label,\n",
       "#sk-container-id-2 div.sk-label label {\n",
       "  /* The background is the default theme color */\n",
       "  color: var(--sklearn-color-text-on-default-background);\n",
       "}\n",
       "\n",
       "/* On hover, darken the color of the background */\n",
       "#sk-container-id-2 div.sk-label:hover label.sk-toggleable__label {\n",
       "  color: var(--sklearn-color-text);\n",
       "  background-color: var(--sklearn-color-unfitted-level-2);\n",
       "}\n",
       "\n",
       "/* Label box, darken color on hover, fitted */\n",
       "#sk-container-id-2 div.sk-label.fitted:hover label.sk-toggleable__label.fitted {\n",
       "  color: var(--sklearn-color-text);\n",
       "  background-color: var(--sklearn-color-fitted-level-2);\n",
       "}\n",
       "\n",
       "/* Estimator label */\n",
       "\n",
       "#sk-container-id-2 div.sk-label label {\n",
       "  font-family: monospace;\n",
       "  font-weight: bold;\n",
       "  display: inline-block;\n",
       "  line-height: 1.2em;\n",
       "}\n",
       "\n",
       "#sk-container-id-2 div.sk-label-container {\n",
       "  text-align: center;\n",
       "}\n",
       "\n",
       "/* Estimator-specific */\n",
       "#sk-container-id-2 div.sk-estimator {\n",
       "  font-family: monospace;\n",
       "  border: 1px dotted var(--sklearn-color-border-box);\n",
       "  border-radius: 0.25em;\n",
       "  box-sizing: border-box;\n",
       "  margin-bottom: 0.5em;\n",
       "  /* unfitted */\n",
       "  background-color: var(--sklearn-color-unfitted-level-0);\n",
       "}\n",
       "\n",
       "#sk-container-id-2 div.sk-estimator.fitted {\n",
       "  /* fitted */\n",
       "  background-color: var(--sklearn-color-fitted-level-0);\n",
       "}\n",
       "\n",
       "/* on hover */\n",
       "#sk-container-id-2 div.sk-estimator:hover {\n",
       "  /* unfitted */\n",
       "  background-color: var(--sklearn-color-unfitted-level-2);\n",
       "}\n",
       "\n",
       "#sk-container-id-2 div.sk-estimator.fitted:hover {\n",
       "  /* fitted */\n",
       "  background-color: var(--sklearn-color-fitted-level-2);\n",
       "}\n",
       "\n",
       "/* Specification for estimator info (e.g. \"i\" and \"?\") */\n",
       "\n",
       "/* Common style for \"i\" and \"?\" */\n",
       "\n",
       ".sk-estimator-doc-link,\n",
       "a:link.sk-estimator-doc-link,\n",
       "a:visited.sk-estimator-doc-link {\n",
       "  float: right;\n",
       "  font-size: smaller;\n",
       "  line-height: 1em;\n",
       "  font-family: monospace;\n",
       "  background-color: var(--sklearn-color-background);\n",
       "  border-radius: 1em;\n",
       "  height: 1em;\n",
       "  width: 1em;\n",
       "  text-decoration: none !important;\n",
       "  margin-left: 1ex;\n",
       "  /* unfitted */\n",
       "  border: var(--sklearn-color-unfitted-level-1) 1pt solid;\n",
       "  color: var(--sklearn-color-unfitted-level-1);\n",
       "}\n",
       "\n",
       ".sk-estimator-doc-link.fitted,\n",
       "a:link.sk-estimator-doc-link.fitted,\n",
       "a:visited.sk-estimator-doc-link.fitted {\n",
       "  /* fitted */\n",
       "  border: var(--sklearn-color-fitted-level-1) 1pt solid;\n",
       "  color: var(--sklearn-color-fitted-level-1);\n",
       "}\n",
       "\n",
       "/* On hover */\n",
       "div.sk-estimator:hover .sk-estimator-doc-link:hover,\n",
       ".sk-estimator-doc-link:hover,\n",
       "div.sk-label-container:hover .sk-estimator-doc-link:hover,\n",
       ".sk-estimator-doc-link:hover {\n",
       "  /* unfitted */\n",
       "  background-color: var(--sklearn-color-unfitted-level-3);\n",
       "  color: var(--sklearn-color-background);\n",
       "  text-decoration: none;\n",
       "}\n",
       "\n",
       "div.sk-estimator.fitted:hover .sk-estimator-doc-link.fitted:hover,\n",
       ".sk-estimator-doc-link.fitted:hover,\n",
       "div.sk-label-container:hover .sk-estimator-doc-link.fitted:hover,\n",
       ".sk-estimator-doc-link.fitted:hover {\n",
       "  /* fitted */\n",
       "  background-color: var(--sklearn-color-fitted-level-3);\n",
       "  color: var(--sklearn-color-background);\n",
       "  text-decoration: none;\n",
       "}\n",
       "\n",
       "/* Span, style for the box shown on hovering the info icon */\n",
       ".sk-estimator-doc-link span {\n",
       "  display: none;\n",
       "  z-index: 9999;\n",
       "  position: relative;\n",
       "  font-weight: normal;\n",
       "  right: .2ex;\n",
       "  padding: .5ex;\n",
       "  margin: .5ex;\n",
       "  width: min-content;\n",
       "  min-width: 20ex;\n",
       "  max-width: 50ex;\n",
       "  color: var(--sklearn-color-text);\n",
       "  box-shadow: 2pt 2pt 4pt #999;\n",
       "  /* unfitted */\n",
       "  background: var(--sklearn-color-unfitted-level-0);\n",
       "  border: .5pt solid var(--sklearn-color-unfitted-level-3);\n",
       "}\n",
       "\n",
       ".sk-estimator-doc-link.fitted span {\n",
       "  /* fitted */\n",
       "  background: var(--sklearn-color-fitted-level-0);\n",
       "  border: var(--sklearn-color-fitted-level-3);\n",
       "}\n",
       "\n",
       ".sk-estimator-doc-link:hover span {\n",
       "  display: block;\n",
       "}\n",
       "\n",
       "/* \"?\"-specific style due to the `<a>` HTML tag */\n",
       "\n",
       "#sk-container-id-2 a.estimator_doc_link {\n",
       "  float: right;\n",
       "  font-size: 1rem;\n",
       "  line-height: 1em;\n",
       "  font-family: monospace;\n",
       "  background-color: var(--sklearn-color-background);\n",
       "  border-radius: 1rem;\n",
       "  height: 1rem;\n",
       "  width: 1rem;\n",
       "  text-decoration: none;\n",
       "  /* unfitted */\n",
       "  color: var(--sklearn-color-unfitted-level-1);\n",
       "  border: var(--sklearn-color-unfitted-level-1) 1pt solid;\n",
       "}\n",
       "\n",
       "#sk-container-id-2 a.estimator_doc_link.fitted {\n",
       "  /* fitted */\n",
       "  border: var(--sklearn-color-fitted-level-1) 1pt solid;\n",
       "  color: var(--sklearn-color-fitted-level-1);\n",
       "}\n",
       "\n",
       "/* On hover */\n",
       "#sk-container-id-2 a.estimator_doc_link:hover {\n",
       "  /* unfitted */\n",
       "  background-color: var(--sklearn-color-unfitted-level-3);\n",
       "  color: var(--sklearn-color-background);\n",
       "  text-decoration: none;\n",
       "}\n",
       "\n",
       "#sk-container-id-2 a.estimator_doc_link.fitted:hover {\n",
       "  /* fitted */\n",
       "  background-color: var(--sklearn-color-fitted-level-3);\n",
       "}\n",
       "</style><div id=\"sk-container-id-2\" class=\"sk-top-container\"><div class=\"sk-text-repr-fallback\"><pre>NearestNeighbors(algorithm=&#x27;brute&#x27;, metric=&#x27;cosine&#x27;)</pre><b>In a Jupyter environment, please rerun this cell to show the HTML representation or trust the notebook. <br />On GitHub, the HTML representation is unable to render, please try loading this page with nbviewer.org.</b></div><div class=\"sk-container\" hidden><div class=\"sk-item\"><div class=\"sk-estimator fitted sk-toggleable\"><input class=\"sk-toggleable__control sk-hidden--visually\" id=\"sk-estimator-id-2\" type=\"checkbox\" checked><label for=\"sk-estimator-id-2\" class=\"sk-toggleable__label fitted sk-toggleable__label-arrow fitted\">&nbsp;&nbsp;NearestNeighbors<a class=\"sk-estimator-doc-link fitted\" rel=\"noreferrer\" target=\"_blank\" href=\"https://scikit-learn.org/1.5/modules/generated/sklearn.neighbors.NearestNeighbors.html\">?<span>Documentation for NearestNeighbors</span></a><span class=\"sk-estimator-doc-link fitted\">i<span>Fitted</span></span></label><div class=\"sk-toggleable__content fitted\"><pre>NearestNeighbors(algorithm=&#x27;brute&#x27;, metric=&#x27;cosine&#x27;)</pre></div> </div></div></div></div>"
      ],
      "text/plain": [
       "NearestNeighbors(algorithm='brute', metric='cosine')"
      ]
     },
     "execution_count": 168,
     "metadata": {},
     "output_type": "execute_result"
    }
   ],
   "source": [
    "knn_movie_model = NearestNeighbors(metric='cosine', algorithm='brute')\n",
    "knn_movie_model.fit(movie_to_user_sparse_df)"
   ]
  },
  {
   "cell_type": "code",
   "execution_count": 169,
   "metadata": {},
   "outputs": [],
   "source": [
    "## function to find top n similar users of the given input user \n",
    "def get_similar_movies(movie, n = 10):\n",
    "    ## input to this function is the movie and number of top similar movies you want.\n",
    "    index = movie_dict[movie]\n",
    "    knn_input = np.asarray([movie_to_user_df.values[index]])\n",
    "    n = min(len(movies_list)-1,n)\n",
    "    distances, indices = knn_movie_model.kneighbors(knn_input, n_neighbors=n+1)\n",
    "    \n",
    "    print(\"Top\",n,\"movies which are very much similar to the Movie-\",movie, \"are: \")\n",
    "    print(\" \")\n",
    "    for i in range(1,len(distances[0])):\n",
    "        print(movies_list[indices[0][i]])"
   ]
  },
  {
   "cell_type": "markdown",
   "metadata": {},
   "source": [
    "Testing the recommender system with basic input with the movie names"
   ]
  },
  {
   "cell_type": "code",
   "execution_count": 170,
   "metadata": {},
   "outputs": [
    {
     "name": "stdout",
     "output_type": "stream",
     "text": [
      "Top 15 movies which are very much similar to the Movie- Pulp Fiction are: \n",
      " \n",
      "The Silence of the Lambs\n",
      "The Shawshank Redemption\n",
      "Se7en\n",
      "Forrest Gump\n",
      "The Usual Suspects\n",
      "Jurassic Park\n",
      "The Fugitive\n",
      "Schindler's List\n",
      "Reservoir Dogs\n",
      "Braveheart\n",
      "Batman\n",
      "Fargo\n",
      "GoodFellas\n",
      "Apollo 13\n",
      "Terminator 2: Judgment Day\n"
     ]
    }
   ],
   "source": [
    "from pprint import pprint\n",
    "movie_name = 'Pulp Fiction'\n",
    "\n",
    "get_similar_movies(movie_name,15)"
   ]
  },
  {
   "cell_type": "markdown",
   "metadata": {},
   "source": [
    "**Dynamically suggesting** movie name from the existing movie corpus we have, based on the user input using try and except architecture."
   ]
  },
  {
   "cell_type": "markdown",
   "metadata": {},
   "source": [
    "Defining a function which outputs movie names as suggestion when the user mis spells the movie name. **User might have intended to type any of these movie names.**"
   ]
  },
  {
   "cell_type": "code",
   "execution_count": 171,
   "metadata": {},
   "outputs": [],
   "source": [
    "def get_possible_movies(movie):\n",
    "    temp = ''\n",
    "    possible_movies = case_insensitive_movies_list.copy()\n",
    "    for i in movie :\n",
    "      out = []\n",
    "      temp += i\n",
    "      for j in possible_movies:\n",
    "        if temp in j:\n",
    "          out.append(j)\n",
    "      if len(out) == 0:\n",
    "          return possible_movies\n",
    "      out.sort()\n",
    "      possible_movies = out.copy()\n",
    "    return possible_movies"
   ]
  },
  {
   "cell_type": "markdown",
   "metadata": {},
   "source": [
    "This function provides user with **movie name suggestions if movie name is mis-spelled** or **Recommends similar movies to the input movie** if the movie name is valid."
   ]
  },
  {
   "cell_type": "code",
   "execution_count": 172,
   "metadata": {},
   "outputs": [],
   "source": [
    "class invalid(Exception):\n",
    "    pass\n",
    "\n",
    "def spell_correction():\n",
    "    try:\n",
    "\n",
    "      movie_name = input(\"Enter the Movie name: \")\n",
    "      movie_name_lower = movie_name.lower()\n",
    "      if movie_name_lower not in case_insensitive_movies_list :\n",
    "        raise invalid\n",
    "      else :\n",
    "        # movies_list[case_insensitive_country_names.index(movie_name_lower)]\n",
    "        num_recom = int(input(\"Enter Number of movie recommendations needed: \"))\n",
    "        get_similar_movies(movies_list[case_insensitive_movies_list.index(movie_name_lower)],num_recom)\n",
    "\n",
    "    except invalid:\n",
    "\n",
    "      possible_movies = get_possible_movies(movie_name_lower)\n",
    "\n",
    "      if len(possible_movies) == len(movies_list) :\n",
    "        print(\"Movie name entered is does not exist in the list \")\n",
    "      else :\n",
    "        indices = [case_insensitive_movies_list.index(i) for i in possible_movies]\n",
    "        print(\"Entered Movie name is not matching with any movie from the dataset . Please check the below suggestions :\\n\",[movies_list[i] for i in indices])\n",
    "        spell_correction()\n"
   ]
  },
  {
   "cell_type": "code",
   "execution_count": 173,
   "metadata": {},
   "outputs": [
    {
     "name": "stdout",
     "output_type": "stream",
     "text": [
      "Top 15 movies which are very much similar to the Movie- Star Wars are: \n",
      " \n",
      "The Empire Strikes Back\n",
      "Return of the Jedi\n",
      "Raiders of the Lost Ark\n",
      "Back to the Future\n",
      "The Matrix\n",
      "Indiana Jones and the Last Crusade\n",
      "The Lord of the Rings: The Fellowship of the Ring\n",
      "Die Hard\n",
      "The Terminator\n",
      "Toy Story\n",
      "Star Wars: Episode I - The Phantom Menace\n",
      "Terminator 2: Judgment Day\n",
      "Men in Black\n",
      "The Princess Bride\n",
      "The Lord of the Rings: The Two Towers\n"
     ]
    }
   ],
   "source": [
    "spell_correction()"
   ]
  },
  {
   "cell_type": "markdown",
   "metadata": {},
   "source": [
    "Observation on above built KNN Recommender System:\n",
    "\n",
    "An interesting observation would be that the above KNN model for movies recommends movies that are produced in very similar years of the input movie. However, the cosine distance of all those recommendations are observed to be actually quite small. This might be because there are too many zero values in our movie-user matrix. With too many zero values in our data, the data sparsity becomes a real issue for KNN model and the distance in KNN model starts to fall apart. So I'd like to dig deeper and look closer inside our data."
   ]
  },
  {
   "cell_type": "markdown",
   "metadata": {},
   "source": [
    "Let's now look at how sparse the movie-user matrix is by calculating percentage of zero values in the data."
   ]
  },
  {
   "cell_type": "code",
   "execution_count": 174,
   "metadata": {},
   "outputs": [
    {
     "name": "stdout",
     "output_type": "stream",
     "text": [
      "There is about 98.31% of ratings in our data is missing\n"
     ]
    }
   ],
   "source": [
    "# calcuate total number of entries in the movie-user matrix\n",
    "num_entries = movie_to_user_df.shape[0] * movie_to_user_df.shape[1]\n",
    "# calculate total number of entries with zero values\n",
    "num_zeros = (movie_to_user_df==0).sum(axis=1).sum()\n",
    "# calculate ratio of number of zeros to number of entries\n",
    "ratio_zeros = num_zeros / num_entries\n",
    "print('There is about {:.2%} of ratings in our data is missing'.format(ratio_zeros))"
   ]
  },
  {
   "cell_type": "markdown",
   "metadata": {},
   "source": [
    "# **Hybrid Recommender**"
   ]
  },
  {
   "cell_type": "code",
   "execution_count": 175,
   "metadata": {},
   "outputs": [],
   "source": [
    "def convert_int(x):\n",
    "    try:\n",
    "        return int(x)\n",
    "    except:\n",
    "        return np.nan"
   ]
  },
  {
   "cell_type": "code",
   "execution_count": 176,
   "metadata": {},
   "outputs": [
    {
     "name": "stdout",
     "output_type": "stream",
     "text": [
      "(9125, 2)\n"
     ]
    },
    {
     "data": {
      "text/html": [
       "<div>\n",
       "<style scoped>\n",
       "    .dataframe tbody tr th:only-of-type {\n",
       "        vertical-align: middle;\n",
       "    }\n",
       "\n",
       "    .dataframe tbody tr th {\n",
       "        vertical-align: top;\n",
       "    }\n",
       "\n",
       "    .dataframe thead th {\n",
       "        text-align: right;\n",
       "    }\n",
       "</style>\n",
       "<table border=\"1\" class=\"dataframe\">\n",
       "  <thead>\n",
       "    <tr style=\"text-align: right;\">\n",
       "      <th></th>\n",
       "      <th>movieId</th>\n",
       "      <th>id</th>\n",
       "    </tr>\n",
       "  </thead>\n",
       "  <tbody>\n",
       "    <tr>\n",
       "      <th>0</th>\n",
       "      <td>1</td>\n",
       "      <td>862.0</td>\n",
       "    </tr>\n",
       "    <tr>\n",
       "      <th>1</th>\n",
       "      <td>2</td>\n",
       "      <td>8844.0</td>\n",
       "    </tr>\n",
       "    <tr>\n",
       "      <th>2</th>\n",
       "      <td>3</td>\n",
       "      <td>15602.0</td>\n",
       "    </tr>\n",
       "    <tr>\n",
       "      <th>3</th>\n",
       "      <td>4</td>\n",
       "      <td>31357.0</td>\n",
       "    </tr>\n",
       "    <tr>\n",
       "      <th>4</th>\n",
       "      <td>5</td>\n",
       "      <td>11862.0</td>\n",
       "    </tr>\n",
       "  </tbody>\n",
       "</table>\n",
       "</div>"
      ],
      "text/plain": [
       "   movieId       id\n",
       "0        1    862.0\n",
       "1        2   8844.0\n",
       "2        3  15602.0\n",
       "3        4  31357.0\n",
       "4        5  11862.0"
      ]
     },
     "execution_count": 176,
     "metadata": {},
     "output_type": "execute_result"
    }
   ],
   "source": [
    "id_map = pd.read_csv('The Movies Dataset/links_small.csv')[['movieId', 'tmdbId']]\n",
    "id_map['tmdbId'] = id_map['tmdbId'].apply(convert_int)\n",
    "id_map.columns = ['movieId', 'id']\n",
    "\n",
    "print(id_map.shape)\n",
    "\n",
    "id_map.head()"
   ]
  },
  {
   "cell_type": "code",
   "execution_count": 177,
   "metadata": {},
   "outputs": [
    {
     "data": {
      "text/html": [
       "<div>\n",
       "<style scoped>\n",
       "    .dataframe tbody tr th:only-of-type {\n",
       "        vertical-align: middle;\n",
       "    }\n",
       "\n",
       "    .dataframe tbody tr th {\n",
       "        vertical-align: top;\n",
       "    }\n",
       "\n",
       "    .dataframe thead th {\n",
       "        text-align: right;\n",
       "    }\n",
       "</style>\n",
       "<table border=\"1\" class=\"dataframe\">\n",
       "  <thead>\n",
       "    <tr style=\"text-align: right;\">\n",
       "      <th></th>\n",
       "      <th>movieId</th>\n",
       "    </tr>\n",
       "    <tr>\n",
       "      <th>id</th>\n",
       "      <th></th>\n",
       "    </tr>\n",
       "  </thead>\n",
       "  <tbody>\n",
       "    <tr>\n",
       "      <th>862.0</th>\n",
       "      <td>1</td>\n",
       "    </tr>\n",
       "    <tr>\n",
       "      <th>8844.0</th>\n",
       "      <td>2</td>\n",
       "    </tr>\n",
       "  </tbody>\n",
       "</table>\n",
       "</div>"
      ],
      "text/plain": [
       "        movieId\n",
       "id             \n",
       "862.0         1\n",
       "8844.0        2"
      ]
     },
     "execution_count": 177,
     "metadata": {},
     "output_type": "execute_result"
    }
   ],
   "source": [
    "id_map = id_map.merge(smd_2[['title', 'id']], on='id').set_index('title')\n",
    "# id_map = id_map.set_index('tmdbId')\n",
    "\n",
    "indices_map = id_map.set_index('id')\n",
    "\n",
    "indices_map.head(2)"
   ]
  },
  {
   "cell_type": "code",
   "execution_count": 178,
   "metadata": {},
   "outputs": [],
   "source": [
    "def hybrid(userId, title, cosine_sim, recommendations_num=10):\n",
    "    idx = indices[title]\n",
    "    tmdbId = id_map.loc[title]['id']\n",
    "    #print(idx)\n",
    "    movie_id = id_map.loc[title]['movieId']\n",
    "    \n",
    "    sim_scores = list(enumerate(cosine_sim[int(idx)]))\n",
    "    sim_scores = sorted(sim_scores, key=lambda x: x[1], reverse=True)\n",
    "    sim_scores = sim_scores[1:26]\n",
    "    movie_indices = [i[0] for i in sim_scores]\n",
    "    \n",
    "    movies = smd_2.iloc[movie_indices][['title', 'vote_count', 'vote_average', 'year', 'id']]\n",
    "    movies['est'] = movies['id'].apply(lambda x: svd.predict(userId, indices_map.loc[x]['movieId']).est)\n",
    "    movies = movies.sort_values('est', ascending=False)\n",
    "    return movies.head(recommendations_num)"
   ]
  },
  {
   "cell_type": "code",
   "execution_count": 179,
   "metadata": {},
   "outputs": [
    {
     "data": {
      "text/html": [
       "<div>\n",
       "<style scoped>\n",
       "    .dataframe tbody tr th:only-of-type {\n",
       "        vertical-align: middle;\n",
       "    }\n",
       "\n",
       "    .dataframe tbody tr th {\n",
       "        vertical-align: top;\n",
       "    }\n",
       "\n",
       "    .dataframe thead th {\n",
       "        text-align: right;\n",
       "    }\n",
       "</style>\n",
       "<table border=\"1\" class=\"dataframe\">\n",
       "  <thead>\n",
       "    <tr style=\"text-align: right;\">\n",
       "      <th></th>\n",
       "      <th>title</th>\n",
       "      <th>vote_count</th>\n",
       "      <th>vote_average</th>\n",
       "      <th>year</th>\n",
       "      <th>id</th>\n",
       "      <th>est</th>\n",
       "    </tr>\n",
       "  </thead>\n",
       "  <tbody>\n",
       "    <tr>\n",
       "      <th>522</th>\n",
       "      <td>Terminator 2: Judgment Day</td>\n",
       "      <td>4274.0</td>\n",
       "      <td>7.7</td>\n",
       "      <td>1991</td>\n",
       "      <td>280</td>\n",
       "      <td>3.279516</td>\n",
       "    </tr>\n",
       "    <tr>\n",
       "      <th>953</th>\n",
       "      <td>Aliens</td>\n",
       "      <td>3282.0</td>\n",
       "      <td>7.7</td>\n",
       "      <td>1986</td>\n",
       "      <td>679</td>\n",
       "      <td>3.261633</td>\n",
       "    </tr>\n",
       "    <tr>\n",
       "      <th>8546</th>\n",
       "      <td>X-Men: Days of Future Past</td>\n",
       "      <td>6155.0</td>\n",
       "      <td>7.5</td>\n",
       "      <td>2014</td>\n",
       "      <td>127585</td>\n",
       "      <td>3.083454</td>\n",
       "    </tr>\n",
       "    <tr>\n",
       "      <th>990</th>\n",
       "      <td>The Terminator</td>\n",
       "      <td>4208.0</td>\n",
       "      <td>7.4</td>\n",
       "      <td>1984</td>\n",
       "      <td>218</td>\n",
       "      <td>3.062092</td>\n",
       "    </tr>\n",
       "    <tr>\n",
       "      <th>2813</th>\n",
       "      <td>Predator</td>\n",
       "      <td>2129.0</td>\n",
       "      <td>7.3</td>\n",
       "      <td>1987</td>\n",
       "      <td>106</td>\n",
       "      <td>2.929975</td>\n",
       "    </tr>\n",
       "    <tr>\n",
       "      <th>8289</th>\n",
       "      <td>Star Trek Into Darkness</td>\n",
       "      <td>4479.0</td>\n",
       "      <td>7.4</td>\n",
       "      <td>2013</td>\n",
       "      <td>54138</td>\n",
       "      <td>2.889360</td>\n",
       "    </tr>\n",
       "    <tr>\n",
       "      <th>3039</th>\n",
       "      <td>Sinbad and the Eye of the Tiger</td>\n",
       "      <td>39.0</td>\n",
       "      <td>6.3</td>\n",
       "      <td>1977</td>\n",
       "      <td>11940</td>\n",
       "      <td>2.836250</td>\n",
       "    </tr>\n",
       "    <tr>\n",
       "      <th>901</th>\n",
       "      <td>The Abyss</td>\n",
       "      <td>822.0</td>\n",
       "      <td>7.1</td>\n",
       "      <td>1989</td>\n",
       "      <td>2756</td>\n",
       "      <td>2.809800</td>\n",
       "    </tr>\n",
       "    <tr>\n",
       "      <th>7181</th>\n",
       "      <td>Dragonball Evolution</td>\n",
       "      <td>475.0</td>\n",
       "      <td>2.9</td>\n",
       "      <td>2009</td>\n",
       "      <td>14164</td>\n",
       "      <td>2.768198</td>\n",
       "    </tr>\n",
       "    <tr>\n",
       "      <th>1647</th>\n",
       "      <td>Return from Witch Mountain</td>\n",
       "      <td>38.0</td>\n",
       "      <td>5.6</td>\n",
       "      <td>1978</td>\n",
       "      <td>14822</td>\n",
       "      <td>2.713337</td>\n",
       "    </tr>\n",
       "  </tbody>\n",
       "</table>\n",
       "</div>"
      ],
      "text/plain": [
       "                                title  vote_count  vote_average  year      id  \\\n",
       "522        Terminator 2: Judgment Day      4274.0           7.7  1991     280   \n",
       "953                            Aliens      3282.0           7.7  1986     679   \n",
       "8546       X-Men: Days of Future Past      6155.0           7.5  2014  127585   \n",
       "990                    The Terminator      4208.0           7.4  1984     218   \n",
       "2813                         Predator      2129.0           7.3  1987     106   \n",
       "8289          Star Trek Into Darkness      4479.0           7.4  2013   54138   \n",
       "3039  Sinbad and the Eye of the Tiger        39.0           6.3  1977   11940   \n",
       "901                         The Abyss       822.0           7.1  1989    2756   \n",
       "7181             Dragonball Evolution       475.0           2.9  2009   14164   \n",
       "1647       Return from Witch Mountain        38.0           5.6  1978   14822   \n",
       "\n",
       "           est  \n",
       "522   3.279516  \n",
       "953   3.261633  \n",
       "8546  3.083454  \n",
       "990   3.062092  \n",
       "2813  2.929975  \n",
       "8289  2.889360  \n",
       "3039  2.836250  \n",
       "901   2.809800  \n",
       "7181  2.768198  \n",
       "1647  2.713337  "
      ]
     },
     "execution_count": 179,
     "metadata": {},
     "output_type": "execute_result"
    }
   ],
   "source": [
    "hybrid(1, 'Avatar', combine_cosine_sim) # combine_cosine_sim ,cosine_sim_1 ,cosine_sim_2"
   ]
  },
  {
   "cell_type": "code",
   "execution_count": 180,
   "metadata": {},
   "outputs": [
    {
     "data": {
      "text/html": [
       "<div>\n",
       "<style scoped>\n",
       "    .dataframe tbody tr th:only-of-type {\n",
       "        vertical-align: middle;\n",
       "    }\n",
       "\n",
       "    .dataframe tbody tr th {\n",
       "        vertical-align: top;\n",
       "    }\n",
       "\n",
       "    .dataframe thead th {\n",
       "        text-align: right;\n",
       "    }\n",
       "</style>\n",
       "<table border=\"1\" class=\"dataframe\">\n",
       "  <thead>\n",
       "    <tr style=\"text-align: right;\">\n",
       "      <th></th>\n",
       "      <th>title</th>\n",
       "      <th>vote_count</th>\n",
       "      <th>vote_average</th>\n",
       "      <th>year</th>\n",
       "      <th>id</th>\n",
       "      <th>est</th>\n",
       "    </tr>\n",
       "  </thead>\n",
       "  <tbody>\n",
       "    <tr>\n",
       "      <th>2058</th>\n",
       "      <td>The Matrix</td>\n",
       "      <td>9079.0</td>\n",
       "      <td>7.9</td>\n",
       "      <td>1999</td>\n",
       "      <td>603</td>\n",
       "      <td>3.510940</td>\n",
       "    </tr>\n",
       "    <tr>\n",
       "      <th>7193</th>\n",
       "      <td>Moon</td>\n",
       "      <td>1831.0</td>\n",
       "      <td>7.6</td>\n",
       "      <td>2009</td>\n",
       "      <td>17431</td>\n",
       "      <td>3.358801</td>\n",
       "    </tr>\n",
       "    <tr>\n",
       "      <th>6102</th>\n",
       "      <td>A Trip to the Moon</td>\n",
       "      <td>314.0</td>\n",
       "      <td>7.9</td>\n",
       "      <td>1902</td>\n",
       "      <td>775</td>\n",
       "      <td>3.324162</td>\n",
       "    </tr>\n",
       "    <tr>\n",
       "      <th>975</th>\n",
       "      <td>A Grand Day Out</td>\n",
       "      <td>199.0</td>\n",
       "      <td>7.4</td>\n",
       "      <td>1990</td>\n",
       "      <td>530</td>\n",
       "      <td>3.197078</td>\n",
       "    </tr>\n",
       "    <tr>\n",
       "      <th>1897</th>\n",
       "      <td>A Simple Plan</td>\n",
       "      <td>191.0</td>\n",
       "      <td>6.9</td>\n",
       "      <td>1998</td>\n",
       "      <td>10223</td>\n",
       "      <td>2.882052</td>\n",
       "    </tr>\n",
       "    <tr>\n",
       "      <th>5228</th>\n",
       "      <td>Ambush</td>\n",
       "      <td>13.0</td>\n",
       "      <td>6.3</td>\n",
       "      <td>1999</td>\n",
       "      <td>49320</td>\n",
       "      <td>2.823538</td>\n",
       "    </tr>\n",
       "    <tr>\n",
       "      <th>3359</th>\n",
       "      <td>The Dish</td>\n",
       "      <td>62.0</td>\n",
       "      <td>6.6</td>\n",
       "      <td>2000</td>\n",
       "      <td>5257</td>\n",
       "      <td>2.820446</td>\n",
       "    </tr>\n",
       "    <tr>\n",
       "      <th>2853</th>\n",
       "      <td>The Hidden</td>\n",
       "      <td>85.0</td>\n",
       "      <td>6.7</td>\n",
       "      <td>1987</td>\n",
       "      <td>12476</td>\n",
       "      <td>2.797140</td>\n",
       "    </tr>\n",
       "    <tr>\n",
       "      <th>2909</th>\n",
       "      <td>Pandora and the Flying Dutchman</td>\n",
       "      <td>19.0</td>\n",
       "      <td>6.5</td>\n",
       "      <td>1951</td>\n",
       "      <td>38688</td>\n",
       "      <td>2.788307</td>\n",
       "    </tr>\n",
       "    <tr>\n",
       "      <th>4803</th>\n",
       "      <td>Avalon</td>\n",
       "      <td>93.0</td>\n",
       "      <td>6.8</td>\n",
       "      <td>2001</td>\n",
       "      <td>10881</td>\n",
       "      <td>2.781749</td>\n",
       "    </tr>\n",
       "  </tbody>\n",
       "</table>\n",
       "</div>"
      ],
      "text/plain": [
       "                                title  vote_count  vote_average  year     id  \\\n",
       "2058                       The Matrix      9079.0           7.9  1999    603   \n",
       "7193                             Moon      1831.0           7.6  2009  17431   \n",
       "6102               A Trip to the Moon       314.0           7.9  1902    775   \n",
       "975                   A Grand Day Out       199.0           7.4  1990    530   \n",
       "1897                    A Simple Plan       191.0           6.9  1998  10223   \n",
       "5228                           Ambush        13.0           6.3  1999  49320   \n",
       "3359                         The Dish        62.0           6.6  2000   5257   \n",
       "2853                       The Hidden        85.0           6.7  1987  12476   \n",
       "2909  Pandora and the Flying Dutchman        19.0           6.5  1951  38688   \n",
       "4803                           Avalon        93.0           6.8  2001  10881   \n",
       "\n",
       "           est  \n",
       "2058  3.510940  \n",
       "7193  3.358801  \n",
       "6102  3.324162  \n",
       "975   3.197078  \n",
       "1897  2.882052  \n",
       "5228  2.823538  \n",
       "3359  2.820446  \n",
       "2853  2.797140  \n",
       "2909  2.788307  \n",
       "4803  2.781749  "
      ]
     },
     "execution_count": 180,
     "metadata": {},
     "output_type": "execute_result"
    }
   ],
   "source": [
    "hybrid(1, 'Avatar', cosine_sim_1)"
   ]
  },
  {
   "cell_type": "code",
   "execution_count": 181,
   "metadata": {},
   "outputs": [
    {
     "data": {
      "text/html": [
       "<div>\n",
       "<style scoped>\n",
       "    .dataframe tbody tr th:only-of-type {\n",
       "        vertical-align: middle;\n",
       "    }\n",
       "\n",
       "    .dataframe tbody tr th {\n",
       "        vertical-align: top;\n",
       "    }\n",
       "\n",
       "    .dataframe thead th {\n",
       "        text-align: right;\n",
       "    }\n",
       "</style>\n",
       "<table border=\"1\" class=\"dataframe\">\n",
       "  <thead>\n",
       "    <tr style=\"text-align: right;\">\n",
       "      <th></th>\n",
       "      <th>title</th>\n",
       "      <th>vote_count</th>\n",
       "      <th>vote_average</th>\n",
       "      <th>year</th>\n",
       "      <th>id</th>\n",
       "      <th>est</th>\n",
       "    </tr>\n",
       "  </thead>\n",
       "  <tbody>\n",
       "    <tr>\n",
       "      <th>522</th>\n",
       "      <td>Terminator 2: Judgment Day</td>\n",
       "      <td>4274.0</td>\n",
       "      <td>7.7</td>\n",
       "      <td>1991</td>\n",
       "      <td>280</td>\n",
       "      <td>3.279516</td>\n",
       "    </tr>\n",
       "    <tr>\n",
       "      <th>953</th>\n",
       "      <td>Aliens</td>\n",
       "      <td>3282.0</td>\n",
       "      <td>7.7</td>\n",
       "      <td>1986</td>\n",
       "      <td>679</td>\n",
       "      <td>3.261633</td>\n",
       "    </tr>\n",
       "    <tr>\n",
       "      <th>8546</th>\n",
       "      <td>X-Men: Days of Future Past</td>\n",
       "      <td>6155.0</td>\n",
       "      <td>7.5</td>\n",
       "      <td>2014</td>\n",
       "      <td>127585</td>\n",
       "      <td>3.083454</td>\n",
       "    </tr>\n",
       "    <tr>\n",
       "      <th>990</th>\n",
       "      <td>The Terminator</td>\n",
       "      <td>4208.0</td>\n",
       "      <td>7.4</td>\n",
       "      <td>1984</td>\n",
       "      <td>218</td>\n",
       "      <td>3.062092</td>\n",
       "    </tr>\n",
       "    <tr>\n",
       "      <th>8289</th>\n",
       "      <td>Star Trek Into Darkness</td>\n",
       "      <td>4479.0</td>\n",
       "      <td>7.4</td>\n",
       "      <td>2013</td>\n",
       "      <td>54138</td>\n",
       "      <td>2.889360</td>\n",
       "    </tr>\n",
       "    <tr>\n",
       "      <th>3039</th>\n",
       "      <td>Sinbad and the Eye of the Tiger</td>\n",
       "      <td>39.0</td>\n",
       "      <td>6.3</td>\n",
       "      <td>1977</td>\n",
       "      <td>11940</td>\n",
       "      <td>2.836250</td>\n",
       "    </tr>\n",
       "    <tr>\n",
       "      <th>901</th>\n",
       "      <td>The Abyss</td>\n",
       "      <td>822.0</td>\n",
       "      <td>7.1</td>\n",
       "      <td>1989</td>\n",
       "      <td>2756</td>\n",
       "      <td>2.809800</td>\n",
       "    </tr>\n",
       "    <tr>\n",
       "      <th>7181</th>\n",
       "      <td>Dragonball Evolution</td>\n",
       "      <td>475.0</td>\n",
       "      <td>2.9</td>\n",
       "      <td>2009</td>\n",
       "      <td>14164</td>\n",
       "      <td>2.768198</td>\n",
       "    </tr>\n",
       "    <tr>\n",
       "      <th>1600</th>\n",
       "      <td>Darby O'Gill and the Little People</td>\n",
       "      <td>35.0</td>\n",
       "      <td>6.7</td>\n",
       "      <td>1959</td>\n",
       "      <td>18887</td>\n",
       "      <td>2.753953</td>\n",
       "    </tr>\n",
       "    <tr>\n",
       "      <th>1647</th>\n",
       "      <td>Return from Witch Mountain</td>\n",
       "      <td>38.0</td>\n",
       "      <td>5.6</td>\n",
       "      <td>1978</td>\n",
       "      <td>14822</td>\n",
       "      <td>2.713337</td>\n",
       "    </tr>\n",
       "  </tbody>\n",
       "</table>\n",
       "</div>"
      ],
      "text/plain": [
       "                                   title  vote_count  vote_average  year  \\\n",
       "522           Terminator 2: Judgment Day      4274.0           7.7  1991   \n",
       "953                               Aliens      3282.0           7.7  1986   \n",
       "8546          X-Men: Days of Future Past      6155.0           7.5  2014   \n",
       "990                       The Terminator      4208.0           7.4  1984   \n",
       "8289             Star Trek Into Darkness      4479.0           7.4  2013   \n",
       "3039     Sinbad and the Eye of the Tiger        39.0           6.3  1977   \n",
       "901                            The Abyss       822.0           7.1  1989   \n",
       "7181                Dragonball Evolution       475.0           2.9  2009   \n",
       "1600  Darby O'Gill and the Little People        35.0           6.7  1959   \n",
       "1647          Return from Witch Mountain        38.0           5.6  1978   \n",
       "\n",
       "          id       est  \n",
       "522      280  3.279516  \n",
       "953      679  3.261633  \n",
       "8546  127585  3.083454  \n",
       "990      218  3.062092  \n",
       "8289   54138  2.889360  \n",
       "3039   11940  2.836250  \n",
       "901     2756  2.809800  \n",
       "7181   14164  2.768198  \n",
       "1600   18887  2.753953  \n",
       "1647   14822  2.713337  "
      ]
     },
     "execution_count": 181,
     "metadata": {},
     "output_type": "execute_result"
    }
   ],
   "source": [
    "hybrid(1, 'Avatar', cosine_sim_2)"
   ]
  },
  {
   "cell_type": "code",
   "execution_count": 182,
   "metadata": {},
   "outputs": [
    {
     "data": {
      "text/html": [
       "<div>\n",
       "<style scoped>\n",
       "    .dataframe tbody tr th:only-of-type {\n",
       "        vertical-align: middle;\n",
       "    }\n",
       "\n",
       "    .dataframe tbody tr th {\n",
       "        vertical-align: top;\n",
       "    }\n",
       "\n",
       "    .dataframe thead th {\n",
       "        text-align: right;\n",
       "    }\n",
       "</style>\n",
       "<table border=\"1\" class=\"dataframe\">\n",
       "  <thead>\n",
       "    <tr style=\"text-align: right;\">\n",
       "      <th></th>\n",
       "      <th>title</th>\n",
       "      <th>vote_count</th>\n",
       "      <th>vote_average</th>\n",
       "      <th>year</th>\n",
       "      <th>id</th>\n",
       "      <th>est</th>\n",
       "    </tr>\n",
       "  </thead>\n",
       "  <tbody>\n",
       "    <tr>\n",
       "      <th>8289</th>\n",
       "      <td>Star Trek Into Darkness</td>\n",
       "      <td>4479.0</td>\n",
       "      <td>7.4</td>\n",
       "      <td>2013</td>\n",
       "      <td>54138</td>\n",
       "      <td>3.469664</td>\n",
       "    </tr>\n",
       "    <tr>\n",
       "      <th>1355</th>\n",
       "      <td>Titanic</td>\n",
       "      <td>7770.0</td>\n",
       "      <td>7.5</td>\n",
       "      <td>1997</td>\n",
       "      <td>597</td>\n",
       "      <td>3.310940</td>\n",
       "    </tr>\n",
       "    <tr>\n",
       "      <th>3039</th>\n",
       "      <td>Sinbad and the Eye of the Tiger</td>\n",
       "      <td>39.0</td>\n",
       "      <td>6.3</td>\n",
       "      <td>1977</td>\n",
       "      <td>11940</td>\n",
       "      <td>3.286988</td>\n",
       "    </tr>\n",
       "    <tr>\n",
       "      <th>990</th>\n",
       "      <td>The Terminator</td>\n",
       "      <td>4208.0</td>\n",
       "      <td>7.4</td>\n",
       "      <td>1984</td>\n",
       "      <td>218</td>\n",
       "      <td>3.167237</td>\n",
       "    </tr>\n",
       "    <tr>\n",
       "      <th>344</th>\n",
       "      <td>True Lies</td>\n",
       "      <td>1138.0</td>\n",
       "      <td>6.8</td>\n",
       "      <td>1994</td>\n",
       "      <td>36955</td>\n",
       "      <td>3.120118</td>\n",
       "    </tr>\n",
       "    <tr>\n",
       "      <th>522</th>\n",
       "      <td>Terminator 2: Judgment Day</td>\n",
       "      <td>4274.0</td>\n",
       "      <td>7.7</td>\n",
       "      <td>1991</td>\n",
       "      <td>280</td>\n",
       "      <td>2.990670</td>\n",
       "    </tr>\n",
       "    <tr>\n",
       "      <th>4910</th>\n",
       "      <td>Hercules in New York</td>\n",
       "      <td>63.0</td>\n",
       "      <td>3.7</td>\n",
       "      <td>1969</td>\n",
       "      <td>5227</td>\n",
       "      <td>2.984687</td>\n",
       "    </tr>\n",
       "    <tr>\n",
       "      <th>8546</th>\n",
       "      <td>X-Men: Days of Future Past</td>\n",
       "      <td>6155.0</td>\n",
       "      <td>7.5</td>\n",
       "      <td>2014</td>\n",
       "      <td>127585</td>\n",
       "      <td>2.981821</td>\n",
       "    </tr>\n",
       "    <tr>\n",
       "      <th>901</th>\n",
       "      <td>The Abyss</td>\n",
       "      <td>822.0</td>\n",
       "      <td>7.1</td>\n",
       "      <td>1989</td>\n",
       "      <td>2756</td>\n",
       "      <td>2.963193</td>\n",
       "    </tr>\n",
       "    <tr>\n",
       "      <th>1647</th>\n",
       "      <td>Return from Witch Mountain</td>\n",
       "      <td>38.0</td>\n",
       "      <td>5.6</td>\n",
       "      <td>1978</td>\n",
       "      <td>14822</td>\n",
       "      <td>2.954569</td>\n",
       "    </tr>\n",
       "  </tbody>\n",
       "</table>\n",
       "</div>"
      ],
      "text/plain": [
       "                                title  vote_count  vote_average  year      id  \\\n",
       "8289          Star Trek Into Darkness      4479.0           7.4  2013   54138   \n",
       "1355                          Titanic      7770.0           7.5  1997     597   \n",
       "3039  Sinbad and the Eye of the Tiger        39.0           6.3  1977   11940   \n",
       "990                    The Terminator      4208.0           7.4  1984     218   \n",
       "344                         True Lies      1138.0           6.8  1994   36955   \n",
       "522        Terminator 2: Judgment Day      4274.0           7.7  1991     280   \n",
       "4910             Hercules in New York        63.0           3.7  1969    5227   \n",
       "8546       X-Men: Days of Future Past      6155.0           7.5  2014  127585   \n",
       "901                         The Abyss       822.0           7.1  1989    2756   \n",
       "1647       Return from Witch Mountain        38.0           5.6  1978   14822   \n",
       "\n",
       "           est  \n",
       "8289  3.469664  \n",
       "1355  3.310940  \n",
       "3039  3.286988  \n",
       "990   3.167237  \n",
       "344   3.120118  \n",
       "522   2.990670  \n",
       "4910  2.984687  \n",
       "8546  2.981821  \n",
       "901   2.963193  \n",
       "1647  2.954569  "
      ]
     },
     "execution_count": 182,
     "metadata": {},
     "output_type": "execute_result"
    }
   ],
   "source": [
    "hybrid(500, 'Avatar', cosine_sim_2)"
   ]
  },
  {
   "cell_type": "markdown",
   "metadata": {},
   "source": [
    "# **Softmax DNN**"
   ]
  },
  {
   "cell_type": "code",
   "execution_count": 212,
   "metadata": {},
   "outputs": [
    {
     "name": "stdout",
     "output_type": "stream",
     "text": [
      "Shape of the links_small dataframe: (9112, 2)\n"
     ]
    }
   ],
   "source": [
    "links_small = pd.read_csv('The Movies Dataset/links_small.csv')\n",
    "\n",
    "links_small.rename(columns={'tmdbId': 'id'}, inplace=True)\n",
    "links_small.drop(columns=['imdbId'], inplace=True)\n",
    "links_small.dropna(inplace=True)\n",
    "links_small.drop_duplicates(inplace=True)\n",
    "links_small.drop_duplicates(subset = ['id'] ,inplace=True)\n",
    "\n",
    "links_small['id'] = links_small['id'].astype('int')\n",
    "\n",
    "print(f'Shape of the links_small dataframe: {links_small.shape}')"
   ]
  },
  {
   "cell_type": "code",
   "execution_count": 213,
   "metadata": {},
   "outputs": [
    {
     "name": "stdout",
     "output_type": "stream",
     "text": [
      "Shape of the links_small dataframe: (99933, 4)\n"
     ]
    }
   ],
   "source": [
    "ratings = pd.read_csv('The Movies Dataset/ratings_small.csv')\n",
    "ratings = ratings.merge(links_small, on='movieId')\n",
    "\n",
    "ratings = ratings[['userId', 'id', 'rating', 'timestamp']]\n",
    "\n",
    "ratings.dropna(inplace=True)\n",
    "ratings.drop_duplicates(inplace=True)\n",
    "\n",
    "print(f'Shape of the links_small dataframe: {ratings.shape}')"
   ]
  },
  {
   "cell_type": "code",
   "execution_count": 214,
   "metadata": {},
   "outputs": [
    {
     "name": "stdout",
     "output_type": "stream",
     "text": [
      "Shape of the movies_with_ratings dataframe: (99810, 25)\n"
     ]
    },
    {
     "data": {
      "text/html": [
       "<div>\n",
       "<style scoped>\n",
       "    .dataframe tbody tr th:only-of-type {\n",
       "        vertical-align: middle;\n",
       "    }\n",
       "\n",
       "    .dataframe tbody tr th {\n",
       "        vertical-align: top;\n",
       "    }\n",
       "\n",
       "    .dataframe thead th {\n",
       "        text-align: right;\n",
       "    }\n",
       "</style>\n",
       "<table border=\"1\" class=\"dataframe\">\n",
       "  <thead>\n",
       "    <tr style=\"text-align: right;\">\n",
       "      <th></th>\n",
       "      <th>imdb_id</th>\n",
       "      <th>id</th>\n",
       "      <th>title</th>\n",
       "      <th>year</th>\n",
       "      <th>genres</th>\n",
       "      <th>vote_average</th>\n",
       "      <th>vote_count</th>\n",
       "      <th>popularity</th>\n",
       "      <th>budget</th>\n",
       "      <th>revenue</th>\n",
       "      <th>...</th>\n",
       "      <th>actor</th>\n",
       "      <th>character</th>\n",
       "      <th>cast_size</th>\n",
       "      <th>crew_size</th>\n",
       "      <th>overview</th>\n",
       "      <th>tagline</th>\n",
       "      <th>keywords</th>\n",
       "      <th>userId</th>\n",
       "      <th>rating</th>\n",
       "      <th>timestamp</th>\n",
       "    </tr>\n",
       "  </thead>\n",
       "  <tbody>\n",
       "    <tr>\n",
       "      <th>0</th>\n",
       "      <td>tt0114709</td>\n",
       "      <td>862</td>\n",
       "      <td>Toy Story</td>\n",
       "      <td>1995.0</td>\n",
       "      <td>[Animation, Comedy, Family]</td>\n",
       "      <td>7.7</td>\n",
       "      <td>5415.0</td>\n",
       "      <td>21.946943</td>\n",
       "      <td>30000000.0</td>\n",
       "      <td>373554033.0</td>\n",
       "      <td>...</td>\n",
       "      <td>[Tom Hanks, Tim Allen, Don Rickles]</td>\n",
       "      <td>[Woody (voice), Buzz Lightyear (voice), Mr. Po...</td>\n",
       "      <td>13</td>\n",
       "      <td>106</td>\n",
       "      <td>Led by Woody, Andy's toys live happily in his ...</td>\n",
       "      <td></td>\n",
       "      <td>[jealousy, toy, boy, friendship, friends, riva...</td>\n",
       "      <td>7</td>\n",
       "      <td>3.0</td>\n",
       "      <td>851866703</td>\n",
       "    </tr>\n",
       "  </tbody>\n",
       "</table>\n",
       "<p>1 rows × 25 columns</p>\n",
       "</div>"
      ],
      "text/plain": [
       "     imdb_id   id      title    year                       genres  \\\n",
       "0  tt0114709  862  Toy Story  1995.0  [Animation, Comedy, Family]   \n",
       "\n",
       "   vote_average  vote_count  popularity      budget      revenue  ...  \\\n",
       "0           7.7      5415.0   21.946943  30000000.0  373554033.0  ...   \n",
       "\n",
       "                                 actor  \\\n",
       "0  [Tom Hanks, Tim Allen, Don Rickles]   \n",
       "\n",
       "                                           character  cast_size crew_size  \\\n",
       "0  [Woody (voice), Buzz Lightyear (voice), Mr. Po...         13       106   \n",
       "\n",
       "                                            overview tagline  \\\n",
       "0  Led by Woody, Andy's toys live happily in his ...           \n",
       "\n",
       "                                            keywords  userId  rating  \\\n",
       "0  [jealousy, toy, boy, friendship, friends, riva...       7     3.0   \n",
       "\n",
       "   timestamp  \n",
       "0  851866703  \n",
       "\n",
       "[1 rows x 25 columns]"
      ]
     },
     "execution_count": 214,
     "metadata": {},
     "output_type": "execute_result"
    }
   ],
   "source": [
    "merged_rating_dataset = movies_df.merge(ratings, on='id')\n",
    "\n",
    "print(f'Shape of the movies_with_ratings dataframe: {merged_rating_dataset.shape}')\n",
    "\n",
    "merged_rating_dataset.head(1)"
   ]
  },
  {
   "cell_type": "code",
   "execution_count": 215,
   "metadata": {},
   "outputs": [
    {
     "name": "stdout",
     "output_type": "stream",
     "text": [
      "Shape of the movies_with_ratings dataframe: (99470, 3)\n"
     ]
    },
    {
     "data": {
      "text/html": [
       "<div>\n",
       "<style scoped>\n",
       "    .dataframe tbody tr th:only-of-type {\n",
       "        vertical-align: middle;\n",
       "    }\n",
       "\n",
       "    .dataframe tbody tr th {\n",
       "        vertical-align: top;\n",
       "    }\n",
       "\n",
       "    .dataframe thead th {\n",
       "        text-align: right;\n",
       "    }\n",
       "</style>\n",
       "<table border=\"1\" class=\"dataframe\">\n",
       "  <thead>\n",
       "    <tr style=\"text-align: right;\">\n",
       "      <th></th>\n",
       "      <th>user id</th>\n",
       "      <th>movie title</th>\n",
       "      <th>rating</th>\n",
       "    </tr>\n",
       "  </thead>\n",
       "  <tbody>\n",
       "    <tr>\n",
       "      <th>0</th>\n",
       "      <td>1</td>\n",
       "      <td>Antz</td>\n",
       "      <td>2.0</td>\n",
       "    </tr>\n",
       "    <tr>\n",
       "      <th>1</th>\n",
       "      <td>1</td>\n",
       "      <td>Beavis and Butt-Head Do America</td>\n",
       "      <td>1.0</td>\n",
       "    </tr>\n",
       "    <tr>\n",
       "      <th>2</th>\n",
       "      <td>1</td>\n",
       "      <td>Ben-Hur</td>\n",
       "      <td>2.0</td>\n",
       "    </tr>\n",
       "  </tbody>\n",
       "</table>\n",
       "</div>"
      ],
      "text/plain": [
       "   user id                      movie title  rating\n",
       "0        1                             Antz     2.0\n",
       "1        1  Beavis and Butt-Head Do America     1.0\n",
       "2        1                          Ben-Hur     2.0"
      ]
     },
     "execution_count": 215,
     "metadata": {},
     "output_type": "execute_result"
    }
   ],
   "source": [
    "refined_dataset = merged_rating_dataset[['userId', 'title', 'rating']]\n",
    "refined_dataset = refined_dataset.rename(columns={'userId':'user id', 'title':'movie title'})\n",
    "\n",
    "refined_dataset = refined_dataset.groupby(by=['user id','movie title'], as_index=False).agg({\"rating\":\"mean\"})\n",
    "\n",
    "\n",
    "print(f'Shape of the movies_with_ratings dataframe: {refined_dataset.shape}')\n",
    "\n",
    "refined_dataset.head(3)"
   ]
  },
  {
   "cell_type": "markdown",
   "metadata": {},
   "source": [
    "## Encoding users and movie titles to make sure that the sequence has no missing values when dealing with Deep Neural Networks."
   ]
  },
  {
   "cell_type": "code",
   "execution_count": 216,
   "metadata": {},
   "outputs": [],
   "source": [
    "user_enc = LabelEncoder()\n",
    "refined_dataset['user'] = user_enc.fit_transform(refined_dataset['user id'].values)\n",
    "n_users = refined_dataset['user'].nunique()"
   ]
  },
  {
   "cell_type": "code",
   "execution_count": 217,
   "metadata": {},
   "outputs": [],
   "source": [
    "item_enc = LabelEncoder()\n",
    "refined_dataset['movie'] = item_enc.fit_transform(refined_dataset['movie title'].values)\n",
    "n_movies = refined_dataset['movie'].nunique()"
   ]
  },
  {
   "cell_type": "code",
   "execution_count": 218,
   "metadata": {},
   "outputs": [
    {
     "data": {
      "text/plain": [
       "(671, 8754, 0.5, 5.0)"
      ]
     },
     "execution_count": 218,
     "metadata": {},
     "output_type": "execute_result"
    }
   ],
   "source": [
    "refined_dataset['rating'] = refined_dataset['rating'].values.astype(np.float32)\n",
    "min_rating = min(refined_dataset['rating'])\n",
    "max_rating = max(refined_dataset['rating'])\n",
    "n_users, n_movies, min_rating, max_rating"
   ]
  },
  {
   "cell_type": "code",
   "execution_count": 219,
   "metadata": {},
   "outputs": [
    {
     "data": {
      "text/html": [
       "<div>\n",
       "<style scoped>\n",
       "    .dataframe tbody tr th:only-of-type {\n",
       "        vertical-align: middle;\n",
       "    }\n",
       "\n",
       "    .dataframe tbody tr th {\n",
       "        vertical-align: top;\n",
       "    }\n",
       "\n",
       "    .dataframe thead th {\n",
       "        text-align: right;\n",
       "    }\n",
       "</style>\n",
       "<table border=\"1\" class=\"dataframe\">\n",
       "  <thead>\n",
       "    <tr style=\"text-align: right;\">\n",
       "      <th></th>\n",
       "      <th>user id</th>\n",
       "      <th>movie title</th>\n",
       "      <th>rating</th>\n",
       "      <th>user</th>\n",
       "      <th>movie</th>\n",
       "    </tr>\n",
       "  </thead>\n",
       "  <tbody>\n",
       "    <tr>\n",
       "      <th>0</th>\n",
       "      <td>1</td>\n",
       "      <td>Antz</td>\n",
       "      <td>2.0</td>\n",
       "      <td>0</td>\n",
       "      <td>546</td>\n",
       "    </tr>\n",
       "    <tr>\n",
       "      <th>1</th>\n",
       "      <td>1</td>\n",
       "      <td>Beavis and Butt-Head Do America</td>\n",
       "      <td>1.0</td>\n",
       "      <td>0</td>\n",
       "      <td>792</td>\n",
       "    </tr>\n",
       "    <tr>\n",
       "      <th>2</th>\n",
       "      <td>1</td>\n",
       "      <td>Ben-Hur</td>\n",
       "      <td>2.0</td>\n",
       "      <td>0</td>\n",
       "      <td>835</td>\n",
       "    </tr>\n",
       "    <tr>\n",
       "      <th>3</th>\n",
       "      <td>1</td>\n",
       "      <td>Blazing Saddles</td>\n",
       "      <td>3.0</td>\n",
       "      <td>0</td>\n",
       "      <td>964</td>\n",
       "    </tr>\n",
       "    <tr>\n",
       "      <th>4</th>\n",
       "      <td>1</td>\n",
       "      <td>Cape Fear</td>\n",
       "      <td>2.0</td>\n",
       "      <td>0</td>\n",
       "      <td>1237</td>\n",
       "    </tr>\n",
       "  </tbody>\n",
       "</table>\n",
       "</div>"
      ],
      "text/plain": [
       "   user id                      movie title  rating  user  movie\n",
       "0        1                             Antz     2.0     0    546\n",
       "1        1  Beavis and Butt-Head Do America     1.0     0    792\n",
       "2        1                          Ben-Hur     2.0     0    835\n",
       "3        1                  Blazing Saddles     3.0     0    964\n",
       "4        1                        Cape Fear     2.0     0   1237"
      ]
     },
     "execution_count": 219,
     "metadata": {},
     "output_type": "execute_result"
    }
   ],
   "source": [
    "refined_dataset.head()"
   ]
  },
  {
   "cell_type": "markdown",
   "metadata": {},
   "source": [
    "## Splitting the data into training and testing"
   ]
  },
  {
   "cell_type": "code",
   "execution_count": 220,
   "metadata": {},
   "outputs": [
    {
     "data": {
      "text/plain": [
       "((89523, 2), (9947, 2), (89523,), (9947,))"
      ]
     },
     "execution_count": 220,
     "metadata": {},
     "output_type": "execute_result"
    }
   ],
   "source": [
    "from sklearn.model_selection import train_test_split\n",
    "\n",
    "X = refined_dataset[['user', 'movie']].values\n",
    "y = refined_dataset['rating'].values\n",
    "X_train, X_test, y_train, y_test = train_test_split(X, y, test_size=0.1, random_state=50)\n",
    "X_train.shape, X_test.shape, y_train.shape, y_test.shape"
   ]
  },
  {
   "cell_type": "markdown",
   "metadata": {},
   "source": [
    "## Defining number of factors which are to be considered by the Embedding layer"
   ]
  },
  {
   "cell_type": "code",
   "execution_count": 221,
   "metadata": {},
   "outputs": [],
   "source": [
    "n_factors = 150"
   ]
  },
  {
   "cell_type": "markdown",
   "metadata": {},
   "source": [
    "Columns in the input array are split into two separate arrays. As Keras considers them as two distinct inputs, each input needs to be fed in as its own array."
   ]
  },
  {
   "cell_type": "code",
   "execution_count": 222,
   "metadata": {},
   "outputs": [],
   "source": [
    "X_train_array = [X_train[:, 0], X_train[:, 1]]\n",
    "X_test_array = [X_test[:, 0], X_test[:, 1]]"
   ]
  },
  {
   "cell_type": "code",
   "execution_count": 223,
   "metadata": {},
   "outputs": [
    {
     "data": {
      "text/plain": [
       "(array([[ 354, 6191],\n",
       "        [ 545, 7188],\n",
       "        [ 558, 4079],\n",
       "        ...,\n",
       "        [ 354, 7302],\n",
       "        [ 158, 5502],\n",
       "        [  91, 3680]], dtype=int64),\n",
       " [array([354, 545, 558, ..., 354, 158,  91], dtype=int64),\n",
       "  array([6191, 7188, 4079, ..., 7302, 5502, 3680], dtype=int64)],\n",
       " (89523,))"
      ]
     },
     "execution_count": 223,
     "metadata": {},
     "output_type": "execute_result"
    }
   ],
   "source": [
    "X_train, X_train_array, X_train_array[0].shape"
   ]
  },
  {
   "cell_type": "markdown",
   "metadata": {},
   "source": [
    "## Normalizing the labels"
   ]
  },
  {
   "cell_type": "code",
   "execution_count": 224,
   "metadata": {},
   "outputs": [],
   "source": [
    "y_train = (y_train - min_rating)/(max_rating - min_rating)\n",
    "y_test = (y_test - min_rating)/(max_rating - min_rating)"
   ]
  },
  {
   "cell_type": "markdown",
   "metadata": {},
   "source": [
    "## Building a Softmax Deep Neural Network"
   ]
  },
  {
   "cell_type": "code",
   "execution_count": 229,
   "metadata": {},
   "outputs": [],
   "source": [
    "# Initializing a input layer for users\n",
    "user = tf.keras.layers.Input(shape = (1,))\n",
    "\n",
    "# Embedding layer for n_factors of users\n",
    "u = keras.layers.Embedding(n_users, n_factors, \n",
    "                            embeddings_initializer='he_normal', \n",
    "                            embeddings_regularizer=tf.keras.regularizers.l2(1e-6))(user)\n",
    "u = tf.keras.layers.Reshape((n_factors,))(u)\n",
    "\n",
    "# Initializing a input layer for movies\n",
    "movie = tf.keras.layers.Input(shape = (1,))\n",
    "\n",
    "# Embedding layer for n_factors of movies\n",
    "m = keras.layers.Embedding(n_movies, n_factors, \n",
    "                            embeddings_initializer='he_normal', \n",
    "                            embeddings_regularizer=tf.keras.regularizers.l2(1e-6))(movie)\n",
    "m = tf.keras.layers.Reshape((n_factors,))(m)\n",
    "\n",
    "## stacking up both user and movie embeddings\n",
    "x = tf.keras.layers.Concatenate()([u,m])\n",
    "x = tf.keras.layers.Dropout(0.05)(x)\n",
    "\n",
    "## Adding a Dense layer to the architecture\n",
    "x = tf.keras.layers.Dense(32, kernel_initializer='he_normal')(x)\n",
    "x = tf.keras.layers.Activation(activation='relu')(x)\n",
    "x = tf.keras.layers.Dropout(0.05)(x)\n",
    "\n",
    "x = tf.keras.layers.Dense(16, kernel_initializer='he_normal')(x)\n",
    "x = tf.keras.layers.Activation(activation='relu')(x)\n",
    "x = tf.keras.layers.Dropout(0.05)(x)\n",
    "\n",
    "## Adding an Output layer with Sigmoid activation funtion which gives output between 0 and 1\n",
    "x = tf.keras.layers.Dense(9)(x)\n",
    "x = tf.keras.layers.Activation(activation='softmax')(x)\n",
    "\n",
    "## Adding a Lambda layer to convert the output to rating by scaling it with the help of available rating information\n",
    "# x = tf.keras.layers.Lambda(lambda x: x*(max_rating - min_rating) + min_rating)(x)\n",
    "\n",
    "## Defining the model\n",
    "model = tf.keras.models.Model(inputs=[user,movie], outputs=x)\n",
    "# optimizer = tf.keras.optimizers.Adam(lr=0.001)\n",
    "# optimizer = tf.keras.optimizers.RMSprop(learning_rate=0.005,\n",
    "    # rho=0.9, momentum=0.01, epsilon=1e-07)\n",
    "\n",
    "## Compiling the model\n",
    "# model.compile(loss='binary_crossentropy', optimizer = optimizer)\n",
    "# model.compile(loss='mean_squared_error', optimizer = optimizer,metrics=['accuracy'])\n",
    "model.compile(optimizer='sgd', loss=tf.keras.losses.SparseCategoricalCrossentropy(), metrics=['accuracy'])\n"
   ]
  },
  {
   "cell_type": "code",
   "execution_count": 230,
   "metadata": {},
   "outputs": [
    {
     "data": {
      "text/html": [
       "<pre style=\"white-space:pre;overflow-x:auto;line-height:normal;font-family:Menlo,'DejaVu Sans Mono',consolas,'Courier New',monospace\"><span style=\"font-weight: bold\">Model: \"functional\"</span>\n",
       "</pre>\n"
      ],
      "text/plain": [
       "\u001b[1mModel: \"functional\"\u001b[0m\n"
      ]
     },
     "metadata": {},
     "output_type": "display_data"
    },
    {
     "data": {
      "text/html": [
       "<pre style=\"white-space:pre;overflow-x:auto;line-height:normal;font-family:Menlo,'DejaVu Sans Mono',consolas,'Courier New',monospace\">┏━━━━━━━━━━━━━━━━━━━━━┳━━━━━━━━━━━━━━━━━━━┳━━━━━━━━━━━━┳━━━━━━━━━━━━━━━━━━━┓\n",
       "┃<span style=\"font-weight: bold\"> Layer (type)        </span>┃<span style=\"font-weight: bold\"> Output Shape      </span>┃<span style=\"font-weight: bold\">    Param # </span>┃<span style=\"font-weight: bold\"> Connected to      </span>┃\n",
       "┡━━━━━━━━━━━━━━━━━━━━━╇━━━━━━━━━━━━━━━━━━━╇━━━━━━━━━━━━╇━━━━━━━━━━━━━━━━━━━┩\n",
       "│ input_layer_2       │ (<span style=\"color: #00d7ff; text-decoration-color: #00d7ff\">None</span>, <span style=\"color: #00af00; text-decoration-color: #00af00\">1</span>)         │          <span style=\"color: #00af00; text-decoration-color: #00af00\">0</span> │ -                 │\n",
       "│ (<span style=\"color: #0087ff; text-decoration-color: #0087ff\">InputLayer</span>)        │                   │            │                   │\n",
       "├─────────────────────┼───────────────────┼────────────┼───────────────────┤\n",
       "│ input_layer_3       │ (<span style=\"color: #00d7ff; text-decoration-color: #00d7ff\">None</span>, <span style=\"color: #00af00; text-decoration-color: #00af00\">1</span>)         │          <span style=\"color: #00af00; text-decoration-color: #00af00\">0</span> │ -                 │\n",
       "│ (<span style=\"color: #0087ff; text-decoration-color: #0087ff\">InputLayer</span>)        │                   │            │                   │\n",
       "├─────────────────────┼───────────────────┼────────────┼───────────────────┤\n",
       "│ embedding           │ (<span style=\"color: #00d7ff; text-decoration-color: #00d7ff\">None</span>, <span style=\"color: #00af00; text-decoration-color: #00af00\">1</span>, <span style=\"color: #00af00; text-decoration-color: #00af00\">150</span>)    │    <span style=\"color: #00af00; text-decoration-color: #00af00\">100,650</span> │ input_layer_2[<span style=\"color: #00af00; text-decoration-color: #00af00\">0</span>]… │\n",
       "│ (<span style=\"color: #0087ff; text-decoration-color: #0087ff\">Embedding</span>)         │                   │            │                   │\n",
       "├─────────────────────┼───────────────────┼────────────┼───────────────────┤\n",
       "│ embedding_1         │ (<span style=\"color: #00d7ff; text-decoration-color: #00d7ff\">None</span>, <span style=\"color: #00af00; text-decoration-color: #00af00\">1</span>, <span style=\"color: #00af00; text-decoration-color: #00af00\">150</span>)    │  <span style=\"color: #00af00; text-decoration-color: #00af00\">1,313,100</span> │ input_layer_3[<span style=\"color: #00af00; text-decoration-color: #00af00\">0</span>]… │\n",
       "│ (<span style=\"color: #0087ff; text-decoration-color: #0087ff\">Embedding</span>)         │                   │            │                   │\n",
       "├─────────────────────┼───────────────────┼────────────┼───────────────────┤\n",
       "│ reshape (<span style=\"color: #0087ff; text-decoration-color: #0087ff\">Reshape</span>)   │ (<span style=\"color: #00d7ff; text-decoration-color: #00d7ff\">None</span>, <span style=\"color: #00af00; text-decoration-color: #00af00\">150</span>)       │          <span style=\"color: #00af00; text-decoration-color: #00af00\">0</span> │ embedding[<span style=\"color: #00af00; text-decoration-color: #00af00\">0</span>][<span style=\"color: #00af00; text-decoration-color: #00af00\">0</span>]   │\n",
       "├─────────────────────┼───────────────────┼────────────┼───────────────────┤\n",
       "│ reshape_1 (<span style=\"color: #0087ff; text-decoration-color: #0087ff\">Reshape</span>) │ (<span style=\"color: #00d7ff; text-decoration-color: #00d7ff\">None</span>, <span style=\"color: #00af00; text-decoration-color: #00af00\">150</span>)       │          <span style=\"color: #00af00; text-decoration-color: #00af00\">0</span> │ embedding_1[<span style=\"color: #00af00; text-decoration-color: #00af00\">0</span>][<span style=\"color: #00af00; text-decoration-color: #00af00\">0</span>] │\n",
       "├─────────────────────┼───────────────────┼────────────┼───────────────────┤\n",
       "│ concatenate         │ (<span style=\"color: #00d7ff; text-decoration-color: #00d7ff\">None</span>, <span style=\"color: #00af00; text-decoration-color: #00af00\">300</span>)       │          <span style=\"color: #00af00; text-decoration-color: #00af00\">0</span> │ reshape[<span style=\"color: #00af00; text-decoration-color: #00af00\">0</span>][<span style=\"color: #00af00; text-decoration-color: #00af00\">0</span>],    │\n",
       "│ (<span style=\"color: #0087ff; text-decoration-color: #0087ff\">Concatenate</span>)       │                   │            │ reshape_1[<span style=\"color: #00af00; text-decoration-color: #00af00\">0</span>][<span style=\"color: #00af00; text-decoration-color: #00af00\">0</span>]   │\n",
       "├─────────────────────┼───────────────────┼────────────┼───────────────────┤\n",
       "│ dropout (<span style=\"color: #0087ff; text-decoration-color: #0087ff\">Dropout</span>)   │ (<span style=\"color: #00d7ff; text-decoration-color: #00d7ff\">None</span>, <span style=\"color: #00af00; text-decoration-color: #00af00\">300</span>)       │          <span style=\"color: #00af00; text-decoration-color: #00af00\">0</span> │ concatenate[<span style=\"color: #00af00; text-decoration-color: #00af00\">0</span>][<span style=\"color: #00af00; text-decoration-color: #00af00\">0</span>] │\n",
       "├─────────────────────┼───────────────────┼────────────┼───────────────────┤\n",
       "│ dense (<span style=\"color: #0087ff; text-decoration-color: #0087ff\">Dense</span>)       │ (<span style=\"color: #00d7ff; text-decoration-color: #00d7ff\">None</span>, <span style=\"color: #00af00; text-decoration-color: #00af00\">32</span>)        │      <span style=\"color: #00af00; text-decoration-color: #00af00\">9,632</span> │ dropout[<span style=\"color: #00af00; text-decoration-color: #00af00\">0</span>][<span style=\"color: #00af00; text-decoration-color: #00af00\">0</span>]     │\n",
       "├─────────────────────┼───────────────────┼────────────┼───────────────────┤\n",
       "│ activation          │ (<span style=\"color: #00d7ff; text-decoration-color: #00d7ff\">None</span>, <span style=\"color: #00af00; text-decoration-color: #00af00\">32</span>)        │          <span style=\"color: #00af00; text-decoration-color: #00af00\">0</span> │ dense[<span style=\"color: #00af00; text-decoration-color: #00af00\">0</span>][<span style=\"color: #00af00; text-decoration-color: #00af00\">0</span>]       │\n",
       "│ (<span style=\"color: #0087ff; text-decoration-color: #0087ff\">Activation</span>)        │                   │            │                   │\n",
       "├─────────────────────┼───────────────────┼────────────┼───────────────────┤\n",
       "│ dropout_1 (<span style=\"color: #0087ff; text-decoration-color: #0087ff\">Dropout</span>) │ (<span style=\"color: #00d7ff; text-decoration-color: #00d7ff\">None</span>, <span style=\"color: #00af00; text-decoration-color: #00af00\">32</span>)        │          <span style=\"color: #00af00; text-decoration-color: #00af00\">0</span> │ activation[<span style=\"color: #00af00; text-decoration-color: #00af00\">0</span>][<span style=\"color: #00af00; text-decoration-color: #00af00\">0</span>]  │\n",
       "├─────────────────────┼───────────────────┼────────────┼───────────────────┤\n",
       "│ dense_1 (<span style=\"color: #0087ff; text-decoration-color: #0087ff\">Dense</span>)     │ (<span style=\"color: #00d7ff; text-decoration-color: #00d7ff\">None</span>, <span style=\"color: #00af00; text-decoration-color: #00af00\">16</span>)        │        <span style=\"color: #00af00; text-decoration-color: #00af00\">528</span> │ dropout_1[<span style=\"color: #00af00; text-decoration-color: #00af00\">0</span>][<span style=\"color: #00af00; text-decoration-color: #00af00\">0</span>]   │\n",
       "├─────────────────────┼───────────────────┼────────────┼───────────────────┤\n",
       "│ activation_1        │ (<span style=\"color: #00d7ff; text-decoration-color: #00d7ff\">None</span>, <span style=\"color: #00af00; text-decoration-color: #00af00\">16</span>)        │          <span style=\"color: #00af00; text-decoration-color: #00af00\">0</span> │ dense_1[<span style=\"color: #00af00; text-decoration-color: #00af00\">0</span>][<span style=\"color: #00af00; text-decoration-color: #00af00\">0</span>]     │\n",
       "│ (<span style=\"color: #0087ff; text-decoration-color: #0087ff\">Activation</span>)        │                   │            │                   │\n",
       "├─────────────────────┼───────────────────┼────────────┼───────────────────┤\n",
       "│ dropout_2 (<span style=\"color: #0087ff; text-decoration-color: #0087ff\">Dropout</span>) │ (<span style=\"color: #00d7ff; text-decoration-color: #00d7ff\">None</span>, <span style=\"color: #00af00; text-decoration-color: #00af00\">16</span>)        │          <span style=\"color: #00af00; text-decoration-color: #00af00\">0</span> │ activation_1[<span style=\"color: #00af00; text-decoration-color: #00af00\">0</span>][<span style=\"color: #00af00; text-decoration-color: #00af00\">…</span> │\n",
       "├─────────────────────┼───────────────────┼────────────┼───────────────────┤\n",
       "│ dense_2 (<span style=\"color: #0087ff; text-decoration-color: #0087ff\">Dense</span>)     │ (<span style=\"color: #00d7ff; text-decoration-color: #00d7ff\">None</span>, <span style=\"color: #00af00; text-decoration-color: #00af00\">9</span>)         │        <span style=\"color: #00af00; text-decoration-color: #00af00\">153</span> │ dropout_2[<span style=\"color: #00af00; text-decoration-color: #00af00\">0</span>][<span style=\"color: #00af00; text-decoration-color: #00af00\">0</span>]   │\n",
       "├─────────────────────┼───────────────────┼────────────┼───────────────────┤\n",
       "│ activation_2        │ (<span style=\"color: #00d7ff; text-decoration-color: #00d7ff\">None</span>, <span style=\"color: #00af00; text-decoration-color: #00af00\">9</span>)         │          <span style=\"color: #00af00; text-decoration-color: #00af00\">0</span> │ dense_2[<span style=\"color: #00af00; text-decoration-color: #00af00\">0</span>][<span style=\"color: #00af00; text-decoration-color: #00af00\">0</span>]     │\n",
       "│ (<span style=\"color: #0087ff; text-decoration-color: #0087ff\">Activation</span>)        │                   │            │                   │\n",
       "└─────────────────────┴───────────────────┴────────────┴───────────────────┘\n",
       "</pre>\n"
      ],
      "text/plain": [
       "┏━━━━━━━━━━━━━━━━━━━━━┳━━━━━━━━━━━━━━━━━━━┳━━━━━━━━━━━━┳━━━━━━━━━━━━━━━━━━━┓\n",
       "┃\u001b[1m \u001b[0m\u001b[1mLayer (type)       \u001b[0m\u001b[1m \u001b[0m┃\u001b[1m \u001b[0m\u001b[1mOutput Shape     \u001b[0m\u001b[1m \u001b[0m┃\u001b[1m \u001b[0m\u001b[1m   Param #\u001b[0m\u001b[1m \u001b[0m┃\u001b[1m \u001b[0m\u001b[1mConnected to     \u001b[0m\u001b[1m \u001b[0m┃\n",
       "┡━━━━━━━━━━━━━━━━━━━━━╇━━━━━━━━━━━━━━━━━━━╇━━━━━━━━━━━━╇━━━━━━━━━━━━━━━━━━━┩\n",
       "│ input_layer_2       │ (\u001b[38;5;45mNone\u001b[0m, \u001b[38;5;34m1\u001b[0m)         │          \u001b[38;5;34m0\u001b[0m │ -                 │\n",
       "│ (\u001b[38;5;33mInputLayer\u001b[0m)        │                   │            │                   │\n",
       "├─────────────────────┼───────────────────┼────────────┼───────────────────┤\n",
       "│ input_layer_3       │ (\u001b[38;5;45mNone\u001b[0m, \u001b[38;5;34m1\u001b[0m)         │          \u001b[38;5;34m0\u001b[0m │ -                 │\n",
       "│ (\u001b[38;5;33mInputLayer\u001b[0m)        │                   │            │                   │\n",
       "├─────────────────────┼───────────────────┼────────────┼───────────────────┤\n",
       "│ embedding           │ (\u001b[38;5;45mNone\u001b[0m, \u001b[38;5;34m1\u001b[0m, \u001b[38;5;34m150\u001b[0m)    │    \u001b[38;5;34m100,650\u001b[0m │ input_layer_2[\u001b[38;5;34m0\u001b[0m]… │\n",
       "│ (\u001b[38;5;33mEmbedding\u001b[0m)         │                   │            │                   │\n",
       "├─────────────────────┼───────────────────┼────────────┼───────────────────┤\n",
       "│ embedding_1         │ (\u001b[38;5;45mNone\u001b[0m, \u001b[38;5;34m1\u001b[0m, \u001b[38;5;34m150\u001b[0m)    │  \u001b[38;5;34m1,313,100\u001b[0m │ input_layer_3[\u001b[38;5;34m0\u001b[0m]… │\n",
       "│ (\u001b[38;5;33mEmbedding\u001b[0m)         │                   │            │                   │\n",
       "├─────────────────────┼───────────────────┼────────────┼───────────────────┤\n",
       "│ reshape (\u001b[38;5;33mReshape\u001b[0m)   │ (\u001b[38;5;45mNone\u001b[0m, \u001b[38;5;34m150\u001b[0m)       │          \u001b[38;5;34m0\u001b[0m │ embedding[\u001b[38;5;34m0\u001b[0m][\u001b[38;5;34m0\u001b[0m]   │\n",
       "├─────────────────────┼───────────────────┼────────────┼───────────────────┤\n",
       "│ reshape_1 (\u001b[38;5;33mReshape\u001b[0m) │ (\u001b[38;5;45mNone\u001b[0m, \u001b[38;5;34m150\u001b[0m)       │          \u001b[38;5;34m0\u001b[0m │ embedding_1[\u001b[38;5;34m0\u001b[0m][\u001b[38;5;34m0\u001b[0m] │\n",
       "├─────────────────────┼───────────────────┼────────────┼───────────────────┤\n",
       "│ concatenate         │ (\u001b[38;5;45mNone\u001b[0m, \u001b[38;5;34m300\u001b[0m)       │          \u001b[38;5;34m0\u001b[0m │ reshape[\u001b[38;5;34m0\u001b[0m][\u001b[38;5;34m0\u001b[0m],    │\n",
       "│ (\u001b[38;5;33mConcatenate\u001b[0m)       │                   │            │ reshape_1[\u001b[38;5;34m0\u001b[0m][\u001b[38;5;34m0\u001b[0m]   │\n",
       "├─────────────────────┼───────────────────┼────────────┼───────────────────┤\n",
       "│ dropout (\u001b[38;5;33mDropout\u001b[0m)   │ (\u001b[38;5;45mNone\u001b[0m, \u001b[38;5;34m300\u001b[0m)       │          \u001b[38;5;34m0\u001b[0m │ concatenate[\u001b[38;5;34m0\u001b[0m][\u001b[38;5;34m0\u001b[0m] │\n",
       "├─────────────────────┼───────────────────┼────────────┼───────────────────┤\n",
       "│ dense (\u001b[38;5;33mDense\u001b[0m)       │ (\u001b[38;5;45mNone\u001b[0m, \u001b[38;5;34m32\u001b[0m)        │      \u001b[38;5;34m9,632\u001b[0m │ dropout[\u001b[38;5;34m0\u001b[0m][\u001b[38;5;34m0\u001b[0m]     │\n",
       "├─────────────────────┼───────────────────┼────────────┼───────────────────┤\n",
       "│ activation          │ (\u001b[38;5;45mNone\u001b[0m, \u001b[38;5;34m32\u001b[0m)        │          \u001b[38;5;34m0\u001b[0m │ dense[\u001b[38;5;34m0\u001b[0m][\u001b[38;5;34m0\u001b[0m]       │\n",
       "│ (\u001b[38;5;33mActivation\u001b[0m)        │                   │            │                   │\n",
       "├─────────────────────┼───────────────────┼────────────┼───────────────────┤\n",
       "│ dropout_1 (\u001b[38;5;33mDropout\u001b[0m) │ (\u001b[38;5;45mNone\u001b[0m, \u001b[38;5;34m32\u001b[0m)        │          \u001b[38;5;34m0\u001b[0m │ activation[\u001b[38;5;34m0\u001b[0m][\u001b[38;5;34m0\u001b[0m]  │\n",
       "├─────────────────────┼───────────────────┼────────────┼───────────────────┤\n",
       "│ dense_1 (\u001b[38;5;33mDense\u001b[0m)     │ (\u001b[38;5;45mNone\u001b[0m, \u001b[38;5;34m16\u001b[0m)        │        \u001b[38;5;34m528\u001b[0m │ dropout_1[\u001b[38;5;34m0\u001b[0m][\u001b[38;5;34m0\u001b[0m]   │\n",
       "├─────────────────────┼───────────────────┼────────────┼───────────────────┤\n",
       "│ activation_1        │ (\u001b[38;5;45mNone\u001b[0m, \u001b[38;5;34m16\u001b[0m)        │          \u001b[38;5;34m0\u001b[0m │ dense_1[\u001b[38;5;34m0\u001b[0m][\u001b[38;5;34m0\u001b[0m]     │\n",
       "│ (\u001b[38;5;33mActivation\u001b[0m)        │                   │            │                   │\n",
       "├─────────────────────┼───────────────────┼────────────┼───────────────────┤\n",
       "│ dropout_2 (\u001b[38;5;33mDropout\u001b[0m) │ (\u001b[38;5;45mNone\u001b[0m, \u001b[38;5;34m16\u001b[0m)        │          \u001b[38;5;34m0\u001b[0m │ activation_1[\u001b[38;5;34m0\u001b[0m][\u001b[38;5;34m…\u001b[0m │\n",
       "├─────────────────────┼───────────────────┼────────────┼───────────────────┤\n",
       "│ dense_2 (\u001b[38;5;33mDense\u001b[0m)     │ (\u001b[38;5;45mNone\u001b[0m, \u001b[38;5;34m9\u001b[0m)         │        \u001b[38;5;34m153\u001b[0m │ dropout_2[\u001b[38;5;34m0\u001b[0m][\u001b[38;5;34m0\u001b[0m]   │\n",
       "├─────────────────────┼───────────────────┼────────────┼───────────────────┤\n",
       "│ activation_2        │ (\u001b[38;5;45mNone\u001b[0m, \u001b[38;5;34m9\u001b[0m)         │          \u001b[38;5;34m0\u001b[0m │ dense_2[\u001b[38;5;34m0\u001b[0m][\u001b[38;5;34m0\u001b[0m]     │\n",
       "│ (\u001b[38;5;33mActivation\u001b[0m)        │                   │            │                   │\n",
       "└─────────────────────┴───────────────────┴────────────┴───────────────────┘\n"
      ]
     },
     "metadata": {},
     "output_type": "display_data"
    },
    {
     "data": {
      "text/html": [
       "<pre style=\"white-space:pre;overflow-x:auto;line-height:normal;font-family:Menlo,'DejaVu Sans Mono',consolas,'Courier New',monospace\"><span style=\"font-weight: bold\"> Total params: </span><span style=\"color: #00af00; text-decoration-color: #00af00\">1,424,063</span> (5.43 MB)\n",
       "</pre>\n"
      ],
      "text/plain": [
       "\u001b[1m Total params: \u001b[0m\u001b[38;5;34m1,424,063\u001b[0m (5.43 MB)\n"
      ]
     },
     "metadata": {},
     "output_type": "display_data"
    },
    {
     "data": {
      "text/html": [
       "<pre style=\"white-space:pre;overflow-x:auto;line-height:normal;font-family:Menlo,'DejaVu Sans Mono',consolas,'Courier New',monospace\"><span style=\"font-weight: bold\"> Trainable params: </span><span style=\"color: #00af00; text-decoration-color: #00af00\">1,424,063</span> (5.43 MB)\n",
       "</pre>\n"
      ],
      "text/plain": [
       "\u001b[1m Trainable params: \u001b[0m\u001b[38;5;34m1,424,063\u001b[0m (5.43 MB)\n"
      ]
     },
     "metadata": {},
     "output_type": "display_data"
    },
    {
     "data": {
      "text/html": [
       "<pre style=\"white-space:pre;overflow-x:auto;line-height:normal;font-family:Menlo,'DejaVu Sans Mono',consolas,'Courier New',monospace\"><span style=\"font-weight: bold\"> Non-trainable params: </span><span style=\"color: #00af00; text-decoration-color: #00af00\">0</span> (0.00 B)\n",
       "</pre>\n"
      ],
      "text/plain": [
       "\u001b[1m Non-trainable params: \u001b[0m\u001b[38;5;34m0\u001b[0m (0.00 B)\n"
      ]
     },
     "metadata": {},
     "output_type": "display_data"
    }
   ],
   "source": [
    "model.summary()"
   ]
  },
  {
   "cell_type": "code",
   "execution_count": 231,
   "metadata": {},
   "outputs": [
    {
     "name": "stdout",
     "output_type": "stream",
     "text": [
      "Epoch 1/80\n",
      "\u001b[1m700/700\u001b[0m \u001b[32m━━━━━━━━━━━━━━━━━━━━\u001b[0m\u001b[37m\u001b[0m \u001b[1m3s\u001b[0m 3ms/step - accuracy: 0.0109 - loss: 1.0907 - val_accuracy: 0.0106 - val_loss: 0.4445 - learning_rate: 0.0100\n",
      "Epoch 2/80\n",
      "\u001b[1m700/700\u001b[0m \u001b[32m━━━━━━━━━━━━━━━━━━━━\u001b[0m\u001b[37m\u001b[0m \u001b[1m2s\u001b[0m 3ms/step - accuracy: 0.0112 - loss: 0.4510 - val_accuracy: 0.0106 - val_loss: 0.4258 - learning_rate: 0.0100\n",
      "Epoch 3/80\n",
      "\u001b[1m700/700\u001b[0m \u001b[32m━━━━━━━━━━━━━━━━━━━━\u001b[0m\u001b[37m\u001b[0m \u001b[1m2s\u001b[0m 3ms/step - accuracy: 0.0106 - loss: 0.4391 - val_accuracy: 0.0106 - val_loss: 0.4222 - learning_rate: 0.0100\n",
      "Epoch 4/80\n",
      "\u001b[1m700/700\u001b[0m \u001b[32m━━━━━━━━━━━━━━━━━━━━\u001b[0m\u001b[37m\u001b[0m \u001b[1m2s\u001b[0m 3ms/step - accuracy: 0.0109 - loss: 0.4310 - val_accuracy: 0.0106 - val_loss: 0.4204 - learning_rate: 0.0100\n",
      "Epoch 5/80\n",
      "\u001b[1m700/700\u001b[0m \u001b[32m━━━━━━━━━━━━━━━━━━━━\u001b[0m\u001b[37m\u001b[0m \u001b[1m2s\u001b[0m 3ms/step - accuracy: 0.0111 - loss: 0.4281 - val_accuracy: 0.0106 - val_loss: 0.4194 - learning_rate: 0.0100\n",
      "Epoch 6/80\n",
      "\u001b[1m700/700\u001b[0m \u001b[32m━━━━━━━━━━━━━━━━━━━━\u001b[0m\u001b[37m\u001b[0m \u001b[1m2s\u001b[0m 3ms/step - accuracy: 0.0111 - loss: 0.4267 - val_accuracy: 0.0106 - val_loss: 0.4185 - learning_rate: 0.0100\n",
      "Epoch 7/80\n",
      "\u001b[1m700/700\u001b[0m \u001b[32m━━━━━━━━━━━━━━━━━━━━\u001b[0m\u001b[37m\u001b[0m \u001b[1m2s\u001b[0m 3ms/step - accuracy: 0.0107 - loss: 0.4246 - val_accuracy: 0.0106 - val_loss: 0.4174 - learning_rate: 0.0100\n",
      "Epoch 8/80\n",
      "\u001b[1m700/700\u001b[0m \u001b[32m━━━━━━━━━━━━━━━━━━━━\u001b[0m\u001b[37m\u001b[0m \u001b[1m2s\u001b[0m 3ms/step - accuracy: 0.0113 - loss: 0.4215 - val_accuracy: 0.0106 - val_loss: 0.4166 - learning_rate: 0.0100\n",
      "Epoch 9/80\n",
      "\u001b[1m700/700\u001b[0m \u001b[32m━━━━━━━━━━━━━━━━━━━━\u001b[0m\u001b[37m\u001b[0m \u001b[1m2s\u001b[0m 3ms/step - accuracy: 0.0106 - loss: 0.4188 - val_accuracy: 0.0106 - val_loss: 0.4150 - learning_rate: 0.0100\n",
      "Epoch 10/80\n",
      "\u001b[1m700/700\u001b[0m \u001b[32m━━━━━━━━━━━━━━━━━━━━\u001b[0m\u001b[37m\u001b[0m \u001b[1m2s\u001b[0m 3ms/step - accuracy: 0.0110 - loss: 0.4193 - val_accuracy: 0.0106 - val_loss: 0.4135 - learning_rate: 0.0100\n",
      "Epoch 11/80\n",
      "\u001b[1m700/700\u001b[0m \u001b[32m━━━━━━━━━━━━━━━━━━━━\u001b[0m\u001b[37m\u001b[0m \u001b[1m2s\u001b[0m 3ms/step - accuracy: 0.0111 - loss: 0.4184 - val_accuracy: 0.0106 - val_loss: 0.4114 - learning_rate: 0.0100\n",
      "Epoch 12/80\n",
      "\u001b[1m700/700\u001b[0m \u001b[32m━━━━━━━━━━━━━━━━━━━━\u001b[0m\u001b[37m\u001b[0m \u001b[1m2s\u001b[0m 3ms/step - accuracy: 0.0108 - loss: 0.4187 - val_accuracy: 0.0106 - val_loss: 0.4087 - learning_rate: 0.0100\n",
      "Epoch 13/80\n",
      "\u001b[1m700/700\u001b[0m \u001b[32m━━━━━━━━━━━━━━━━━━━━\u001b[0m\u001b[37m\u001b[0m \u001b[1m2s\u001b[0m 2ms/step - accuracy: 0.0113 - loss: 0.4122 - val_accuracy: 0.0106 - val_loss: 0.4054 - learning_rate: 0.0100\n",
      "Epoch 14/80\n",
      "\u001b[1m700/700\u001b[0m \u001b[32m━━━━━━━━━━━━━━━━━━━━\u001b[0m\u001b[37m\u001b[0m \u001b[1m2s\u001b[0m 3ms/step - accuracy: 0.0112 - loss: 0.4108 - val_accuracy: 0.0106 - val_loss: 0.4014 - learning_rate: 0.0100\n",
      "Epoch 15/80\n",
      "\u001b[1m700/700\u001b[0m \u001b[32m━━━━━━━━━━━━━━━━━━━━\u001b[0m\u001b[37m\u001b[0m \u001b[1m2s\u001b[0m 3ms/step - accuracy: 0.0111 - loss: 0.4025 - val_accuracy: 0.0106 - val_loss: 0.3967 - learning_rate: 0.0100\n",
      "Epoch 16/80\n",
      "\u001b[1m700/700\u001b[0m \u001b[32m━━━━━━━━━━━━━━━━━━━━\u001b[0m\u001b[37m\u001b[0m \u001b[1m2s\u001b[0m 3ms/step - accuracy: 0.0115 - loss: 0.4024 - val_accuracy: 0.0106 - val_loss: 0.3920 - learning_rate: 0.0100\n",
      "Epoch 17/80\n",
      "\u001b[1m700/700\u001b[0m \u001b[32m━━━━━━━━━━━━━━━━━━━━\u001b[0m\u001b[37m\u001b[0m \u001b[1m2s\u001b[0m 3ms/step - accuracy: 0.0111 - loss: 0.3934 - val_accuracy: 0.0106 - val_loss: 0.3871 - learning_rate: 0.0100\n",
      "Epoch 18/80\n",
      "\u001b[1m700/700\u001b[0m \u001b[32m━━━━━━━━━━━━━━━━━━━━\u001b[0m\u001b[37m\u001b[0m \u001b[1m2s\u001b[0m 3ms/step - accuracy: 0.0108 - loss: 0.3918 - val_accuracy: 0.0106 - val_loss: 0.3827 - learning_rate: 0.0100\n",
      "Epoch 19/80\n",
      "\u001b[1m700/700\u001b[0m \u001b[32m━━━━━━━━━━━━━━━━━━━━\u001b[0m\u001b[37m\u001b[0m \u001b[1m2s\u001b[0m 3ms/step - accuracy: 0.0111 - loss: 0.3863 - val_accuracy: 0.0106 - val_loss: 0.3780 - learning_rate: 0.0100\n",
      "Epoch 20/80\n",
      "\u001b[1m700/700\u001b[0m \u001b[32m━━━━━━━━━━━━━━━━━━━━\u001b[0m\u001b[37m\u001b[0m \u001b[1m2s\u001b[0m 3ms/step - accuracy: 0.0113 - loss: 0.3805 - val_accuracy: 0.0106 - val_loss: 0.3741 - learning_rate: 0.0100\n",
      "Epoch 21/80\n",
      "\u001b[1m700/700\u001b[0m \u001b[32m━━━━━━━━━━━━━━━━━━━━\u001b[0m\u001b[37m\u001b[0m \u001b[1m2s\u001b[0m 3ms/step - accuracy: 0.0106 - loss: 0.3814 - val_accuracy: 0.0106 - val_loss: 0.3703 - learning_rate: 0.0100\n",
      "Epoch 22/80\n",
      "\u001b[1m700/700\u001b[0m \u001b[32m━━━━━━━━━━━━━━━━━━━━\u001b[0m\u001b[37m\u001b[0m \u001b[1m2s\u001b[0m 3ms/step - accuracy: 0.0113 - loss: 0.3724 - val_accuracy: 0.0106 - val_loss: 0.3670 - learning_rate: 0.0100\n",
      "Epoch 23/80\n",
      "\u001b[1m700/700\u001b[0m \u001b[32m━━━━━━━━━━━━━━━━━━━━\u001b[0m\u001b[37m\u001b[0m \u001b[1m2s\u001b[0m 3ms/step - accuracy: 0.0114 - loss: 0.3698 - val_accuracy: 0.0107 - val_loss: 0.3639 - learning_rate: 0.0100\n",
      "Epoch 24/80\n",
      "\u001b[1m700/700\u001b[0m \u001b[32m━━━━━━━━━━━━━━━━━━━━\u001b[0m\u001b[37m\u001b[0m \u001b[1m2s\u001b[0m 3ms/step - accuracy: 0.0121 - loss: 0.3679 - val_accuracy: 0.0108 - val_loss: 0.3610 - learning_rate: 0.0100\n",
      "Epoch 25/80\n",
      "\u001b[1m700/700\u001b[0m \u001b[32m━━━━━━━━━━━━━━━━━━━━\u001b[0m\u001b[37m\u001b[0m \u001b[1m2s\u001b[0m 3ms/step - accuracy: 0.0127 - loss: 0.3671 - val_accuracy: 0.0109 - val_loss: 0.3587 - learning_rate: 0.0100\n",
      "Epoch 26/80\n",
      "\u001b[1m700/700\u001b[0m \u001b[32m━━━━━━━━━━━━━━━━━━━━\u001b[0m\u001b[37m\u001b[0m \u001b[1m2s\u001b[0m 3ms/step - accuracy: 0.0134 - loss: 0.3580 - val_accuracy: 0.0120 - val_loss: 0.3563 - learning_rate: 0.0100\n",
      "Epoch 27/80\n",
      "\u001b[1m700/700\u001b[0m \u001b[32m━━━━━━━━━━━━━━━━━━━━\u001b[0m\u001b[37m\u001b[0m \u001b[1m2s\u001b[0m 2ms/step - accuracy: 0.0150 - loss: 0.3531 - val_accuracy: 0.0169 - val_loss: 0.3556 - learning_rate: 0.0100\n",
      "Epoch 28/80\n",
      "\u001b[1m700/700\u001b[0m \u001b[32m━━━━━━━━━━━━━━━━━━━━\u001b[0m\u001b[37m\u001b[0m \u001b[1m2s\u001b[0m 3ms/step - accuracy: 0.0170 - loss: 0.3550 - val_accuracy: 0.0158 - val_loss: 0.3521 - learning_rate: 0.0100\n",
      "Epoch 29/80\n",
      "\u001b[1m700/700\u001b[0m \u001b[32m━━━━━━━━━━━━━━━━━━━━\u001b[0m\u001b[37m\u001b[0m \u001b[1m2s\u001b[0m 3ms/step - accuracy: 0.0199 - loss: 0.3529 - val_accuracy: 0.0162 - val_loss: 0.3508 - learning_rate: 0.0100\n",
      "Epoch 30/80\n",
      "\u001b[1m700/700\u001b[0m \u001b[32m━━━━━━━━━━━━━━━━━━━━\u001b[0m\u001b[37m\u001b[0m \u001b[1m2s\u001b[0m 3ms/step - accuracy: 0.0200 - loss: 0.3485 - val_accuracy: 0.0170 - val_loss: 0.3495 - learning_rate: 0.0100\n",
      "Epoch 31/80\n",
      "\u001b[1m700/700\u001b[0m \u001b[32m━━━━━━━━━━━━━━━━━━━━\u001b[0m\u001b[37m\u001b[0m \u001b[1m2s\u001b[0m 2ms/step - accuracy: 0.0216 - loss: 0.3472 - val_accuracy: 0.0196 - val_loss: 0.3479 - learning_rate: 0.0100\n",
      "Epoch 32/80\n",
      "\u001b[1m700/700\u001b[0m \u001b[32m━━━━━━━━━━━━━━━━━━━━\u001b[0m\u001b[37m\u001b[0m \u001b[1m2s\u001b[0m 2ms/step - accuracy: 0.0227 - loss: 0.3462 - val_accuracy: 0.0233 - val_loss: 0.3466 - learning_rate: 0.0100\n",
      "Epoch 33/80\n",
      "\u001b[1m700/700\u001b[0m \u001b[32m━━━━━━━━━━━━━━━━━━━━\u001b[0m\u001b[37m\u001b[0m \u001b[1m2s\u001b[0m 2ms/step - accuracy: 0.0257 - loss: 0.3401 - val_accuracy: 0.0239 - val_loss: 0.3456 - learning_rate: 0.0100\n",
      "Epoch 34/80\n",
      "\u001b[1m700/700\u001b[0m \u001b[32m━━━━━━━━━━━━━━━━━━━━\u001b[0m\u001b[37m\u001b[0m \u001b[1m2s\u001b[0m 2ms/step - accuracy: 0.0290 - loss: 0.3406 - val_accuracy: 0.0233 - val_loss: 0.3448 - learning_rate: 0.0100\n",
      "Epoch 35/80\n",
      "\u001b[1m700/700\u001b[0m \u001b[32m━━━━━━━━━━━━━━━━━━━━\u001b[0m\u001b[37m\u001b[0m \u001b[1m2s\u001b[0m 2ms/step - accuracy: 0.0284 - loss: 0.3367 - val_accuracy: 0.0260 - val_loss: 0.3441 - learning_rate: 0.0100\n",
      "Epoch 36/80\n",
      "\u001b[1m700/700\u001b[0m \u001b[32m━━━━━━━━━━━━━━━━━━━━\u001b[0m\u001b[37m\u001b[0m \u001b[1m2s\u001b[0m 2ms/step - accuracy: 0.0290 - loss: 0.3386 - val_accuracy: 0.0292 - val_loss: 0.3432 - learning_rate: 0.0100\n",
      "Epoch 37/80\n",
      "\u001b[1m700/700\u001b[0m \u001b[32m━━━━━━━━━━━━━━━━━━━━\u001b[0m\u001b[37m\u001b[0m \u001b[1m2s\u001b[0m 3ms/step - accuracy: 0.0327 - loss: 0.3330 - val_accuracy: 0.0315 - val_loss: 0.3426 - learning_rate: 0.0100\n",
      "Epoch 38/80\n",
      "\u001b[1m700/700\u001b[0m \u001b[32m━━━━━━━━━━━━━━━━━━━━\u001b[0m\u001b[37m\u001b[0m \u001b[1m2s\u001b[0m 3ms/step - accuracy: 0.0345 - loss: 0.3341 - val_accuracy: 0.0285 - val_loss: 0.3426 - learning_rate: 0.0100\n",
      "Epoch 39/80\n",
      "\u001b[1m700/700\u001b[0m \u001b[32m━━━━━━━━━━━━━━━━━━━━\u001b[0m\u001b[37m\u001b[0m \u001b[1m2s\u001b[0m 3ms/step - accuracy: 0.0327 - loss: 0.3309 - val_accuracy: 0.0326 - val_loss: 0.3418 - learning_rate: 0.0100\n",
      "Epoch 40/80\n",
      "\u001b[1m700/700\u001b[0m \u001b[32m━━━━━━━━━━━━━━━━━━━━\u001b[0m\u001b[37m\u001b[0m \u001b[1m2s\u001b[0m 2ms/step - accuracy: 0.0360 - loss: 0.3249 - val_accuracy: 0.0298 - val_loss: 0.3413 - learning_rate: 0.0100\n",
      "Epoch 41/80\n",
      "\u001b[1m700/700\u001b[0m \u001b[32m━━━━━━━━━━━━━━━━━━━━\u001b[0m\u001b[37m\u001b[0m \u001b[1m2s\u001b[0m 2ms/step - accuracy: 0.0343 - loss: 0.3278 - val_accuracy: 0.0286 - val_loss: 0.3421 - learning_rate: 0.0100\n",
      "Epoch 42/80\n",
      "\u001b[1m700/700\u001b[0m \u001b[32m━━━━━━━━━━━━━━━━━━━━\u001b[0m\u001b[37m\u001b[0m \u001b[1m2s\u001b[0m 3ms/step - accuracy: 0.0354 - loss: 0.3218 - val_accuracy: 0.0317 - val_loss: 0.3410 - learning_rate: 0.0100\n",
      "Epoch 43/80\n",
      "\u001b[1m700/700\u001b[0m \u001b[32m━━━━━━━━━━━━━━━━━━━━\u001b[0m\u001b[37m\u001b[0m \u001b[1m2s\u001b[0m 3ms/step - accuracy: 0.0381 - loss: 0.3258 - val_accuracy: 0.0335 - val_loss: 0.3405 - learning_rate: 0.0100\n",
      "Epoch 44/80\n",
      "\u001b[1m700/700\u001b[0m \u001b[32m━━━━━━━━━━━━━━━━━━━━\u001b[0m\u001b[37m\u001b[0m \u001b[1m3s\u001b[0m 4ms/step - accuracy: 0.0393 - loss: 0.3239 - val_accuracy: 0.0336 - val_loss: 0.3406 - learning_rate: 0.0100\n",
      "Epoch 45/80\n",
      "\u001b[1m700/700\u001b[0m \u001b[32m━━━━━━━━━━━━━━━━━━━━\u001b[0m\u001b[37m\u001b[0m \u001b[1m2s\u001b[0m 3ms/step - accuracy: 0.0402 - loss: 0.3226 - val_accuracy: 0.0346 - val_loss: 0.3402 - learning_rate: 0.0100\n",
      "Epoch 46/80\n",
      "\u001b[1m700/700\u001b[0m \u001b[32m━━━━━━━━━━━━━━━━━━━━\u001b[0m\u001b[37m\u001b[0m \u001b[1m2s\u001b[0m 2ms/step - accuracy: 0.0396 - loss: 0.3215 - val_accuracy: 0.0383 - val_loss: 0.3402 - learning_rate: 0.0100\n",
      "Epoch 47/80\n",
      "\u001b[1m700/700\u001b[0m \u001b[32m━━━━━━━━━━━━━━━━━━━━\u001b[0m\u001b[37m\u001b[0m \u001b[1m2s\u001b[0m 2ms/step - accuracy: 0.0411 - loss: 0.3192 - val_accuracy: 0.0358 - val_loss: 0.3406 - learning_rate: 0.0100\n",
      "Epoch 48/80\n",
      "\u001b[1m699/700\u001b[0m \u001b[32m━━━━━━━━━━━━━━━━━━━\u001b[0m\u001b[37m━\u001b[0m \u001b[1m0s\u001b[0m 2ms/step - accuracy: 0.0392 - loss: 0.3181\n",
      "Epoch 48: ReduceLROnPlateau reducing learning rate to 0.007499999832361937.\n",
      "\u001b[1m700/700\u001b[0m \u001b[32m━━━━━━━━━━━━━━━━━━━━\u001b[0m\u001b[37m\u001b[0m \u001b[1m2s\u001b[0m 2ms/step - accuracy: 0.0392 - loss: 0.3181 - val_accuracy: 0.0450 - val_loss: 0.3406 - learning_rate: 0.0100\n",
      "Epoch 49/80\n",
      "\u001b[1m700/700\u001b[0m \u001b[32m━━━━━━━━━━━━━━━━━━━━\u001b[0m\u001b[37m\u001b[0m \u001b[1m2s\u001b[0m 3ms/step - accuracy: 0.0425 - loss: 0.3236 - val_accuracy: 0.0442 - val_loss: 0.3405 - learning_rate: 0.0075\n",
      "Epoch 50/80\n",
      "\u001b[1m700/700\u001b[0m \u001b[32m━━━━━━━━━━━━━━━━━━━━\u001b[0m\u001b[37m\u001b[0m \u001b[1m2s\u001b[0m 2ms/step - accuracy: 0.0422 - loss: 0.3160 - val_accuracy: 0.0372 - val_loss: 0.3402 - learning_rate: 0.0075\n",
      "Epoch 51/80\n",
      "\u001b[1m696/700\u001b[0m \u001b[32m━━━━━━━━━━━━━━━━━━━\u001b[0m\u001b[37m━\u001b[0m \u001b[1m0s\u001b[0m 2ms/step - accuracy: 0.0400 - loss: 0.3190\n",
      "Epoch 51: ReduceLROnPlateau reducing learning rate to 0.005624999874271452.\n",
      "\u001b[1m700/700\u001b[0m \u001b[32m━━━━━━━━━━━━━━━━━━━━\u001b[0m\u001b[37m\u001b[0m \u001b[1m2s\u001b[0m 2ms/step - accuracy: 0.0401 - loss: 0.3190 - val_accuracy: 0.0418 - val_loss: 0.3404 - learning_rate: 0.0075\n",
      "Epoch 52/80\n",
      "\u001b[1m700/700\u001b[0m \u001b[32m━━━━━━━━━━━━━━━━━━━━\u001b[0m\u001b[37m\u001b[0m \u001b[1m2s\u001b[0m 3ms/step - accuracy: 0.0446 - loss: 0.3138 - val_accuracy: 0.0422 - val_loss: 0.3403 - learning_rate: 0.0056\n",
      "Epoch 53/80\n",
      "\u001b[1m700/700\u001b[0m \u001b[32m━━━━━━━━━━━━━━━━━━━━\u001b[0m\u001b[37m\u001b[0m \u001b[1m2s\u001b[0m 3ms/step - accuracy: 0.0430 - loss: 0.3158 - val_accuracy: 0.0466 - val_loss: 0.3407 - learning_rate: 0.0056\n",
      "Epoch 54/80\n",
      "\u001b[1m689/700\u001b[0m \u001b[32m━━━━━━━━━━━━━━━━━━━\u001b[0m\u001b[37m━\u001b[0m \u001b[1m0s\u001b[0m 2ms/step - accuracy: 0.0459 - loss: 0.3145\n",
      "Epoch 54: ReduceLROnPlateau reducing learning rate to 0.004218749818392098.\n",
      "\u001b[1m700/700\u001b[0m \u001b[32m━━━━━━━━━━━━━━━━━━━━\u001b[0m\u001b[37m\u001b[0m \u001b[1m2s\u001b[0m 2ms/step - accuracy: 0.0459 - loss: 0.3145 - val_accuracy: 0.0400 - val_loss: 0.3406 - learning_rate: 0.0056\n",
      "Epoch 55/80\n",
      "\u001b[1m700/700\u001b[0m \u001b[32m━━━━━━━━━━━━━━━━━━━━\u001b[0m\u001b[37m\u001b[0m \u001b[1m2s\u001b[0m 3ms/step - accuracy: 0.0441 - loss: 0.3116 - val_accuracy: 0.0434 - val_loss: 0.3406 - learning_rate: 0.0042\n",
      "Epoch 56/80\n",
      "\u001b[1m700/700\u001b[0m \u001b[32m━━━━━━━━━━━━━━━━━━━━\u001b[0m\u001b[37m\u001b[0m \u001b[1m2s\u001b[0m 3ms/step - accuracy: 0.0462 - loss: 0.3144 - val_accuracy: 0.0422 - val_loss: 0.3406 - learning_rate: 0.0042\n",
      "Epoch 57/80\n",
      "\u001b[1m682/700\u001b[0m \u001b[32m━━━━━━━━━━━━━━━━━━━\u001b[0m\u001b[37m━\u001b[0m \u001b[1m0s\u001b[0m 2ms/step - accuracy: 0.0455 - loss: 0.3129\n",
      "Epoch 57: ReduceLROnPlateau reducing learning rate to 0.003164062276482582.\n",
      "\u001b[1m700/700\u001b[0m \u001b[32m━━━━━━━━━━━━━━━━━━━━\u001b[0m\u001b[37m\u001b[0m \u001b[1m2s\u001b[0m 3ms/step - accuracy: 0.0455 - loss: 0.3129 - val_accuracy: 0.0463 - val_loss: 0.3408 - learning_rate: 0.0042\n",
      "Epoch 58/80\n",
      "\u001b[1m700/700\u001b[0m \u001b[32m━━━━━━━━━━━━━━━━━━━━\u001b[0m\u001b[37m\u001b[0m \u001b[1m2s\u001b[0m 3ms/step - accuracy: 0.0461 - loss: 0.3146 - val_accuracy: 0.0462 - val_loss: 0.3409 - learning_rate: 0.0032\n",
      "Epoch 59/80\n",
      "\u001b[1m700/700\u001b[0m \u001b[32m━━━━━━━━━━━━━━━━━━━━\u001b[0m\u001b[37m\u001b[0m \u001b[1m2s\u001b[0m 3ms/step - accuracy: 0.0465 - loss: 0.3104 - val_accuracy: 0.0423 - val_loss: 0.3411 - learning_rate: 0.0032\n",
      "Epoch 60/80\n",
      "\u001b[1m698/700\u001b[0m \u001b[32m━━━━━━━━━━━━━━━━━━━\u001b[0m\u001b[37m━\u001b[0m \u001b[1m0s\u001b[0m 2ms/step - accuracy: 0.0456 - loss: 0.3113\n",
      "Epoch 60: ReduceLROnPlateau reducing learning rate to 0.0023730467073619366.\n",
      "\u001b[1m700/700\u001b[0m \u001b[32m━━━━━━━━━━━━━━━━━━━━\u001b[0m\u001b[37m\u001b[0m \u001b[1m2s\u001b[0m 3ms/step - accuracy: 0.0456 - loss: 0.3113 - val_accuracy: 0.0433 - val_loss: 0.3409 - learning_rate: 0.0032\n",
      "Epoch 61/80\n",
      "\u001b[1m700/700\u001b[0m \u001b[32m━━━━━━━━━━━━━━━━━━━━\u001b[0m\u001b[37m\u001b[0m \u001b[1m2s\u001b[0m 3ms/step - accuracy: 0.0464 - loss: 0.3110 - val_accuracy: 0.0458 - val_loss: 0.3408 - learning_rate: 0.0024\n",
      "Epoch 62/80\n",
      "\u001b[1m700/700\u001b[0m \u001b[32m━━━━━━━━━━━━━━━━━━━━\u001b[0m\u001b[37m\u001b[0m \u001b[1m2s\u001b[0m 4ms/step - accuracy: 0.0457 - loss: 0.3110 - val_accuracy: 0.0445 - val_loss: 0.3412 - learning_rate: 0.0024\n",
      "Epoch 63/80\n",
      "\u001b[1m691/700\u001b[0m \u001b[32m━━━━━━━━━━━━━━━━━━━\u001b[0m\u001b[37m━\u001b[0m \u001b[1m0s\u001b[0m 3ms/step - accuracy: 0.0471 - loss: 0.3107\n",
      "Epoch 63: ReduceLROnPlateau reducing learning rate to 0.0017797850305214524.\n",
      "\u001b[1m700/700\u001b[0m \u001b[32m━━━━━━━━━━━━━━━━━━━━\u001b[0m\u001b[37m\u001b[0m \u001b[1m2s\u001b[0m 3ms/step - accuracy: 0.0471 - loss: 0.3107 - val_accuracy: 0.0434 - val_loss: 0.3412 - learning_rate: 0.0024\n",
      "Epoch 64/80\n",
      "\u001b[1m700/700\u001b[0m \u001b[32m━━━━━━━━━━━━━━━━━━━━\u001b[0m\u001b[37m\u001b[0m \u001b[1m2s\u001b[0m 3ms/step - accuracy: 0.0487 - loss: 0.3125 - val_accuracy: 0.0421 - val_loss: 0.3413 - learning_rate: 0.0018\n",
      "Epoch 65/80\n",
      "\u001b[1m700/700\u001b[0m \u001b[32m━━━━━━━━━━━━━━━━━━━━\u001b[0m\u001b[37m\u001b[0m \u001b[1m2s\u001b[0m 3ms/step - accuracy: 0.0471 - loss: 0.3160 - val_accuracy: 0.0435 - val_loss: 0.3413 - learning_rate: 0.0018\n",
      "Epoch 66/80\n",
      "\u001b[1m685/700\u001b[0m \u001b[32m━━━━━━━━━━━━━━━━━━━\u001b[0m\u001b[37m━\u001b[0m \u001b[1m0s\u001b[0m 3ms/step - accuracy: 0.0465 - loss: 0.3074\n",
      "Epoch 66: ReduceLROnPlateau reducing learning rate to 0.0013348387728910893.\n",
      "\u001b[1m700/700\u001b[0m \u001b[32m━━━━━━━━━━━━━━━━━━━━\u001b[0m\u001b[37m\u001b[0m \u001b[1m2s\u001b[0m 3ms/step - accuracy: 0.0465 - loss: 0.3075 - val_accuracy: 0.0456 - val_loss: 0.3411 - learning_rate: 0.0018\n",
      "Epoch 67/80\n",
      "\u001b[1m700/700\u001b[0m \u001b[32m━━━━━━━━━━━━━━━━━━━━\u001b[0m\u001b[37m\u001b[0m \u001b[1m2s\u001b[0m 3ms/step - accuracy: 0.0461 - loss: 0.3137 - val_accuracy: 0.0432 - val_loss: 0.3414 - learning_rate: 0.0013\n",
      "Epoch 68/80\n",
      "\u001b[1m700/700\u001b[0m \u001b[32m━━━━━━━━━━━━━━━━━━━━\u001b[0m\u001b[37m\u001b[0m \u001b[1m2s\u001b[0m 3ms/step - accuracy: 0.0471 - loss: 0.3101 - val_accuracy: 0.0463 - val_loss: 0.3412 - learning_rate: 0.0013\n",
      "Epoch 69/80\n",
      "\u001b[1m696/700\u001b[0m \u001b[32m━━━━━━━━━━━━━━━━━━━\u001b[0m\u001b[37m━\u001b[0m \u001b[1m0s\u001b[0m 3ms/step - accuracy: 0.0497 - loss: 0.3096\n",
      "Epoch 69: ReduceLROnPlateau reducing learning rate to 0.0010011291014961898.\n",
      "\u001b[1m700/700\u001b[0m \u001b[32m━━━━━━━━━━━━━━━━━━━━\u001b[0m\u001b[37m\u001b[0m \u001b[1m2s\u001b[0m 3ms/step - accuracy: 0.0497 - loss: 0.3096 - val_accuracy: 0.0435 - val_loss: 0.3414 - learning_rate: 0.0013\n",
      "Epoch 70/80\n",
      "\u001b[1m700/700\u001b[0m \u001b[32m━━━━━━━━━━━━━━━━━━━━\u001b[0m\u001b[37m\u001b[0m \u001b[1m2s\u001b[0m 3ms/step - accuracy: 0.0484 - loss: 0.3118 - val_accuracy: 0.0444 - val_loss: 0.3414 - learning_rate: 0.0010\n",
      "Epoch 71/80\n",
      "\u001b[1m700/700\u001b[0m \u001b[32m━━━━━━━━━━━━━━━━━━━━\u001b[0m\u001b[37m\u001b[0m \u001b[1m2s\u001b[0m 3ms/step - accuracy: 0.0480 - loss: 0.3113 - val_accuracy: 0.0446 - val_loss: 0.3414 - learning_rate: 0.0010\n",
      "Epoch 72/80\n",
      "\u001b[1m684/700\u001b[0m \u001b[32m━━━━━━━━━━━━━━━━━━━\u001b[0m\u001b[37m━\u001b[0m \u001b[1m0s\u001b[0m 3ms/step - accuracy: 0.0495 - loss: 0.3096\n",
      "Epoch 72: ReduceLROnPlateau reducing learning rate to 0.0007508468697778881.\n",
      "\u001b[1m700/700\u001b[0m \u001b[32m━━━━━━━━━━━━━━━━━━━━\u001b[0m\u001b[37m\u001b[0m \u001b[1m2s\u001b[0m 3ms/step - accuracy: 0.0495 - loss: 0.3096 - val_accuracy: 0.0450 - val_loss: 0.3413 - learning_rate: 0.0010\n",
      "Epoch 73/80\n",
      "\u001b[1m700/700\u001b[0m \u001b[32m━━━━━━━━━━━━━━━━━━━━\u001b[0m\u001b[37m\u001b[0m \u001b[1m2s\u001b[0m 3ms/step - accuracy: 0.0475 - loss: 0.3120 - val_accuracy: 0.0453 - val_loss: 0.3413 - learning_rate: 7.5085e-04\n",
      "Epoch 74/80\n",
      "\u001b[1m700/700\u001b[0m \u001b[32m━━━━━━━━━━━━━━━━━━━━\u001b[0m\u001b[37m\u001b[0m \u001b[1m2s\u001b[0m 3ms/step - accuracy: 0.0469 - loss: 0.3120 - val_accuracy: 0.0438 - val_loss: 0.3416 - learning_rate: 7.5085e-04\n",
      "Epoch 75/80\n",
      "\u001b[1m687/700\u001b[0m \u001b[32m━━━━━━━━━━━━━━━━━━━\u001b[0m\u001b[37m━\u001b[0m \u001b[1m0s\u001b[0m 3ms/step - accuracy: 0.0467 - loss: 0.3076\n",
      "Epoch 75: ReduceLROnPlateau reducing learning rate to 0.000563135152333416.\n",
      "\u001b[1m700/700\u001b[0m \u001b[32m━━━━━━━━━━━━━━━━━━━━\u001b[0m\u001b[37m\u001b[0m \u001b[1m2s\u001b[0m 3ms/step - accuracy: 0.0468 - loss: 0.3077 - val_accuracy: 0.0463 - val_loss: 0.3413 - learning_rate: 7.5085e-04\n",
      "Epoch 76/80\n",
      "\u001b[1m700/700\u001b[0m \u001b[32m━━━━━━━━━━━━━━━━━━━━\u001b[0m\u001b[37m\u001b[0m \u001b[1m2s\u001b[0m 3ms/step - accuracy: 0.0483 - loss: 0.3067 - val_accuracy: 0.0457 - val_loss: 0.3414 - learning_rate: 5.6314e-04\n",
      "Epoch 77/80\n",
      "\u001b[1m700/700\u001b[0m \u001b[32m━━━━━━━━━━━━━━━━━━━━\u001b[0m\u001b[37m\u001b[0m \u001b[1m2s\u001b[0m 3ms/step - accuracy: 0.0487 - loss: 0.3088 - val_accuracy: 0.0448 - val_loss: 0.3415 - learning_rate: 5.6314e-04\n",
      "Epoch 78/80\n",
      "\u001b[1m696/700\u001b[0m \u001b[32m━━━━━━━━━━━━━━━━━━━\u001b[0m\u001b[37m━\u001b[0m \u001b[1m0s\u001b[0m 3ms/step - accuracy: 0.0482 - loss: 0.3098\n",
      "Epoch 78: ReduceLROnPlateau reducing learning rate to 0.0004223513533361256.\n",
      "\u001b[1m700/700\u001b[0m \u001b[32m━━━━━━━━━━━━━━━━━━━━\u001b[0m\u001b[37m\u001b[0m \u001b[1m2s\u001b[0m 3ms/step - accuracy: 0.0482 - loss: 0.3098 - val_accuracy: 0.0446 - val_loss: 0.3415 - learning_rate: 5.6314e-04\n",
      "Epoch 79/80\n",
      "\u001b[1m700/700\u001b[0m \u001b[32m━━━━━━━━━━━━━━━━━━━━\u001b[0m\u001b[37m\u001b[0m \u001b[1m2s\u001b[0m 3ms/step - accuracy: 0.0489 - loss: 0.3102 - val_accuracy: 0.0449 - val_loss: 0.3415 - learning_rate: 4.2235e-04\n",
      "Epoch 80/80\n",
      "\u001b[1m700/700\u001b[0m \u001b[32m━━━━━━━━━━━━━━━━━━━━\u001b[0m\u001b[37m\u001b[0m \u001b[1m2s\u001b[0m 3ms/step - accuracy: 0.0482 - loss: 0.3100 - val_accuracy: 0.0449 - val_loss: 0.3415 - learning_rate: 4.2235e-04\n"
     ]
    }
   ],
   "source": [
    "reduce_lr = tf.keras.callbacks.ReduceLROnPlateau(monitor='val_loss', factor=0.75, patience=3, min_lr=0.000001, verbose=1)\n",
    "\n",
    "history = model.fit(x = X_train_array, y = y_train, batch_size=128, epochs=80, verbose=1, validation_data=(X_test_array, y_test)\n",
    ",shuffle=True,callbacks=[reduce_lr])"
   ]
  },
  {
   "cell_type": "code",
   "execution_count": 232,
   "metadata": {},
   "outputs": [
    {
     "data": {
      "image/png": "[encoded data removed]",
      "text/plain": [
       "<Figure size 640x480 with 1 Axes>"
      ]
     },
     "metadata": {},
     "output_type": "display_data"
    }
   ],
   "source": [
    "plt.plot(history.history[\"loss\"][5:])\n",
    "plt.plot(history.history[\"val_loss\"][5:])\n",
    "plt.title(\"model loss\")\n",
    "plt.ylabel(\"loss\")\n",
    "plt.xlabel(\"epoch\")\n",
    "plt.legend([\"train\", \"test\"], loc=\"upper left\")\n",
    "plt.show()"
   ]
  },
  {
   "cell_type": "markdown",
   "metadata": {},
   "source": [
    "Above is the model input shape"
   ]
  },
  {
   "cell_type": "code",
   "execution_count": 233,
   "metadata": {},
   "outputs": [],
   "source": [
    "user_id = [600]\n",
    "encoded_user_id = user_enc.transform(user_id)\n",
    "seen_movies = list(refined_dataset[refined_dataset['user id'] == user_id[0]]['movie'])\n",
    "unseen_movies = [i for i in range(min(refined_dataset['movie']), max(refined_dataset['movie'])+1) if i not in seen_movies]\n",
    "model_input = [np.asarray(list(encoded_user_id)*len(unseen_movies)), np.asarray(unseen_movies)]"
   ]
  },
  {
   "cell_type": "markdown",
   "metadata": {},
   "source": [
    "**DNN model is used to predict the ratings of the unseen movies.**"
   ]
  },
  {
   "cell_type": "code",
   "execution_count": 234,
   "metadata": {},
   "outputs": [
    {
     "name": "stdout",
     "output_type": "stream",
     "text": [
      "\u001b[1m273/273\u001b[0m \u001b[32m━━━━━━━━━━━━━━━━━━━━\u001b[0m\u001b[37m\u001b[0m \u001b[1m0s\u001b[0m 891us/step\n",
      "(8719, 9)\n"
     ]
    },
    {
     "data": {
      "text/plain": [
       "array([[8.4660614e-01, 1.5320842e-01, 1.0450844e-05, ..., 2.3197446e-05,\n",
       "        1.8402514e-05, 1.7161048e-05],\n",
       "       [8.7015182e-01, 1.2967022e-01, 1.0883064e-05, ..., 2.2476097e-05,\n",
       "        1.7610764e-05, 1.7388355e-05],\n",
       "       [6.6443676e-01, 3.3526111e-01, 1.3506925e-05, ..., 3.3531203e-05,\n",
       "        3.0457259e-05, 2.5441583e-05],\n",
       "       ...,\n",
       "       [8.2783145e-01, 1.7197871e-01, 1.0368562e-05, ..., 2.2890170e-05,\n",
       "        1.8843637e-05, 1.7720555e-05],\n",
       "       [6.4230978e-01, 3.5736302e-01, 1.4319640e-05, ..., 3.4902729e-05,\n",
       "        3.2811477e-05, 2.7004635e-05],\n",
       "       [8.6348426e-01, 1.3634217e-01, 1.0205199e-05, ..., 2.1695580e-05,\n",
       "        1.7231057e-05, 1.6384261e-05]], dtype=float32)"
      ]
     },
     "execution_count": 234,
     "metadata": {},
     "output_type": "execute_result"
    }
   ],
   "source": [
    "predicted_ratings = model.predict(model_input)\n",
    "\n",
    "print(predicted_ratings.shape)\n",
    "predicted_ratings"
   ]
  },
  {
   "cell_type": "code",
   "execution_count": 235,
   "metadata": {},
   "outputs": [
    {
     "name": "stdout",
     "output_type": "stream",
     "text": [
      "(8719,)\n"
     ]
    },
    {
     "data": {
      "text/plain": [
       "array([0.84660614, 0.8701518 , 0.66443676, ..., 0.82783145, 0.6423098 ,\n",
       "       0.86348426], dtype=float32)"
      ]
     },
     "execution_count": 235,
     "metadata": {},
     "output_type": "execute_result"
    }
   ],
   "source": [
    "predicted_ratings = np.max(predicted_ratings, axis=1)\n",
    "\n",
    "print(predicted_ratings.shape)\n",
    "predicted_ratings"
   ]
  },
  {
   "cell_type": "markdown",
   "metadata": {},
   "source": [
    "Index of ratings sorted by descending order."
   ]
  },
  {
   "cell_type": "code",
   "execution_count": 236,
   "metadata": {},
   "outputs": [
    {
     "name": "stdout",
     "output_type": "stream",
     "text": [
      "[2962 1513 8403 ... 3225 4726 4758]\n"
     ]
    }
   ],
   "source": [
    "sorted_index = np.argsort(predicted_ratings)[::-1]\n",
    "print(sorted_index)"
   ]
  },
  {
   "cell_type": "markdown",
   "metadata": {},
   "source": [
    "**Movie names have been extracted from the available indices we got.**"
   ]
  },
  {
   "cell_type": "code",
   "execution_count": 237,
   "metadata": {},
   "outputs": [
    {
     "data": {
      "text/plain": [
       "array(['Home Alone 4', 'Confessions', 'Walk on Water', ...,\n",
       "       'Inherent Vice', \"Pan's Labyrinth\", \"Paris, je t'aime\"],\n",
       "      dtype=object)"
      ]
     },
     "execution_count": 237,
     "metadata": {},
     "output_type": "execute_result"
    }
   ],
   "source": [
    "recommended_movies = item_enc.inverse_transform(sorted_index)\n",
    "recommended_movies"
   ]
  },
  {
   "cell_type": "markdown",
   "metadata": {},
   "source": [
    "### Movies recommended with the help of Softmax Deep Neural Networks"
   ]
  },
  {
   "cell_type": "code",
   "execution_count": 238,
   "metadata": {},
   "outputs": [
    {
     "name": "stdout",
     "output_type": "stream",
     "text": [
      "['Home Alone 4',\n",
      " 'Confessions',\n",
      " 'Walk on Water',\n",
      " 'Source Code',\n",
      " 'Cobra',\n",
      " 'Jules and Jim',\n",
      " 'Ernest Goes to Camp',\n",
      " 'Freaky Friday',\n",
      " 'Bat*21',\n",
      " 'City Hall',\n",
      " 'Police Academy 6: City Under Siege',\n",
      " 'The Man Who Fell to Earth',\n",
      " 'Les Girls',\n",
      " 'Backdraft',\n",
      " 'Dirty Mary Crazy Larry',\n",
      " 'Frankie Starlight',\n",
      " 'Les Amants du Pont-Neuf',\n",
      " 'Just My Luck',\n",
      " 'Maximum Conviction',\n",
      " 'Betty Fisher and Other Stories']\n"
     ]
    }
   ],
   "source": [
    "from pprint import pprint\n",
    "\n",
    "pprint(list(recommended_movies[:20]))"
   ]
  },
  {
   "cell_type": "markdown",
   "metadata": {},
   "source": [
    "### Summing up the entire code into a recommender system function:"
   ]
  },
  {
   "cell_type": "code",
   "execution_count": 239,
   "metadata": {},
   "outputs": [],
   "source": [
    "def recommender_system(user_id, model, n_movies):\n",
    "    print(\"\")\n",
    "    print(\"Movie seen by the User:\")\n",
    "    pprint(list(refined_dataset[refined_dataset['user id'] == user_id]['movie title']))\n",
    "    print(\"\")\n",
    "\n",
    "    encoded_user_id = user_enc.transform([user_id])\n",
    "\n",
    "    seen_movies = list(refined_dataset[refined_dataset['user id'] == user_id]['movie'])\n",
    "    unseen_movies = [i for i in range(min(refined_dataset['movie']), max(refined_dataset['movie'])+1) if i not in seen_movies]\n",
    "    model_input = [np.asarray(list(encoded_user_id)*len(unseen_movies)), np.asarray(unseen_movies)]\n",
    "    predicted_ratings = model.predict(model_input)\n",
    "    predicted_ratings = np.max(predicted_ratings, axis=1)\n",
    "    sorted_index = np.argsort(predicted_ratings)[::-1]\n",
    "    recommended_movies = item_enc.inverse_transform(sorted_index)\n",
    "    print(\"---------------------------------------------------------------------------------\")\n",
    "    print(\"Top \"+str(n_movies)+\" Movie recommendations for the User \"+str(user_id)+ \" are:\")\n",
    "    pprint(list(recommended_movies[:n_movies]))"
   ]
  },
  {
   "cell_type": "code",
   "execution_count": 240,
   "metadata": {},
   "outputs": [
    {
     "name": "stdout",
     "output_type": "stream",
     "text": [
      "Enter user id\n",
      "Enter number of movies to be recommended:\n",
      "\n",
      "Movie seen by the User:\n",
      "['Air Force One',\n",
      " 'Aladdin',\n",
      " 'American Beauty',\n",
      " 'Apollo 13',\n",
      " 'Armageddon',\n",
      " 'Austin Powers: The Spy Who Shagged Me',\n",
      " 'Back to the Future Part III',\n",
      " 'Batman & Robin',\n",
      " 'Blade',\n",
      " 'Braveheart',\n",
      " 'Cast Away',\n",
      " 'Close Encounters of the Third Kind',\n",
      " 'Crouching Tiger, Hidden Dragon',\n",
      " 'Dark City',\n",
      " 'Die Hard 2',\n",
      " 'Dracula',\n",
      " 'Forrest Gump',\n",
      " 'Gladiator',\n",
      " 'Indiana Jones and the Last Crusade',\n",
      " 'Jurassic Park',\n",
      " 'Lethal Weapon 2',\n",
      " 'Lethal Weapon 4',\n",
      " 'Mars Attacks!',\n",
      " 'Minority Report',\n",
      " 'Mission: Impossible II',\n",
      " 'Planet of the Apes',\n",
      " 'Raiders of the Lost Ark',\n",
      " 'Return of the Jedi',\n",
      " 'RoboCop',\n",
      " 'Sleepy Hollow',\n",
      " 'Star Wars',\n",
      " 'Star Wars: Episode I - The Phantom Menace',\n",
      " 'Terminator 2: Judgment Day',\n",
      " 'That Thing You Do!',\n",
      " 'The Exorcist',\n",
      " 'The Fifth Element',\n",
      " 'The Game',\n",
      " 'The Green Mile',\n",
      " 'The Mask of Zorro',\n",
      " 'The Mummy',\n",
      " 'The Patriot',\n",
      " 'The Rock',\n",
      " 'The Silence of the Lambs',\n",
      " 'Twelve Monkeys']\n",
      "\n",
      "\u001b[1m273/273\u001b[0m \u001b[32m━━━━━━━━━━━━━━━━━━━━\u001b[0m\u001b[37m\u001b[0m \u001b[1m0s\u001b[0m 659us/step\n",
      "---------------------------------------------------------------------------------\n",
      "Top 15 Movie recommendations for the User 300 are:\n",
      "['Hollywoodland',\n",
      " 'Conan the Barbarian',\n",
      " \"Waiting for 'Superman'\",\n",
      " 'Soul Kitchen',\n",
      " 'Jubilee',\n",
      " 'Cloverfield',\n",
      " 'Entrapment',\n",
      " \"Frank Herbert's Children of Dune\",\n",
      " 'Basket Case 2',\n",
      " \"Cirque du Freak: The Vampire's Assistant\",\n",
      " \"Lemony Snicket's A Series of Unfortunate Events\",\n",
      " 'Poison Ivy: The New Seduction',\n",
      " 'Back to the Future Part III',\n",
      " 'Foxfire',\n",
      " 'Dimples']\n"
     ]
    }
   ],
   "source": [
    "print(\"Enter user id\")\n",
    "user_id= int(input())\n",
    "\n",
    "print(\"Enter number of movies to be recommended:\")\n",
    "n_movies = int(input())\n",
    "recommender_system(user_id,model,n_movies)"
   ]
  }
 ],
 "metadata": {
  "kernelspec": {
   "display_name": "base",
   "language": "python",
   "name": "python3"
  },
  "language_info": {
   "codemirror_mode": {
    "name": "ipython",
    "version": 3
   },
   "file_extension": ".py",
   "mimetype": "text/x-python",
   "name": "python",
   "nbconvert_exporter": "python",
   "pygments_lexer": "ipython3",
   "version": "3.11.9"
  }
 },
 "nbformat": 4,
 "nbformat_minor": 2
}
